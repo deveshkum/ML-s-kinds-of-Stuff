{
 "cells": [
  {
   "cell_type": "code",
   "execution_count": 3,
   "id": "02c62600",
   "metadata": {},
   "outputs": [],
   "source": [
    "import numpy as np\n",
    "import pandas as pd"
   ]
  },
  {
   "cell_type": "code",
   "execution_count": 4,
   "id": "4005d7f7",
   "metadata": {},
   "outputs": [],
   "source": [
    "df = pd.read_csv(\"/Users/dev/Personal/DS & AI Class Notes/Data Sets/Naive Bays/sent_analysis.csv\")"
   ]
  },
  {
   "cell_type": "code",
   "execution_count": 5,
   "id": "22981e9a",
   "metadata": {},
   "outputs": [],
   "source": [
    "df = df.sample(frac=1)"
   ]
  },
  {
   "cell_type": "code",
   "execution_count": 6,
   "id": "5c3886e0",
   "metadata": {},
   "outputs": [
    {
     "data": {
      "text/html": [
       "<div>\n",
       "<style scoped>\n",
       "    .dataframe tbody tr th:only-of-type {\n",
       "        vertical-align: middle;\n",
       "    }\n",
       "\n",
       "    .dataframe tbody tr th {\n",
       "        vertical-align: top;\n",
       "    }\n",
       "\n",
       "    .dataframe thead th {\n",
       "        text-align: right;\n",
       "    }\n",
       "</style>\n",
       "<table border=\"1\" class=\"dataframe\">\n",
       "  <thead>\n",
       "    <tr style=\"text-align: right;\">\n",
       "      <th></th>\n",
       "      <th>class</th>\n",
       "      <th>text</th>\n",
       "    </tr>\n",
       "  </thead>\n",
       "  <tbody>\n",
       "    <tr>\n",
       "      <th>792</th>\n",
       "      <td>Pos</td>\n",
       "      <td>john von neumann   progenitor of the computer...</td>\n",
       "    </tr>\n",
       "    <tr>\n",
       "      <th>1934</th>\n",
       "      <td>Neg</td>\n",
       "      <td>ex universal soldier luc has to battle a grou...</td>\n",
       "    </tr>\n",
       "    <tr>\n",
       "      <th>1096</th>\n",
       "      <td>Neg</td>\n",
       "      <td>much ado about nothing    ah   how sweet the ...</td>\n",
       "    </tr>\n",
       "    <tr>\n",
       "      <th>1561</th>\n",
       "      <td>Neg</td>\n",
       "      <td>i looked at the   internet movie database    ...</td>\n",
       "    </tr>\n",
       "    <tr>\n",
       "      <th>1724</th>\n",
       "      <td>Neg</td>\n",
       "      <td>soldier     by director paul anderson   is...</td>\n",
       "    </tr>\n",
       "    <tr>\n",
       "      <th>...</th>\n",
       "      <td>...</td>\n",
       "      <td>...</td>\n",
       "    </tr>\n",
       "    <tr>\n",
       "      <th>760</th>\n",
       "      <td>Pos</td>\n",
       "      <td>the   italian hitchcock   and acknowledged ma...</td>\n",
       "    </tr>\n",
       "    <tr>\n",
       "      <th>933</th>\n",
       "      <td>Pos</td>\n",
       "      <td>this is one of the most funny and entertainin...</td>\n",
       "    </tr>\n",
       "    <tr>\n",
       "      <th>514</th>\n",
       "      <td>Pos</td>\n",
       "      <td>krippendorf s tribe is a formula comedy    do...</td>\n",
       "    </tr>\n",
       "    <tr>\n",
       "      <th>470</th>\n",
       "      <td>Pos</td>\n",
       "      <td>love is the devil   is a challenging film ...</td>\n",
       "    </tr>\n",
       "    <tr>\n",
       "      <th>1504</th>\n",
       "      <td>Neg</td>\n",
       "      <td>american pie 2 is filled with laughs    but t...</td>\n",
       "    </tr>\n",
       "  </tbody>\n",
       "</table>\n",
       "<p>2000 rows × 2 columns</p>\n",
       "</div>"
      ],
      "text/plain": [
       "     class                                               text\n",
       "792    Pos   john von neumann   progenitor of the computer...\n",
       "1934   Neg   ex universal soldier luc has to battle a grou...\n",
       "1096   Neg   much ado about nothing    ah   how sweet the ...\n",
       "1561   Neg   i looked at the   internet movie database    ...\n",
       "1724   Neg      soldier     by director paul anderson   is...\n",
       "...    ...                                                ...\n",
       "760    Pos   the   italian hitchcock   and acknowledged ma...\n",
       "933    Pos   this is one of the most funny and entertainin...\n",
       "514    Pos   krippendorf s tribe is a formula comedy    do...\n",
       "470    Pos      love is the devil   is a challenging film ...\n",
       "1504   Neg   american pie 2 is filled with laughs    but t...\n",
       "\n",
       "[2000 rows x 2 columns]"
      ]
     },
     "execution_count": 6,
     "metadata": {},
     "output_type": "execute_result"
    }
   ],
   "source": [
    "df"
   ]
  },
  {
   "cell_type": "code",
   "execution_count": 7,
   "id": "8a767509",
   "metadata": {},
   "outputs": [],
   "source": [
    "X = df[\"text\"]"
   ]
  },
  {
   "cell_type": "code",
   "execution_count": 8,
   "id": "7a3605b5",
   "metadata": {},
   "outputs": [],
   "source": [
    "y = df[\"class\"]"
   ]
  },
  {
   "cell_type": "code",
   "execution_count": 9,
   "id": "6f4bcf47",
   "metadata": {},
   "outputs": [],
   "source": [
    "from sklearn.model_selection import train_test_split"
   ]
  },
  {
   "cell_type": "code",
   "execution_count": 10,
   "id": "59f4b256",
   "metadata": {},
   "outputs": [],
   "source": [
    "Xtrain,Xtest,ytrain,ytest = train_test_split(X,y,test_size=.20)"
   ]
  },
  {
   "cell_type": "code",
   "execution_count": 11,
   "id": "0d0adf30",
   "metadata": {},
   "outputs": [
    {
     "data": {
      "text/plain": [
       "((2000,), (1600,), (400,))"
      ]
     },
     "execution_count": 11,
     "metadata": {},
     "output_type": "execute_result"
    }
   ],
   "source": [
    "X.shape , Xtrain.shape , Xtest.shape"
   ]
  },
  {
   "cell_type": "code",
   "execution_count": 12,
   "id": "947fc419",
   "metadata": {},
   "outputs": [
    {
     "data": {
      "text/plain": [
       "((2000,), (1600,), (400,))"
      ]
     },
     "execution_count": 12,
     "metadata": {},
     "output_type": "execute_result"
    }
   ],
   "source": [
    "y.shape , ytrain.shape , ytest.shape"
   ]
  },
  {
   "cell_type": "code",
   "execution_count": 13,
   "id": "f7fb26d5",
   "metadata": {},
   "outputs": [],
   "source": [
    "from sklearn.feature_extraction.text import CountVectorizer , TfidfTransformer"
   ]
  },
  {
   "cell_type": "code",
   "execution_count": 14,
   "id": "727e408c",
   "metadata": {},
   "outputs": [],
   "source": [
    "cv = CountVectorizer()"
   ]
  },
  {
   "cell_type": "code",
   "execution_count": 15,
   "id": "1216b014",
   "metadata": {},
   "outputs": [],
   "source": [
    "cv_Xtrain = cv.fit_transform(Xtrain)"
   ]
  },
  {
   "cell_type": "code",
   "execution_count": 16,
   "id": "57d090e4",
   "metadata": {},
   "outputs": [],
   "source": [
    "cv_Xtest = cv.transform(Xtest)"
   ]
  },
  {
   "cell_type": "code",
   "execution_count": 17,
   "id": "4a1ddf53",
   "metadata": {},
   "outputs": [],
   "source": [
    "tfid = TfidfTransformer()"
   ]
  },
  {
   "cell_type": "code",
   "execution_count": 18,
   "id": "9238cad0",
   "metadata": {},
   "outputs": [],
   "source": [
    "tfid_Xtrain = tfid.fit_transform(cv_Xtrain)"
   ]
  },
  {
   "cell_type": "code",
   "execution_count": 19,
   "id": "789ac787",
   "metadata": {},
   "outputs": [],
   "source": [
    "tfid_Xtest = tfid.transform(cv_Xtest)"
   ]
  },
  {
   "cell_type": "code",
   "execution_count": 20,
   "id": "9f50e8c1",
   "metadata": {},
   "outputs": [],
   "source": [
    "from sklearn.naive_bayes import MultinomialNB"
   ]
  },
  {
   "cell_type": "code",
   "execution_count": 21,
   "id": "0b4085d8",
   "metadata": {},
   "outputs": [],
   "source": [
    "mnb = MultinomialNB()"
   ]
  },
  {
   "cell_type": "code",
   "execution_count": 22,
   "id": "e69983f2",
   "metadata": {},
   "outputs": [
    {
     "data": {
      "text/plain": [
       "MultinomialNB()"
      ]
     },
     "execution_count": 22,
     "metadata": {},
     "output_type": "execute_result"
    }
   ],
   "source": [
    "mnb.fit(tfid_Xtrain,ytrain)"
   ]
  },
  {
   "cell_type": "code",
   "execution_count": 23,
   "id": "af12d626",
   "metadata": {},
   "outputs": [
    {
     "data": {
      "text/plain": [
       "0.775"
      ]
     },
     "execution_count": 23,
     "metadata": {},
     "output_type": "execute_result"
    }
   ],
   "source": [
    "mnb.score(tfid_Xtest,ytest)"
   ]
  },
  {
   "cell_type": "markdown",
   "id": "27356450",
   "metadata": {},
   "source": [
    "### Predicting"
   ]
  },
  {
   "cell_type": "code",
   "execution_count": 24,
   "id": "815b6807",
   "metadata": {},
   "outputs": [],
   "source": [
    "s1 =  [\"Kill\" ,\"Brave\",\"Sweet\",\"Perfect\",\"I'll Kill You\",\"Will You Marry Me\",\"I am coming to Chill with You\",\"Bastard\",\"I'll Cut Your Neck\"]"
   ]
  },
  {
   "cell_type": "code",
   "execution_count": 25,
   "id": "70deb23a",
   "metadata": {},
   "outputs": [
    {
     "name": "stdout",
     "output_type": "stream",
     "text": [
      "Kill is Neg Sentiment\n",
      "Brave is Pos Sentiment\n",
      "Sweet is Pos Sentiment\n",
      "Perfect is Pos Sentiment\n",
      "I'll Kill You is Neg Sentiment\n",
      "Will You Marry Me is Neg Sentiment\n",
      "I am coming to Chill with You is Neg Sentiment\n",
      "Bastard is Pos Sentiment\n",
      "I'll Cut Your Neck is Neg Sentiment\n"
     ]
    }
   ],
   "source": [
    "for i in s1:\n",
    "    s1_cv = cv.transform([i])\n",
    "    s1_tfid = tfid.transform(s1_cv)\n",
    "    print(f'{i} is {mnb.predict(s1_tfid)[0]} Sentiment')\n",
    "    "
   ]
  },
  {
   "cell_type": "markdown",
   "id": "b95f173a",
   "metadata": {},
   "source": [
    "### Testing With Func"
   ]
  },
  {
   "cell_type": "code",
   "execution_count": 26,
   "id": "03c33b21",
   "metadata": {},
   "outputs": [],
   "source": [
    "def sen_mulnb(X,y):\n",
    "    from sklearn.model_selection import train_test_split\n",
    "    Xtrain,Xtest,ytrain,ytest = train_test_split(X,y,test_size=.20)\n",
    "    from sklearn.feature_extraction.text import CountVectorizer , TfidfTransformer\n",
    "    cv = CountVectorizer()\n",
    "    cv_Xtrain = cv.fit_transform(Xtrain)\n",
    "    cv_Xtest = cv.transform(Xtest)\n",
    "    tfid = TfidfTransformer()\n",
    "    tfid_Xtrain = tfid.fit_transform(cv_Xtrain)\n",
    "    tfid_Xtest = tfid.transform(cv_Xtest)\n",
    "    from sklearn.naive_bayes import MultinomialNB\n",
    "    mnb = MultinomialNB()\n",
    "    mnb.fit(tfid_Xtrain,ytrain)\n",
    "    print(f'Score is {mnb.score(tfid_Xtest,ytest)}')\n",
    "    print(Xtrain.shape)\n",
    "    print(Xtest.shape)"
   ]
  },
  {
   "cell_type": "code",
   "execution_count": 28,
   "id": "f1fb07ca",
   "metadata": {},
   "outputs": [
    {
     "name": "stdout",
     "output_type": "stream",
     "text": [
      "Score is 0.775\n",
      "(1600,)\n",
      "(400,)\n"
     ]
    }
   ],
   "source": [
    "sen_mulnb(X,y)"
   ]
  },
  {
   "cell_type": "markdown",
   "id": "f54838a3",
   "metadata": {},
   "source": [
    "### Making Pipeline\n"
   ]
  },
  {
   "cell_type": "code",
   "execution_count": 349,
   "id": "9ae3fce5",
   "metadata": {},
   "outputs": [],
   "source": [
    "from sklearn.pipeline import make_pipeline"
   ]
  },
  {
   "cell_type": "code",
   "execution_count": 351,
   "id": "825693e5",
   "metadata": {},
   "outputs": [],
   "source": [
    "pipe = make_pipeline(CountVectorizer(),TfidfTransformer(),MultinomialNB())"
   ]
  },
  {
   "cell_type": "code",
   "execution_count": 352,
   "id": "1c753ded",
   "metadata": {},
   "outputs": [
    {
     "data": {
      "text/plain": [
       "Pipeline(steps=[('countvectorizer', CountVectorizer()),\n",
       "                ('tfidftransformer', TfidfTransformer()),\n",
       "                ('multinomialnb', MultinomialNB())])"
      ]
     },
     "execution_count": 352,
     "metadata": {},
     "output_type": "execute_result"
    }
   ],
   "source": [
    "pipe"
   ]
  },
  {
   "cell_type": "code",
   "execution_count": 353,
   "id": "a66958a7",
   "metadata": {},
   "outputs": [
    {
     "data": {
      "text/plain": [
       "Pipeline(steps=[('countvectorizer', CountVectorizer()),\n",
       "                ('tfidftransformer', TfidfTransformer()),\n",
       "                ('multinomialnb', MultinomialNB())])"
      ]
     },
     "execution_count": 353,
     "metadata": {},
     "output_type": "execute_result"
    }
   ],
   "source": [
    "pipe.fit(X,y)"
   ]
  },
  {
   "cell_type": "code",
   "execution_count": 354,
   "id": "a6e82f0d",
   "metadata": {},
   "outputs": [
    {
     "data": {
      "text/plain": [
       "0.956"
      ]
     },
     "execution_count": 354,
     "metadata": {},
     "output_type": "execute_result"
    }
   ],
   "source": [
    "pipe.score(X,y)"
   ]
  },
  {
   "cell_type": "markdown",
   "id": "3e11ff3a",
   "metadata": {},
   "source": [
    "## With Train_test"
   ]
  },
  {
   "cell_type": "code",
   "execution_count": 355,
   "id": "9be3126f",
   "metadata": {},
   "outputs": [],
   "source": [
    "pipe1 = make_pipeline(CountVectorizer(),TfidfTransformer(),MultinomialNB())"
   ]
  },
  {
   "cell_type": "code",
   "execution_count": 356,
   "id": "fb44327d",
   "metadata": {},
   "outputs": [
    {
     "data": {
      "text/plain": [
       "Pipeline(steps=[('countvectorizer', CountVectorizer()),\n",
       "                ('tfidftransformer', TfidfTransformer()),\n",
       "                ('multinomialnb', MultinomialNB())])"
      ]
     },
     "execution_count": 356,
     "metadata": {},
     "output_type": "execute_result"
    }
   ],
   "source": [
    "pipe1.fit(Xtrain,ytrain)"
   ]
  },
  {
   "cell_type": "code",
   "execution_count": 357,
   "id": "229d7e8c",
   "metadata": {},
   "outputs": [
    {
     "data": {
      "text/plain": [
       "0.8075"
      ]
     },
     "execution_count": 357,
     "metadata": {},
     "output_type": "execute_result"
    }
   ],
   "source": [
    "pipe1.score(Xtest,ytest)"
   ]
  },
  {
   "cell_type": "markdown",
   "id": "064687de",
   "metadata": {},
   "source": [
    "## With TfidfVectorizer\n",
    "                "
   ]
  },
  {
   "cell_type": "code",
   "execution_count": 358,
   "id": "fcd3ace5",
   "metadata": {},
   "outputs": [],
   "source": [
    "from sklearn.feature_extraction.text import TfidfVectorizer"
   ]
  },
  {
   "cell_type": "code",
   "execution_count": 359,
   "id": "15de8514",
   "metadata": {},
   "outputs": [],
   "source": [
    "pipe3 = make_pipeline(TfidfVectorizer(),MultinomialNB())"
   ]
  },
  {
   "cell_type": "code",
   "execution_count": 360,
   "id": "ef768b8e",
   "metadata": {},
   "outputs": [
    {
     "data": {
      "text/plain": [
       "Pipeline(steps=[('tfidfvectorizer', TfidfVectorizer()),\n",
       "                ('multinomialnb', MultinomialNB())])"
      ]
     },
     "execution_count": 360,
     "metadata": {},
     "output_type": "execute_result"
    }
   ],
   "source": [
    "pipe3.fit(Xtrain,ytrain)"
   ]
  },
  {
   "cell_type": "code",
   "execution_count": 361,
   "id": "a366900a",
   "metadata": {
    "scrolled": true
   },
   "outputs": [
    {
     "data": {
      "text/plain": [
       "0.8075"
      ]
     },
     "execution_count": 361,
     "metadata": {},
     "output_type": "execute_result"
    }
   ],
   "source": [
    "pipe3.score(Xtest,ytest)"
   ]
  }
 ],
 "metadata": {
  "kernelspec": {
   "display_name": "Python 3 (ipykernel)",
   "language": "python",
   "name": "python3"
  },
  "language_info": {
   "codemirror_mode": {
    "name": "ipython",
    "version": 3
   },
   "file_extension": ".py",
   "mimetype": "text/x-python",
   "name": "python",
   "nbconvert_exporter": "python",
   "pygments_lexer": "ipython3",
   "version": "3.9.7"
  }
 },
 "nbformat": 4,
 "nbformat_minor": 5
}
