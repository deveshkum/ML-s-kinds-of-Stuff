{
 "cells": [
  {
   "cell_type": "code",
   "execution_count": 1,
   "id": "bd952c20",
   "metadata": {},
   "outputs": [],
   "source": [
    "import numpy as np\n",
    "import pandas as pd"
   ]
  },
  {
   "cell_type": "code",
   "execution_count": 13,
   "id": "b47f0c6d",
   "metadata": {},
   "outputs": [],
   "source": [
    "df = pd.read_csv(\"/Users/dev/Personal/DS & AI Class Notes/Data Sets/Adaboost/abalone.csv\",header=None )"
   ]
  },
  {
   "cell_type": "markdown",
   "id": "344e7b6d",
   "metadata": {},
   "source": [
    "col are 'Sex','Length','Whole weight','Viscera weight','Diameter','Height','Shucked weight','Shell weight','Rings' "
   ]
  },
  {
   "cell_type": "code",
   "execution_count": 34,
   "id": "d6721f38",
   "metadata": {},
   "outputs": [],
   "source": [
    "df.columns = ['Sex','Length','Whole weight','Viscera weight','Diameter','Height','Shucked weight','Shell weight','Rings']"
   ]
  },
  {
   "cell_type": "code",
   "execution_count": 40,
   "id": "1290b632",
   "metadata": {},
   "outputs": [],
   "source": [
    "df = df[['Length', 'Whole weight', 'Viscera weight', 'Diameter', 'Height',\n",
    "       'Shucked weight', 'Shell weight', 'Rings','Sex']]"
   ]
  },
  {
   "cell_type": "code",
   "execution_count": 41,
   "id": "b5e0c47f",
   "metadata": {},
   "outputs": [
    {
     "data": {
      "text/html": [
       "<div>\n",
       "<style scoped>\n",
       "    .dataframe tbody tr th:only-of-type {\n",
       "        vertical-align: middle;\n",
       "    }\n",
       "\n",
       "    .dataframe tbody tr th {\n",
       "        vertical-align: top;\n",
       "    }\n",
       "\n",
       "    .dataframe thead th {\n",
       "        text-align: right;\n",
       "    }\n",
       "</style>\n",
       "<table border=\"1\" class=\"dataframe\">\n",
       "  <thead>\n",
       "    <tr style=\"text-align: right;\">\n",
       "      <th></th>\n",
       "      <th>Length</th>\n",
       "      <th>Whole weight</th>\n",
       "      <th>Viscera weight</th>\n",
       "      <th>Diameter</th>\n",
       "      <th>Height</th>\n",
       "      <th>Shucked weight</th>\n",
       "      <th>Shell weight</th>\n",
       "      <th>Rings</th>\n",
       "      <th>Sex</th>\n",
       "    </tr>\n",
       "  </thead>\n",
       "  <tbody>\n",
       "    <tr>\n",
       "      <th>0</th>\n",
       "      <td>0.455</td>\n",
       "      <td>0.365</td>\n",
       "      <td>0.095</td>\n",
       "      <td>0.5140</td>\n",
       "      <td>0.2245</td>\n",
       "      <td>0.1010</td>\n",
       "      <td>0.1500</td>\n",
       "      <td>15</td>\n",
       "      <td>M</td>\n",
       "    </tr>\n",
       "    <tr>\n",
       "      <th>1</th>\n",
       "      <td>0.350</td>\n",
       "      <td>0.265</td>\n",
       "      <td>0.090</td>\n",
       "      <td>0.2255</td>\n",
       "      <td>0.0995</td>\n",
       "      <td>0.0485</td>\n",
       "      <td>0.0700</td>\n",
       "      <td>7</td>\n",
       "      <td>M</td>\n",
       "    </tr>\n",
       "    <tr>\n",
       "      <th>2</th>\n",
       "      <td>0.530</td>\n",
       "      <td>0.420</td>\n",
       "      <td>0.135</td>\n",
       "      <td>0.6770</td>\n",
       "      <td>0.2565</td>\n",
       "      <td>0.1415</td>\n",
       "      <td>0.2100</td>\n",
       "      <td>9</td>\n",
       "      <td>F</td>\n",
       "    </tr>\n",
       "    <tr>\n",
       "      <th>3</th>\n",
       "      <td>0.440</td>\n",
       "      <td>0.365</td>\n",
       "      <td>0.125</td>\n",
       "      <td>0.5160</td>\n",
       "      <td>0.2155</td>\n",
       "      <td>0.1140</td>\n",
       "      <td>0.1550</td>\n",
       "      <td>10</td>\n",
       "      <td>M</td>\n",
       "    </tr>\n",
       "    <tr>\n",
       "      <th>4</th>\n",
       "      <td>0.330</td>\n",
       "      <td>0.255</td>\n",
       "      <td>0.080</td>\n",
       "      <td>0.2050</td>\n",
       "      <td>0.0895</td>\n",
       "      <td>0.0395</td>\n",
       "      <td>0.0550</td>\n",
       "      <td>7</td>\n",
       "      <td>I</td>\n",
       "    </tr>\n",
       "    <tr>\n",
       "      <th>...</th>\n",
       "      <td>...</td>\n",
       "      <td>...</td>\n",
       "      <td>...</td>\n",
       "      <td>...</td>\n",
       "      <td>...</td>\n",
       "      <td>...</td>\n",
       "      <td>...</td>\n",
       "      <td>...</td>\n",
       "      <td>...</td>\n",
       "    </tr>\n",
       "    <tr>\n",
       "      <th>4172</th>\n",
       "      <td>0.565</td>\n",
       "      <td>0.450</td>\n",
       "      <td>0.165</td>\n",
       "      <td>0.8870</td>\n",
       "      <td>0.3700</td>\n",
       "      <td>0.2390</td>\n",
       "      <td>0.2490</td>\n",
       "      <td>11</td>\n",
       "      <td>F</td>\n",
       "    </tr>\n",
       "    <tr>\n",
       "      <th>4173</th>\n",
       "      <td>0.590</td>\n",
       "      <td>0.440</td>\n",
       "      <td>0.135</td>\n",
       "      <td>0.9660</td>\n",
       "      <td>0.4390</td>\n",
       "      <td>0.2145</td>\n",
       "      <td>0.2605</td>\n",
       "      <td>10</td>\n",
       "      <td>M</td>\n",
       "    </tr>\n",
       "    <tr>\n",
       "      <th>4174</th>\n",
       "      <td>0.600</td>\n",
       "      <td>0.475</td>\n",
       "      <td>0.205</td>\n",
       "      <td>1.1760</td>\n",
       "      <td>0.5255</td>\n",
       "      <td>0.2875</td>\n",
       "      <td>0.3080</td>\n",
       "      <td>9</td>\n",
       "      <td>M</td>\n",
       "    </tr>\n",
       "    <tr>\n",
       "      <th>4175</th>\n",
       "      <td>0.625</td>\n",
       "      <td>0.485</td>\n",
       "      <td>0.150</td>\n",
       "      <td>1.0945</td>\n",
       "      <td>0.5310</td>\n",
       "      <td>0.2610</td>\n",
       "      <td>0.2960</td>\n",
       "      <td>10</td>\n",
       "      <td>F</td>\n",
       "    </tr>\n",
       "    <tr>\n",
       "      <th>4176</th>\n",
       "      <td>0.710</td>\n",
       "      <td>0.555</td>\n",
       "      <td>0.195</td>\n",
       "      <td>1.9485</td>\n",
       "      <td>0.9455</td>\n",
       "      <td>0.3765</td>\n",
       "      <td>0.4950</td>\n",
       "      <td>12</td>\n",
       "      <td>M</td>\n",
       "    </tr>\n",
       "  </tbody>\n",
       "</table>\n",
       "<p>4177 rows × 9 columns</p>\n",
       "</div>"
      ],
      "text/plain": [
       "      Length  Whole weight  Viscera weight  Diameter  Height  Shucked weight  \\\n",
       "0      0.455         0.365           0.095    0.5140  0.2245          0.1010   \n",
       "1      0.350         0.265           0.090    0.2255  0.0995          0.0485   \n",
       "2      0.530         0.420           0.135    0.6770  0.2565          0.1415   \n",
       "3      0.440         0.365           0.125    0.5160  0.2155          0.1140   \n",
       "4      0.330         0.255           0.080    0.2050  0.0895          0.0395   \n",
       "...      ...           ...             ...       ...     ...             ...   \n",
       "4172   0.565         0.450           0.165    0.8870  0.3700          0.2390   \n",
       "4173   0.590         0.440           0.135    0.9660  0.4390          0.2145   \n",
       "4174   0.600         0.475           0.205    1.1760  0.5255          0.2875   \n",
       "4175   0.625         0.485           0.150    1.0945  0.5310          0.2610   \n",
       "4176   0.710         0.555           0.195    1.9485  0.9455          0.3765   \n",
       "\n",
       "      Shell weight  Rings Sex  \n",
       "0           0.1500     15   M  \n",
       "1           0.0700      7   M  \n",
       "2           0.2100      9   F  \n",
       "3           0.1550     10   M  \n",
       "4           0.0550      7   I  \n",
       "...            ...    ...  ..  \n",
       "4172        0.2490     11   F  \n",
       "4173        0.2605     10   M  \n",
       "4174        0.3080      9   M  \n",
       "4175        0.2960     10   F  \n",
       "4176        0.4950     12   M  \n",
       "\n",
       "[4177 rows x 9 columns]"
      ]
     },
     "execution_count": 41,
     "metadata": {},
     "output_type": "execute_result"
    }
   ],
   "source": [
    "df"
   ]
  },
  {
   "cell_type": "markdown",
   "id": "da1b255c",
   "metadata": {},
   "source": [
    "## Checking Balance of DF"
   ]
  },
  {
   "cell_type": "code",
   "execution_count": 43,
   "id": "d7af456b",
   "metadata": {},
   "outputs": [
    {
     "data": {
      "text/plain": [
       "M    1528\n",
       "I    1342\n",
       "F    1307\n",
       "Name: Sex, dtype: int64"
      ]
     },
     "execution_count": 43,
     "metadata": {},
     "output_type": "execute_result"
    }
   ],
   "source": [
    "df[\"Sex\"].value_counts()"
   ]
  },
  {
   "cell_type": "code",
   "execution_count": 44,
   "id": "e1d7d0b5",
   "metadata": {},
   "outputs": [],
   "source": [
    "def checkz(df):\n",
    "    return df[df == 0].value_counts()"
   ]
  },
  {
   "cell_type": "code",
   "execution_count": 46,
   "id": "b9456018",
   "metadata": {},
   "outputs": [
    {
     "name": "stdout",
     "output_type": "stream",
     "text": [
      "Series([], Name: Length, dtype: int64)\n",
      "Series([], Name: Whole weight, dtype: int64)\n",
      "0.0    2\n",
      "Name: Viscera weight, dtype: int64\n",
      "Series([], Name: Diameter, dtype: int64)\n",
      "Series([], Name: Height, dtype: int64)\n",
      "Series([], Name: Shucked weight, dtype: int64)\n",
      "Series([], Name: Shell weight, dtype: int64)\n",
      "Series([], Name: Rings, dtype: int64)\n",
      "Series([], Name: Sex, dtype: int64)\n"
     ]
    }
   ],
   "source": [
    "for i in df.columns:\n",
    "    print(checkz(df[i]))"
   ]
  },
  {
   "cell_type": "code",
   "execution_count": 47,
   "id": "2263a1a4",
   "metadata": {},
   "outputs": [
    {
     "data": {
      "text/plain": [
       "Index(['Length', 'Whole weight', 'Viscera weight', 'Diameter', 'Height',\n",
       "       'Shucked weight', 'Shell weight', 'Rings', 'Sex'],\n",
       "      dtype='object')"
      ]
     },
     "execution_count": 47,
     "metadata": {},
     "output_type": "execute_result"
    }
   ],
   "source": [
    "df.columns"
   ]
  },
  {
   "cell_type": "markdown",
   "id": "1353c55b",
   "metadata": {},
   "source": [
    "### Checking And Removing 0's"
   ]
  },
  {
   "cell_type": "code",
   "execution_count": 48,
   "id": "acc42531",
   "metadata": {
    "scrolled": false
   },
   "outputs": [],
   "source": [
    "clist = ['Length', 'Whole weight', 'Viscera weight', 'Diameter', 'Height',\n",
    "       'Shucked weight', 'Shell weight', 'Rings']"
   ]
  },
  {
   "cell_type": "code",
   "execution_count": 49,
   "id": "7dbbb649",
   "metadata": {},
   "outputs": [],
   "source": [
    "def zeroremove(df):\n",
    "    m = round(df.mean(),2)\n",
    "    df.replace(0,m,inplace = True)"
   ]
  },
  {
   "cell_type": "code",
   "execution_count": 50,
   "id": "13ba933c",
   "metadata": {},
   "outputs": [],
   "source": [
    "for i in clist:\n",
    "    zeroremove(df[i])"
   ]
  },
  {
   "cell_type": "code",
   "execution_count": 51,
   "id": "59e7e1e6",
   "metadata": {},
   "outputs": [
    {
     "name": "stdout",
     "output_type": "stream",
     "text": [
      "Series([], Name: Length, dtype: int64)\n",
      "Series([], Name: Whole weight, dtype: int64)\n",
      "Series([], Name: Viscera weight, dtype: int64)\n",
      "Series([], Name: Diameter, dtype: int64)\n",
      "Series([], Name: Height, dtype: int64)\n",
      "Series([], Name: Shucked weight, dtype: int64)\n",
      "Series([], Name: Shell weight, dtype: int64)\n",
      "Series([], Name: Rings, dtype: int64)\n",
      "Series([], Name: Sex, dtype: int64)\n"
     ]
    }
   ],
   "source": [
    "for i in df.columns:\n",
    "    print(checkz(df[i]))"
   ]
  },
  {
   "cell_type": "markdown",
   "id": "78b7e0f9",
   "metadata": {},
   "source": [
    "### OD_Tech With The help of Skew"
   ]
  },
  {
   "cell_type": "code",
   "execution_count": 52,
   "id": "655e6d62",
   "metadata": {},
   "outputs": [],
   "source": [
    "def odiqr(df):\n",
    "    q1 = df.quantile(0.25)\n",
    "    q3 = df.quantile(0.75)\n",
    "    iqr = q3 - q1\n",
    "    low = q1 - (1.5 * iqr)\n",
    "    high = q3 + (1.5 * iqr)\n",
    "    m = df.mean()\n",
    "    df = df.apply(lambda x : m if x < low else (m if x > high else x ) )\n",
    "    return df"
   ]
  },
  {
   "cell_type": "code",
   "execution_count": 53,
   "id": "f672095b",
   "metadata": {},
   "outputs": [],
   "source": [
    "def odmsd(df):\n",
    "    m = round(df.mean(),2)\n",
    "    s = round(df.std(),2)\n",
    "    low = round(m-(3*s),2)\n",
    "    high = round(m+(3*s),2)\n",
    "    ft1 = df[df<low]\n",
    "    ft2 = df[df>high]\n",
    "    df = df.map(lambda x : low if x < low else (high if x > high else x ))"
   ]
  },
  {
   "cell_type": "code",
   "execution_count": 55,
   "id": "49916f81",
   "metadata": {},
   "outputs": [
    {
     "name": "stdout",
     "output_type": "stream",
     "text": [
      "Length is -0.639873268981801\n",
      "Whole weight is -0.6091981423290918\n",
      "Viscera weight is 3.1671068608877198\n",
      "Diameter is 0.5309585632523087\n",
      "Height is 0.7190979217612694\n",
      "Shucked weight is 0.5918521514155083\n",
      "Shell weight is 0.6209268251392077\n",
      "Rings is 1.114101898355677\n"
     ]
    }
   ],
   "source": [
    "for i in clist:\n",
    "    print(f'{i} is {df[i].skew()}')"
   ]
  },
  {
   "cell_type": "code",
   "execution_count": 60,
   "id": "f941cf64",
   "metadata": {},
   "outputs": [],
   "source": [
    "for i in clist:\n",
    "    if df[i].skew() <= 0.5:\n",
    "        odmsd(df[i])\n",
    "    else:\n",
    "        df[i] = odiqr(df[i])"
   ]
  },
  {
   "cell_type": "code",
   "execution_count": 61,
   "id": "229f534d",
   "metadata": {
    "scrolled": true
   },
   "outputs": [
    {
     "name": "stdout",
     "output_type": "stream",
     "text": [
      "Length is -0.47226034516491344\n",
      "Whole weight is -0.47042514918312894\n",
      "Viscera weight is -0.1854164788342902\n",
      "Diameter is 0.39235373317723926\n",
      "Height is 0.42806642403527495\n",
      "Shucked weight is 0.4557527876962757\n",
      "Shell weight is 0.36801505496676334\n",
      "Rings is 0.15139283233172263\n"
     ]
    }
   ],
   "source": [
    "for i in clist:\n",
    "    print(f'{i} is {df[i].skew()}')"
   ]
  },
  {
   "cell_type": "markdown",
   "id": "29cd1507",
   "metadata": {},
   "source": [
    "### Encoding of df[\"Sex\"] with Label Encoder"
   ]
  },
  {
   "cell_type": "code",
   "execution_count": 63,
   "id": "7ba00847",
   "metadata": {},
   "outputs": [],
   "source": [
    "from sklearn.preprocessing import LabelEncoder"
   ]
  },
  {
   "cell_type": "code",
   "execution_count": 64,
   "id": "b399bbd0",
   "metadata": {},
   "outputs": [],
   "source": [
    "le = LabelEncoder()"
   ]
  },
  {
   "cell_type": "code",
   "execution_count": 66,
   "id": "13e45b97",
   "metadata": {},
   "outputs": [
    {
     "data": {
      "text/plain": [
       "array(['F', 'I', 'M'], dtype=object)"
      ]
     },
     "execution_count": 66,
     "metadata": {},
     "output_type": "execute_result"
    }
   ],
   "source": [
    "le.classes_"
   ]
  },
  {
   "cell_type": "code",
   "execution_count": 71,
   "id": "800ec32e",
   "metadata": {},
   "outputs": [],
   "source": [
    "df = pd.concat([ df, pd.DataFrame(le.fit_transform(df[\"Sex\"]),columns=[\"SEX\"])],axis=1).drop(\"Sex\",axis=1)"
   ]
  },
  {
   "cell_type": "code",
   "execution_count": 72,
   "id": "f48f901f",
   "metadata": {},
   "outputs": [
    {
     "data": {
      "text/html": [
       "<div>\n",
       "<style scoped>\n",
       "    .dataframe tbody tr th:only-of-type {\n",
       "        vertical-align: middle;\n",
       "    }\n",
       "\n",
       "    .dataframe tbody tr th {\n",
       "        vertical-align: top;\n",
       "    }\n",
       "\n",
       "    .dataframe thead th {\n",
       "        text-align: right;\n",
       "    }\n",
       "</style>\n",
       "<table border=\"1\" class=\"dataframe\">\n",
       "  <thead>\n",
       "    <tr style=\"text-align: right;\">\n",
       "      <th></th>\n",
       "      <th>Length</th>\n",
       "      <th>Whole weight</th>\n",
       "      <th>Viscera weight</th>\n",
       "      <th>Diameter</th>\n",
       "      <th>Height</th>\n",
       "      <th>Shucked weight</th>\n",
       "      <th>Shell weight</th>\n",
       "      <th>Rings</th>\n",
       "      <th>SEX</th>\n",
       "    </tr>\n",
       "  </thead>\n",
       "  <tbody>\n",
       "    <tr>\n",
       "      <th>0</th>\n",
       "      <td>0.455</td>\n",
       "      <td>0.365</td>\n",
       "      <td>0.095</td>\n",
       "      <td>0.5140</td>\n",
       "      <td>0.2245</td>\n",
       "      <td>0.1010</td>\n",
       "      <td>0.1500</td>\n",
       "      <td>15.0</td>\n",
       "      <td>2</td>\n",
       "    </tr>\n",
       "    <tr>\n",
       "      <th>1</th>\n",
       "      <td>0.350</td>\n",
       "      <td>0.265</td>\n",
       "      <td>0.090</td>\n",
       "      <td>0.2255</td>\n",
       "      <td>0.0995</td>\n",
       "      <td>0.0485</td>\n",
       "      <td>0.0700</td>\n",
       "      <td>7.0</td>\n",
       "      <td>2</td>\n",
       "    </tr>\n",
       "    <tr>\n",
       "      <th>2</th>\n",
       "      <td>0.530</td>\n",
       "      <td>0.420</td>\n",
       "      <td>0.135</td>\n",
       "      <td>0.6770</td>\n",
       "      <td>0.2565</td>\n",
       "      <td>0.1415</td>\n",
       "      <td>0.2100</td>\n",
       "      <td>9.0</td>\n",
       "      <td>0</td>\n",
       "    </tr>\n",
       "    <tr>\n",
       "      <th>3</th>\n",
       "      <td>0.440</td>\n",
       "      <td>0.365</td>\n",
       "      <td>0.125</td>\n",
       "      <td>0.5160</td>\n",
       "      <td>0.2155</td>\n",
       "      <td>0.1140</td>\n",
       "      <td>0.1550</td>\n",
       "      <td>10.0</td>\n",
       "      <td>2</td>\n",
       "    </tr>\n",
       "    <tr>\n",
       "      <th>4</th>\n",
       "      <td>0.330</td>\n",
       "      <td>0.255</td>\n",
       "      <td>0.080</td>\n",
       "      <td>0.2050</td>\n",
       "      <td>0.0895</td>\n",
       "      <td>0.0395</td>\n",
       "      <td>0.0550</td>\n",
       "      <td>7.0</td>\n",
       "      <td>1</td>\n",
       "    </tr>\n",
       "    <tr>\n",
       "      <th>...</th>\n",
       "      <td>...</td>\n",
       "      <td>...</td>\n",
       "      <td>...</td>\n",
       "      <td>...</td>\n",
       "      <td>...</td>\n",
       "      <td>...</td>\n",
       "      <td>...</td>\n",
       "      <td>...</td>\n",
       "      <td>...</td>\n",
       "    </tr>\n",
       "    <tr>\n",
       "      <th>4172</th>\n",
       "      <td>0.565</td>\n",
       "      <td>0.450</td>\n",
       "      <td>0.165</td>\n",
       "      <td>0.8870</td>\n",
       "      <td>0.3700</td>\n",
       "      <td>0.2390</td>\n",
       "      <td>0.2490</td>\n",
       "      <td>11.0</td>\n",
       "      <td>0</td>\n",
       "    </tr>\n",
       "    <tr>\n",
       "      <th>4173</th>\n",
       "      <td>0.590</td>\n",
       "      <td>0.440</td>\n",
       "      <td>0.135</td>\n",
       "      <td>0.9660</td>\n",
       "      <td>0.4390</td>\n",
       "      <td>0.2145</td>\n",
       "      <td>0.2605</td>\n",
       "      <td>10.0</td>\n",
       "      <td>2</td>\n",
       "    </tr>\n",
       "    <tr>\n",
       "      <th>4174</th>\n",
       "      <td>0.600</td>\n",
       "      <td>0.475</td>\n",
       "      <td>0.205</td>\n",
       "      <td>1.1760</td>\n",
       "      <td>0.5255</td>\n",
       "      <td>0.2875</td>\n",
       "      <td>0.3080</td>\n",
       "      <td>9.0</td>\n",
       "      <td>2</td>\n",
       "    </tr>\n",
       "    <tr>\n",
       "      <th>4175</th>\n",
       "      <td>0.625</td>\n",
       "      <td>0.485</td>\n",
       "      <td>0.150</td>\n",
       "      <td>1.0945</td>\n",
       "      <td>0.5310</td>\n",
       "      <td>0.2610</td>\n",
       "      <td>0.2960</td>\n",
       "      <td>10.0</td>\n",
       "      <td>0</td>\n",
       "    </tr>\n",
       "    <tr>\n",
       "      <th>4176</th>\n",
       "      <td>0.710</td>\n",
       "      <td>0.555</td>\n",
       "      <td>0.195</td>\n",
       "      <td>1.9485</td>\n",
       "      <td>0.9455</td>\n",
       "      <td>0.3765</td>\n",
       "      <td>0.4950</td>\n",
       "      <td>12.0</td>\n",
       "      <td>2</td>\n",
       "    </tr>\n",
       "  </tbody>\n",
       "</table>\n",
       "<p>4177 rows × 9 columns</p>\n",
       "</div>"
      ],
      "text/plain": [
       "      Length  Whole weight  Viscera weight  Diameter  Height  Shucked weight  \\\n",
       "0      0.455         0.365           0.095    0.5140  0.2245          0.1010   \n",
       "1      0.350         0.265           0.090    0.2255  0.0995          0.0485   \n",
       "2      0.530         0.420           0.135    0.6770  0.2565          0.1415   \n",
       "3      0.440         0.365           0.125    0.5160  0.2155          0.1140   \n",
       "4      0.330         0.255           0.080    0.2050  0.0895          0.0395   \n",
       "...      ...           ...             ...       ...     ...             ...   \n",
       "4172   0.565         0.450           0.165    0.8870  0.3700          0.2390   \n",
       "4173   0.590         0.440           0.135    0.9660  0.4390          0.2145   \n",
       "4174   0.600         0.475           0.205    1.1760  0.5255          0.2875   \n",
       "4175   0.625         0.485           0.150    1.0945  0.5310          0.2610   \n",
       "4176   0.710         0.555           0.195    1.9485  0.9455          0.3765   \n",
       "\n",
       "      Shell weight  Rings  SEX  \n",
       "0           0.1500   15.0    2  \n",
       "1           0.0700    7.0    2  \n",
       "2           0.2100    9.0    0  \n",
       "3           0.1550   10.0    2  \n",
       "4           0.0550    7.0    1  \n",
       "...            ...    ...  ...  \n",
       "4172        0.2490   11.0    0  \n",
       "4173        0.2605   10.0    2  \n",
       "4174        0.3080    9.0    2  \n",
       "4175        0.2960   10.0    0  \n",
       "4176        0.4950   12.0    2  \n",
       "\n",
       "[4177 rows x 9 columns]"
      ]
     },
     "execution_count": 72,
     "metadata": {},
     "output_type": "execute_result"
    }
   ],
   "source": [
    "df"
   ]
  },
  {
   "cell_type": "markdown",
   "id": "ed67045b",
   "metadata": {},
   "source": [
    "### Splitting"
   ]
  },
  {
   "cell_type": "code",
   "execution_count": 73,
   "id": "af944ff6",
   "metadata": {},
   "outputs": [],
   "source": [
    "X = df.drop(\"SEX\",axis=1)"
   ]
  },
  {
   "cell_type": "code",
   "execution_count": 74,
   "id": "367c52bb",
   "metadata": {},
   "outputs": [
    {
     "data": {
      "text/html": [
       "<div>\n",
       "<style scoped>\n",
       "    .dataframe tbody tr th:only-of-type {\n",
       "        vertical-align: middle;\n",
       "    }\n",
       "\n",
       "    .dataframe tbody tr th {\n",
       "        vertical-align: top;\n",
       "    }\n",
       "\n",
       "    .dataframe thead th {\n",
       "        text-align: right;\n",
       "    }\n",
       "</style>\n",
       "<table border=\"1\" class=\"dataframe\">\n",
       "  <thead>\n",
       "    <tr style=\"text-align: right;\">\n",
       "      <th></th>\n",
       "      <th>Length</th>\n",
       "      <th>Whole weight</th>\n",
       "      <th>Viscera weight</th>\n",
       "      <th>Diameter</th>\n",
       "      <th>Height</th>\n",
       "      <th>Shucked weight</th>\n",
       "      <th>Shell weight</th>\n",
       "      <th>Rings</th>\n",
       "    </tr>\n",
       "  </thead>\n",
       "  <tbody>\n",
       "    <tr>\n",
       "      <th>2989</th>\n",
       "      <td>0.56</td>\n",
       "      <td>0.425</td>\n",
       "      <td>0.135</td>\n",
       "      <td>0.9415</td>\n",
       "      <td>0.509</td>\n",
       "      <td>0.2015</td>\n",
       "      <td>0.1975</td>\n",
       "      <td>9.0</td>\n",
       "    </tr>\n",
       "  </tbody>\n",
       "</table>\n",
       "</div>"
      ],
      "text/plain": [
       "      Length  Whole weight  Viscera weight  Diameter  Height  Shucked weight  \\\n",
       "2989    0.56         0.425           0.135    0.9415   0.509          0.2015   \n",
       "\n",
       "      Shell weight  Rings  \n",
       "2989        0.1975    9.0  "
      ]
     },
     "execution_count": 74,
     "metadata": {},
     "output_type": "execute_result"
    }
   ],
   "source": [
    "X.sample()"
   ]
  },
  {
   "cell_type": "code",
   "execution_count": 75,
   "id": "9983ad6e",
   "metadata": {},
   "outputs": [],
   "source": [
    "y = df[\"SEX\"]"
   ]
  },
  {
   "cell_type": "code",
   "execution_count": 76,
   "id": "4c47b9b4",
   "metadata": {},
   "outputs": [
    {
     "data": {
      "text/plain": [
       "2791    2\n",
       "Name: SEX, dtype: int64"
      ]
     },
     "execution_count": 76,
     "metadata": {},
     "output_type": "execute_result"
    }
   ],
   "source": [
    "y.sample()"
   ]
  },
  {
   "cell_type": "code",
   "execution_count": 77,
   "id": "03ce5526",
   "metadata": {},
   "outputs": [],
   "source": [
    "from sklearn.model_selection import train_test_split\n",
    "from sklearn.preprocessing import StandardScaler\n",
    "from sklearn.model_selection import KFold , cross_val_score\n",
    "from sklearn.svm import SVC\n",
    "from sklearn.tree import DecisionTreeClassifier\n",
    "from sklearn.ensemble import RandomForestClassifier , AdaBoostClassifier"
   ]
  },
  {
   "cell_type": "code",
   "execution_count": 78,
   "id": "d546284a",
   "metadata": {},
   "outputs": [],
   "source": [
    "Xtrain,Xtest,ytrain,ytest = train_test_split(X,y,test_size=.30)"
   ]
  },
  {
   "cell_type": "code",
   "execution_count": 79,
   "id": "c4b8f19e",
   "metadata": {},
   "outputs": [
    {
     "data": {
      "text/plain": [
       "((4177, 8), (2923, 8), (1254, 8))"
      ]
     },
     "execution_count": 79,
     "metadata": {},
     "output_type": "execute_result"
    }
   ],
   "source": [
    "X.shape , Xtrain.shape , Xtest.shape"
   ]
  },
  {
   "cell_type": "code",
   "execution_count": 80,
   "id": "076eb108",
   "metadata": {},
   "outputs": [
    {
     "data": {
      "text/plain": [
       "((4177,), (2923,), (1254,))"
      ]
     },
     "execution_count": 80,
     "metadata": {},
     "output_type": "execute_result"
    }
   ],
   "source": [
    "y.shape , ytrain.shape , ytest.shape"
   ]
  },
  {
   "cell_type": "code",
   "execution_count": 81,
   "id": "3a21f9af",
   "metadata": {},
   "outputs": [],
   "source": [
    "kf = KFold(n_splits=11)"
   ]
  },
  {
   "cell_type": "code",
   "execution_count": 82,
   "id": "a9e18e94",
   "metadata": {},
   "outputs": [],
   "source": [
    "dct = DecisionTreeClassifier()"
   ]
  },
  {
   "cell_type": "code",
   "execution_count": 83,
   "id": "05f30a69",
   "metadata": {},
   "outputs": [],
   "source": [
    "rfc = RandomForestClassifier()"
   ]
  },
  {
   "cell_type": "code",
   "execution_count": 84,
   "id": "2395e061",
   "metadata": {},
   "outputs": [],
   "source": [
    "algo = [ dct , rfc ]"
   ]
  },
  {
   "cell_type": "markdown",
   "id": "5810283b",
   "metadata": {},
   "source": [
    "### Without Feature Scaling\n"
   ]
  },
  {
   "cell_type": "code",
   "execution_count": 85,
   "id": "3fa885d8",
   "metadata": {},
   "outputs": [
    {
     "name": "stdout",
     "output_type": "stream",
     "text": [
      "DecisionTreeClassifier() = 0.48165869218500795\n",
      "RandomForestClassifier() = 0.562200956937799\n"
     ]
    }
   ],
   "source": [
    "for i in algo:\n",
    "    i.fit(Xtrain,ytrain)\n",
    "    s = i.score(Xtest,ytest)\n",
    "    print(f'{i} = {s}')"
   ]
  },
  {
   "cell_type": "markdown",
   "id": "6ef3acce",
   "metadata": {},
   "source": [
    "### With Feature Scaling"
   ]
  },
  {
   "cell_type": "code",
   "execution_count": 86,
   "id": "cc73ca58",
   "metadata": {},
   "outputs": [],
   "source": [
    "ss = StandardScaler()"
   ]
  },
  {
   "cell_type": "code",
   "execution_count": 87,
   "id": "b2441c64",
   "metadata": {},
   "outputs": [
    {
     "data": {
      "text/plain": [
       "StandardScaler()"
      ]
     },
     "execution_count": 87,
     "metadata": {},
     "output_type": "execute_result"
    }
   ],
   "source": [
    "ss.fit(Xtrain)"
   ]
  },
  {
   "cell_type": "code",
   "execution_count": 88,
   "id": "738bfa08",
   "metadata": {},
   "outputs": [],
   "source": [
    "Xtrain_ss = ss.transform(Xtrain)"
   ]
  },
  {
   "cell_type": "code",
   "execution_count": 89,
   "id": "dcdcb2e4",
   "metadata": {},
   "outputs": [],
   "source": [
    "Xtest_ss = ss.transform(Xtest)"
   ]
  },
  {
   "cell_type": "code",
   "execution_count": 90,
   "id": "6a20d82c",
   "metadata": {},
   "outputs": [
    {
     "name": "stdout",
     "output_type": "stream",
     "text": [
      "DecisionTreeClassifier() = 0.4904306220095694\n",
      "RandomForestClassifier() = 0.5502392344497608\n"
     ]
    }
   ],
   "source": [
    "for i in algo:\n",
    "    i.fit(Xtrain_ss,ytrain)\n",
    "    s = i.score(Xtest_ss,ytest)\n",
    "    print(f'{i} = {s}')"
   ]
  },
  {
   "cell_type": "markdown",
   "id": "d2430f2d",
   "metadata": {},
   "source": [
    "### With Cross Validation"
   ]
  },
  {
   "cell_type": "code",
   "execution_count": 91,
   "id": "1c72b9ed",
   "metadata": {},
   "outputs": [
    {
     "name": "stdout",
     "output_type": "stream",
     "text": [
      "DecisionTreeClassifier() = 0.4876816351264344\n",
      "RandomForestClassifier() = 0.524532577546048\n"
     ]
    }
   ],
   "source": [
    "for i in algo:\n",
    "    s = cross_val_score(i,X,y,cv = kf)\n",
    "    print(f'{i} = {s.mean()}')"
   ]
  },
  {
   "cell_type": "markdown",
   "id": "69d747ca",
   "metadata": {},
   "source": [
    "## Boosting"
   ]
  },
  {
   "cell_type": "code",
   "execution_count": 95,
   "id": "01299332",
   "metadata": {},
   "outputs": [],
   "source": [
    "rfc1 = RandomForestClassifier(n_estimators=150,max_depth=2,max_leaf_nodes=3)"
   ]
  },
  {
   "cell_type": "code",
   "execution_count": 96,
   "id": "4d0a8792",
   "metadata": {},
   "outputs": [],
   "source": [
    "abc = AdaBoostClassifier()"
   ]
  },
  {
   "cell_type": "code",
   "execution_count": 97,
   "id": "331ee508",
   "metadata": {},
   "outputs": [],
   "source": [
    "algo1 = [rfc1  , abc ]"
   ]
  },
  {
   "cell_type": "code",
   "execution_count": 98,
   "id": "f9851847",
   "metadata": {},
   "outputs": [
    {
     "name": "stdout",
     "output_type": "stream",
     "text": [
      "RandomForestClassifier(max_depth=2, max_leaf_nodes=3, n_estimators=150)\n",
      "AdaBoostClassifier()\n"
     ]
    }
   ],
   "source": [
    "for i in algo1:\n",
    "    print(i)"
   ]
  },
  {
   "cell_type": "markdown",
   "id": "28a95f54",
   "metadata": {},
   "source": [
    "### Without Feature Scaling\n"
   ]
  },
  {
   "cell_type": "code",
   "execution_count": 99,
   "id": "58c256e0",
   "metadata": {},
   "outputs": [
    {
     "name": "stdout",
     "output_type": "stream",
     "text": [
      "RandomForestClassifier(max_depth=2, max_leaf_nodes=3, n_estimators=150) = 0.5223285486443381\n",
      "AdaBoostClassifier() = 0.5350877192982456\n"
     ]
    }
   ],
   "source": [
    "for i in algo1:\n",
    "    i.fit(Xtrain,ytrain)\n",
    "    s = i.score(Xtest,ytest)\n",
    "    print(f'{i} = {s}')"
   ]
  },
  {
   "cell_type": "markdown",
   "id": "eb4fd565",
   "metadata": {},
   "source": [
    "### With Feature Scaling"
   ]
  },
  {
   "cell_type": "code",
   "execution_count": 100,
   "id": "b82ee2be",
   "metadata": {},
   "outputs": [
    {
     "name": "stdout",
     "output_type": "stream",
     "text": [
      "RandomForestClassifier(max_depth=2, max_leaf_nodes=3, n_estimators=150) = 0.5215311004784688\n",
      "AdaBoostClassifier() = 0.5350877192982456\n"
     ]
    }
   ],
   "source": [
    "for i in algo1:\n",
    "    i.fit(Xtrain_ss,ytrain)\n",
    "    s = i.score(Xtest_ss,ytest)\n",
    "    print(f'{i} = {s}')"
   ]
  },
  {
   "cell_type": "markdown",
   "id": "61d7d34a",
   "metadata": {},
   "source": [
    "###  With Cross Validation (Boosting)\n"
   ]
  },
  {
   "cell_type": "code",
   "execution_count": 101,
   "id": "99360d13",
   "metadata": {},
   "outputs": [
    {
     "name": "stdout",
     "output_type": "stream",
     "text": [
      "RandomForestClassifier(max_depth=2, max_leaf_nodes=3, n_estimators=150) = 0.5254970900506243\n",
      "AdaBoostClassifier() = 0.533641160949868\n",
      "CPU times: user 3.46 s, sys: 14.2 ms, total: 3.48 s\n",
      "Wall time: 3.47 s\n"
     ]
    }
   ],
   "source": [
    "%%time\n",
    "for i in algo1:\n",
    "    s = cross_val_score(i,X,y,cv = kf)\n",
    "    print(f'{i} = {s.mean()}')"
   ]
  },
  {
   "cell_type": "markdown",
   "id": "751bb43b",
   "metadata": {},
   "source": [
    "### With GridSearch CV"
   ]
  },
  {
   "cell_type": "code",
   "execution_count": 102,
   "id": "9ed59fbe",
   "metadata": {},
   "outputs": [],
   "source": [
    "from sklearn.model_selection import GridSearchCV"
   ]
  },
  {
   "cell_type": "code",
   "execution_count": 108,
   "id": "9458f963",
   "metadata": {},
   "outputs": [],
   "source": [
    "dic = { 'n_estimators' : [100,125,180],'criterion': ['gini', 'entropy'], 'max_depth' : [2,3,10]\n",
    "       ,'min_samples_leaf' : [ 1,5]  }"
   ]
  },
  {
   "cell_type": "code",
   "execution_count": 109,
   "id": "4c5d7d8d",
   "metadata": {},
   "outputs": [],
   "source": [
    "kf1 = KFold(n_splits=12)"
   ]
  },
  {
   "cell_type": "code",
   "execution_count": 110,
   "id": "02f02529",
   "metadata": {},
   "outputs": [],
   "source": [
    "gvc = GridSearchCV(RandomForestClassifier(),param_grid=dic,cv = kf1)"
   ]
  },
  {
   "cell_type": "code",
   "execution_count": 111,
   "id": "47e5bd0f",
   "metadata": {},
   "outputs": [
    {
     "name": "stdout",
     "output_type": "stream",
     "text": [
      "CPU times: user 2min 2s, sys: 754 ms, total: 2min 3s\n",
      "Wall time: 2min 3s\n"
     ]
    },
    {
     "data": {
      "text/plain": [
       "GridSearchCV(cv=KFold(n_splits=12, random_state=None, shuffle=False),\n",
       "             estimator=RandomForestClassifier(),\n",
       "             param_grid={'criterion': ['gini', 'entropy'],\n",
       "                         'max_depth': [2, 3, 10], 'min_samples_leaf': [1, 5],\n",
       "                         'n_estimators': [100, 125, 180]})"
      ]
     },
     "execution_count": 111,
     "metadata": {},
     "output_type": "execute_result"
    }
   ],
   "source": [
    "%%time\n",
    "gvc.fit(X,y)"
   ]
  },
  {
   "cell_type": "code",
   "execution_count": 112,
   "id": "e69ea949",
   "metadata": {},
   "outputs": [
    {
     "data": {
      "text/plain": [
       "{'criterion': 'entropy',\n",
       " 'max_depth': 10,\n",
       " 'min_samples_leaf': 5,\n",
       " 'n_estimators': 180}"
      ]
     },
     "execution_count": 112,
     "metadata": {},
     "output_type": "execute_result"
    }
   ],
   "source": [
    "gvc.best_params_"
   ]
  },
  {
   "cell_type": "code",
   "execution_count": 113,
   "id": "e934a5ec",
   "metadata": {},
   "outputs": [
    {
     "data": {
      "text/plain": [
       "RandomForestClassifier(criterion='entropy', max_depth=10, min_samples_leaf=5,\n",
       "                       n_estimators=180)"
      ]
     },
     "execution_count": 113,
     "metadata": {},
     "output_type": "execute_result"
    }
   ],
   "source": [
    "gvc.best_estimator_"
   ]
  },
  {
   "cell_type": "code",
   "execution_count": 114,
   "id": "9c20be1d",
   "metadata": {},
   "outputs": [
    {
     "data": {
      "text/plain": [
       "0.5540096773485271"
      ]
     },
     "execution_count": 114,
     "metadata": {},
     "output_type": "execute_result"
    }
   ],
   "source": [
    "gvc.best_score_"
   ]
  }
 ],
 "metadata": {
  "kernelspec": {
   "display_name": "Python 3 (ipykernel)",
   "language": "python",
   "name": "python3"
  },
  "language_info": {
   "codemirror_mode": {
    "name": "ipython",
    "version": 3
   },
   "file_extension": ".py",
   "mimetype": "text/x-python",
   "name": "python",
   "nbconvert_exporter": "python",
   "pygments_lexer": "ipython3",
   "version": "3.9.7"
  }
 },
 "nbformat": 4,
 "nbformat_minor": 5
}
