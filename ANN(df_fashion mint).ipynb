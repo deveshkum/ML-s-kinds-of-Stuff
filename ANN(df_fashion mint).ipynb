{
 "cells": [
  {
   "cell_type": "code",
   "execution_count": 2,
   "id": "1a32275b",
   "metadata": {},
   "outputs": [],
   "source": [
    "### Importing All the req tools for data manipulation\n",
    "\n",
    "import numpy as np\n",
    "import pandas as pd\n",
    "import tensorflow as tf\n",
    "import matplotlib.pyplot as plt"
   ]
  },
  {
   "cell_type": "code",
   "execution_count": 3,
   "id": "10e55e6d",
   "metadata": {},
   "outputs": [],
   "source": [
    "### Importing the Sequential Model & it's layer\n",
    "\n",
    "from tensorflow.keras.models import Sequential\n",
    "from tensorflow.keras.layers import Dense , Flatten"
   ]
  },
  {
   "cell_type": "code",
   "execution_count": 4,
   "id": "91a94abb",
   "metadata": {},
   "outputs": [],
   "source": [
    "### Importing the fashion Dataset\n",
    "\n",
    "from tensorflow.keras.datasets import fashion_mnist"
   ]
  },
  {
   "cell_type": "code",
   "execution_count": 6,
   "id": "813a54ba",
   "metadata": {},
   "outputs": [],
   "source": [
    "### Giving into the X & y (i.e independent & dependent columns)\n",
    "\n",
    "(Xtrain,ytrain),(Xtest,ytest) = fashion_mnist.load_data()"
   ]
  },
  {
   "cell_type": "code",
   "execution_count": 8,
   "id": "a1556bb2",
   "metadata": {},
   "outputs": [
    {
     "data": {
      "text/plain": [
       "((60000, 28, 28), (60000,))"
      ]
     },
     "execution_count": 8,
     "metadata": {},
     "output_type": "execute_result"
    }
   ],
   "source": [
    "### Checking the shape of the training data\n",
    "\n",
    "Xtrain.shape , ytrain.shape"
   ]
  },
  {
   "cell_type": "code",
   "execution_count": 10,
   "id": "cf6554d1",
   "metadata": {},
   "outputs": [
    {
     "data": {
      "text/plain": [
       "((10000, 28, 28), (10000,))"
      ]
     },
     "execution_count": 10,
     "metadata": {},
     "output_type": "execute_result"
    }
   ],
   "source": [
    "### Checking the shape of the testing data\n",
    "\n",
    "Xtest.shape , ytest.shape"
   ]
  },
  {
   "cell_type": "code",
   "execution_count": 21,
   "id": "005cf4e1",
   "metadata": {},
   "outputs": [
    {
     "data": {
      "text/plain": [
       "0    6000\n",
       "1    6000\n",
       "2    6000\n",
       "3    6000\n",
       "4    6000\n",
       "5    6000\n",
       "6    6000\n",
       "7    6000\n",
       "8    6000\n",
       "9    6000\n",
       "dtype: int64"
      ]
     },
     "execution_count": 21,
     "metadata": {},
     "output_type": "execute_result"
    }
   ],
   "source": [
    "## checking the output Node for adding in the last output layer in the model...\n",
    "\n",
    "pd.DataFrame(ytrain).value_counts()"
   ]
  },
  {
   "cell_type": "code",
   "execution_count": 11,
   "id": "b937f8c9",
   "metadata": {},
   "outputs": [],
   "source": [
    "### Creating the model & also Flattening it..\n",
    "## input_shape 28,28 bcz the shape is in 28 by 28 that's why...\n",
    "\n",
    "sq = Sequential()\n",
    "sq.add(Flatten(input_shape = (28,28)))"
   ]
  },
  {
   "cell_type": "code",
   "execution_count": 22,
   "id": "b57a444b",
   "metadata": {},
   "outputs": [
    {
     "name": "stderr",
     "output_type": "stream",
     "text": [
      "2022-04-27 20:20:59.352892: I tensorflow/core/platform/cpu_feature_guard.cc:145] This TensorFlow binary is optimized with Intel(R) MKL-DNN to use the following CPU instructions in performance critical operations:  SSE4.1 SSE4.2\n",
      "To enable them in non-MKL-DNN operations, rebuild TensorFlow with the appropriate compiler flags.\n",
      "2022-04-27 20:20:59.355348: I tensorflow/core/common_runtime/process_util.cc:115] Creating new thread pool with default inter op setting: 8. Tune using inter_op_parallelism_threads for best performance.\n"
     ]
    }
   ],
   "source": [
    "### Adding the Hidden as well as output layer in the dat....\n",
    "\n",
    "sq.add(Dense(130,activation='relu'))\n",
    "sq.add(Dense(230,activation='relu'))\n",
    "sq.add(Dense(10, activation='softmax'))"
   ]
  },
  {
   "cell_type": "code",
   "execution_count": 23,
   "id": "e412afd2",
   "metadata": {},
   "outputs": [
    {
     "name": "stdout",
     "output_type": "stream",
     "text": [
      "Model: \"sequential\"\n",
      "_________________________________________________________________\n",
      "Layer (type)                 Output Shape              Param #   \n",
      "=================================================================\n",
      "flatten (Flatten)            (None, 784)               0         \n",
      "_________________________________________________________________\n",
      "dense (Dense)                (None, 130)               102050    \n",
      "_________________________________________________________________\n",
      "dense_1 (Dense)              (None, 230)               30130     \n",
      "_________________________________________________________________\n",
      "dense_2 (Dense)              (None, 10)                2310      \n",
      "=================================================================\n",
      "Total params: 134,490\n",
      "Trainable params: 134,490\n",
      "Non-trainable params: 0\n",
      "_________________________________________________________________\n"
     ]
    }
   ],
   "source": [
    "### Summary of the model\n",
    "\n",
    "sq.summary()"
   ]
  },
  {
   "cell_type": "code",
   "execution_count": 26,
   "id": "95ebcfdd",
   "metadata": {},
   "outputs": [],
   "source": [
    "### Compiling the model for calculating the loss & and increasing the accuracy\n",
    "\n",
    "sq.compile(optimizer='Adam',\n",
    "                loss='sparse_categorical_crossentropy',\n",
    "                    metrics=['acc'])"
   ]
  },
  {
   "cell_type": "code",
   "execution_count": 27,
   "id": "70b9a6b2",
   "metadata": {},
   "outputs": [
    {
     "name": "stdout",
     "output_type": "stream",
     "text": [
      "Train on 60000 samples\n",
      "60000/60000 [==============================] - 8s 136us/sample - loss: 1.6024 - acc: 0.7193\n"
     ]
    },
    {
     "data": {
      "text/plain": [
       "<tensorflow.python.keras.callbacks.History at 0x7fefcbdfde10>"
      ]
     },
     "execution_count": 27,
     "metadata": {},
     "output_type": "execute_result"
    }
   ],
   "source": [
    "### Giving without epochs to the model\n",
    "\n",
    "sq.fit(Xtrain,ytrain) "
   ]
  },
  {
   "cell_type": "code",
   "execution_count": 28,
   "id": "41172967",
   "metadata": {},
   "outputs": [
    {
     "name": "stdout",
     "output_type": "stream",
     "text": [
      "Train on 60000 samples\n",
      "Epoch 1/15\n",
      "60000/60000 [==============================] - 8s 134us/sample - loss: 0.7082 - acc: 0.7784\n",
      "Epoch 2/15\n",
      "60000/60000 [==============================] - 8s 131us/sample - loss: 0.6792 - acc: 0.7879\n",
      "Epoch 3/15\n",
      "60000/60000 [==============================] - 8s 134us/sample - loss: 0.6009 - acc: 0.8024\n",
      "Epoch 4/15\n",
      "60000/60000 [==============================] - 8s 131us/sample - loss: 0.5163 - acc: 0.8225\n",
      "Epoch 5/15\n",
      "60000/60000 [==============================] - 8s 133us/sample - loss: 0.4629 - acc: 0.8346\n",
      "Epoch 6/15\n",
      "60000/60000 [==============================] - 8s 133us/sample - loss: 0.4414 - acc: 0.8427\n",
      "Epoch 7/15\n",
      "60000/60000 [==============================] - 8s 131us/sample - loss: 0.4241 - acc: 0.8485\n",
      "Epoch 8/15\n",
      "60000/60000 [==============================] - 8s 130us/sample - loss: 0.4160 - acc: 0.8514\n",
      "Epoch 9/15\n",
      "60000/60000 [==============================] - 8s 131us/sample - loss: 0.4047 - acc: 0.8561\n",
      "Epoch 10/15\n",
      "60000/60000 [==============================] - 8s 137us/sample - loss: 0.3973 - acc: 0.8571\n",
      "Epoch 11/15\n",
      "60000/60000 [==============================] - 11s 185us/sample - loss: 0.3939 - acc: 0.8588\n",
      "Epoch 12/15\n",
      "60000/60000 [==============================] - 8s 137us/sample - loss: 0.3950 - acc: 0.8577\n",
      "Epoch 13/15\n",
      "60000/60000 [==============================] - 8s 138us/sample - loss: 0.3907 - acc: 0.8600\n",
      "Epoch 14/15\n",
      "60000/60000 [==============================] - 8s 134us/sample - loss: 0.3743 - acc: 0.8651\n",
      "Epoch 15/15\n",
      "60000/60000 [==============================] - 8s 138us/sample - loss: 0.4058 - acc: 0.8574\n"
     ]
    },
    {
     "data": {
      "text/plain": [
       "<tensorflow.python.keras.callbacks.History at 0x7fefcbfcb250>"
      ]
     },
     "execution_count": 28,
     "metadata": {},
     "output_type": "execute_result"
    }
   ],
   "source": [
    "### Giving with epochs to the model\n",
    "sq.fit(Xtrain,ytrain, epochs=15)"
   ]
  },
  {
   "cell_type": "code",
   "execution_count": 31,
   "id": "26a7d809",
   "metadata": {},
   "outputs": [],
   "source": [
    "### Checking the prediction of the model \n",
    "\n",
    "ypred = np.argmax(sq.predict(Xtest),axis=1)"
   ]
  },
  {
   "cell_type": "code",
   "execution_count": 32,
   "id": "868221fa",
   "metadata": {},
   "outputs": [],
   "source": [
    "### Importing for the accuracy score\n",
    "\n",
    "from sklearn.metrics import accuracy_score"
   ]
  },
  {
   "cell_type": "code",
   "execution_count": 33,
   "id": "e999dc1a",
   "metadata": {},
   "outputs": [
    {
     "data": {
      "text/plain": [
       "0.8511"
      ]
     },
     "execution_count": 33,
     "metadata": {},
     "output_type": "execute_result"
    }
   ],
   "source": [
    "### Checking the accuracy score\n",
    "\n",
    "accuracy_score(ytest,ypred)"
   ]
  },
  {
   "cell_type": "code",
   "execution_count": 38,
   "id": "11774f7f",
   "metadata": {},
   "outputs": [
    {
     "data": {
      "text/plain": [
       "(255, 0)"
      ]
     },
     "execution_count": 38,
     "metadata": {},
     "output_type": "execute_result"
    }
   ],
   "source": [
    "Xtrain.max() ,  Xtrain.min()"
   ]
  },
  {
   "cell_type": "code",
   "execution_count": 39,
   "id": "595f64ff",
   "metadata": {},
   "outputs": [],
   "source": [
    "### With the Scaling or Transformation\n",
    "\n",
    "Xtrain_s = Xtrain/255\n",
    "Xtest_s = Xtest/255"
   ]
  },
  {
   "cell_type": "code",
   "execution_count": 41,
   "id": "38440e62",
   "metadata": {},
   "outputs": [
    {
     "name": "stdout",
     "output_type": "stream",
     "text": [
      "Model: \"sequential_1\"\n",
      "_________________________________________________________________\n",
      "Layer (type)                 Output Shape              Param #   \n",
      "=================================================================\n",
      "flatten_1 (Flatten)          (None, 784)               0         \n",
      "_________________________________________________________________\n",
      "dense_3 (Dense)              (None, 130)               102050    \n",
      "_________________________________________________________________\n",
      "dense_4 (Dense)              (None, 230)               30130     \n",
      "_________________________________________________________________\n",
      "dense_5 (Dense)              (None, 10)                2310      \n",
      "=================================================================\n",
      "Total params: 134,490\n",
      "Trainable params: 134,490\n",
      "Non-trainable params: 0\n",
      "_________________________________________________________________\n"
     ]
    }
   ],
   "source": [
    "### Creating the new model for checking with the scaling\n",
    "\n",
    "sq1 = Sequential()\n",
    "sq1.add(Flatten(input_shape = (28,28)))\n",
    "sq1.add(Dense(130,activation='relu'))\n",
    "sq1.add(Dense(230,activation='relu'))\n",
    "sq1.add(Dense(10, activation='softmax'))\n",
    "sq1.compile(optimizer='Adam',\n",
    "                loss='sparse_categorical_crossentropy',\n",
    "                    metrics=['acc'])\n",
    "sq1.summary()"
   ]
  },
  {
   "cell_type": "code",
   "execution_count": 42,
   "id": "3948d7b3",
   "metadata": {},
   "outputs": [
    {
     "name": "stdout",
     "output_type": "stream",
     "text": [
      "Train on 60000 samples\n",
      "60000/60000 [==============================] - 8s 140us/sample - loss: 0.4843 - acc: 0.8268\n"
     ]
    },
    {
     "data": {
      "text/plain": [
       "<tensorflow.python.keras.callbacks.History at 0x7fef79d7de90>"
      ]
     },
     "execution_count": 42,
     "metadata": {},
     "output_type": "execute_result"
    }
   ],
   "source": [
    "### Without epochs\n",
    "\n",
    "sq1.fit(Xtrain_s,ytrain) "
   ]
  },
  {
   "cell_type": "code",
   "execution_count": 43,
   "id": "21f7bc01",
   "metadata": {},
   "outputs": [
    {
     "name": "stdout",
     "output_type": "stream",
     "text": [
      "Train on 60000 samples\n",
      "Epoch 1/15\n",
      "60000/60000 [==============================] - 9s 146us/sample - loss: 0.3621 - acc: 0.8661\n",
      "Epoch 2/15\n",
      "60000/60000 [==============================] - 8s 139us/sample - loss: 0.3256 - acc: 0.8808\n",
      "Epoch 3/15\n",
      "60000/60000 [==============================] - 8s 139us/sample - loss: 0.3016 - acc: 0.8883\n",
      "Epoch 4/15\n",
      "60000/60000 [==============================] - 8s 137us/sample - loss: 0.2854 - acc: 0.8934\n",
      "Epoch 5/15\n",
      "60000/60000 [==============================] - 8s 136us/sample - loss: 0.2703 - acc: 0.8987\n",
      "Epoch 6/15\n",
      "60000/60000 [==============================] - 8s 137us/sample - loss: 0.2575 - acc: 0.9040\n",
      "Epoch 7/15\n",
      "60000/60000 [==============================] - 8s 139us/sample - loss: 0.2460 - acc: 0.9073\n",
      "Epoch 8/15\n",
      "60000/60000 [==============================] - 10s 162us/sample - loss: 0.2343 - acc: 0.9105\n",
      "Epoch 9/15\n",
      "60000/60000 [==============================] - 8s 142us/sample - loss: 0.2262 - acc: 0.9143\n",
      "Epoch 10/15\n",
      "60000/60000 [==============================] - 8s 139us/sample - loss: 0.2159 - acc: 0.9179\n",
      "Epoch 11/15\n",
      "60000/60000 [==============================] - 8s 139us/sample - loss: 0.2082 - acc: 0.9213\n",
      "Epoch 12/15\n",
      "60000/60000 [==============================] - 8s 138us/sample - loss: 0.2018 - acc: 0.9230\n",
      "Epoch 13/15\n",
      "60000/60000 [==============================] - 8s 133us/sample - loss: 0.1959 - acc: 0.9247\n",
      "Epoch 14/15\n",
      "60000/60000 [==============================] - 8s 137us/sample - loss: 0.1881 - acc: 0.9281\n",
      "Epoch 15/15\n",
      "60000/60000 [==============================] - 8s 136us/sample - loss: 0.1823 - acc: 0.9304\n"
     ]
    },
    {
     "data": {
      "text/plain": [
       "<tensorflow.python.keras.callbacks.History at 0x7fef7a252ed0>"
      ]
     },
     "execution_count": 43,
     "metadata": {},
     "output_type": "execute_result"
    }
   ],
   "source": [
    "### With epochs\n",
    "\n",
    "sq1.fit(Xtrain_s , ytrain , epochs=15 )"
   ]
  },
  {
   "cell_type": "code",
   "execution_count": 44,
   "id": "38117c3a",
   "metadata": {},
   "outputs": [],
   "source": [
    "ypred1 = np.argmax(sq1.predict(Xtest),axis=1)"
   ]
  },
  {
   "cell_type": "code",
   "execution_count": null,
   "id": "b4a292d8",
   "metadata": {},
   "outputs": [],
   "source": [
    "accuracy_score(ytest,ypred1)"
   ]
  }
 ],
 "metadata": {
  "kernelspec": {
   "display_name": "Python 3 (ipykernel)",
   "language": "python",
   "name": "python3"
  },
  "language_info": {
   "codemirror_mode": {
    "name": "ipython",
    "version": 3
   },
   "file_extension": ".py",
   "mimetype": "text/x-python",
   "name": "python",
   "nbconvert_exporter": "python",
   "pygments_lexer": "ipython3",
   "version": "3.7.13"
  }
 },
 "nbformat": 4,
 "nbformat_minor": 5
}
