{
 "cells": [
  {
   "cell_type": "code",
   "execution_count": 38,
   "id": "f5fbf45a",
   "metadata": {},
   "outputs": [],
   "source": [
    "import numpy as np\n",
    "import pandas as pd"
   ]
  },
  {
   "cell_type": "code",
   "execution_count": 39,
   "id": "78ae07b7",
   "metadata": {},
   "outputs": [
    {
     "name": "stdout",
     "output_type": "stream",
     "text": [
      "Shape of this Df is (200000, 202)\n"
     ]
    }
   ],
   "source": [
    "df_train  = pd.read_csv(\"/Users/dev/Personal/DS & AI Class Notes/Data Sets/Boosting/Santander/train.csv\")\n",
    "print(f'Shape of this Df is {df_train.shape}')"
   ]
  },
  {
   "cell_type": "code",
   "execution_count": 40,
   "id": "d5b74121",
   "metadata": {},
   "outputs": [
    {
     "name": "stdout",
     "output_type": "stream",
     "text": [
      "Shape of this Df is (200000, 201)\n"
     ]
    }
   ],
   "source": [
    "df_test  = pd.read_csv(\"/Users/dev/Personal/DS & AI Class Notes/Data Sets/Boosting/Santander/test.csv\")\n",
    "print(f'Shape of this Df is {df_test.shape}')"
   ]
  },
  {
   "cell_type": "code",
   "execution_count": 41,
   "id": "8d641254",
   "metadata": {},
   "outputs": [
    {
     "name": "stdout",
     "output_type": "stream",
     "text": [
      "Shape of this Df is (200000, 2)\n"
     ]
    }
   ],
   "source": [
    "df_sample = pd.read_csv(\"/Users/dev/Personal/DS & AI Class Notes/Data Sets/Boosting/Santander/sample_submission.csv\")\n",
    "print(f'Shape of this Df is {df_sample.shape}')"
   ]
  },
  {
   "cell_type": "code",
   "execution_count": 42,
   "id": "a53fb6f1",
   "metadata": {},
   "outputs": [],
   "source": [
    "df_sample.drop(\"ID_code\",axis = 1 , inplace= True)"
   ]
  },
  {
   "cell_type": "code",
   "execution_count": 43,
   "id": "2777797f",
   "metadata": {},
   "outputs": [
    {
     "data": {
      "text/html": [
       "<div>\n",
       "<style scoped>\n",
       "    .dataframe tbody tr th:only-of-type {\n",
       "        vertical-align: middle;\n",
       "    }\n",
       "\n",
       "    .dataframe tbody tr th {\n",
       "        vertical-align: top;\n",
       "    }\n",
       "\n",
       "    .dataframe thead th {\n",
       "        text-align: right;\n",
       "    }\n",
       "</style>\n",
       "<table border=\"1\" class=\"dataframe\">\n",
       "  <thead>\n",
       "    <tr style=\"text-align: right;\">\n",
       "      <th></th>\n",
       "      <th>target</th>\n",
       "    </tr>\n",
       "  </thead>\n",
       "  <tbody>\n",
       "    <tr>\n",
       "      <th>0</th>\n",
       "      <td>0</td>\n",
       "    </tr>\n",
       "    <tr>\n",
       "      <th>1</th>\n",
       "      <td>0</td>\n",
       "    </tr>\n",
       "    <tr>\n",
       "      <th>2</th>\n",
       "      <td>0</td>\n",
       "    </tr>\n",
       "    <tr>\n",
       "      <th>3</th>\n",
       "      <td>0</td>\n",
       "    </tr>\n",
       "    <tr>\n",
       "      <th>4</th>\n",
       "      <td>0</td>\n",
       "    </tr>\n",
       "    <tr>\n",
       "      <th>...</th>\n",
       "      <td>...</td>\n",
       "    </tr>\n",
       "    <tr>\n",
       "      <th>199995</th>\n",
       "      <td>0</td>\n",
       "    </tr>\n",
       "    <tr>\n",
       "      <th>199996</th>\n",
       "      <td>0</td>\n",
       "    </tr>\n",
       "    <tr>\n",
       "      <th>199997</th>\n",
       "      <td>0</td>\n",
       "    </tr>\n",
       "    <tr>\n",
       "      <th>199998</th>\n",
       "      <td>0</td>\n",
       "    </tr>\n",
       "    <tr>\n",
       "      <th>199999</th>\n",
       "      <td>0</td>\n",
       "    </tr>\n",
       "  </tbody>\n",
       "</table>\n",
       "<p>200000 rows × 1 columns</p>\n",
       "</div>"
      ],
      "text/plain": [
       "        target\n",
       "0            0\n",
       "1            0\n",
       "2            0\n",
       "3            0\n",
       "4            0\n",
       "...        ...\n",
       "199995       0\n",
       "199996       0\n",
       "199997       0\n",
       "199998       0\n",
       "199999       0\n",
       "\n",
       "[200000 rows x 1 columns]"
      ]
     },
     "execution_count": 43,
     "metadata": {},
     "output_type": "execute_result"
    }
   ],
   "source": [
    "df_sample ### It's Having Target column of test.csv"
   ]
  },
  {
   "cell_type": "code",
   "execution_count": 44,
   "id": "151a8af3",
   "metadata": {},
   "outputs": [],
   "source": [
    "df_test = pd.concat([df_test,df_sample],axis=1)"
   ]
  },
  {
   "cell_type": "code",
   "execution_count": 45,
   "id": "4856caae",
   "metadata": {},
   "outputs": [
    {
     "data": {
      "text/plain": [
       "(200000, 202)"
      ]
     },
     "execution_count": 45,
     "metadata": {},
     "output_type": "execute_result"
    }
   ],
   "source": [
    "df_test.shape"
   ]
  },
  {
   "cell_type": "code",
   "execution_count": 46,
   "id": "227de466",
   "metadata": {},
   "outputs": [
    {
     "data": {
      "text/plain": [
       "(200000, 202)"
      ]
     },
     "execution_count": 46,
     "metadata": {},
     "output_type": "execute_result"
    }
   ],
   "source": [
    "df_train.shape"
   ]
  },
  {
   "cell_type": "code",
   "execution_count": 47,
   "id": "8e5f2b1a",
   "metadata": {},
   "outputs": [],
   "source": [
    "df = pd.concat([df_train,df_test],axis=0)"
   ]
  },
  {
   "cell_type": "code",
   "execution_count": 48,
   "id": "35d7ed76",
   "metadata": {},
   "outputs": [
    {
     "data": {
      "text/html": [
       "<div>\n",
       "<style scoped>\n",
       "    .dataframe tbody tr th:only-of-type {\n",
       "        vertical-align: middle;\n",
       "    }\n",
       "\n",
       "    .dataframe tbody tr th {\n",
       "        vertical-align: top;\n",
       "    }\n",
       "\n",
       "    .dataframe thead th {\n",
       "        text-align: right;\n",
       "    }\n",
       "</style>\n",
       "<table border=\"1\" class=\"dataframe\">\n",
       "  <thead>\n",
       "    <tr style=\"text-align: right;\">\n",
       "      <th></th>\n",
       "      <th>ID_code</th>\n",
       "      <th>target</th>\n",
       "      <th>var_0</th>\n",
       "      <th>var_1</th>\n",
       "      <th>var_2</th>\n",
       "      <th>var_3</th>\n",
       "      <th>var_4</th>\n",
       "      <th>var_5</th>\n",
       "      <th>var_6</th>\n",
       "      <th>var_7</th>\n",
       "      <th>...</th>\n",
       "      <th>var_190</th>\n",
       "      <th>var_191</th>\n",
       "      <th>var_192</th>\n",
       "      <th>var_193</th>\n",
       "      <th>var_194</th>\n",
       "      <th>var_195</th>\n",
       "      <th>var_196</th>\n",
       "      <th>var_197</th>\n",
       "      <th>var_198</th>\n",
       "      <th>var_199</th>\n",
       "    </tr>\n",
       "  </thead>\n",
       "  <tbody>\n",
       "    <tr>\n",
       "      <th>0</th>\n",
       "      <td>train_0</td>\n",
       "      <td>0</td>\n",
       "      <td>8.9255</td>\n",
       "      <td>-6.7863</td>\n",
       "      <td>11.9081</td>\n",
       "      <td>5.0930</td>\n",
       "      <td>11.4607</td>\n",
       "      <td>-9.2834</td>\n",
       "      <td>5.1187</td>\n",
       "      <td>18.6266</td>\n",
       "      <td>...</td>\n",
       "      <td>4.4354</td>\n",
       "      <td>3.9642</td>\n",
       "      <td>3.1364</td>\n",
       "      <td>1.6910</td>\n",
       "      <td>18.5227</td>\n",
       "      <td>-2.3978</td>\n",
       "      <td>7.8784</td>\n",
       "      <td>8.5635</td>\n",
       "      <td>12.7803</td>\n",
       "      <td>-1.0914</td>\n",
       "    </tr>\n",
       "    <tr>\n",
       "      <th>1</th>\n",
       "      <td>train_1</td>\n",
       "      <td>0</td>\n",
       "      <td>11.5006</td>\n",
       "      <td>-4.1473</td>\n",
       "      <td>13.8588</td>\n",
       "      <td>5.3890</td>\n",
       "      <td>12.3622</td>\n",
       "      <td>7.0433</td>\n",
       "      <td>5.6208</td>\n",
       "      <td>16.5338</td>\n",
       "      <td>...</td>\n",
       "      <td>7.6421</td>\n",
       "      <td>7.7214</td>\n",
       "      <td>2.5837</td>\n",
       "      <td>10.9516</td>\n",
       "      <td>15.4305</td>\n",
       "      <td>2.0339</td>\n",
       "      <td>8.1267</td>\n",
       "      <td>8.7889</td>\n",
       "      <td>18.3560</td>\n",
       "      <td>1.9518</td>\n",
       "    </tr>\n",
       "    <tr>\n",
       "      <th>2</th>\n",
       "      <td>train_2</td>\n",
       "      <td>0</td>\n",
       "      <td>8.6093</td>\n",
       "      <td>-2.7457</td>\n",
       "      <td>12.0805</td>\n",
       "      <td>7.8928</td>\n",
       "      <td>10.5825</td>\n",
       "      <td>-9.0837</td>\n",
       "      <td>6.9427</td>\n",
       "      <td>14.6155</td>\n",
       "      <td>...</td>\n",
       "      <td>2.9057</td>\n",
       "      <td>9.7905</td>\n",
       "      <td>1.6704</td>\n",
       "      <td>1.6858</td>\n",
       "      <td>21.6042</td>\n",
       "      <td>3.1417</td>\n",
       "      <td>-6.5213</td>\n",
       "      <td>8.2675</td>\n",
       "      <td>14.7222</td>\n",
       "      <td>0.3965</td>\n",
       "    </tr>\n",
       "    <tr>\n",
       "      <th>3</th>\n",
       "      <td>train_3</td>\n",
       "      <td>0</td>\n",
       "      <td>11.0604</td>\n",
       "      <td>-2.1518</td>\n",
       "      <td>8.9522</td>\n",
       "      <td>7.1957</td>\n",
       "      <td>12.5846</td>\n",
       "      <td>-1.8361</td>\n",
       "      <td>5.8428</td>\n",
       "      <td>14.9250</td>\n",
       "      <td>...</td>\n",
       "      <td>4.4666</td>\n",
       "      <td>4.7433</td>\n",
       "      <td>0.7178</td>\n",
       "      <td>1.4214</td>\n",
       "      <td>23.0347</td>\n",
       "      <td>-1.2706</td>\n",
       "      <td>-2.9275</td>\n",
       "      <td>10.2922</td>\n",
       "      <td>17.9697</td>\n",
       "      <td>-8.9996</td>\n",
       "    </tr>\n",
       "    <tr>\n",
       "      <th>4</th>\n",
       "      <td>train_4</td>\n",
       "      <td>0</td>\n",
       "      <td>9.8369</td>\n",
       "      <td>-1.4834</td>\n",
       "      <td>12.8746</td>\n",
       "      <td>6.6375</td>\n",
       "      <td>12.2772</td>\n",
       "      <td>2.4486</td>\n",
       "      <td>5.9405</td>\n",
       "      <td>19.2514</td>\n",
       "      <td>...</td>\n",
       "      <td>-1.4905</td>\n",
       "      <td>9.5214</td>\n",
       "      <td>-0.1508</td>\n",
       "      <td>9.1942</td>\n",
       "      <td>13.2876</td>\n",
       "      <td>-1.5121</td>\n",
       "      <td>3.9267</td>\n",
       "      <td>9.5031</td>\n",
       "      <td>17.9974</td>\n",
       "      <td>-8.8104</td>\n",
       "    </tr>\n",
       "    <tr>\n",
       "      <th>...</th>\n",
       "      <td>...</td>\n",
       "      <td>...</td>\n",
       "      <td>...</td>\n",
       "      <td>...</td>\n",
       "      <td>...</td>\n",
       "      <td>...</td>\n",
       "      <td>...</td>\n",
       "      <td>...</td>\n",
       "      <td>...</td>\n",
       "      <td>...</td>\n",
       "      <td>...</td>\n",
       "      <td>...</td>\n",
       "      <td>...</td>\n",
       "      <td>...</td>\n",
       "      <td>...</td>\n",
       "      <td>...</td>\n",
       "      <td>...</td>\n",
       "      <td>...</td>\n",
       "      <td>...</td>\n",
       "      <td>...</td>\n",
       "      <td>...</td>\n",
       "    </tr>\n",
       "    <tr>\n",
       "      <th>199995</th>\n",
       "      <td>test_199995</td>\n",
       "      <td>0</td>\n",
       "      <td>13.1678</td>\n",
       "      <td>1.0136</td>\n",
       "      <td>10.4333</td>\n",
       "      <td>6.7997</td>\n",
       "      <td>8.5974</td>\n",
       "      <td>-4.1641</td>\n",
       "      <td>4.8579</td>\n",
       "      <td>14.7625</td>\n",
       "      <td>...</td>\n",
       "      <td>2.0544</td>\n",
       "      <td>9.6849</td>\n",
       "      <td>4.6734</td>\n",
       "      <td>-1.3660</td>\n",
       "      <td>12.8721</td>\n",
       "      <td>1.2013</td>\n",
       "      <td>-4.6195</td>\n",
       "      <td>9.1568</td>\n",
       "      <td>18.2102</td>\n",
       "      <td>4.8801</td>\n",
       "    </tr>\n",
       "    <tr>\n",
       "      <th>199996</th>\n",
       "      <td>test_199996</td>\n",
       "      <td>0</td>\n",
       "      <td>9.7171</td>\n",
       "      <td>-9.1462</td>\n",
       "      <td>7.3443</td>\n",
       "      <td>9.1421</td>\n",
       "      <td>12.8936</td>\n",
       "      <td>3.0191</td>\n",
       "      <td>5.6888</td>\n",
       "      <td>18.8862</td>\n",
       "      <td>...</td>\n",
       "      <td>5.0071</td>\n",
       "      <td>6.6548</td>\n",
       "      <td>1.8197</td>\n",
       "      <td>2.4104</td>\n",
       "      <td>18.9037</td>\n",
       "      <td>-0.9337</td>\n",
       "      <td>2.9995</td>\n",
       "      <td>9.1112</td>\n",
       "      <td>18.1740</td>\n",
       "      <td>-20.7689</td>\n",
       "    </tr>\n",
       "    <tr>\n",
       "      <th>199997</th>\n",
       "      <td>test_199997</td>\n",
       "      <td>0</td>\n",
       "      <td>11.6360</td>\n",
       "      <td>2.2769</td>\n",
       "      <td>11.2074</td>\n",
       "      <td>7.7649</td>\n",
       "      <td>12.6796</td>\n",
       "      <td>11.3224</td>\n",
       "      <td>5.3883</td>\n",
       "      <td>18.3794</td>\n",
       "      <td>...</td>\n",
       "      <td>5.1536</td>\n",
       "      <td>2.6498</td>\n",
       "      <td>2.4937</td>\n",
       "      <td>-0.0637</td>\n",
       "      <td>20.0609</td>\n",
       "      <td>-1.1742</td>\n",
       "      <td>-4.1524</td>\n",
       "      <td>9.1933</td>\n",
       "      <td>11.7905</td>\n",
       "      <td>-22.2762</td>\n",
       "    </tr>\n",
       "    <tr>\n",
       "      <th>199998</th>\n",
       "      <td>test_199998</td>\n",
       "      <td>0</td>\n",
       "      <td>13.5745</td>\n",
       "      <td>-0.5134</td>\n",
       "      <td>13.6584</td>\n",
       "      <td>7.4855</td>\n",
       "      <td>11.2241</td>\n",
       "      <td>-11.3037</td>\n",
       "      <td>4.1959</td>\n",
       "      <td>16.8280</td>\n",
       "      <td>...</td>\n",
       "      <td>3.4259</td>\n",
       "      <td>8.5012</td>\n",
       "      <td>2.2713</td>\n",
       "      <td>5.7621</td>\n",
       "      <td>17.0056</td>\n",
       "      <td>1.1763</td>\n",
       "      <td>-2.3761</td>\n",
       "      <td>8.1079</td>\n",
       "      <td>8.7735</td>\n",
       "      <td>-0.2122</td>\n",
       "    </tr>\n",
       "    <tr>\n",
       "      <th>199999</th>\n",
       "      <td>test_199999</td>\n",
       "      <td>0</td>\n",
       "      <td>10.4664</td>\n",
       "      <td>1.8070</td>\n",
       "      <td>10.2277</td>\n",
       "      <td>6.0654</td>\n",
       "      <td>10.0258</td>\n",
       "      <td>1.0789</td>\n",
       "      <td>4.8879</td>\n",
       "      <td>14.4892</td>\n",
       "      <td>...</td>\n",
       "      <td>0.1398</td>\n",
       "      <td>9.2828</td>\n",
       "      <td>1.3601</td>\n",
       "      <td>4.8985</td>\n",
       "      <td>20.0926</td>\n",
       "      <td>-1.3048</td>\n",
       "      <td>-2.5981</td>\n",
       "      <td>10.3378</td>\n",
       "      <td>14.3340</td>\n",
       "      <td>-7.7094</td>\n",
       "    </tr>\n",
       "  </tbody>\n",
       "</table>\n",
       "<p>400000 rows × 202 columns</p>\n",
       "</div>"
      ],
      "text/plain": [
       "            ID_code  target    var_0   var_1    var_2   var_3    var_4  \\\n",
       "0           train_0       0   8.9255 -6.7863  11.9081  5.0930  11.4607   \n",
       "1           train_1       0  11.5006 -4.1473  13.8588  5.3890  12.3622   \n",
       "2           train_2       0   8.6093 -2.7457  12.0805  7.8928  10.5825   \n",
       "3           train_3       0  11.0604 -2.1518   8.9522  7.1957  12.5846   \n",
       "4           train_4       0   9.8369 -1.4834  12.8746  6.6375  12.2772   \n",
       "...             ...     ...      ...     ...      ...     ...      ...   \n",
       "199995  test_199995       0  13.1678  1.0136  10.4333  6.7997   8.5974   \n",
       "199996  test_199996       0   9.7171 -9.1462   7.3443  9.1421  12.8936   \n",
       "199997  test_199997       0  11.6360  2.2769  11.2074  7.7649  12.6796   \n",
       "199998  test_199998       0  13.5745 -0.5134  13.6584  7.4855  11.2241   \n",
       "199999  test_199999       0  10.4664  1.8070  10.2277  6.0654  10.0258   \n",
       "\n",
       "          var_5   var_6    var_7  ...  var_190  var_191  var_192  var_193  \\\n",
       "0       -9.2834  5.1187  18.6266  ...   4.4354   3.9642   3.1364   1.6910   \n",
       "1        7.0433  5.6208  16.5338  ...   7.6421   7.7214   2.5837  10.9516   \n",
       "2       -9.0837  6.9427  14.6155  ...   2.9057   9.7905   1.6704   1.6858   \n",
       "3       -1.8361  5.8428  14.9250  ...   4.4666   4.7433   0.7178   1.4214   \n",
       "4        2.4486  5.9405  19.2514  ...  -1.4905   9.5214  -0.1508   9.1942   \n",
       "...         ...     ...      ...  ...      ...      ...      ...      ...   \n",
       "199995  -4.1641  4.8579  14.7625  ...   2.0544   9.6849   4.6734  -1.3660   \n",
       "199996   3.0191  5.6888  18.8862  ...   5.0071   6.6548   1.8197   2.4104   \n",
       "199997  11.3224  5.3883  18.3794  ...   5.1536   2.6498   2.4937  -0.0637   \n",
       "199998 -11.3037  4.1959  16.8280  ...   3.4259   8.5012   2.2713   5.7621   \n",
       "199999   1.0789  4.8879  14.4892  ...   0.1398   9.2828   1.3601   4.8985   \n",
       "\n",
       "        var_194  var_195  var_196  var_197  var_198  var_199  \n",
       "0       18.5227  -2.3978   7.8784   8.5635  12.7803  -1.0914  \n",
       "1       15.4305   2.0339   8.1267   8.7889  18.3560   1.9518  \n",
       "2       21.6042   3.1417  -6.5213   8.2675  14.7222   0.3965  \n",
       "3       23.0347  -1.2706  -2.9275  10.2922  17.9697  -8.9996  \n",
       "4       13.2876  -1.5121   3.9267   9.5031  17.9974  -8.8104  \n",
       "...         ...      ...      ...      ...      ...      ...  \n",
       "199995  12.8721   1.2013  -4.6195   9.1568  18.2102   4.8801  \n",
       "199996  18.9037  -0.9337   2.9995   9.1112  18.1740 -20.7689  \n",
       "199997  20.0609  -1.1742  -4.1524   9.1933  11.7905 -22.2762  \n",
       "199998  17.0056   1.1763  -2.3761   8.1079   8.7735  -0.2122  \n",
       "199999  20.0926  -1.3048  -2.5981  10.3378  14.3340  -7.7094  \n",
       "\n",
       "[400000 rows x 202 columns]"
      ]
     },
     "execution_count": 48,
     "metadata": {},
     "output_type": "execute_result"
    }
   ],
   "source": [
    "df"
   ]
  },
  {
   "cell_type": "markdown",
   "id": "b1eaf755",
   "metadata": {},
   "source": [
    "## Checking Balance of DF[\"target\"]"
   ]
  },
  {
   "cell_type": "code",
   "execution_count": 49,
   "id": "20371242",
   "metadata": {},
   "outputs": [
    {
     "data": {
      "text/plain": [
       "0    379902\n",
       "1     20098\n",
       "Name: target, dtype: int64"
      ]
     },
     "execution_count": 49,
     "metadata": {},
     "output_type": "execute_result"
    }
   ],
   "source": [
    "df[\"target\"].value_counts()"
   ]
  },
  {
   "cell_type": "code",
   "execution_count": 50,
   "id": "d30ccda3",
   "metadata": {},
   "outputs": [
    {
     "data": {
      "text/plain": [
       "<AxesSubplot:>"
      ]
     },
     "execution_count": 50,
     "metadata": {},
     "output_type": "execute_result"
    },
    {
     "data": {
      "image/png": "[encoded data removed]",
      "text/plain": [
       "<Figure size 432x288 with 1 Axes>"
      ]
     },
     "metadata": {
      "needs_background": "light"
     },
     "output_type": "display_data"
    }
   ],
   "source": [
    "df[\"target\"].value_counts().plot(kind = 'bar')"
   ]
  },
  {
   "cell_type": "markdown",
   "id": "0f829f48",
   "metadata": {},
   "source": [
    "## Correcting Balance of DF[\"target\"]"
   ]
  },
  {
   "cell_type": "code",
   "execution_count": 51,
   "id": "7f02c11e",
   "metadata": {},
   "outputs": [],
   "source": [
    "X = df.drop(\"target\",axis=1)"
   ]
  },
  {
   "cell_type": "code",
   "execution_count": 52,
   "id": "7c6075b8",
   "metadata": {},
   "outputs": [],
   "source": [
    "y = df[\"target\"]"
   ]
  },
  {
   "cell_type": "code",
   "execution_count": 53,
   "id": "fea0204a",
   "metadata": {},
   "outputs": [
    {
     "data": {
      "text/plain": [
       "0    379902\n",
       "1     20098\n",
       "Name: target, dtype: int64"
      ]
     },
     "execution_count": 53,
     "metadata": {},
     "output_type": "execute_result"
    }
   ],
   "source": [
    "y.value_counts()"
   ]
  },
  {
   "cell_type": "code",
   "execution_count": 54,
   "id": "9f4b65bf",
   "metadata": {},
   "outputs": [],
   "source": [
    "from imblearn.over_sampling import RandomOverSampler"
   ]
  },
  {
   "cell_type": "code",
   "execution_count": 55,
   "id": "5a2ba98d",
   "metadata": {},
   "outputs": [],
   "source": [
    "ros = RandomOverSampler(random_state=45)"
   ]
  },
  {
   "cell_type": "code",
   "execution_count": 56,
   "id": "e2862629",
   "metadata": {},
   "outputs": [],
   "source": [
    "X_ros , y_ros = ros.fit_resample(X , y)"
   ]
  },
  {
   "cell_type": "code",
   "execution_count": 57,
   "id": "8a0430d7",
   "metadata": {},
   "outputs": [
    {
     "data": {
      "text/plain": [
       "((759804, 201), (759804,))"
      ]
     },
     "execution_count": 57,
     "metadata": {},
     "output_type": "execute_result"
    }
   ],
   "source": [
    "X_ros.shape , y_ros.shape"
   ]
  },
  {
   "cell_type": "code",
   "execution_count": 58,
   "id": "e9bd88ed",
   "metadata": {},
   "outputs": [],
   "source": [
    "df1 = pd.concat([X_ros,y_ros],axis=1)\n",
    "df1.drop(\"ID_code\",axis=1,inplace=True)"
   ]
  },
  {
   "cell_type": "code",
   "execution_count": 61,
   "id": "f364d530",
   "metadata": {},
   "outputs": [
    {
     "data": {
      "text/html": [
       "<div>\n",
       "<style scoped>\n",
       "    .dataframe tbody tr th:only-of-type {\n",
       "        vertical-align: middle;\n",
       "    }\n",
       "\n",
       "    .dataframe tbody tr th {\n",
       "        vertical-align: top;\n",
       "    }\n",
       "\n",
       "    .dataframe thead th {\n",
       "        text-align: right;\n",
       "    }\n",
       "</style>\n",
       "<table border=\"1\" class=\"dataframe\">\n",
       "  <thead>\n",
       "    <tr style=\"text-align: right;\">\n",
       "      <th></th>\n",
       "      <th>var_0</th>\n",
       "      <th>var_1</th>\n",
       "      <th>var_2</th>\n",
       "      <th>var_3</th>\n",
       "      <th>var_4</th>\n",
       "      <th>var_5</th>\n",
       "      <th>var_6</th>\n",
       "      <th>var_7</th>\n",
       "      <th>var_8</th>\n",
       "      <th>var_9</th>\n",
       "      <th>...</th>\n",
       "      <th>var_191</th>\n",
       "      <th>var_192</th>\n",
       "      <th>var_193</th>\n",
       "      <th>var_194</th>\n",
       "      <th>var_195</th>\n",
       "      <th>var_196</th>\n",
       "      <th>var_197</th>\n",
       "      <th>var_198</th>\n",
       "      <th>var_199</th>\n",
       "      <th>target</th>\n",
       "    </tr>\n",
       "  </thead>\n",
       "  <tbody>\n",
       "    <tr>\n",
       "      <th>0</th>\n",
       "      <td>8.9255</td>\n",
       "      <td>-6.7863</td>\n",
       "      <td>11.9081</td>\n",
       "      <td>5.0930</td>\n",
       "      <td>11.4607</td>\n",
       "      <td>-9.2834</td>\n",
       "      <td>5.1187</td>\n",
       "      <td>18.6266</td>\n",
       "      <td>-4.9200</td>\n",
       "      <td>5.7470</td>\n",
       "      <td>...</td>\n",
       "      <td>3.9642</td>\n",
       "      <td>3.1364</td>\n",
       "      <td>1.6910</td>\n",
       "      <td>18.5227</td>\n",
       "      <td>-2.3978</td>\n",
       "      <td>7.8784</td>\n",
       "      <td>8.5635</td>\n",
       "      <td>12.7803</td>\n",
       "      <td>-1.0914</td>\n",
       "      <td>0</td>\n",
       "    </tr>\n",
       "    <tr>\n",
       "      <th>1</th>\n",
       "      <td>11.5006</td>\n",
       "      <td>-4.1473</td>\n",
       "      <td>13.8588</td>\n",
       "      <td>5.3890</td>\n",
       "      <td>12.3622</td>\n",
       "      <td>7.0433</td>\n",
       "      <td>5.6208</td>\n",
       "      <td>16.5338</td>\n",
       "      <td>3.1468</td>\n",
       "      <td>8.0851</td>\n",
       "      <td>...</td>\n",
       "      <td>7.7214</td>\n",
       "      <td>2.5837</td>\n",
       "      <td>10.9516</td>\n",
       "      <td>15.4305</td>\n",
       "      <td>2.0339</td>\n",
       "      <td>8.1267</td>\n",
       "      <td>8.7889</td>\n",
       "      <td>18.3560</td>\n",
       "      <td>1.9518</td>\n",
       "      <td>0</td>\n",
       "    </tr>\n",
       "    <tr>\n",
       "      <th>2</th>\n",
       "      <td>8.6093</td>\n",
       "      <td>-2.7457</td>\n",
       "      <td>12.0805</td>\n",
       "      <td>7.8928</td>\n",
       "      <td>10.5825</td>\n",
       "      <td>-9.0837</td>\n",
       "      <td>6.9427</td>\n",
       "      <td>14.6155</td>\n",
       "      <td>-4.9193</td>\n",
       "      <td>5.9525</td>\n",
       "      <td>...</td>\n",
       "      <td>9.7905</td>\n",
       "      <td>1.6704</td>\n",
       "      <td>1.6858</td>\n",
       "      <td>21.6042</td>\n",
       "      <td>3.1417</td>\n",
       "      <td>-6.5213</td>\n",
       "      <td>8.2675</td>\n",
       "      <td>14.7222</td>\n",
       "      <td>0.3965</td>\n",
       "      <td>0</td>\n",
       "    </tr>\n",
       "    <tr>\n",
       "      <th>3</th>\n",
       "      <td>11.0604</td>\n",
       "      <td>-2.1518</td>\n",
       "      <td>8.9522</td>\n",
       "      <td>7.1957</td>\n",
       "      <td>12.5846</td>\n",
       "      <td>-1.8361</td>\n",
       "      <td>5.8428</td>\n",
       "      <td>14.9250</td>\n",
       "      <td>-5.8609</td>\n",
       "      <td>8.2450</td>\n",
       "      <td>...</td>\n",
       "      <td>4.7433</td>\n",
       "      <td>0.7178</td>\n",
       "      <td>1.4214</td>\n",
       "      <td>23.0347</td>\n",
       "      <td>-1.2706</td>\n",
       "      <td>-2.9275</td>\n",
       "      <td>10.2922</td>\n",
       "      <td>17.9697</td>\n",
       "      <td>-8.9996</td>\n",
       "      <td>0</td>\n",
       "    </tr>\n",
       "    <tr>\n",
       "      <th>4</th>\n",
       "      <td>9.8369</td>\n",
       "      <td>-1.4834</td>\n",
       "      <td>12.8746</td>\n",
       "      <td>6.6375</td>\n",
       "      <td>12.2772</td>\n",
       "      <td>2.4486</td>\n",
       "      <td>5.9405</td>\n",
       "      <td>19.2514</td>\n",
       "      <td>6.2654</td>\n",
       "      <td>7.6784</td>\n",
       "      <td>...</td>\n",
       "      <td>9.5214</td>\n",
       "      <td>-0.1508</td>\n",
       "      <td>9.1942</td>\n",
       "      <td>13.2876</td>\n",
       "      <td>-1.5121</td>\n",
       "      <td>3.9267</td>\n",
       "      <td>9.5031</td>\n",
       "      <td>17.9974</td>\n",
       "      <td>-8.8104</td>\n",
       "      <td>0</td>\n",
       "    </tr>\n",
       "    <tr>\n",
       "      <th>...</th>\n",
       "      <td>...</td>\n",
       "      <td>...</td>\n",
       "      <td>...</td>\n",
       "      <td>...</td>\n",
       "      <td>...</td>\n",
       "      <td>...</td>\n",
       "      <td>...</td>\n",
       "      <td>...</td>\n",
       "      <td>...</td>\n",
       "      <td>...</td>\n",
       "      <td>...</td>\n",
       "      <td>...</td>\n",
       "      <td>...</td>\n",
       "      <td>...</td>\n",
       "      <td>...</td>\n",
       "      <td>...</td>\n",
       "      <td>...</td>\n",
       "      <td>...</td>\n",
       "      <td>...</td>\n",
       "      <td>...</td>\n",
       "      <td>...</td>\n",
       "    </tr>\n",
       "    <tr>\n",
       "      <th>759799</th>\n",
       "      <td>6.2320</td>\n",
       "      <td>0.6299</td>\n",
       "      <td>10.6091</td>\n",
       "      <td>8.1428</td>\n",
       "      <td>10.8811</td>\n",
       "      <td>-13.9916</td>\n",
       "      <td>6.1662</td>\n",
       "      <td>14.1755</td>\n",
       "      <td>-2.1012</td>\n",
       "      <td>6.5713</td>\n",
       "      <td>...</td>\n",
       "      <td>14.1715</td>\n",
       "      <td>1.2113</td>\n",
       "      <td>1.7506</td>\n",
       "      <td>17.2297</td>\n",
       "      <td>0.9298</td>\n",
       "      <td>8.6074</td>\n",
       "      <td>9.8285</td>\n",
       "      <td>11.6789</td>\n",
       "      <td>-15.5604</td>\n",
       "      <td>1</td>\n",
       "    </tr>\n",
       "    <tr>\n",
       "      <th>759800</th>\n",
       "      <td>15.5017</td>\n",
       "      <td>-1.1104</td>\n",
       "      <td>12.8227</td>\n",
       "      <td>6.4774</td>\n",
       "      <td>11.6134</td>\n",
       "      <td>-4.7678</td>\n",
       "      <td>6.2008</td>\n",
       "      <td>23.5781</td>\n",
       "      <td>5.3386</td>\n",
       "      <td>7.8592</td>\n",
       "      <td>...</td>\n",
       "      <td>9.0432</td>\n",
       "      <td>2.9135</td>\n",
       "      <td>2.9125</td>\n",
       "      <td>14.4748</td>\n",
       "      <td>-0.5911</td>\n",
       "      <td>2.1248</td>\n",
       "      <td>8.2834</td>\n",
       "      <td>13.4610</td>\n",
       "      <td>5.1630</td>\n",
       "      <td>1</td>\n",
       "    </tr>\n",
       "    <tr>\n",
       "      <th>759801</th>\n",
       "      <td>12.2609</td>\n",
       "      <td>0.0162</td>\n",
       "      <td>9.7493</td>\n",
       "      <td>8.6286</td>\n",
       "      <td>9.0208</td>\n",
       "      <td>0.1674</td>\n",
       "      <td>3.9420</td>\n",
       "      <td>23.8448</td>\n",
       "      <td>-2.0134</td>\n",
       "      <td>7.6408</td>\n",
       "      <td>...</td>\n",
       "      <td>7.2343</td>\n",
       "      <td>0.1713</td>\n",
       "      <td>7.9293</td>\n",
       "      <td>15.6772</td>\n",
       "      <td>-1.1242</td>\n",
       "      <td>5.6321</td>\n",
       "      <td>9.4946</td>\n",
       "      <td>13.2205</td>\n",
       "      <td>3.6294</td>\n",
       "      <td>1</td>\n",
       "    </tr>\n",
       "    <tr>\n",
       "      <th>759802</th>\n",
       "      <td>7.5726</td>\n",
       "      <td>-7.3964</td>\n",
       "      <td>10.0867</td>\n",
       "      <td>9.7183</td>\n",
       "      <td>11.2825</td>\n",
       "      <td>7.2236</td>\n",
       "      <td>7.2602</td>\n",
       "      <td>18.9095</td>\n",
       "      <td>2.1322</td>\n",
       "      <td>7.3880</td>\n",
       "      <td>...</td>\n",
       "      <td>3.3419</td>\n",
       "      <td>0.9323</td>\n",
       "      <td>-0.7488</td>\n",
       "      <td>15.3310</td>\n",
       "      <td>-2.8597</td>\n",
       "      <td>1.5772</td>\n",
       "      <td>8.0856</td>\n",
       "      <td>14.2240</td>\n",
       "      <td>-2.3941</td>\n",
       "      <td>1</td>\n",
       "    </tr>\n",
       "    <tr>\n",
       "      <th>759803</th>\n",
       "      <td>10.2755</td>\n",
       "      <td>2.4477</td>\n",
       "      <td>11.6913</td>\n",
       "      <td>3.1595</td>\n",
       "      <td>10.3492</td>\n",
       "      <td>-6.0245</td>\n",
       "      <td>5.5540</td>\n",
       "      <td>17.3212</td>\n",
       "      <td>-0.6606</td>\n",
       "      <td>5.8544</td>\n",
       "      <td>...</td>\n",
       "      <td>7.6854</td>\n",
       "      <td>3.1940</td>\n",
       "      <td>6.3857</td>\n",
       "      <td>20.4710</td>\n",
       "      <td>-3.7594</td>\n",
       "      <td>0.5838</td>\n",
       "      <td>7.8339</td>\n",
       "      <td>10.4479</td>\n",
       "      <td>-7.3813</td>\n",
       "      <td>1</td>\n",
       "    </tr>\n",
       "  </tbody>\n",
       "</table>\n",
       "<p>759804 rows × 201 columns</p>\n",
       "</div>"
      ],
      "text/plain": [
       "          var_0   var_1    var_2   var_3    var_4    var_5   var_6    var_7  \\\n",
       "0        8.9255 -6.7863  11.9081  5.0930  11.4607  -9.2834  5.1187  18.6266   \n",
       "1       11.5006 -4.1473  13.8588  5.3890  12.3622   7.0433  5.6208  16.5338   \n",
       "2        8.6093 -2.7457  12.0805  7.8928  10.5825  -9.0837  6.9427  14.6155   \n",
       "3       11.0604 -2.1518   8.9522  7.1957  12.5846  -1.8361  5.8428  14.9250   \n",
       "4        9.8369 -1.4834  12.8746  6.6375  12.2772   2.4486  5.9405  19.2514   \n",
       "...         ...     ...      ...     ...      ...      ...     ...      ...   \n",
       "759799   6.2320  0.6299  10.6091  8.1428  10.8811 -13.9916  6.1662  14.1755   \n",
       "759800  15.5017 -1.1104  12.8227  6.4774  11.6134  -4.7678  6.2008  23.5781   \n",
       "759801  12.2609  0.0162   9.7493  8.6286   9.0208   0.1674  3.9420  23.8448   \n",
       "759802   7.5726 -7.3964  10.0867  9.7183  11.2825   7.2236  7.2602  18.9095   \n",
       "759803  10.2755  2.4477  11.6913  3.1595  10.3492  -6.0245  5.5540  17.3212   \n",
       "\n",
       "         var_8   var_9  ...  var_191  var_192  var_193  var_194  var_195  \\\n",
       "0      -4.9200  5.7470  ...   3.9642   3.1364   1.6910  18.5227  -2.3978   \n",
       "1       3.1468  8.0851  ...   7.7214   2.5837  10.9516  15.4305   2.0339   \n",
       "2      -4.9193  5.9525  ...   9.7905   1.6704   1.6858  21.6042   3.1417   \n",
       "3      -5.8609  8.2450  ...   4.7433   0.7178   1.4214  23.0347  -1.2706   \n",
       "4       6.2654  7.6784  ...   9.5214  -0.1508   9.1942  13.2876  -1.5121   \n",
       "...        ...     ...  ...      ...      ...      ...      ...      ...   \n",
       "759799 -2.1012  6.5713  ...  14.1715   1.2113   1.7506  17.2297   0.9298   \n",
       "759800  5.3386  7.8592  ...   9.0432   2.9135   2.9125  14.4748  -0.5911   \n",
       "759801 -2.0134  7.6408  ...   7.2343   0.1713   7.9293  15.6772  -1.1242   \n",
       "759802  2.1322  7.3880  ...   3.3419   0.9323  -0.7488  15.3310  -2.8597   \n",
       "759803 -0.6606  5.8544  ...   7.6854   3.1940   6.3857  20.4710  -3.7594   \n",
       "\n",
       "        var_196  var_197  var_198  var_199  target  \n",
       "0        7.8784   8.5635  12.7803  -1.0914       0  \n",
       "1        8.1267   8.7889  18.3560   1.9518       0  \n",
       "2       -6.5213   8.2675  14.7222   0.3965       0  \n",
       "3       -2.9275  10.2922  17.9697  -8.9996       0  \n",
       "4        3.9267   9.5031  17.9974  -8.8104       0  \n",
       "...         ...      ...      ...      ...     ...  \n",
       "759799   8.6074   9.8285  11.6789 -15.5604       1  \n",
       "759800   2.1248   8.2834  13.4610   5.1630       1  \n",
       "759801   5.6321   9.4946  13.2205   3.6294       1  \n",
       "759802   1.5772   8.0856  14.2240  -2.3941       1  \n",
       "759803   0.5838   7.8339  10.4479  -7.3813       1  \n",
       "\n",
       "[759804 rows x 201 columns]"
      ]
     },
     "execution_count": 61,
     "metadata": {},
     "output_type": "execute_result"
    }
   ],
   "source": [
    "df1"
   ]
  },
  {
   "cell_type": "markdown",
   "id": "e59b82c2",
   "metadata": {},
   "source": [
    "## After Correcting the Balance of DF[\"target\"]\n"
   ]
  },
  {
   "cell_type": "code",
   "execution_count": 62,
   "id": "453ac274",
   "metadata": {},
   "outputs": [
    {
     "data": {
      "text/plain": [
       "0    379902\n",
       "1    379902\n",
       "Name: target, dtype: int64"
      ]
     },
     "execution_count": 62,
     "metadata": {},
     "output_type": "execute_result"
    }
   ],
   "source": [
    "df1[\"target\"].value_counts()"
   ]
  },
  {
   "cell_type": "code",
   "execution_count": 63,
   "id": "8eef99ad",
   "metadata": {},
   "outputs": [
    {
     "data": {
      "text/plain": [
       "<AxesSubplot:>"
      ]
     },
     "execution_count": 63,
     "metadata": {},
     "output_type": "execute_result"
    },
    {
     "data": {
      "image/png": "[encoded data removed]",
      "text/plain": [
       "<Figure size 432x288 with 1 Axes>"
      ]
     },
     "metadata": {
      "needs_background": "light"
     },
     "output_type": "display_data"
    }
   ],
   "source": [
    "df1[\"target\"].value_counts().plot(kind = 'bar')"
   ]
  },
  {
   "cell_type": "markdown",
   "id": "f70483f2",
   "metadata": {},
   "source": [
    "## Shuffling The DF"
   ]
  },
  {
   "cell_type": "code",
   "execution_count": 64,
   "id": "57b924c2",
   "metadata": {},
   "outputs": [],
   "source": [
    "df1 = df1.sample(frac=1)"
   ]
  },
  {
   "cell_type": "code",
   "execution_count": 65,
   "id": "3bbe395e",
   "metadata": {},
   "outputs": [
    {
     "data": {
      "text/plain": [
       "var_0      0\n",
       "var_1      0\n",
       "var_2      0\n",
       "var_3      0\n",
       "var_4      0\n",
       "          ..\n",
       "var_196    0\n",
       "var_197    0\n",
       "var_198    0\n",
       "var_199    0\n",
       "target     0\n",
       "Length: 201, dtype: int64"
      ]
     },
     "execution_count": 65,
     "metadata": {},
     "output_type": "execute_result"
    }
   ],
   "source": [
    "df1.isna().sum()"
   ]
  },
  {
   "cell_type": "code",
   "execution_count": 66,
   "id": "4c70939a",
   "metadata": {},
   "outputs": [
    {
     "data": {
      "text/plain": [
       "Index(['var_199', 'var_198', 'var_197', 'var_196', 'var_195', 'var_194',\n",
       "       'var_193', 'var_192', 'var_191', 'var_190',\n",
       "       ...\n",
       "       'var_9', 'var_8', 'var_7', 'var_6', 'var_5', 'var_4', 'var_3', 'var_2',\n",
       "       'var_1', 'var_0'],\n",
       "      dtype='object', length=200)"
      ]
     },
     "execution_count": 66,
     "metadata": {},
     "output_type": "execute_result"
    }
   ],
   "source": [
    "df1.columns[-2::-1]"
   ]
  },
  {
   "cell_type": "code",
   "execution_count": 67,
   "id": "254a81f8",
   "metadata": {},
   "outputs": [],
   "source": [
    "clist = df1.columns[-2::-1]"
   ]
  },
  {
   "cell_type": "markdown",
   "id": "f4ee0298",
   "metadata": {},
   "source": [
    "## OD_Tech"
   ]
  },
  {
   "cell_type": "code",
   "execution_count": 68,
   "id": "33503893",
   "metadata": {},
   "outputs": [],
   "source": [
    "def odiqr(df):\n",
    "    q1 = df.quantile(0.25)\n",
    "    q3 = df.quantile(0.75)\n",
    "    iqr = q3 - q1\n",
    "    low = q1 - (1.5 * iqr)\n",
    "    high = q3 + (1.5 * iqr)\n",
    "    m = df.mean()\n",
    "    df = df.apply(lambda x : m if x < low else (m if x > high else x ) )\n",
    "    return df"
   ]
  },
  {
   "cell_type": "code",
   "execution_count": 69,
   "id": "78f68c2e",
   "metadata": {},
   "outputs": [],
   "source": [
    "def odmsd(df):\n",
    "    m = round(df.mean(),2)\n",
    "    s = round(df.std(),2)\n",
    "    low = round(m-(3*s),2)\n",
    "    high = round(m+(3*s),2)\n",
    "    ft1 = df[df<low]\n",
    "    ft2 = df[df>high]\n",
    "    df = df.map(lambda x : low if x < low else (high if x > high else x ))"
   ]
  },
  {
   "cell_type": "code",
   "execution_count": 70,
   "id": "3020a42d",
   "metadata": {},
   "outputs": [
    {
     "name": "stdout",
     "output_type": "stream",
     "text": [
      "var_199 is -0.19078239492341895\n",
      "var_198 is -0.16719244946115605\n",
      "var_197 is -0.04838705286029738\n",
      "var_196 is -0.033586707775384333\n",
      "var_195 is 0.1268960275142554\n",
      "var_194 is 0.0033632398598156593\n",
      "var_193 is -0.11374044562504815\n",
      "var_192 is 0.14275074997036394\n",
      "var_191 is 0.20212266599235246\n",
      "var_190 is 0.04134769535080344\n",
      "var_189 is -0.009412235276703028\n",
      "var_188 is 0.03202129325891858\n",
      "var_187 is -0.019329568966411123\n",
      "var_186 is 0.12522016188214388\n",
      "var_185 is -0.036415313537333995\n",
      "var_184 is 0.1372788669841765\n",
      "var_183 is 0.07484111623852754\n",
      "var_182 is -0.0008421886900876614\n",
      "var_181 is 0.20724938247085253\n",
      "var_180 is 0.0676792614665596\n",
      "var_179 is 0.2631043364197706\n",
      "var_178 is 0.006425681666107326\n",
      "var_177 is 0.1225318636172388\n",
      "var_176 is -0.06986747164502476\n",
      "var_175 is 0.13611342106841184\n",
      "var_174 is -0.1252031785363436\n",
      "var_173 is -0.06986447945213707\n",
      "var_172 is 0.04918811302239084\n",
      "var_171 is 0.01630070448810436\n",
      "var_170 is 0.1246884007397357\n",
      "var_169 is 0.011516453543342757\n",
      "var_168 is 0.2729286739295545\n",
      "var_167 is -0.06630971721125141\n",
      "var_166 is -0.059450169206813445\n",
      "var_165 is -0.0015217783019658678\n",
      "var_164 is -0.06260220782678848\n",
      "var_163 is 0.23432722505525258\n",
      "var_162 is 0.05965366048851029\n",
      "var_161 is 0.024777008503621856\n",
      "var_160 is 0.10688373558897647\n",
      "var_159 is 0.04094478770103562\n",
      "var_158 is 0.03820812799506484\n",
      "var_157 is 0.15509302919099643\n",
      "var_156 is 0.094444958921566\n",
      "var_155 is 0.09952874540183007\n",
      "var_154 is -0.057130936853586584\n",
      "var_153 is 0.04163024756404374\n",
      "var_152 is -0.13258471760517423\n",
      "var_151 is 0.08263520504725644\n",
      "var_150 is 0.0890359227972308\n",
      "var_149 is 0.02684957746172433\n",
      "var_148 is -0.04633717489393338\n",
      "var_147 is 0.006041425064466358\n",
      "var_146 is -0.12788601340098082\n",
      "var_145 is 0.043644334969215715\n",
      "var_144 is -0.0061981623134107\n",
      "var_143 is -0.10227711599563638\n",
      "var_142 is 0.06432095337222012\n",
      "var_141 is -0.09684543540246925\n",
      "var_140 is -0.12275752529941207\n",
      "var_139 is -0.08770216395440336\n",
      "var_138 is -0.0021854243621894\n",
      "var_137 is 0.10059289676209057\n",
      "var_136 is 0.010477000196945495\n",
      "var_135 is 0.06090118107540151\n",
      "var_134 is 0.022866797322758002\n",
      "var_133 is 0.1355319867034397\n",
      "var_132 is -0.06877779964407577\n",
      "var_131 is -0.12430480423755386\n",
      "var_130 is 0.048488416331830035\n",
      "var_129 is -0.016545878897975954\n",
      "var_128 is -0.03464376569152867\n",
      "var_127 is -0.07216085908567291\n",
      "var_126 is 0.03861485349285312\n",
      "var_125 is 0.16314830151401924\n",
      "var_124 is -0.06450120659312548\n",
      "var_123 is -0.17346194195414472\n",
      "var_122 is -0.03988628799016243\n",
      "var_121 is 0.09972875864323492\n",
      "var_120 is 0.10157191324790689\n",
      "var_119 is 0.0878709582655648\n",
      "var_118 is -0.0645113266364918\n",
      "var_117 is 0.008942094569610336\n",
      "var_116 is -0.07502827770086\n",
      "var_115 is -0.05874153491476065\n",
      "var_114 is -0.10322328151736217\n",
      "var_113 is -0.07847046561170998\n",
      "var_112 is -0.17829820536453636\n",
      "var_111 is 0.048485969534064484\n",
      "var_110 is 0.11575522059181106\n",
      "var_109 is 0.020828104329458943\n",
      "var_108 is -0.21691897346624253\n",
      "var_107 is 0.10803701249411386\n",
      "var_106 is 0.018146339887615312\n",
      "var_105 is 0.11085567091971328\n",
      "var_104 is 0.08035155373457935\n",
      "var_103 is 0.05889052179556986\n",
      "var_102 is -0.050870402247774234\n",
      "var_101 is -0.012576037339382553\n",
      "var_100 is -0.08995961659378697\n",
      "var_99 is 0.12147155504480708\n",
      "var_98 is -0.1082786527597245\n",
      "var_97 is 0.01212279034102118\n",
      "var_96 is 0.06234813104918428\n",
      "var_95 is 0.1504589642134657\n",
      "var_94 is 0.07439050316933832\n",
      "var_93 is -0.23834633009553433\n",
      "var_92 is 0.03701815615207498\n",
      "var_91 is 0.07402786048024086\n",
      "var_90 is -0.024331744361372226\n",
      "var_89 is 0.1489755965298725\n",
      "var_88 is 0.008738149327495314\n",
      "var_87 is 0.07773043396592316\n",
      "var_86 is -0.21700673968289658\n",
      "var_85 is 0.0414065180120533\n",
      "var_84 is -0.018139761687142358\n",
      "var_83 is -0.08586932755338028\n",
      "var_82 is -0.04679530017388922\n",
      "var_81 is -0.20885536596898227\n",
      "var_80 is -0.216560179487955\n",
      "var_79 is 0.09521570874591734\n",
      "var_78 is -0.05285498113554397\n",
      "var_77 is 0.10574305871058924\n",
      "var_76 is -0.1345775013829104\n",
      "var_75 is -0.07308936844427236\n",
      "var_74 is -0.07132997589632536\n",
      "var_73 is 0.05636461037180709\n",
      "var_72 is 0.010202164848954072\n",
      "var_71 is 0.007874249734717936\n",
      "var_70 is -0.012865532151120941\n",
      "var_69 is 0.11319590660124494\n",
      "var_68 is -0.16207197244328253\n",
      "var_67 is -0.00990129281619502\n",
      "var_66 is 0.05351353524850844\n",
      "var_65 is -0.07818225809140612\n",
      "var_64 is -0.07767000101700805\n",
      "var_63 is -0.13004228928814637\n",
      "var_62 is 0.1969187409549164\n",
      "var_61 is 0.06542320999824817\n",
      "var_60 is 0.20425347546011832\n",
      "var_59 is 0.04318483026910868\n",
      "var_58 is 0.0418130867035652\n",
      "var_57 is 0.075448436644195\n",
      "var_56 is -0.1412322680935654\n",
      "var_55 is 0.12514550371764735\n",
      "var_54 is -0.01577552369887205\n",
      "var_53 is 0.07677065115257128\n",
      "var_52 is -0.026302015293654044\n",
      "var_51 is 0.06859970985557519\n",
      "var_50 is -0.05002098561496321\n",
      "var_49 is 0.06148846733553596\n",
      "var_48 is -0.0013976251154865754\n",
      "var_47 is -0.014729493279383084\n",
      "var_46 is 0.09386228044996026\n",
      "var_45 is 0.010764452199051552\n",
      "var_44 is -0.3306564514291241\n",
      "var_43 is -0.02553926999583306\n",
      "var_42 is -0.13333183411670463\n",
      "var_41 is 0.13886103612803422\n",
      "var_40 is 0.04136496229132944\n",
      "var_39 is -0.06470763298867707\n",
      "var_38 is 0.10825475353317693\n",
      "var_37 is 0.04928962276985864\n",
      "var_36 is -0.025412970685585654\n",
      "var_35 is -0.03893299331495738\n",
      "var_34 is -0.02141736943866909\n",
      "var_33 is 0.08792686724602605\n",
      "var_32 is 0.0018202192131237234\n",
      "var_31 is 0.11073780502044474\n",
      "var_30 is -0.11590945486121214\n",
      "var_29 is 0.1933323495321376\n",
      "var_28 is -0.02575194364293231\n",
      "var_27 is 0.01659910987359686\n",
      "var_26 is 0.17430042456825143\n",
      "var_25 is 0.17642753425083188\n",
      "var_24 is 0.1333630922177605\n",
      "var_23 is 0.07128125821582057\n",
      "var_22 is 0.1602808355972577\n",
      "var_21 is 0.021720966341738653\n",
      "var_20 is 0.05834652363683127\n",
      "var_19 is 0.04600124327498038\n",
      "var_18 is 0.09077538217877036\n",
      "var_17 is -0.0499710662737083\n",
      "var_16 is 0.1999632758106078\n",
      "var_15 is 0.03877509702428223\n",
      "var_14 is 0.032611741753453424\n",
      "var_13 is -0.16290932823065313\n",
      "var_12 is -0.14436290563468895\n",
      "var_11 is 0.08136922020471006\n",
      "var_10 is -0.055199914400738216\n",
      "var_9 is -0.18126660873863587\n",
      "var_8 is -0.11212926759405915\n",
      "var_7 is 0.09690671701086394\n",
      "var_6 is 0.11917751115125623\n",
      "var_5 is 0.012150914123704013\n",
      "var_4 is -0.04483195764477354\n",
      "var_3 is -0.0019177465872716353\n",
      "var_2 is 0.2428663899603855\n",
      "var_1 is 0.04988366807565246\n",
      "var_0 is 0.2200862895933198\n"
     ]
    }
   ],
   "source": [
    "for i in clist:\n",
    "    print(f'{i} is {df1[i].skew()}')"
   ]
  },
  {
   "cell_type": "code",
   "execution_count": 71,
   "id": "a079239c",
   "metadata": {},
   "outputs": [],
   "source": [
    "for i in df1.columns:\n",
    "    if df1[i].skew() <= 0.5:\n",
    "        odmsd(df1[i])\n",
    "    else:\n",
    "        df1[i] = odiqr(df1[i])"
   ]
  },
  {
   "cell_type": "code",
   "execution_count": 72,
   "id": "ea4a94ea",
   "metadata": {},
   "outputs": [
    {
     "name": "stdout",
     "output_type": "stream",
     "text": [
      "var_199 is -0.19078239492341895\n",
      "var_198 is -0.16719244946115605\n",
      "var_197 is -0.04838705286029738\n",
      "var_196 is -0.033586707775384333\n",
      "var_195 is 0.1268960275142554\n",
      "var_194 is 0.0033632398598156593\n",
      "var_193 is -0.11374044562504815\n",
      "var_192 is 0.14275074997036394\n",
      "var_191 is 0.20212266599235246\n",
      "var_190 is 0.04134769535080344\n",
      "var_189 is -0.009412235276703028\n",
      "var_188 is 0.03202129325891858\n",
      "var_187 is -0.019329568966411123\n",
      "var_186 is 0.12522016188214388\n",
      "var_185 is -0.036415313537333995\n",
      "var_184 is 0.1372788669841765\n",
      "var_183 is 0.07484111623852754\n",
      "var_182 is -0.0008421886900876614\n",
      "var_181 is 0.20724938247085253\n",
      "var_180 is 0.0676792614665596\n",
      "var_179 is 0.2631043364197706\n",
      "var_178 is 0.006425681666107326\n",
      "var_177 is 0.1225318636172388\n",
      "var_176 is -0.06986747164502476\n",
      "var_175 is 0.13611342106841184\n",
      "var_174 is -0.1252031785363436\n",
      "var_173 is -0.06986447945213707\n",
      "var_172 is 0.04918811302239084\n",
      "var_171 is 0.01630070448810436\n",
      "var_170 is 0.1246884007397357\n",
      "var_169 is 0.011516453543342757\n",
      "var_168 is 0.2729286739295545\n",
      "var_167 is -0.06630971721125141\n",
      "var_166 is -0.059450169206813445\n",
      "var_165 is -0.0015217783019658678\n",
      "var_164 is -0.06260220782678848\n",
      "var_163 is 0.23432722505525258\n",
      "var_162 is 0.05965366048851029\n",
      "var_161 is 0.024777008503621856\n",
      "var_160 is 0.10688373558897647\n",
      "var_159 is 0.04094478770103562\n",
      "var_158 is 0.03820812799506484\n",
      "var_157 is 0.15509302919099643\n",
      "var_156 is 0.094444958921566\n",
      "var_155 is 0.09952874540183007\n",
      "var_154 is -0.057130936853586584\n",
      "var_153 is 0.04163024756404374\n",
      "var_152 is -0.13258471760517423\n",
      "var_151 is 0.08263520504725644\n",
      "var_150 is 0.0890359227972308\n",
      "var_149 is 0.02684957746172433\n",
      "var_148 is -0.04633717489393338\n",
      "var_147 is 0.006041425064466358\n",
      "var_146 is -0.12788601340098082\n",
      "var_145 is 0.043644334969215715\n",
      "var_144 is -0.0061981623134107\n",
      "var_143 is -0.10227711599563638\n",
      "var_142 is 0.06432095337222012\n",
      "var_141 is -0.09684543540246925\n",
      "var_140 is -0.12275752529941207\n",
      "var_139 is -0.08770216395440336\n",
      "var_138 is -0.0021854243621894\n",
      "var_137 is 0.10059289676209057\n",
      "var_136 is 0.010477000196945495\n",
      "var_135 is 0.06090118107540151\n",
      "var_134 is 0.022866797322758002\n",
      "var_133 is 0.1355319867034397\n",
      "var_132 is -0.06877779964407577\n",
      "var_131 is -0.12430480423755386\n",
      "var_130 is 0.048488416331830035\n",
      "var_129 is -0.016545878897975954\n",
      "var_128 is -0.03464376569152867\n",
      "var_127 is -0.07216085908567291\n",
      "var_126 is 0.03861485349285312\n",
      "var_125 is 0.16314830151401924\n",
      "var_124 is -0.06450120659312548\n",
      "var_123 is -0.17346194195414472\n",
      "var_122 is -0.03988628799016243\n",
      "var_121 is 0.09972875864323492\n",
      "var_120 is 0.10157191324790689\n",
      "var_119 is 0.0878709582655648\n",
      "var_118 is -0.0645113266364918\n",
      "var_117 is 0.008942094569610336\n",
      "var_116 is -0.07502827770086\n",
      "var_115 is -0.05874153491476065\n",
      "var_114 is -0.10322328151736217\n",
      "var_113 is -0.07847046561170998\n",
      "var_112 is -0.17829820536453636\n",
      "var_111 is 0.048485969534064484\n",
      "var_110 is 0.11575522059181106\n",
      "var_109 is 0.020828104329458943\n",
      "var_108 is -0.21691897346624253\n",
      "var_107 is 0.10803701249411386\n",
      "var_106 is 0.018146339887615312\n",
      "var_105 is 0.11085567091971328\n",
      "var_104 is 0.08035155373457935\n",
      "var_103 is 0.05889052179556986\n",
      "var_102 is -0.050870402247774234\n",
      "var_101 is -0.012576037339382553\n",
      "var_100 is -0.08995961659378697\n",
      "var_99 is 0.12147155504480708\n",
      "var_98 is -0.1082786527597245\n",
      "var_97 is 0.01212279034102118\n",
      "var_96 is 0.06234813104918428\n",
      "var_95 is 0.1504589642134657\n",
      "var_94 is 0.07439050316933832\n",
      "var_93 is -0.23834633009553433\n",
      "var_92 is 0.03701815615207498\n",
      "var_91 is 0.07402786048024086\n",
      "var_90 is -0.024331744361372226\n",
      "var_89 is 0.1489755965298725\n",
      "var_88 is 0.008738149327495314\n",
      "var_87 is 0.07773043396592316\n",
      "var_86 is -0.21700673968289658\n",
      "var_85 is 0.0414065180120533\n",
      "var_84 is -0.018139761687142358\n",
      "var_83 is -0.08586932755338028\n",
      "var_82 is -0.04679530017388922\n",
      "var_81 is -0.20885536596898227\n",
      "var_80 is -0.216560179487955\n",
      "var_79 is 0.09521570874591734\n",
      "var_78 is -0.05285498113554397\n",
      "var_77 is 0.10574305871058924\n",
      "var_76 is -0.1345775013829104\n",
      "var_75 is -0.07308936844427236\n",
      "var_74 is -0.07132997589632536\n",
      "var_73 is 0.05636461037180709\n",
      "var_72 is 0.010202164848954072\n",
      "var_71 is 0.007874249734717936\n",
      "var_70 is -0.012865532151120941\n",
      "var_69 is 0.11319590660124494\n",
      "var_68 is -0.16207197244328253\n",
      "var_67 is -0.00990129281619502\n",
      "var_66 is 0.05351353524850844\n",
      "var_65 is -0.07818225809140612\n",
      "var_64 is -0.07767000101700805\n",
      "var_63 is -0.13004228928814637\n",
      "var_62 is 0.1969187409549164\n",
      "var_61 is 0.06542320999824817\n",
      "var_60 is 0.20425347546011832\n",
      "var_59 is 0.04318483026910868\n",
      "var_58 is 0.0418130867035652\n",
      "var_57 is 0.075448436644195\n",
      "var_56 is -0.1412322680935654\n",
      "var_55 is 0.12514550371764735\n",
      "var_54 is -0.01577552369887205\n",
      "var_53 is 0.07677065115257128\n",
      "var_52 is -0.026302015293654044\n",
      "var_51 is 0.06859970985557519\n",
      "var_50 is -0.05002098561496321\n",
      "var_49 is 0.06148846733553596\n",
      "var_48 is -0.0013976251154865754\n",
      "var_47 is -0.014729493279383084\n",
      "var_46 is 0.09386228044996026\n",
      "var_45 is 0.010764452199051552\n",
      "var_44 is -0.3306564514291241\n",
      "var_43 is -0.02553926999583306\n",
      "var_42 is -0.13333183411670463\n",
      "var_41 is 0.13886103612803422\n",
      "var_40 is 0.04136496229132944\n",
      "var_39 is -0.06470763298867707\n",
      "var_38 is 0.10825475353317693\n",
      "var_37 is 0.04928962276985864\n",
      "var_36 is -0.025412970685585654\n",
      "var_35 is -0.03893299331495738\n",
      "var_34 is -0.02141736943866909\n",
      "var_33 is 0.08792686724602605\n",
      "var_32 is 0.0018202192131237234\n",
      "var_31 is 0.11073780502044474\n",
      "var_30 is -0.11590945486121214\n",
      "var_29 is 0.1933323495321376\n",
      "var_28 is -0.02575194364293231\n",
      "var_27 is 0.01659910987359686\n",
      "var_26 is 0.17430042456825143\n",
      "var_25 is 0.17642753425083188\n",
      "var_24 is 0.1333630922177605\n",
      "var_23 is 0.07128125821582057\n",
      "var_22 is 0.1602808355972577\n",
      "var_21 is 0.021720966341738653\n",
      "var_20 is 0.05834652363683127\n",
      "var_19 is 0.04600124327498038\n",
      "var_18 is 0.09077538217877036\n",
      "var_17 is -0.0499710662737083\n",
      "var_16 is 0.1999632758106078\n",
      "var_15 is 0.03877509702428223\n",
      "var_14 is 0.032611741753453424\n",
      "var_13 is -0.16290932823065313\n",
      "var_12 is -0.14436290563468895\n",
      "var_11 is 0.08136922020471006\n",
      "var_10 is -0.055199914400738216\n",
      "var_9 is -0.18126660873863587\n",
      "var_8 is -0.11212926759405915\n",
      "var_7 is 0.09690671701086394\n",
      "var_6 is 0.11917751115125623\n",
      "var_5 is 0.012150914123704013\n",
      "var_4 is -0.04483195764477354\n",
      "var_3 is -0.0019177465872716353\n",
      "var_2 is 0.2428663899603855\n",
      "var_1 is 0.04988366807565246\n",
      "var_0 is 0.2200862895933198\n"
     ]
    }
   ],
   "source": [
    "for i in clist:\n",
    "    print(f'{i} is {df1[i].skew()}')"
   ]
  },
  {
   "cell_type": "markdown",
   "id": "95e9fffd",
   "metadata": {},
   "source": [
    "### Splitting"
   ]
  },
  {
   "cell_type": "code",
   "execution_count": 73,
   "id": "7fcb56c7",
   "metadata": {},
   "outputs": [],
   "source": [
    "X = df1.drop(\"target\",axis=1)"
   ]
  },
  {
   "cell_type": "code",
   "execution_count": 74,
   "id": "2c874414",
   "metadata": {},
   "outputs": [
    {
     "data": {
      "text/html": [
       "<div>\n",
       "<style scoped>\n",
       "    .dataframe tbody tr th:only-of-type {\n",
       "        vertical-align: middle;\n",
       "    }\n",
       "\n",
       "    .dataframe tbody tr th {\n",
       "        vertical-align: top;\n",
       "    }\n",
       "\n",
       "    .dataframe thead th {\n",
       "        text-align: right;\n",
       "    }\n",
       "</style>\n",
       "<table border=\"1\" class=\"dataframe\">\n",
       "  <thead>\n",
       "    <tr style=\"text-align: right;\">\n",
       "      <th></th>\n",
       "      <th>var_0</th>\n",
       "      <th>var_1</th>\n",
       "      <th>var_2</th>\n",
       "      <th>var_3</th>\n",
       "      <th>var_4</th>\n",
       "      <th>var_5</th>\n",
       "      <th>var_6</th>\n",
       "      <th>var_7</th>\n",
       "      <th>var_8</th>\n",
       "      <th>var_9</th>\n",
       "      <th>...</th>\n",
       "      <th>var_190</th>\n",
       "      <th>var_191</th>\n",
       "      <th>var_192</th>\n",
       "      <th>var_193</th>\n",
       "      <th>var_194</th>\n",
       "      <th>var_195</th>\n",
       "      <th>var_196</th>\n",
       "      <th>var_197</th>\n",
       "      <th>var_198</th>\n",
       "      <th>var_199</th>\n",
       "    </tr>\n",
       "  </thead>\n",
       "  <tbody>\n",
       "    <tr>\n",
       "      <th>628007</th>\n",
       "      <td>11.1353</td>\n",
       "      <td>4.1512</td>\n",
       "      <td>17.8959</td>\n",
       "      <td>3.8464</td>\n",
       "      <td>11.4519</td>\n",
       "      <td>10.2364</td>\n",
       "      <td>5.3729</td>\n",
       "      <td>16.4823</td>\n",
       "      <td>0.9724</td>\n",
       "      <td>9.1845</td>\n",
       "      <td>...</td>\n",
       "      <td>-4.3594</td>\n",
       "      <td>13.7819</td>\n",
       "      <td>1.0431</td>\n",
       "      <td>12.3792</td>\n",
       "      <td>20.5535</td>\n",
       "      <td>3.3454</td>\n",
       "      <td>-6.8421</td>\n",
       "      <td>6.9653</td>\n",
       "      <td>12.3016</td>\n",
       "      <td>-5.9548</td>\n",
       "    </tr>\n",
       "  </tbody>\n",
       "</table>\n",
       "<p>1 rows × 200 columns</p>\n",
       "</div>"
      ],
      "text/plain": [
       "          var_0   var_1    var_2   var_3    var_4    var_5   var_6    var_7  \\\n",
       "628007  11.1353  4.1512  17.8959  3.8464  11.4519  10.2364  5.3729  16.4823   \n",
       "\n",
       "         var_8   var_9  ...  var_190  var_191  var_192  var_193  var_194  \\\n",
       "628007  0.9724  9.1845  ...  -4.3594  13.7819   1.0431  12.3792  20.5535   \n",
       "\n",
       "        var_195  var_196  var_197  var_198  var_199  \n",
       "628007   3.3454  -6.8421   6.9653  12.3016  -5.9548  \n",
       "\n",
       "[1 rows x 200 columns]"
      ]
     },
     "execution_count": 74,
     "metadata": {},
     "output_type": "execute_result"
    }
   ],
   "source": [
    "X.sample()"
   ]
  },
  {
   "cell_type": "code",
   "execution_count": 76,
   "id": "a576e845",
   "metadata": {},
   "outputs": [],
   "source": [
    "y = df1[\"target\"]"
   ]
  },
  {
   "cell_type": "code",
   "execution_count": 77,
   "id": "1803c731",
   "metadata": {},
   "outputs": [
    {
     "data": {
      "text/plain": [
       "202735    0\n",
       "Name: target, dtype: int64"
      ]
     },
     "execution_count": 77,
     "metadata": {},
     "output_type": "execute_result"
    }
   ],
   "source": [
    "y.sample()"
   ]
  },
  {
   "cell_type": "code",
   "execution_count": 78,
   "id": "74b54f1f",
   "metadata": {},
   "outputs": [
    {
     "data": {
      "text/plain": [
       "1    379902\n",
       "0    379902\n",
       "Name: target, dtype: int64"
      ]
     },
     "execution_count": 78,
     "metadata": {},
     "output_type": "execute_result"
    }
   ],
   "source": [
    "y.value_counts()"
   ]
  },
  {
   "cell_type": "markdown",
   "id": "b91a9815",
   "metadata": {},
   "source": [
    "###  Creating Func. For Testing"
   ]
  },
  {
   "cell_type": "markdown",
   "id": "e4ad63b3",
   "metadata": {},
   "source": [
    "### Func. for Testing Without Standard Scaler"
   ]
  },
  {
   "cell_type": "code",
   "execution_count": 79,
   "id": "534d488e",
   "metadata": {},
   "outputs": [],
   "source": [
    "def withoutss(X,y):\n",
    "    from sklearn.model_selection import train_test_split\n",
    "    from sklearn.ensemble import RandomForestClassifier\n",
    "    Xtrain,Xtest,ytrain,ytest = train_test_split(X,y,test_size=.20)\n",
    "    rfc = RandomForestClassifier()\n",
    "    rfc.fit(Xtrain,ytrain)\n",
    "    print(f'{rfc} Score is {rfc.score(Xtest,ytest)}')"
   ]
  },
  {
   "cell_type": "markdown",
   "id": "6fa2f29f",
   "metadata": {},
   "source": [
    "### Func. for Testing With Standard Scaler"
   ]
  },
  {
   "cell_type": "code",
   "execution_count": 80,
   "id": "213f6241",
   "metadata": {},
   "outputs": [],
   "source": [
    "def withss(X,y):\n",
    "    from sklearn.model_selection import train_test_split\n",
    "    Xtrain,Xtest,ytrain,ytest = train_test_split(X,y,test_size=.20)\n",
    "    from sklearn.preprocessing import StandardScaler\n",
    "    ss = StandardScaler()\n",
    "    ss.fit(Xtrain)\n",
    "    Xtrain_ss = ss.transform(Xtrain)\n",
    "    Xtest_ss = ss.transform(Xtest)\n",
    "    from sklearn.ensemble import RandomForestClassifier\n",
    "    rfc = RandomForestClassifier()\n",
    "    rfc.fit(Xtrain_ss,ytrain)\n",
    "    print(f'{rfc} Score is {rfc.score(Xtest_ss,ytest)}')"
   ]
  },
  {
   "cell_type": "markdown",
   "id": "2b8e5ea5",
   "metadata": {},
   "source": [
    "### Func. for Boosting Without Standard Scaler"
   ]
  },
  {
   "cell_type": "code",
   "execution_count": 81,
   "id": "de9cf822",
   "metadata": {},
   "outputs": [],
   "source": [
    "def boostingwithoutss(X,y):\n",
    "    from sklearn.model_selection import train_test_split\n",
    "    Xtrain,Xtest,ytrain,ytest = train_test_split(X,y,test_size=.20)\n",
    "    from sklearn.ensemble import GradientBoostingClassifier , AdaBoostClassifier\n",
    "    abc = AdaBoostClassifier()\n",
    "    gbc = GradientBoostingClassifier()\n",
    "    algo = [ abc , gbc ]\n",
    "    for i in algo:\n",
    "        i.fit(Xtrain,ytrain)\n",
    "        s = i.score(Xtest,ytest)\n",
    "        print(f'{i} = {s}')"
   ]
  },
  {
   "cell_type": "markdown",
   "id": "d420a596",
   "metadata": {},
   "source": [
    "### Func. for Boosting With Standard Scaler\n",
    "\n"
   ]
  },
  {
   "cell_type": "code",
   "execution_count": 82,
   "id": "8d85a194",
   "metadata": {},
   "outputs": [],
   "source": [
    "def boostingwithss(X,y):\n",
    "    from sklearn.model_selection import train_test_split\n",
    "    Xtrain,Xtest,ytrain,ytest = train_test_split(X,y,test_size=.20)\n",
    "    from sklearn.ensemble import GradientBoostingClassifier , AdaBoostClassifier\n",
    "    abc = AdaBoostClassifier()\n",
    "    gbc = GradientBoostingClassifier()\n",
    "    algo = [ abc , gbc ]\n",
    "    from sklearn.preprocessing import StandardScaler\n",
    "    ss = StandardScaler()\n",
    "    ss.fit(Xtrain)\n",
    "    Xtrain_ss = ss.transform(Xtrain)\n",
    "    Xtest_ss = ss.transform(Xtest)\n",
    "    for i in algo:\n",
    "        i.fit(Xtrain_ss,ytrain)\n",
    "        s = i.score(Xtest_ss,ytest)\n",
    "        print(f'{i} = {s}')"
   ]
  },
  {
   "cell_type": "markdown",
   "id": "de490030",
   "metadata": {},
   "source": [
    "### Func. for Boosting With Cross_val"
   ]
  },
  {
   "cell_type": "code",
   "execution_count": 83,
   "id": "dd897a5a",
   "metadata": {},
   "outputs": [],
   "source": [
    "from sklearn.model_selection import GridSearchCVdef boostingwithcvs(X,y):\n",
    "    from sklearn.model_selection import train_test_split\n",
    "    Xtrain,Xtest,ytrain,ytest = train_test_split(X,y,test_size=.20)\n",
    "    from sklearn.ensemble import GradientBoostingClassifier , AdaBoostClassifier\n",
    "    abc = AdaBoostClassifier()\n",
    "    gbc = GradientBoostingClassifier()\n",
    "    algo = [ abc , gbc ]\n",
    "    from sklearn.model_selection import KFold , cross_val_score\n",
    "    kf = KFold()\n",
    "    for i in algo:\n",
    "        s = cross_val_score(i,X,y,cv = kf)\n",
    "        print(f'{i} = {s.mean()}')"
   ]
  },
  {
   "cell_type": "code",
   "execution_count": 85,
   "id": "4d21c5f2",
   "metadata": {},
   "outputs": [
    {
     "name": "stdout",
     "output_type": "stream",
     "text": [
      "RandomForestClassifier() Score is 1.0\n",
      "CPU times: user 14min 59s, sys: 3.46 s, total: 15min 2s\n",
      "Wall time: 15min 4s\n"
     ]
    }
   ],
   "source": [
    "%%time\n",
    "withoutss(X,y)"
   ]
  },
  {
   "cell_type": "code",
   "execution_count": 84,
   "id": "a871807d",
   "metadata": {},
   "outputs": [
    {
     "name": "stdout",
     "output_type": "stream",
     "text": [
      "RandomForestClassifier() Score is 1.0\n",
      "CPU times: user 14min 59s, sys: 4.55 s, total: 15min 3s\n",
      "Wall time: 15min 6s\n"
     ]
    }
   ],
   "source": [
    "%%time\n",
    "withss(X,y)"
   ]
  },
  {
   "cell_type": "code",
   "execution_count": 86,
   "id": "5682eaed",
   "metadata": {},
   "outputs": [
    {
     "name": "stdout",
     "output_type": "stream",
     "text": [
      "AdaBoostClassifier() = 0.7251202611196294\n",
      "GradientBoostingClassifier() = 0.758918406696455\n",
      "CPU times: user 54min 39s, sys: 22.3 s, total: 55min 1s\n",
      "Wall time: 1h 9min 14s\n"
     ]
    }
   ],
   "source": [
    "%%time\n",
    "boostingwithoutss(X,y)"
   ]
  },
  {
   "cell_type": "code",
   "execution_count": 87,
   "id": "22aee2a5",
   "metadata": {
    "scrolled": false
   },
   "outputs": [
    {
     "name": "stdout",
     "output_type": "stream",
     "text": [
      "AdaBoostClassifier() = 0.7272523871256441\n",
      "GradientBoostingClassifier() = 0.7630378847204217\n",
      "CPU times: user 54min 33s, sys: 20.5 s, total: 54min 54s\n",
      "Wall time: 54min 57s\n"
     ]
    }
   ],
   "source": [
    "%%time\n",
    "boostingwithss(X,y)"
   ]
  },
  {
   "cell_type": "code",
   "execution_count": null,
   "id": "8e28e182",
   "metadata": {},
   "outputs": [],
   "source": [
    "%%time\n",
    "boostingwithcvs(X,y) ### Taking Much more time "
   ]
  },
  {
   "cell_type": "code",
   "execution_count": 101,
   "id": "f55a904b",
   "metadata": {},
   "outputs": [],
   "source": [
    "from sklearn.model_selection import GridSearchCV\n",
    "from sklearn.model_selection import KFold\n",
    "from sklearn.ensemble import GradientBoostingClassifier , AdaBoostClassifier"
   ]
  },
  {
   "cell_type": "code",
   "execution_count": 110,
   "id": "fe3e24d0",
   "metadata": {},
   "outputs": [],
   "source": [
    "dic = { 'n_estimators' : [180] , 'loss' : ['deviance', 'exponential'] , 'max_depth' : [2,8]\n",
    "       ,'min_samples_leaf' : [1,5] , 'learning_rate' : [0.1 , 0.01,0.003, 0.05]   }"
   ]
  },
  {
   "cell_type": "code",
   "execution_count": 111,
   "id": "caca62aa",
   "metadata": {},
   "outputs": [],
   "source": [
    "kf1 = KFold()"
   ]
  },
  {
   "cell_type": "code",
   "execution_count": 112,
   "id": "2e41834c",
   "metadata": {},
   "outputs": [],
   "source": [
    "gvc = GridSearchCV(GradientBoostingClassifier(),param_grid=dic,cv = kf1)"
   ]
  },
  {
   "cell_type": "code",
   "execution_count": null,
   "id": "ba2ea1bc",
   "metadata": {},
   "outputs": [],
   "source": [
    "%%time\n",
    "gvc.fit(X,y)"
   ]
  },
  {
   "cell_type": "code",
   "execution_count": null,
   "id": "cb3de542",
   "metadata": {},
   "outputs": [],
   "source": [
    "gvc.best_params_"
   ]
  },
  {
   "cell_type": "code",
   "execution_count": null,
   "id": "cab742a6",
   "metadata": {},
   "outputs": [],
   "source": [
    "gvc.best_estimator_"
   ]
  },
  {
   "cell_type": "code",
   "execution_count": null,
   "id": "c71afb23",
   "metadata": {},
   "outputs": [],
   "source": [
    "gvc.best_score_"
   ]
  },
  {
   "cell_type": "code",
   "execution_count": null,
   "id": "592a7576",
   "metadata": {},
   "outputs": [],
   "source": [
    "from sklearn.preprocessing import StandardScaler"
   ]
  },
  {
   "cell_type": "code",
   "execution_count": null,
   "id": "70b48fc3",
   "metadata": {},
   "outputs": [],
   "source": [
    "ss1 = StandardScaler()"
   ]
  },
  {
   "cell_type": "code",
   "execution_count": null,
   "id": "0299109a",
   "metadata": {},
   "outputs": [],
   "source": [
    "X_ss1 = ss1.fit_transform(X)"
   ]
  },
  {
   "cell_type": "code",
   "execution_count": null,
   "id": "f023b941",
   "metadata": {},
   "outputs": [],
   "source": [
    "gvc1 = GridSearchCV(GradientBoostingClassifier(),param_grid=dic,cv = kf1)"
   ]
  },
  {
   "cell_type": "code",
   "execution_count": null,
   "id": "69f30fe8",
   "metadata": {},
   "outputs": [],
   "source": [
    "%%time\n",
    "gvc1.fit(X_ss1,y)"
   ]
  },
  {
   "cell_type": "code",
   "execution_count": null,
   "id": "2152a3bf",
   "metadata": {},
   "outputs": [],
   "source": [
    "gvc1.best_params_"
   ]
  },
  {
   "cell_type": "code",
   "execution_count": null,
   "id": "6d905beb",
   "metadata": {},
   "outputs": [],
   "source": [
    "gvc1.best_estimator_"
   ]
  },
  {
   "cell_type": "code",
   "execution_count": null,
   "id": "86e0307d",
   "metadata": {},
   "outputs": [],
   "source": [
    "gvc1.best_score_"
   ]
  },
  {
   "cell_type": "code",
   "execution_count": null,
   "id": "3e626bd0",
   "metadata": {},
   "outputs": [],
   "source": []
  }
 ],
 "metadata": {
  "kernelspec": {
   "display_name": "Python 3 (ipykernel)",
   "language": "python",
   "name": "python3"
  },
  "language_info": {
   "codemirror_mode": {
    "name": "ipython",
    "version": 3
   },
   "file_extension": ".py",
   "mimetype": "text/x-python",
   "name": "python",
   "nbconvert_exporter": "python",
   "pygments_lexer": "ipython3",
   "version": "3.9.7"
  }
 },
 "nbformat": 4,
 "nbformat_minor": 5
}
