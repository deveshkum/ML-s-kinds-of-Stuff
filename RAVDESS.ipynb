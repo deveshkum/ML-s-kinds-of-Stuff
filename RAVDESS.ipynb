{
 "cells": [
  {
   "cell_type": "code",
   "execution_count": 32,
   "id": "78c7da92",
   "metadata": {},
   "outputs": [],
   "source": [
    "import os\n",
    "import pandas as pd\n",
    "import tensorflow as tf"
   ]
  },
  {
   "cell_type": "code",
   "execution_count": 24,
   "id": "d1ea5f0c",
   "metadata": {},
   "outputs": [],
   "source": [
    "RAV = \"/Users/dev/Desktop/Speech_Emotion_Detection-master/speech-emotion-recognition-ravdess-data/\""
   ]
  },
  {
   "cell_type": "code",
   "execution_count": 25,
   "id": "2da1bb0e",
   "metadata": {},
   "outputs": [
    {
     "name": "stdout",
     "output_type": "stream",
     "text": [
      "RAVDESS datasets\n"
     ]
    },
    {
     "data": {
      "text/html": [
       "<div>\n",
       "<style scoped>\n",
       "    .dataframe tbody tr th:only-of-type {\n",
       "        vertical-align: middle;\n",
       "    }\n",
       "\n",
       "    .dataframe tbody tr th {\n",
       "        vertical-align: top;\n",
       "    }\n",
       "\n",
       "    .dataframe thead th {\n",
       "        text-align: right;\n",
       "    }\n",
       "</style>\n",
       "<table border=\"1\" class=\"dataframe\">\n",
       "  <thead>\n",
       "    <tr style=\"text-align: right;\">\n",
       "      <th></th>\n",
       "      <th>labels</th>\n",
       "      <th>path</th>\n",
       "    </tr>\n",
       "  </thead>\n",
       "  <tbody>\n",
       "    <tr>\n",
       "      <th>0</th>\n",
       "      <td>angry</td>\n",
       "      <td>/Users/dev/Desktop/Speech_Emotion_Detection-ma...</td>\n",
       "    </tr>\n",
       "    <tr>\n",
       "      <th>1</th>\n",
       "      <td>fear</td>\n",
       "      <td>/Users/dev/Desktop/Speech_Emotion_Detection-ma...</td>\n",
       "    </tr>\n",
       "    <tr>\n",
       "      <th>2</th>\n",
       "      <td>fear</td>\n",
       "      <td>/Users/dev/Desktop/Speech_Emotion_Detection-ma...</td>\n",
       "    </tr>\n",
       "    <tr>\n",
       "      <th>3</th>\n",
       "      <td>angry</td>\n",
       "      <td>/Users/dev/Desktop/Speech_Emotion_Detection-ma...</td>\n",
       "    </tr>\n",
       "    <tr>\n",
       "      <th>4</th>\n",
       "      <td>disgust</td>\n",
       "      <td>/Users/dev/Desktop/Speech_Emotion_Detection-ma...</td>\n",
       "    </tr>\n",
       "  </tbody>\n",
       "</table>\n",
       "</div>"
      ],
      "text/plain": [
       "    labels                                               path\n",
       "0    angry  /Users/dev/Desktop/Speech_Emotion_Detection-ma...\n",
       "1     fear  /Users/dev/Desktop/Speech_Emotion_Detection-ma...\n",
       "2     fear  /Users/dev/Desktop/Speech_Emotion_Detection-ma...\n",
       "3    angry  /Users/dev/Desktop/Speech_Emotion_Detection-ma...\n",
       "4  disgust  /Users/dev/Desktop/Speech_Emotion_Detection-ma..."
      ]
     },
     "execution_count": 25,
     "metadata": {},
     "output_type": "execute_result"
    }
   ],
   "source": [
    "# Importing datas from RAVDESS\n",
    "dir = os.listdir(RAV)\n",
    "\n",
    "males = []\n",
    "females = [] \n",
    "        \n",
    "for actor in dir:\n",
    "       \n",
    "    files = os.listdir(RAV + actor)\n",
    "        \n",
    "    for file in files: \n",
    "        part = file.split('.')[0]\n",
    "        part = part.split(\"-\")           \n",
    "            \n",
    "        temp = int(part[6])        \n",
    "                \n",
    "        if part[2] == '01':\n",
    "            emotion = 'neutral'\n",
    "        elif part[2] == '02':\n",
    "            emotion = 'calm'\n",
    "        elif part[2] == '03':\n",
    "            emotion = 'happy'\n",
    "        elif part[2] == '04':\n",
    "            emotion = 'sad'\n",
    "        elif part[2] == '05':\n",
    "            emotion = 'angry'\n",
    "        elif part[2] == '06':\n",
    "            emotion = 'fear'\n",
    "        elif part[2] == '07':\n",
    "            emotion = 'disgust'\n",
    "        elif part[2] == '08':\n",
    "            emotion = 'surprise'\n",
    "        else:\n",
    "            emotion = 'unknown'\n",
    "            \n",
    "        if temp%2 == 0:\n",
    "            path = (RAV + actor + '/' + file)\n",
    "            #emotion = 'female_'+emotion\n",
    "            females.append([emotion, path]) \n",
    "        else:\n",
    "            path = (RAV + actor + '/' + file)\n",
    "             #emotion = 'male_'+emotion\n",
    "            males.append([emotion, path])   \n",
    "    \n",
    "   \n",
    "RavFemales_df = pd.DataFrame(females)\n",
    "RavFemales_df.columns = ['labels', 'path']\n",
    "\n",
    "RavMales_df = pd.DataFrame(males)\n",
    "RavMales_df.columns = ['labels', 'path']\n",
    "\n",
    "print('RAVDESS datasets')\n",
    "RavFemales_df.head()"
   ]
  },
  {
   "cell_type": "code",
   "execution_count": 29,
   "id": "f4c9ec65",
   "metadata": {},
   "outputs": [
    {
     "data": {
      "text/plain": [
       "<AxesSubplot:ylabel='labels'>"
      ]
     },
     "execution_count": 29,
     "metadata": {},
     "output_type": "execute_result"
    },
    {
     "data": {
      "image/png": "[encoded data removed]",
      "text/plain": [
       "<Figure size 432x288 with 1 Axes>"
      ]
     },
     "metadata": {},
     "output_type": "display_data"
    }
   ],
   "source": [
    "RavFemales_df[\"labels\"].value_counts().plot(kind=\"pie\")"
   ]
  },
  {
   "cell_type": "code",
   "execution_count": 30,
   "id": "316aa83f",
   "metadata": {},
   "outputs": [
    {
     "data": {
      "text/plain": [
       "<AxesSubplot:ylabel='labels'>"
      ]
     },
     "execution_count": 30,
     "metadata": {},
     "output_type": "execute_result"
    },
    {
     "data": {
      "image/png": "[encoded data removed]",
      "text/plain": [
       "<Figure size 432x288 with 1 Axes>"
      ]
     },
     "metadata": {},
     "output_type": "display_data"
    }
   ],
   "source": [
    "RavMales_df[\"labels\"].value_counts().plot(kind=\"pie\")"
   ]
  },
  {
   "cell_type": "code",
   "execution_count": 33,
   "id": "e4f4bfc0",
   "metadata": {},
   "outputs": [
    {
     "name": "stdout",
     "output_type": "stream",
     "text": [
      "Num GPUs Available:  0\n"
     ]
    }
   ],
   "source": [
    "print(\"Num GPUs Available: \", len(tf.config.experimental.list_physical_devices('GPU')))"
   ]
  },
  {
   "cell_type": "code",
   "execution_count": 35,
   "id": "a26d5a2c",
   "metadata": {},
   "outputs": [
    {
     "data": {
      "text/plain": [
       "'/Users/dev/Desktop/Speech_Emotion_Detection-master/speech-emotion-recognition-ravdess-data/Actor_11/03-01-01-01-02-02-11.wav'"
      ]
     },
     "execution_count": 35,
     "metadata": {},
     "output_type": "execute_result"
    }
   ],
   "source": [
    "RavMales_df[\"path\"][0]"
   ]
  },
  {
   "cell_type": "code",
   "execution_count": 40,
   "id": "8c1a8615",
   "metadata": {},
   "outputs": [],
   "source": [
    "import pyaudio  \n",
    "import wave  \n",
    "\n",
    "#define stream chunk   \n",
    "chunk = 1024  \n",
    "\n",
    "#open a wav format music  \n",
    "f = wave.open(RavMales_df[\"path\"][0])  \n",
    "#instantiate PyAudio  \n",
    "p = pyaudio.PyAudio()  \n",
    "#open stream  \n",
    "stream = p.open(format = p.get_format_from_width(f.getsampwidth()),  \n",
    "                channels = f.getnchannels(),  \n",
    "                rate = f.getframerate(),  \n",
    "                output = True)  \n",
    "#read data  \n",
    "data = f.readframes(chunk)  \n",
    "\n",
    "#play stream  \n",
    "while data:  \n",
    "    stream.write(data)  \n",
    "    data = f.readframes(chunk)  \n",
    "\n",
    "#stop stream  \n",
    "stream.stop_stream()  \n",
    "stream.close()  \n",
    "\n",
    "#close PyAudio  \n",
    "p.terminate()  "
   ]
  },
  {
   "cell_type": "code",
   "execution_count": null,
   "id": "be04778b",
   "metadata": {},
   "outputs": [],
   "source": []
  }
 ],
 "metadata": {
  "kernelspec": {
   "display_name": "Python 3 (ipykernel)",
   "language": "python",
   "name": "python3"
  },
  "language_info": {
   "codemirror_mode": {
    "name": "ipython",
    "version": 3
   },
   "file_extension": ".py",
   "mimetype": "text/x-python",
   "name": "python",
   "nbconvert_exporter": "python",
   "pygments_lexer": "ipython3",
   "version": "3.7.13"
  }
 },
 "nbformat": 4,
 "nbformat_minor": 5
}
