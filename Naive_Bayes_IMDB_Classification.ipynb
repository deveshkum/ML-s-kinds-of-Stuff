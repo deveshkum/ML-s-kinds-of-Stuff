{
 "cells": [
  {
   "cell_type": "code",
   "execution_count": 140,
   "id": "02c62600",
   "metadata": {},
   "outputs": [],
   "source": [
    "import numpy as np\n",
    "import pandas as pd"
   ]
  },
  {
   "cell_type": "code",
   "execution_count": 141,
   "id": "4005d7f7",
   "metadata": {},
   "outputs": [],
   "source": [
    "df_train = pd.read_csv(\"/Users/dev/Personal/DS & AI Class Notes/Data Sets/Naive Bays/IMDB/Train.csv\")"
   ]
  },
  {
   "cell_type": "code",
   "execution_count": 142,
   "id": "3c843559",
   "metadata": {},
   "outputs": [],
   "source": [
    "df_test = pd.read_csv(\"/Users/dev/Personal/DS & AI Class Notes/Data Sets/Naive Bays/IMDB/Test.csv\")"
   ]
  },
  {
   "cell_type": "code",
   "execution_count": 143,
   "id": "4e4509f0",
   "metadata": {},
   "outputs": [],
   "source": [
    "# df_train.drop(\"label\",axis=1,inplace=True)\n",
    "\n",
    "# df_test.drop(\"label\",axis=1,inplace=True)"
   ]
  },
  {
   "cell_type": "code",
   "execution_count": 144,
   "id": "22981e9a",
   "metadata": {},
   "outputs": [
    {
     "data": {
      "text/html": [
       "<div>\n",
       "<style scoped>\n",
       "    .dataframe tbody tr th:only-of-type {\n",
       "        vertical-align: middle;\n",
       "    }\n",
       "\n",
       "    .dataframe tbody tr th {\n",
       "        vertical-align: top;\n",
       "    }\n",
       "\n",
       "    .dataframe thead th {\n",
       "        text-align: right;\n",
       "    }\n",
       "</style>\n",
       "<table border=\"1\" class=\"dataframe\">\n",
       "  <thead>\n",
       "    <tr style=\"text-align: right;\">\n",
       "      <th></th>\n",
       "      <th>text</th>\n",
       "      <th>label</th>\n",
       "    </tr>\n",
       "  </thead>\n",
       "  <tbody>\n",
       "    <tr>\n",
       "      <th>0</th>\n",
       "      <td>I grew up (b. 1965) watching and loving the Th...</td>\n",
       "      <td>0</td>\n",
       "    </tr>\n",
       "    <tr>\n",
       "      <th>1</th>\n",
       "      <td>When I put this movie in my DVD player, and sa...</td>\n",
       "      <td>0</td>\n",
       "    </tr>\n",
       "    <tr>\n",
       "      <th>2</th>\n",
       "      <td>Why do people who do not know what a particula...</td>\n",
       "      <td>0</td>\n",
       "    </tr>\n",
       "    <tr>\n",
       "      <th>3</th>\n",
       "      <td>Even though I have great interest in Biblical ...</td>\n",
       "      <td>0</td>\n",
       "    </tr>\n",
       "    <tr>\n",
       "      <th>4</th>\n",
       "      <td>Im a die hard Dads Army fan and nothing will e...</td>\n",
       "      <td>1</td>\n",
       "    </tr>\n",
       "    <tr>\n",
       "      <th>...</th>\n",
       "      <td>...</td>\n",
       "      <td>...</td>\n",
       "    </tr>\n",
       "    <tr>\n",
       "      <th>39995</th>\n",
       "      <td>\"Western Union\" is something of a forgotten cl...</td>\n",
       "      <td>1</td>\n",
       "    </tr>\n",
       "    <tr>\n",
       "      <th>39996</th>\n",
       "      <td>This movie is an incredible piece of work. It ...</td>\n",
       "      <td>1</td>\n",
       "    </tr>\n",
       "    <tr>\n",
       "      <th>39997</th>\n",
       "      <td>My wife and I watched this movie because we pl...</td>\n",
       "      <td>0</td>\n",
       "    </tr>\n",
       "    <tr>\n",
       "      <th>39998</th>\n",
       "      <td>When I first watched Flatliners, I was amazed....</td>\n",
       "      <td>1</td>\n",
       "    </tr>\n",
       "    <tr>\n",
       "      <th>39999</th>\n",
       "      <td>Why would this film be so good, but only gross...</td>\n",
       "      <td>1</td>\n",
       "    </tr>\n",
       "  </tbody>\n",
       "</table>\n",
       "<p>40000 rows × 2 columns</p>\n",
       "</div>"
      ],
      "text/plain": [
       "                                                    text  label\n",
       "0      I grew up (b. 1965) watching and loving the Th...      0\n",
       "1      When I put this movie in my DVD player, and sa...      0\n",
       "2      Why do people who do not know what a particula...      0\n",
       "3      Even though I have great interest in Biblical ...      0\n",
       "4      Im a die hard Dads Army fan and nothing will e...      1\n",
       "...                                                  ...    ...\n",
       "39995  \"Western Union\" is something of a forgotten cl...      1\n",
       "39996  This movie is an incredible piece of work. It ...      1\n",
       "39997  My wife and I watched this movie because we pl...      0\n",
       "39998  When I first watched Flatliners, I was amazed....      1\n",
       "39999  Why would this film be so good, but only gross...      1\n",
       "\n",
       "[40000 rows x 2 columns]"
      ]
     },
     "execution_count": 144,
     "metadata": {},
     "output_type": "execute_result"
    }
   ],
   "source": [
    "df_train"
   ]
  },
  {
   "cell_type": "code",
   "execution_count": 145,
   "id": "93eeeb56",
   "metadata": {},
   "outputs": [
    {
     "data": {
      "text/html": [
       "<div>\n",
       "<style scoped>\n",
       "    .dataframe tbody tr th:only-of-type {\n",
       "        vertical-align: middle;\n",
       "    }\n",
       "\n",
       "    .dataframe tbody tr th {\n",
       "        vertical-align: top;\n",
       "    }\n",
       "\n",
       "    .dataframe thead th {\n",
       "        text-align: right;\n",
       "    }\n",
       "</style>\n",
       "<table border=\"1\" class=\"dataframe\">\n",
       "  <thead>\n",
       "    <tr style=\"text-align: right;\">\n",
       "      <th></th>\n",
       "      <th>text</th>\n",
       "      <th>label</th>\n",
       "    </tr>\n",
       "  </thead>\n",
       "  <tbody>\n",
       "    <tr>\n",
       "      <th>0</th>\n",
       "      <td>I always wrote this series off as being a comp...</td>\n",
       "      <td>0</td>\n",
       "    </tr>\n",
       "    <tr>\n",
       "      <th>1</th>\n",
       "      <td>1st watched 12/7/2002 - 3 out of 10(Dir-Steve ...</td>\n",
       "      <td>0</td>\n",
       "    </tr>\n",
       "    <tr>\n",
       "      <th>2</th>\n",
       "      <td>This movie was so poorly written and directed ...</td>\n",
       "      <td>0</td>\n",
       "    </tr>\n",
       "    <tr>\n",
       "      <th>3</th>\n",
       "      <td>The most interesting thing about Miryang (Secr...</td>\n",
       "      <td>1</td>\n",
       "    </tr>\n",
       "    <tr>\n",
       "      <th>4</th>\n",
       "      <td>when i first read about \"berlin am meer\" i did...</td>\n",
       "      <td>0</td>\n",
       "    </tr>\n",
       "    <tr>\n",
       "      <th>...</th>\n",
       "      <td>...</td>\n",
       "      <td>...</td>\n",
       "    </tr>\n",
       "    <tr>\n",
       "      <th>4995</th>\n",
       "      <td>This is the kind of picture John Lassiter woul...</td>\n",
       "      <td>1</td>\n",
       "    </tr>\n",
       "    <tr>\n",
       "      <th>4996</th>\n",
       "      <td>A MUST SEE! I saw WHIPPED at a press screening...</td>\n",
       "      <td>1</td>\n",
       "    </tr>\n",
       "    <tr>\n",
       "      <th>4997</th>\n",
       "      <td>NBC should be ashamed. I wouldn't allow my chi...</td>\n",
       "      <td>0</td>\n",
       "    </tr>\n",
       "    <tr>\n",
       "      <th>4998</th>\n",
       "      <td>This movie is a clumsy mishmash of various gho...</td>\n",
       "      <td>0</td>\n",
       "    </tr>\n",
       "    <tr>\n",
       "      <th>4999</th>\n",
       "      <td>Formula movie about the illegitimate son of a ...</td>\n",
       "      <td>0</td>\n",
       "    </tr>\n",
       "  </tbody>\n",
       "</table>\n",
       "<p>5000 rows × 2 columns</p>\n",
       "</div>"
      ],
      "text/plain": [
       "                                                   text  label\n",
       "0     I always wrote this series off as being a comp...      0\n",
       "1     1st watched 12/7/2002 - 3 out of 10(Dir-Steve ...      0\n",
       "2     This movie was so poorly written and directed ...      0\n",
       "3     The most interesting thing about Miryang (Secr...      1\n",
       "4     when i first read about \"berlin am meer\" i did...      0\n",
       "...                                                 ...    ...\n",
       "4995  This is the kind of picture John Lassiter woul...      1\n",
       "4996  A MUST SEE! I saw WHIPPED at a press screening...      1\n",
       "4997  NBC should be ashamed. I wouldn't allow my chi...      0\n",
       "4998  This movie is a clumsy mishmash of various gho...      0\n",
       "4999  Formula movie about the illegitimate son of a ...      0\n",
       "\n",
       "[5000 rows x 2 columns]"
      ]
     },
     "execution_count": 145,
     "metadata": {},
     "output_type": "execute_result"
    }
   ],
   "source": [
    "df_test"
   ]
  },
  {
   "cell_type": "code",
   "execution_count": 146,
   "id": "1dade8b9",
   "metadata": {},
   "outputs": [],
   "source": [
    "review = pd.merge(left=df_train,right=df_test,how=\"outer\")"
   ]
  },
  {
   "cell_type": "code",
   "execution_count": 147,
   "id": "32b7e7b4",
   "metadata": {},
   "outputs": [
    {
     "data": {
      "text/html": [
       "<div>\n",
       "<style scoped>\n",
       "    .dataframe tbody tr th:only-of-type {\n",
       "        vertical-align: middle;\n",
       "    }\n",
       "\n",
       "    .dataframe tbody tr th {\n",
       "        vertical-align: top;\n",
       "    }\n",
       "\n",
       "    .dataframe thead th {\n",
       "        text-align: right;\n",
       "    }\n",
       "</style>\n",
       "<table border=\"1\" class=\"dataframe\">\n",
       "  <thead>\n",
       "    <tr style=\"text-align: right;\">\n",
       "      <th></th>\n",
       "      <th>text</th>\n",
       "      <th>label</th>\n",
       "    </tr>\n",
       "  </thead>\n",
       "  <tbody>\n",
       "    <tr>\n",
       "      <th>0</th>\n",
       "      <td>I grew up (b. 1965) watching and loving the Th...</td>\n",
       "      <td>0</td>\n",
       "    </tr>\n",
       "    <tr>\n",
       "      <th>1</th>\n",
       "      <td>When I put this movie in my DVD player, and sa...</td>\n",
       "      <td>0</td>\n",
       "    </tr>\n",
       "    <tr>\n",
       "      <th>2</th>\n",
       "      <td>Why do people who do not know what a particula...</td>\n",
       "      <td>0</td>\n",
       "    </tr>\n",
       "    <tr>\n",
       "      <th>3</th>\n",
       "      <td>Even though I have great interest in Biblical ...</td>\n",
       "      <td>0</td>\n",
       "    </tr>\n",
       "    <tr>\n",
       "      <th>4</th>\n",
       "      <td>Im a die hard Dads Army fan and nothing will e...</td>\n",
       "      <td>1</td>\n",
       "    </tr>\n",
       "    <tr>\n",
       "      <th>...</th>\n",
       "      <td>...</td>\n",
       "      <td>...</td>\n",
       "    </tr>\n",
       "    <tr>\n",
       "      <th>44937</th>\n",
       "      <td>This is the kind of picture John Lassiter woul...</td>\n",
       "      <td>1</td>\n",
       "    </tr>\n",
       "    <tr>\n",
       "      <th>44938</th>\n",
       "      <td>A MUST SEE! I saw WHIPPED at a press screening...</td>\n",
       "      <td>1</td>\n",
       "    </tr>\n",
       "    <tr>\n",
       "      <th>44939</th>\n",
       "      <td>NBC should be ashamed. I wouldn't allow my chi...</td>\n",
       "      <td>0</td>\n",
       "    </tr>\n",
       "    <tr>\n",
       "      <th>44940</th>\n",
       "      <td>This movie is a clumsy mishmash of various gho...</td>\n",
       "      <td>0</td>\n",
       "    </tr>\n",
       "    <tr>\n",
       "      <th>44941</th>\n",
       "      <td>Formula movie about the illegitimate son of a ...</td>\n",
       "      <td>0</td>\n",
       "    </tr>\n",
       "  </tbody>\n",
       "</table>\n",
       "<p>44942 rows × 2 columns</p>\n",
       "</div>"
      ],
      "text/plain": [
       "                                                    text  label\n",
       "0      I grew up (b. 1965) watching and loving the Th...      0\n",
       "1      When I put this movie in my DVD player, and sa...      0\n",
       "2      Why do people who do not know what a particula...      0\n",
       "3      Even though I have great interest in Biblical ...      0\n",
       "4      Im a die hard Dads Army fan and nothing will e...      1\n",
       "...                                                  ...    ...\n",
       "44937  This is the kind of picture John Lassiter woul...      1\n",
       "44938  A MUST SEE! I saw WHIPPED at a press screening...      1\n",
       "44939  NBC should be ashamed. I wouldn't allow my chi...      0\n",
       "44940  This movie is a clumsy mishmash of various gho...      0\n",
       "44941  Formula movie about the illegitimate son of a ...      0\n",
       "\n",
       "[44942 rows x 2 columns]"
      ]
     },
     "execution_count": 147,
     "metadata": {},
     "output_type": "execute_result"
    }
   ],
   "source": [
    "review"
   ]
  },
  {
   "cell_type": "code",
   "execution_count": 148,
   "id": "6d20734e",
   "metadata": {},
   "outputs": [],
   "source": [
    "X = review[\"text\"]"
   ]
  },
  {
   "cell_type": "code",
   "execution_count": 149,
   "id": "dda59fbc",
   "metadata": {},
   "outputs": [],
   "source": [
    "y = review[\"label\"]"
   ]
  },
  {
   "cell_type": "code",
   "execution_count": 150,
   "id": "6f4bcf47",
   "metadata": {},
   "outputs": [],
   "source": [
    "from sklearn.model_selection import train_test_split"
   ]
  },
  {
   "cell_type": "code",
   "execution_count": 151,
   "id": "59f4b256",
   "metadata": {},
   "outputs": [],
   "source": [
    "Xtrain,Xtest,ytrain,ytest  = train_test_split(X,y,test_size=.20)"
   ]
  },
  {
   "cell_type": "code",
   "execution_count": 152,
   "id": "0d0adf30",
   "metadata": {
    "scrolled": true
   },
   "outputs": [
    {
     "data": {
      "text/plain": [
       "((44942,), (35953,), (8989,))"
      ]
     },
     "execution_count": 152,
     "metadata": {},
     "output_type": "execute_result"
    }
   ],
   "source": [
    "X.shape , Xtrain.shape , Xtest.shape"
   ]
  },
  {
   "cell_type": "code",
   "execution_count": 153,
   "id": "947fc419",
   "metadata": {
    "scrolled": true
   },
   "outputs": [
    {
     "data": {
      "text/plain": [
       "((44942,), (35953,), (8989,))"
      ]
     },
     "execution_count": 153,
     "metadata": {},
     "output_type": "execute_result"
    }
   ],
   "source": [
    "y.shape , ytrain.shape , ytest.shape"
   ]
  },
  {
   "cell_type": "code",
   "execution_count": 154,
   "id": "f7fb26d5",
   "metadata": {},
   "outputs": [],
   "source": [
    "from sklearn.feature_extraction.text import CountVectorizer , TfidfTransformer"
   ]
  },
  {
   "cell_type": "code",
   "execution_count": 155,
   "id": "18101944",
   "metadata": {},
   "outputs": [],
   "source": [
    "cv = CountVectorizer()"
   ]
  },
  {
   "cell_type": "code",
   "execution_count": 156,
   "id": "a8f2c8be",
   "metadata": {},
   "outputs": [],
   "source": [
    "cv_Xtrain = cv.fit_transform(Xtrain)"
   ]
  },
  {
   "cell_type": "code",
   "execution_count": 157,
   "id": "d1a8e1ae",
   "metadata": {},
   "outputs": [],
   "source": [
    "cv_Xtest = cv.transform(Xtest)"
   ]
  },
  {
   "cell_type": "code",
   "execution_count": 158,
   "id": "697840f5",
   "metadata": {},
   "outputs": [
    {
     "data": {
      "text/plain": [
       "<35953x89233 sparse matrix of type '<class 'numpy.int64'>'\n",
       "\twith 4926279 stored elements in Compressed Sparse Row format>"
      ]
     },
     "execution_count": 158,
     "metadata": {},
     "output_type": "execute_result"
    }
   ],
   "source": [
    "cv_Xtrain"
   ]
  },
  {
   "cell_type": "code",
   "execution_count": 159,
   "id": "8256fa97",
   "metadata": {},
   "outputs": [
    {
     "data": {
      "text/plain": [
       "<8989x89233 sparse matrix of type '<class 'numpy.int64'>'\n",
       "\twith 1206722 stored elements in Compressed Sparse Row format>"
      ]
     },
     "execution_count": 159,
     "metadata": {},
     "output_type": "execute_result"
    }
   ],
   "source": [
    "cv_Xtest"
   ]
  },
  {
   "cell_type": "code",
   "execution_count": 160,
   "id": "cd44a743",
   "metadata": {},
   "outputs": [],
   "source": [
    "tfid = TfidfTransformer()"
   ]
  },
  {
   "cell_type": "code",
   "execution_count": 161,
   "id": "6be4a55c",
   "metadata": {},
   "outputs": [],
   "source": [
    "tfid_Xtrain = tfid.fit_transform(cv_Xtrain)"
   ]
  },
  {
   "cell_type": "code",
   "execution_count": 162,
   "id": "0466e03d",
   "metadata": {},
   "outputs": [],
   "source": [
    "tfid_Xtest = tfid.transform(cv_Xtest)"
   ]
  },
  {
   "cell_type": "code",
   "execution_count": 163,
   "id": "801c6f72",
   "metadata": {},
   "outputs": [
    {
     "data": {
      "text/plain": [
       "<35953x89233 sparse matrix of type '<class 'numpy.float64'>'\n",
       "\twith 4926279 stored elements in Compressed Sparse Row format>"
      ]
     },
     "execution_count": 163,
     "metadata": {},
     "output_type": "execute_result"
    }
   ],
   "source": [
    "tfid_Xtrain"
   ]
  },
  {
   "cell_type": "code",
   "execution_count": 164,
   "id": "fd765b15",
   "metadata": {},
   "outputs": [
    {
     "data": {
      "text/plain": [
       "<8989x89233 sparse matrix of type '<class 'numpy.float64'>'\n",
       "\twith 1206722 stored elements in Compressed Sparse Row format>"
      ]
     },
     "execution_count": 164,
     "metadata": {},
     "output_type": "execute_result"
    }
   ],
   "source": [
    "tfid_Xtest"
   ]
  },
  {
   "cell_type": "code",
   "execution_count": 165,
   "id": "4ac26b87",
   "metadata": {},
   "outputs": [],
   "source": [
    "from sklearn.naive_bayes import MultinomialNB"
   ]
  },
  {
   "cell_type": "code",
   "execution_count": 166,
   "id": "d73c48f1",
   "metadata": {},
   "outputs": [],
   "source": [
    "mnb = MultinomialNB()"
   ]
  },
  {
   "cell_type": "code",
   "execution_count": 167,
   "id": "b8b919bf",
   "metadata": {},
   "outputs": [
    {
     "data": {
      "text/plain": [
       "MultinomialNB()"
      ]
     },
     "execution_count": 167,
     "metadata": {},
     "output_type": "execute_result"
    }
   ],
   "source": [
    "mnb.fit(tfid_Xtrain,ytrain)"
   ]
  },
  {
   "cell_type": "code",
   "execution_count": 168,
   "id": "8d9f1fa3",
   "metadata": {},
   "outputs": [
    {
     "data": {
      "text/plain": [
       "0.861052397374569"
      ]
     },
     "execution_count": 168,
     "metadata": {},
     "output_type": "execute_result"
    }
   ],
   "source": [
    "mnb.score(tfid_Xtest,ytest)"
   ]
  },
  {
   "cell_type": "markdown",
   "id": "b95f173a",
   "metadata": {},
   "source": [
    "### Testing With Func"
   ]
  },
  {
   "cell_type": "code",
   "execution_count": 116,
   "id": "03c33b21",
   "metadata": {},
   "outputs": [],
   "source": [
    "def sen_mulnb(X,y):\n",
    "    from sklearn.model_selection import train_test_split\n",
    "    Xtrain,Xtest,ytrain,ytest = train_test_split(X,y,test_size=.20)\n",
    "    from sklearn.feature_extraction.text import CountVectorizer , TfidfTransformer\n",
    "    cv = CountVectorizer()\n",
    "    cv_Xtrain = cv.fit_transform(Xtrain)\n",
    "    cv_Xtest = cv.transform(Xtest)\n",
    "    tfid = TfidfTransformer()\n",
    "    tfid_Xtrain = tfid.fit_transform(cv_Xtrain)\n",
    "    tfid_Xtest = tfid.transform(cv_Xtest)\n",
    "    from sklearn.naive_bayes import MultinomialNB\n",
    "    mnb = MultinomialNB()\n",
    "    mnb.fit(tfid_Xtrain,ytrain)\n",
    "    print(f'Score is {mnb.score(tfid_Xtest,ytest)}')"
   ]
  },
  {
   "cell_type": "code",
   "execution_count": 117,
   "id": "f1fb07ca",
   "metadata": {},
   "outputs": [
    {
     "name": "stdout",
     "output_type": "stream",
     "text": [
      "Score is 0.8685059517187674\n"
     ]
    }
   ],
   "source": [
    "sen_mulnb(X,y)"
   ]
  },
  {
   "cell_type": "markdown",
   "id": "f54838a3",
   "metadata": {},
   "source": [
    "### Making Pipeline\n"
   ]
  },
  {
   "cell_type": "code",
   "execution_count": 103,
   "id": "b683cc90",
   "metadata": {},
   "outputs": [],
   "source": [
    "from sklearn.feature_extraction.text import CountVectorizer , TfidfTransformer\n",
    "from sklearn.naive_bayes import MultinomialNB"
   ]
  },
  {
   "cell_type": "code",
   "execution_count": 104,
   "id": "9ae3fce5",
   "metadata": {},
   "outputs": [],
   "source": [
    "from sklearn.pipeline import make_pipeline"
   ]
  },
  {
   "cell_type": "code",
   "execution_count": 105,
   "id": "825693e5",
   "metadata": {},
   "outputs": [],
   "source": [
    "pipe = make_pipeline(CountVectorizer(),TfidfTransformer(),MultinomialNB())"
   ]
  },
  {
   "cell_type": "code",
   "execution_count": 106,
   "id": "1c753ded",
   "metadata": {},
   "outputs": [
    {
     "data": {
      "text/plain": [
       "Pipeline(steps=[('countvectorizer', CountVectorizer()),\n",
       "                ('tfidftransformer', TfidfTransformer()),\n",
       "                ('multinomialnb', MultinomialNB())])"
      ]
     },
     "execution_count": 106,
     "metadata": {},
     "output_type": "execute_result"
    }
   ],
   "source": [
    "pipe"
   ]
  },
  {
   "cell_type": "code",
   "execution_count": 107,
   "id": "a66958a7",
   "metadata": {},
   "outputs": [
    {
     "data": {
      "text/plain": [
       "Pipeline(steps=[('countvectorizer', CountVectorizer()),\n",
       "                ('tfidftransformer', TfidfTransformer()),\n",
       "                ('multinomialnb', MultinomialNB())])"
      ]
     },
     "execution_count": 107,
     "metadata": {},
     "output_type": "execute_result"
    }
   ],
   "source": [
    "pipe.fit(X,y)"
   ]
  },
  {
   "cell_type": "code",
   "execution_count": 108,
   "id": "a6e82f0d",
   "metadata": {},
   "outputs": [
    {
     "data": {
      "text/plain": [
       "0.9010279916336612"
      ]
     },
     "execution_count": 108,
     "metadata": {},
     "output_type": "execute_result"
    }
   ],
   "source": [
    "pipe.score(X,y)"
   ]
  },
  {
   "cell_type": "markdown",
   "id": "3e11ff3a",
   "metadata": {},
   "source": [
    "## With Train_test"
   ]
  },
  {
   "cell_type": "code",
   "execution_count": 109,
   "id": "9be3126f",
   "metadata": {},
   "outputs": [],
   "source": [
    "pipe1 = make_pipeline(CountVectorizer(),TfidfTransformer(),MultinomialNB())"
   ]
  },
  {
   "cell_type": "code",
   "execution_count": 110,
   "id": "fb44327d",
   "metadata": {},
   "outputs": [
    {
     "data": {
      "text/plain": [
       "Pipeline(steps=[('countvectorizer', CountVectorizer()),\n",
       "                ('tfidftransformer', TfidfTransformer()),\n",
       "                ('multinomialnb', MultinomialNB())])"
      ]
     },
     "execution_count": 110,
     "metadata": {},
     "output_type": "execute_result"
    }
   ],
   "source": [
    "pipe1.fit(Xtrain,ytrain)"
   ]
  },
  {
   "cell_type": "code",
   "execution_count": 111,
   "id": "229d7e8c",
   "metadata": {},
   "outputs": [
    {
     "data": {
      "text/plain": [
       "0.8637223272889086"
      ]
     },
     "execution_count": 111,
     "metadata": {},
     "output_type": "execute_result"
    }
   ],
   "source": [
    "pipe1.score(Xtest,ytest)"
   ]
  },
  {
   "cell_type": "markdown",
   "id": "064687de",
   "metadata": {},
   "source": [
    "## With TfidfVectorizer\n",
    "                "
   ]
  },
  {
   "cell_type": "code",
   "execution_count": 112,
   "id": "fcd3ace5",
   "metadata": {},
   "outputs": [],
   "source": [
    "from sklearn.feature_extraction.text import TfidfVectorizer"
   ]
  },
  {
   "cell_type": "code",
   "execution_count": 113,
   "id": "15de8514",
   "metadata": {},
   "outputs": [],
   "source": [
    "pipe3 = make_pipeline(TfidfVectorizer(),MultinomialNB())"
   ]
  },
  {
   "cell_type": "code",
   "execution_count": 114,
   "id": "ef768b8e",
   "metadata": {},
   "outputs": [
    {
     "data": {
      "text/plain": [
       "Pipeline(steps=[('tfidfvectorizer', TfidfVectorizer()),\n",
       "                ('multinomialnb', MultinomialNB())])"
      ]
     },
     "execution_count": 114,
     "metadata": {},
     "output_type": "execute_result"
    }
   ],
   "source": [
    "pipe3.fit(Xtrain,ytrain)"
   ]
  },
  {
   "cell_type": "code",
   "execution_count": 115,
   "id": "a366900a",
   "metadata": {
    "scrolled": true
   },
   "outputs": [
    {
     "data": {
      "text/plain": [
       "0.8637223272889086"
      ]
     },
     "execution_count": 115,
     "metadata": {},
     "output_type": "execute_result"
    }
   ],
   "source": [
    "pipe3.score(Xtest,ytest)"
   ]
  }
 ],
 "metadata": {
  "kernelspec": {
   "display_name": "Python 3 (ipykernel)",
   "language": "python",
   "name": "python3"
  },
  "language_info": {
   "codemirror_mode": {
    "name": "ipython",
    "version": 3
   },
   "file_extension": ".py",
   "mimetype": "text/x-python",
   "name": "python",
   "nbconvert_exporter": "python",
   "pygments_lexer": "ipython3",
   "version": "3.9.7"
  }
 },
 "nbformat": 4,
 "nbformat_minor": 5
}
