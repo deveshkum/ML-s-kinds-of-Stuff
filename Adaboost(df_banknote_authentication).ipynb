{
 "cells": [
  {
   "cell_type": "code",
   "execution_count": 121,
   "id": "bd952c20",
   "metadata": {},
   "outputs": [],
   "source": [
    "import numpy as np\n",
    "import pandas as pd\n",
    "import matplotlib.pyplot as plt\n",
    "import seaborn as sns"
   ]
  },
  {
   "cell_type": "code",
   "execution_count": 4,
   "id": "b47f0c6d",
   "metadata": {},
   "outputs": [],
   "source": [
    "df = pd.read_csv(\"/Users/dev/Personal/DS & AI Class Notes/Data Sets/Adaboost/data_banknote_authentication.csv\",header=None )"
   ]
  },
  {
   "cell_type": "markdown",
   "id": "9e3d5144",
   "metadata": {},
   "source": [
    "### Columns are ['variance' , 'skewness' , 'curtosis' , 'entropy' , 'class']"
   ]
  },
  {
   "cell_type": "code",
   "execution_count": 7,
   "id": "4cacdf20",
   "metadata": {},
   "outputs": [],
   "source": [
    "df.columns = ['variance' , 'skewness' , 'curtosis' , 'entropy' , 'class']"
   ]
  },
  {
   "cell_type": "code",
   "execution_count": 8,
   "id": "bb913eb2",
   "metadata": {},
   "outputs": [
    {
     "data": {
      "text/html": [
       "<div>\n",
       "<style scoped>\n",
       "    .dataframe tbody tr th:only-of-type {\n",
       "        vertical-align: middle;\n",
       "    }\n",
       "\n",
       "    .dataframe tbody tr th {\n",
       "        vertical-align: top;\n",
       "    }\n",
       "\n",
       "    .dataframe thead th {\n",
       "        text-align: right;\n",
       "    }\n",
       "</style>\n",
       "<table border=\"1\" class=\"dataframe\">\n",
       "  <thead>\n",
       "    <tr style=\"text-align: right;\">\n",
       "      <th></th>\n",
       "      <th>variance</th>\n",
       "      <th>skewness</th>\n",
       "      <th>curtosis</th>\n",
       "      <th>entropy</th>\n",
       "      <th>class</th>\n",
       "    </tr>\n",
       "  </thead>\n",
       "  <tbody>\n",
       "    <tr>\n",
       "      <th>0</th>\n",
       "      <td>3.62160</td>\n",
       "      <td>8.66610</td>\n",
       "      <td>-2.8073</td>\n",
       "      <td>-0.44699</td>\n",
       "      <td>0</td>\n",
       "    </tr>\n",
       "    <tr>\n",
       "      <th>1</th>\n",
       "      <td>4.54590</td>\n",
       "      <td>8.16740</td>\n",
       "      <td>-2.4586</td>\n",
       "      <td>-1.46210</td>\n",
       "      <td>0</td>\n",
       "    </tr>\n",
       "    <tr>\n",
       "      <th>2</th>\n",
       "      <td>3.86600</td>\n",
       "      <td>-2.63830</td>\n",
       "      <td>1.9242</td>\n",
       "      <td>0.10645</td>\n",
       "      <td>0</td>\n",
       "    </tr>\n",
       "    <tr>\n",
       "      <th>3</th>\n",
       "      <td>3.45660</td>\n",
       "      <td>9.52280</td>\n",
       "      <td>-4.0112</td>\n",
       "      <td>-3.59440</td>\n",
       "      <td>0</td>\n",
       "    </tr>\n",
       "    <tr>\n",
       "      <th>4</th>\n",
       "      <td>0.32924</td>\n",
       "      <td>-4.45520</td>\n",
       "      <td>4.5718</td>\n",
       "      <td>-0.98880</td>\n",
       "      <td>0</td>\n",
       "    </tr>\n",
       "    <tr>\n",
       "      <th>...</th>\n",
       "      <td>...</td>\n",
       "      <td>...</td>\n",
       "      <td>...</td>\n",
       "      <td>...</td>\n",
       "      <td>...</td>\n",
       "    </tr>\n",
       "    <tr>\n",
       "      <th>1367</th>\n",
       "      <td>0.40614</td>\n",
       "      <td>1.34920</td>\n",
       "      <td>-1.4501</td>\n",
       "      <td>-0.55949</td>\n",
       "      <td>1</td>\n",
       "    </tr>\n",
       "    <tr>\n",
       "      <th>1368</th>\n",
       "      <td>-1.38870</td>\n",
       "      <td>-4.87730</td>\n",
       "      <td>6.4774</td>\n",
       "      <td>0.34179</td>\n",
       "      <td>1</td>\n",
       "    </tr>\n",
       "    <tr>\n",
       "      <th>1369</th>\n",
       "      <td>-3.75030</td>\n",
       "      <td>-13.45860</td>\n",
       "      <td>17.5932</td>\n",
       "      <td>-2.77710</td>\n",
       "      <td>1</td>\n",
       "    </tr>\n",
       "    <tr>\n",
       "      <th>1370</th>\n",
       "      <td>-3.56370</td>\n",
       "      <td>-8.38270</td>\n",
       "      <td>12.3930</td>\n",
       "      <td>-1.28230</td>\n",
       "      <td>1</td>\n",
       "    </tr>\n",
       "    <tr>\n",
       "      <th>1371</th>\n",
       "      <td>-2.54190</td>\n",
       "      <td>-0.65804</td>\n",
       "      <td>2.6842</td>\n",
       "      <td>1.19520</td>\n",
       "      <td>1</td>\n",
       "    </tr>\n",
       "  </tbody>\n",
       "</table>\n",
       "<p>1372 rows × 5 columns</p>\n",
       "</div>"
      ],
      "text/plain": [
       "      variance  skewness  curtosis  entropy  class\n",
       "0      3.62160   8.66610   -2.8073 -0.44699      0\n",
       "1      4.54590   8.16740   -2.4586 -1.46210      0\n",
       "2      3.86600  -2.63830    1.9242  0.10645      0\n",
       "3      3.45660   9.52280   -4.0112 -3.59440      0\n",
       "4      0.32924  -4.45520    4.5718 -0.98880      0\n",
       "...        ...       ...       ...      ...    ...\n",
       "1367   0.40614   1.34920   -1.4501 -0.55949      1\n",
       "1368  -1.38870  -4.87730    6.4774  0.34179      1\n",
       "1369  -3.75030 -13.45860   17.5932 -2.77710      1\n",
       "1370  -3.56370  -8.38270   12.3930 -1.28230      1\n",
       "1371  -2.54190  -0.65804    2.6842  1.19520      1\n",
       "\n",
       "[1372 rows x 5 columns]"
      ]
     },
     "execution_count": 8,
     "metadata": {},
     "output_type": "execute_result"
    }
   ],
   "source": [
    "df"
   ]
  },
  {
   "cell_type": "code",
   "execution_count": 13,
   "id": "15e7d155",
   "metadata": {},
   "outputs": [
    {
     "data": {
      "text/plain": [
       "variance    0\n",
       "skewness    0\n",
       "curtosis    0\n",
       "entropy     0\n",
       "class       0\n",
       "dtype: int64"
      ]
     },
     "execution_count": 13,
     "metadata": {},
     "output_type": "execute_result"
    }
   ],
   "source": [
    "df.isna().sum()"
   ]
  },
  {
   "cell_type": "markdown",
   "id": "da1b255c",
   "metadata": {},
   "source": [
    "## Checking Balance of DF"
   ]
  },
  {
   "cell_type": "code",
   "execution_count": 14,
   "id": "d7af456b",
   "metadata": {},
   "outputs": [
    {
     "data": {
      "text/plain": [
       "0    762\n",
       "1    610\n",
       "Name: class, dtype: int64"
      ]
     },
     "execution_count": 14,
     "metadata": {},
     "output_type": "execute_result"
    }
   ],
   "source": [
    "df[\"class\"].value_counts()"
   ]
  },
  {
   "cell_type": "code",
   "execution_count": 123,
   "id": "70380971",
   "metadata": {},
   "outputs": [
    {
     "name": "stderr",
     "output_type": "stream",
     "text": [
      "/opt/anaconda3/lib/python3.9/site-packages/seaborn/_decorators.py:36: FutureWarning: Pass the following variable as a keyword arg: x. From version 0.12, the only valid positional argument will be `data`, and passing other arguments without an explicit keyword will result in an error or misinterpretation.\n",
      "  warnings.warn(\n"
     ]
    },
    {
     "data": {
      "text/plain": [
       "<AxesSubplot:xlabel='class', ylabel='count'>"
      ]
     },
     "execution_count": 123,
     "metadata": {},
     "output_type": "execute_result"
    },
    {
     "data": {
      "image/png": "[encoded data removed]",
      "text/plain": [
       "<Figure size 432x288 with 1 Axes>"
      ]
     },
     "metadata": {
      "needs_background": "light"
     },
     "output_type": "display_data"
    }
   ],
   "source": [
    "# plt.(df[\"class\"],color='Red',)\n",
    "# plt.show()\n",
    "sns.countplot(df[\"class\"],)"
   ]
  },
  {
   "cell_type": "markdown",
   "id": "1353c55b",
   "metadata": {},
   "source": [
    "### Checking And Removing 0's IF"
   ]
  },
  {
   "cell_type": "code",
   "execution_count": 17,
   "id": "e1d7d0b5",
   "metadata": {},
   "outputs": [],
   "source": [
    "def checkz(df):\n",
    "    return df[df == 0].value_counts()"
   ]
  },
  {
   "cell_type": "code",
   "execution_count": 18,
   "id": "b9456018",
   "metadata": {},
   "outputs": [
    {
     "name": "stdout",
     "output_type": "stream",
     "text": [
      "Series([], Name: variance, dtype: int64)\n",
      "Series([], Name: skewness, dtype: int64)\n",
      "Series([], Name: curtosis, dtype: int64)\n",
      "Series([], Name: entropy, dtype: int64)\n",
      "0    762\n",
      "Name: class, dtype: int64\n"
     ]
    }
   ],
   "source": [
    "for i in df.columns:\n",
    "    print(checkz(df[i]))"
   ]
  },
  {
   "cell_type": "markdown",
   "id": "78b7e0f9",
   "metadata": {},
   "source": [
    "### OD_Tech With The help of Skew"
   ]
  },
  {
   "cell_type": "code",
   "execution_count": 25,
   "id": "2263a1a4",
   "metadata": {},
   "outputs": [
    {
     "data": {
      "text/plain": [
       "Index(['variance', 'skewness', 'curtosis', 'entropy', 'class'], dtype='object')"
      ]
     },
     "execution_count": 25,
     "metadata": {},
     "output_type": "execute_result"
    }
   ],
   "source": [
    "df.columns"
   ]
  },
  {
   "cell_type": "code",
   "execution_count": 26,
   "id": "acc42531",
   "metadata": {
    "scrolled": false
   },
   "outputs": [],
   "source": [
    "clist = ['variance', 'skewness', 'curtosis', 'entropy' ]"
   ]
  },
  {
   "cell_type": "code",
   "execution_count": 27,
   "id": "655e6d62",
   "metadata": {},
   "outputs": [],
   "source": [
    "def odiqr(df):\n",
    "    q1 = df.quantile(0.25)\n",
    "    q3 = df.quantile(0.75)\n",
    "    iqr = q3 - q1\n",
    "    low = q1 - (1.5 * iqr)\n",
    "    high = q3 + (1.5 * iqr)\n",
    "    m = df.mean()\n",
    "    df = df.apply(lambda x : m if x < low else (m if x > high else x ) )\n",
    "    return df"
   ]
  },
  {
   "cell_type": "code",
   "execution_count": 28,
   "id": "f672095b",
   "metadata": {},
   "outputs": [],
   "source": [
    "def odmsd(df):\n",
    "    m = round(df.mean(),2)\n",
    "    s = round(df.std(),2)\n",
    "    low = round(m-(3*s),2)\n",
    "    high = round(m+(3*s),2)\n",
    "    ft1 = df[df<low]\n",
    "    ft2 = df[df>high]\n",
    "    df = df.map(lambda x : low if x < low else (high if x > high else x ))"
   ]
  },
  {
   "cell_type": "code",
   "execution_count": 29,
   "id": "49916f81",
   "metadata": {
    "scrolled": true
   },
   "outputs": [
    {
     "name": "stdout",
     "output_type": "stream",
     "text": [
      "variance is -0.14938770055109993\n",
      "skewness is -0.39410347444624066\n",
      "curtosis is 1.088568543275335\n",
      "entropy is -1.0222430438083978\n"
     ]
    }
   ],
   "source": [
    "for i in clist:\n",
    "    print(f'{i} is {df[i].skew()}')"
   ]
  },
  {
   "cell_type": "code",
   "execution_count": 32,
   "id": "f941cf64",
   "metadata": {},
   "outputs": [],
   "source": [
    "for i in clist:\n",
    "    if df[i].skew() >= 0.5:\n",
    "        odmsd(df[i])\n",
    "    else:\n",
    "        df[i] = odiqr(df[i])"
   ]
  },
  {
   "cell_type": "code",
   "execution_count": 33,
   "id": "229f534d",
   "metadata": {
    "scrolled": true
   },
   "outputs": [
    {
     "name": "stdout",
     "output_type": "stream",
     "text": [
      "variance is -0.14938770055109993\n",
      "skewness is -0.39410347444624066\n",
      "curtosis is 0.5977165081154234\n",
      "entropy is -0.8377778918389013\n"
     ]
    }
   ],
   "source": [
    "for i in clist:\n",
    "    print(f'{i} is {df[i].skew()}')"
   ]
  },
  {
   "cell_type": "markdown",
   "id": "6e980760",
   "metadata": {},
   "source": [
    "## Shuffling"
   ]
  },
  {
   "cell_type": "code",
   "execution_count": 77,
   "id": "1f176073",
   "metadata": {},
   "outputs": [],
   "source": [
    "df = df.sample(frac=1)"
   ]
  },
  {
   "cell_type": "code",
   "execution_count": 78,
   "id": "10a4139b",
   "metadata": {},
   "outputs": [
    {
     "data": {
      "text/html": [
       "<div>\n",
       "<style scoped>\n",
       "    .dataframe tbody tr th:only-of-type {\n",
       "        vertical-align: middle;\n",
       "    }\n",
       "\n",
       "    .dataframe tbody tr th {\n",
       "        vertical-align: top;\n",
       "    }\n",
       "\n",
       "    .dataframe thead th {\n",
       "        text-align: right;\n",
       "    }\n",
       "</style>\n",
       "<table border=\"1\" class=\"dataframe\">\n",
       "  <thead>\n",
       "    <tr style=\"text-align: right;\">\n",
       "      <th></th>\n",
       "      <th>variance</th>\n",
       "      <th>skewness</th>\n",
       "      <th>curtosis</th>\n",
       "      <th>entropy</th>\n",
       "      <th>class</th>\n",
       "    </tr>\n",
       "  </thead>\n",
       "  <tbody>\n",
       "    <tr>\n",
       "      <th>1226</th>\n",
       "      <td>-4.06790</td>\n",
       "      <td>2.4955</td>\n",
       "      <td>0.795710</td>\n",
       "      <td>-1.10390</td>\n",
       "      <td>1</td>\n",
       "    </tr>\n",
       "    <tr>\n",
       "      <th>887</th>\n",
       "      <td>-3.26920</td>\n",
       "      <td>-12.7406</td>\n",
       "      <td>1.397627</td>\n",
       "      <td>-0.14182</td>\n",
       "      <td>1</td>\n",
       "    </tr>\n",
       "    <tr>\n",
       "      <th>794</th>\n",
       "      <td>-1.62440</td>\n",
       "      <td>-6.3444</td>\n",
       "      <td>4.657500</td>\n",
       "      <td>0.16981</td>\n",
       "      <td>1</td>\n",
       "    </tr>\n",
       "    <tr>\n",
       "      <th>136</th>\n",
       "      <td>5.43800</td>\n",
       "      <td>9.4669</td>\n",
       "      <td>-4.941700</td>\n",
       "      <td>-3.92020</td>\n",
       "      <td>0</td>\n",
       "    </tr>\n",
       "    <tr>\n",
       "      <th>594</th>\n",
       "      <td>5.20320</td>\n",
       "      <td>3.5116</td>\n",
       "      <td>-1.253800</td>\n",
       "      <td>1.01290</td>\n",
       "      <td>0</td>\n",
       "    </tr>\n",
       "    <tr>\n",
       "      <th>...</th>\n",
       "      <td>...</td>\n",
       "      <td>...</td>\n",
       "      <td>...</td>\n",
       "      <td>...</td>\n",
       "      <td>...</td>\n",
       "    </tr>\n",
       "    <tr>\n",
       "      <th>1304</th>\n",
       "      <td>-5.29430</td>\n",
       "      <td>-5.1463</td>\n",
       "      <td>1.397627</td>\n",
       "      <td>-1.11810</td>\n",
       "      <td>1</td>\n",
       "    </tr>\n",
       "    <tr>\n",
       "      <th>560</th>\n",
       "      <td>4.04460</td>\n",
       "      <td>11.1741</td>\n",
       "      <td>-4.358200</td>\n",
       "      <td>-4.74010</td>\n",
       "      <td>0</td>\n",
       "    </tr>\n",
       "    <tr>\n",
       "      <th>1082</th>\n",
       "      <td>-1.39460</td>\n",
       "      <td>2.3134</td>\n",
       "      <td>-0.444990</td>\n",
       "      <td>-1.49050</td>\n",
       "      <td>1</td>\n",
       "    </tr>\n",
       "    <tr>\n",
       "      <th>501</th>\n",
       "      <td>1.29990</td>\n",
       "      <td>2.5762</td>\n",
       "      <td>2.010700</td>\n",
       "      <td>-0.18967</td>\n",
       "      <td>0</td>\n",
       "    </tr>\n",
       "    <tr>\n",
       "      <th>390</th>\n",
       "      <td>-0.36279</td>\n",
       "      <td>8.2895</td>\n",
       "      <td>-1.921300</td>\n",
       "      <td>-3.33320</td>\n",
       "      <td>0</td>\n",
       "    </tr>\n",
       "  </tbody>\n",
       "</table>\n",
       "<p>1372 rows × 5 columns</p>\n",
       "</div>"
      ],
      "text/plain": [
       "      variance  skewness  curtosis  entropy  class\n",
       "1226  -4.06790    2.4955  0.795710 -1.10390      1\n",
       "887   -3.26920  -12.7406  1.397627 -0.14182      1\n",
       "794   -1.62440   -6.3444  4.657500  0.16981      1\n",
       "136    5.43800    9.4669 -4.941700 -3.92020      0\n",
       "594    5.20320    3.5116 -1.253800  1.01290      0\n",
       "...        ...       ...       ...      ...    ...\n",
       "1304  -5.29430   -5.1463  1.397627 -1.11810      1\n",
       "560    4.04460   11.1741 -4.358200 -4.74010      0\n",
       "1082  -1.39460    2.3134 -0.444990 -1.49050      1\n",
       "501    1.29990    2.5762  2.010700 -0.18967      0\n",
       "390   -0.36279    8.2895 -1.921300 -3.33320      0\n",
       "\n",
       "[1372 rows x 5 columns]"
      ]
     },
     "execution_count": 78,
     "metadata": {},
     "output_type": "execute_result"
    }
   ],
   "source": [
    "df"
   ]
  },
  {
   "cell_type": "markdown",
   "id": "ed67045b",
   "metadata": {},
   "source": [
    "### Splitting"
   ]
  },
  {
   "cell_type": "code",
   "execution_count": 79,
   "id": "af944ff6",
   "metadata": {},
   "outputs": [],
   "source": [
    "X = df.drop(\"class\",axis=1)"
   ]
  },
  {
   "cell_type": "code",
   "execution_count": 80,
   "id": "367c52bb",
   "metadata": {},
   "outputs": [
    {
     "data": {
      "text/html": [
       "<div>\n",
       "<style scoped>\n",
       "    .dataframe tbody tr th:only-of-type {\n",
       "        vertical-align: middle;\n",
       "    }\n",
       "\n",
       "    .dataframe tbody tr th {\n",
       "        vertical-align: top;\n",
       "    }\n",
       "\n",
       "    .dataframe thead th {\n",
       "        text-align: right;\n",
       "    }\n",
       "</style>\n",
       "<table border=\"1\" class=\"dataframe\">\n",
       "  <thead>\n",
       "    <tr style=\"text-align: right;\">\n",
       "      <th></th>\n",
       "      <th>variance</th>\n",
       "      <th>skewness</th>\n",
       "      <th>curtosis</th>\n",
       "      <th>entropy</th>\n",
       "    </tr>\n",
       "  </thead>\n",
       "  <tbody>\n",
       "    <tr>\n",
       "      <th>146</th>\n",
       "      <td>3.8584</td>\n",
       "      <td>0.78425</td>\n",
       "      <td>1.1033</td>\n",
       "      <td>1.7008</td>\n",
       "    </tr>\n",
       "  </tbody>\n",
       "</table>\n",
       "</div>"
      ],
      "text/plain": [
       "     variance  skewness  curtosis  entropy\n",
       "146    3.8584   0.78425    1.1033   1.7008"
      ]
     },
     "execution_count": 80,
     "metadata": {},
     "output_type": "execute_result"
    }
   ],
   "source": [
    "X.sample()"
   ]
  },
  {
   "cell_type": "code",
   "execution_count": 81,
   "id": "9983ad6e",
   "metadata": {},
   "outputs": [],
   "source": [
    "y = df[\"class\"]"
   ]
  },
  {
   "cell_type": "code",
   "execution_count": 82,
   "id": "4c47b9b4",
   "metadata": {},
   "outputs": [
    {
     "data": {
      "text/plain": [
       "214    0\n",
       "Name: class, dtype: int64"
      ]
     },
     "execution_count": 82,
     "metadata": {},
     "output_type": "execute_result"
    }
   ],
   "source": [
    "y.sample()"
   ]
  },
  {
   "cell_type": "code",
   "execution_count": 83,
   "id": "03ce5526",
   "metadata": {},
   "outputs": [],
   "source": [
    "from sklearn.model_selection import train_test_split\n",
    "from sklearn.preprocessing import StandardScaler\n",
    "from sklearn.model_selection import KFold , cross_val_score\n",
    "from sklearn.svm import SVC\n",
    "from sklearn.tree import DecisionTreeClassifier\n",
    "from sklearn.ensemble import RandomForestClassifier , AdaBoostClassifier"
   ]
  },
  {
   "cell_type": "code",
   "execution_count": 84,
   "id": "d546284a",
   "metadata": {},
   "outputs": [],
   "source": [
    "Xtrain,Xtest,ytrain,ytest = train_test_split(X,y,test_size=.20)"
   ]
  },
  {
   "cell_type": "code",
   "execution_count": 85,
   "id": "c4b8f19e",
   "metadata": {},
   "outputs": [
    {
     "data": {
      "text/plain": [
       "((1372, 4), (1097, 4), (275, 4))"
      ]
     },
     "execution_count": 85,
     "metadata": {},
     "output_type": "execute_result"
    }
   ],
   "source": [
    "X.shape , Xtrain.shape , Xtest.shape"
   ]
  },
  {
   "cell_type": "code",
   "execution_count": 86,
   "id": "076eb108",
   "metadata": {},
   "outputs": [
    {
     "data": {
      "text/plain": [
       "((1372,), (1097,), (275,))"
      ]
     },
     "execution_count": 86,
     "metadata": {},
     "output_type": "execute_result"
    }
   ],
   "source": [
    "y.shape , ytrain.shape , ytest.shape"
   ]
  },
  {
   "cell_type": "code",
   "execution_count": 87,
   "id": "3a21f9af",
   "metadata": {},
   "outputs": [],
   "source": [
    "kf = KFold(n_splits=11)"
   ]
  },
  {
   "cell_type": "code",
   "execution_count": 88,
   "id": "a9e18e94",
   "metadata": {},
   "outputs": [],
   "source": [
    "dct = DecisionTreeClassifier()"
   ]
  },
  {
   "cell_type": "code",
   "execution_count": 89,
   "id": "05f30a69",
   "metadata": {},
   "outputs": [],
   "source": [
    "rfc = RandomForestClassifier(criterion='entropy')"
   ]
  },
  {
   "cell_type": "code",
   "execution_count": 90,
   "id": "2395e061",
   "metadata": {},
   "outputs": [],
   "source": [
    "algo = [ dct , rfc ]"
   ]
  },
  {
   "cell_type": "markdown",
   "id": "5810283b",
   "metadata": {},
   "source": [
    "### Without Feature Scaling\n"
   ]
  },
  {
   "cell_type": "code",
   "execution_count": 91,
   "id": "3fa885d8",
   "metadata": {},
   "outputs": [
    {
     "name": "stdout",
     "output_type": "stream",
     "text": [
      "DecisionTreeClassifier() = 0.9818181818181818\n",
      "RandomForestClassifier(criterion='entropy') = 0.9854545454545455\n"
     ]
    }
   ],
   "source": [
    "for i in algo:\n",
    "    i.fit(Xtrain,ytrain)\n",
    "    s = i.score(Xtest,ytest)\n",
    "    print(f'{i} = {s}')"
   ]
  },
  {
   "cell_type": "markdown",
   "id": "6ef3acce",
   "metadata": {},
   "source": [
    "### With Feature Scaling"
   ]
  },
  {
   "cell_type": "code",
   "execution_count": 92,
   "id": "cc73ca58",
   "metadata": {},
   "outputs": [],
   "source": [
    "ss = StandardScaler()"
   ]
  },
  {
   "cell_type": "code",
   "execution_count": 93,
   "id": "b2441c64",
   "metadata": {},
   "outputs": [
    {
     "data": {
      "text/plain": [
       "StandardScaler()"
      ]
     },
     "execution_count": 93,
     "metadata": {},
     "output_type": "execute_result"
    }
   ],
   "source": [
    "ss.fit(Xtrain)"
   ]
  },
  {
   "cell_type": "code",
   "execution_count": 94,
   "id": "738bfa08",
   "metadata": {},
   "outputs": [],
   "source": [
    "Xtrain_ss = ss.transform(Xtrain)"
   ]
  },
  {
   "cell_type": "code",
   "execution_count": 95,
   "id": "dcdcb2e4",
   "metadata": {},
   "outputs": [],
   "source": [
    "Xtest_ss = ss.transform(Xtest)"
   ]
  },
  {
   "cell_type": "code",
   "execution_count": 96,
   "id": "6a20d82c",
   "metadata": {},
   "outputs": [
    {
     "name": "stdout",
     "output_type": "stream",
     "text": [
      "DecisionTreeClassifier() = 0.9818181818181818\n",
      "RandomForestClassifier(criterion='entropy') = 0.9854545454545455\n"
     ]
    }
   ],
   "source": [
    "for i in algo:\n",
    "    i.fit(Xtrain_ss,ytrain)\n",
    "    s = i.score(Xtest_ss,ytest)\n",
    "    print(f'{i} = {s}')"
   ]
  },
  {
   "cell_type": "markdown",
   "id": "d2430f2d",
   "metadata": {},
   "source": [
    "### With Cross Validation"
   ]
  },
  {
   "cell_type": "code",
   "execution_count": 97,
   "id": "1c72b9ed",
   "metadata": {},
   "outputs": [
    {
     "name": "stdout",
     "output_type": "stream",
     "text": [
      "DecisionTreeClassifier() = 0.983958944281525\n",
      "RandomForestClassifier(criterion='entropy') = 0.9919765395894428\n"
     ]
    }
   ],
   "source": [
    "for i in algo:\n",
    "    s = cross_val_score(i,X,y,cv = kf)\n",
    "    print(f'{i} = {s.mean()}')"
   ]
  },
  {
   "cell_type": "markdown",
   "id": "69d747ca",
   "metadata": {},
   "source": [
    "## Boosting"
   ]
  },
  {
   "cell_type": "code",
   "execution_count": 98,
   "id": "01299332",
   "metadata": {},
   "outputs": [],
   "source": [
    "rfc1 = RandomForestClassifier(n_estimators=150,max_depth=2,max_leaf_nodes=3)"
   ]
  },
  {
   "cell_type": "code",
   "execution_count": 99,
   "id": "4d0a8792",
   "metadata": {},
   "outputs": [],
   "source": [
    "abc = AdaBoostClassifier()"
   ]
  },
  {
   "cell_type": "code",
   "execution_count": 100,
   "id": "331ee508",
   "metadata": {},
   "outputs": [],
   "source": [
    "algo1 = [rfc1  , abc ]"
   ]
  },
  {
   "cell_type": "code",
   "execution_count": 101,
   "id": "f9851847",
   "metadata": {},
   "outputs": [
    {
     "name": "stdout",
     "output_type": "stream",
     "text": [
      "RandomForestClassifier(max_depth=2, max_leaf_nodes=3, n_estimators=150)\n",
      "AdaBoostClassifier()\n"
     ]
    }
   ],
   "source": [
    "for i in algo1:\n",
    "    print(i)"
   ]
  },
  {
   "cell_type": "markdown",
   "id": "28a95f54",
   "metadata": {},
   "source": [
    "### Without Feature Scaling\n"
   ]
  },
  {
   "cell_type": "code",
   "execution_count": 102,
   "id": "58c256e0",
   "metadata": {},
   "outputs": [
    {
     "name": "stdout",
     "output_type": "stream",
     "text": [
      "RandomForestClassifier(max_depth=2, max_leaf_nodes=3, n_estimators=150) = 0.8909090909090909\n",
      "AdaBoostClassifier() = 0.9890909090909091\n"
     ]
    }
   ],
   "source": [
    "for i in algo1:\n",
    "    i.fit(Xtrain,ytrain)\n",
    "    s = i.score(Xtest,ytest)\n",
    "    print(f'{i} = {s}')"
   ]
  },
  {
   "cell_type": "markdown",
   "id": "eb4fd565",
   "metadata": {},
   "source": [
    "### With Feature Scaling"
   ]
  },
  {
   "cell_type": "code",
   "execution_count": 103,
   "id": "b82ee2be",
   "metadata": {},
   "outputs": [
    {
     "name": "stdout",
     "output_type": "stream",
     "text": [
      "RandomForestClassifier(max_depth=2, max_leaf_nodes=3, n_estimators=150) = 0.8872727272727273\n",
      "AdaBoostClassifier() = 0.9890909090909091\n"
     ]
    }
   ],
   "source": [
    "for i in algo1:\n",
    "    i.fit(Xtrain_ss,ytrain)\n",
    "    s = i.score(Xtest_ss,ytest)\n",
    "    print(f'{i} = {s}')"
   ]
  },
  {
   "cell_type": "markdown",
   "id": "61d7d34a",
   "metadata": {},
   "source": [
    "###  With Cross Validation (Boosting)\n"
   ]
  },
  {
   "cell_type": "code",
   "execution_count": 104,
   "id": "99360d13",
   "metadata": {},
   "outputs": [
    {
     "name": "stdout",
     "output_type": "stream",
     "text": [
      "RandomForestClassifier(max_depth=2, max_leaf_nodes=3, n_estimators=150) = 0.9008680351906158\n",
      "AdaBoostClassifier() = 0.9970850439882697\n",
      "CPU times: user 2.21 s, sys: 12.1 ms, total: 2.22 s\n",
      "Wall time: 2.22 s\n"
     ]
    }
   ],
   "source": [
    "%%time\n",
    "for i in algo1:\n",
    "    s = cross_val_score(i,X,y,cv = kf)\n",
    "    print(f'{i} = {s.mean()}')"
   ]
  },
  {
   "cell_type": "markdown",
   "id": "751bb43b",
   "metadata": {},
   "source": [
    "### With GridSearch CV"
   ]
  },
  {
   "cell_type": "code",
   "execution_count": 105,
   "id": "9ed59fbe",
   "metadata": {},
   "outputs": [],
   "source": [
    "from sklearn.model_selection import GridSearchCV"
   ]
  },
  {
   "cell_type": "code",
   "execution_count": 106,
   "id": "9458f963",
   "metadata": {},
   "outputs": [],
   "source": [
    "dic = { 'n_estimators' : [100,125,180],'criterion': ['gini', 'entropy'], 'max_depth' : [2,3,10]\n",
    "       ,'min_samples_leaf' : [ 1,5]  }"
   ]
  },
  {
   "cell_type": "code",
   "execution_count": 107,
   "id": "4c5d7d8d",
   "metadata": {},
   "outputs": [],
   "source": [
    "kf1 = KFold(n_splits=12)"
   ]
  },
  {
   "cell_type": "code",
   "execution_count": 108,
   "id": "02f02529",
   "metadata": {},
   "outputs": [],
   "source": [
    "gvc = GridSearchCV(RandomForestClassifier(),param_grid=dic,cv = kf1)"
   ]
  },
  {
   "cell_type": "code",
   "execution_count": 109,
   "id": "47e5bd0f",
   "metadata": {},
   "outputs": [
    {
     "name": "stdout",
     "output_type": "stream",
     "text": [
      "CPU times: user 1min 5s, sys: 370 ms, total: 1min 5s\n",
      "Wall time: 1min 5s\n"
     ]
    },
    {
     "data": {
      "text/plain": [
       "GridSearchCV(cv=KFold(n_splits=12, random_state=None, shuffle=False),\n",
       "             estimator=RandomForestClassifier(),\n",
       "             param_grid={'criterion': ['gini', 'entropy'],\n",
       "                         'max_depth': [2, 3, 10], 'min_samples_leaf': [1, 5],\n",
       "                         'n_estimators': [100, 125, 180]})"
      ]
     },
     "execution_count": 109,
     "metadata": {},
     "output_type": "execute_result"
    }
   ],
   "source": [
    "%%time\n",
    "gvc.fit(X,y)"
   ]
  },
  {
   "cell_type": "code",
   "execution_count": 110,
   "id": "e69ea949",
   "metadata": {},
   "outputs": [
    {
     "data": {
      "text/plain": [
       "{'criterion': 'gini',\n",
       " 'max_depth': 10,\n",
       " 'min_samples_leaf': 1,\n",
       " 'n_estimators': 100}"
      ]
     },
     "execution_count": 110,
     "metadata": {},
     "output_type": "execute_result"
    }
   ],
   "source": [
    "gvc.best_params_"
   ]
  },
  {
   "cell_type": "code",
   "execution_count": 111,
   "id": "e934a5ec",
   "metadata": {},
   "outputs": [
    {
     "data": {
      "text/plain": [
       "RandomForestClassifier(max_depth=10)"
      ]
     },
     "execution_count": 111,
     "metadata": {},
     "output_type": "execute_result"
    }
   ],
   "source": [
    "gvc.best_estimator_"
   ]
  },
  {
   "cell_type": "code",
   "execution_count": 112,
   "id": "9c20be1d",
   "metadata": {},
   "outputs": [
    {
     "data": {
      "text/plain": [
       "0.9948957538774472"
      ]
     },
     "execution_count": 112,
     "metadata": {},
     "output_type": "execute_result"
    }
   ],
   "source": [
    "gvc.best_score_"
   ]
  },
  {
   "cell_type": "markdown",
   "id": "800ebccc",
   "metadata": {},
   "source": [
    "### With RandomSearch CV"
   ]
  },
  {
   "cell_type": "code",
   "execution_count": 113,
   "id": "63ff7e82",
   "metadata": {},
   "outputs": [],
   "source": [
    "from sklearn.model_selection import RandomizedSearchCV"
   ]
  },
  {
   "cell_type": "code",
   "execution_count": 116,
   "id": "716afb07",
   "metadata": {},
   "outputs": [],
   "source": [
    "rvc = RandomizedSearchCV(RandomForestClassifier(),param_distributions=dic,cv = kf1)"
   ]
  },
  {
   "cell_type": "code",
   "execution_count": 117,
   "id": "b627386f",
   "metadata": {},
   "outputs": [
    {
     "name": "stdout",
     "output_type": "stream",
     "text": [
      "CPU times: user 15.9 s, sys: 97.7 ms, total: 16 s\n",
      "Wall time: 16 s\n"
     ]
    },
    {
     "data": {
      "text/plain": [
       "RandomizedSearchCV(cv=KFold(n_splits=12, random_state=None, shuffle=False),\n",
       "                   estimator=RandomForestClassifier(),\n",
       "                   param_distributions={'criterion': ['gini', 'entropy'],\n",
       "                                        'max_depth': [2, 3, 10],\n",
       "                                        'min_samples_leaf': [1, 5],\n",
       "                                        'n_estimators': [100, 125, 180]})"
      ]
     },
     "execution_count": 117,
     "metadata": {},
     "output_type": "execute_result"
    }
   ],
   "source": [
    "%%time\n",
    "rvc.fit(X,y)"
   ]
  },
  {
   "cell_type": "code",
   "execution_count": 118,
   "id": "a333ce3e",
   "metadata": {},
   "outputs": [
    {
     "data": {
      "text/plain": [
       "{'n_estimators': 100,\n",
       " 'min_samples_leaf': 1,\n",
       " 'max_depth': 10,\n",
       " 'criterion': 'entropy'}"
      ]
     },
     "execution_count": 118,
     "metadata": {},
     "output_type": "execute_result"
    }
   ],
   "source": [
    "rvc.best_params_"
   ]
  },
  {
   "cell_type": "code",
   "execution_count": 119,
   "id": "43e8cabd",
   "metadata": {},
   "outputs": [
    {
     "data": {
      "text/plain": [
       "RandomForestClassifier(criterion='entropy', max_depth=10)"
      ]
     },
     "execution_count": 119,
     "metadata": {},
     "output_type": "execute_result"
    }
   ],
   "source": [
    "rvc.best_estimator_"
   ]
  },
  {
   "cell_type": "code",
   "execution_count": 120,
   "id": "d3fc86a8",
   "metadata": {},
   "outputs": [
    {
     "data": {
      "text/plain": [
       "0.993440122044241"
      ]
     },
     "execution_count": 120,
     "metadata": {},
     "output_type": "execute_result"
    }
   ],
   "source": [
    "rvc.best_score_"
   ]
  },
  {
   "cell_type": "code",
   "execution_count": null,
   "id": "86cd9678",
   "metadata": {},
   "outputs": [],
   "source": []
  }
 ],
 "metadata": {
  "kernelspec": {
   "display_name": "Python 3 (ipykernel)",
   "language": "python",
   "name": "python3"
  },
  "language_info": {
   "codemirror_mode": {
    "name": "ipython",
    "version": 3
   },
   "file_extension": ".py",
   "mimetype": "text/x-python",
   "name": "python",
   "nbconvert_exporter": "python",
   "pygments_lexer": "ipython3",
   "version": "3.9.7"
  }
 },
 "nbformat": 4,
 "nbformat_minor": 5
}
