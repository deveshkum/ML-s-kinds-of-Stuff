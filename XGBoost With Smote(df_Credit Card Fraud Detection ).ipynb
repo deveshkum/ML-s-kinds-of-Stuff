{
 "cells": [
  {
   "cell_type": "code",
   "execution_count": 1,
   "id": "bd952c20",
   "metadata": {},
   "outputs": [],
   "source": [
    "import numpy as np\n",
    "import pandas as pd"
   ]
  },
  {
   "cell_type": "code",
   "execution_count": 2,
   "id": "b47f0c6d",
   "metadata": {},
   "outputs": [
    {
     "name": "stdout",
     "output_type": "stream",
     "text": [
      "Shape of this Df is (284807, 31)\n"
     ]
    }
   ],
   "source": [
    "df = pd.read_csv(\"/Users/dev/Personal/DS & AI Class Notes/Data Sets/Boosting/creditcard.csv\")\n",
    "print(f'Shape of this Df is {df.shape}')"
   ]
  },
  {
   "cell_type": "markdown",
   "id": "cc7b942f",
   "metadata": {},
   "source": [
    "## Checking Balance of DF[\"Class']"
   ]
  },
  {
   "cell_type": "code",
   "execution_count": 3,
   "id": "1fc18aae",
   "metadata": {},
   "outputs": [
    {
     "data": {
      "text/plain": [
       "0    284315\n",
       "1       492\n",
       "Name: Class, dtype: int64"
      ]
     },
     "execution_count": 3,
     "metadata": {},
     "output_type": "execute_result"
    }
   ],
   "source": [
    "df[\"Class\"].value_counts()"
   ]
  },
  {
   "cell_type": "code",
   "execution_count": 4,
   "id": "d7af456b",
   "metadata": {},
   "outputs": [
    {
     "data": {
      "text/plain": [
       "<AxesSubplot:>"
      ]
     },
     "execution_count": 4,
     "metadata": {},
     "output_type": "execute_result"
    },
    {
     "data": {
      "image/png": "[encoded data removed]",
      "text/plain": [
       "<Figure size 432x288 with 1 Axes>"
      ]
     },
     "metadata": {
      "needs_background": "light"
     },
     "output_type": "display_data"
    }
   ],
   "source": [
    "df[\"Class\"].value_counts().plot(kind = 'bar')"
   ]
  },
  {
   "cell_type": "markdown",
   "id": "bb094590",
   "metadata": {},
   "source": [
    "## Correcting Balance of DF[\"Class\"]"
   ]
  },
  {
   "cell_type": "code",
   "execution_count": 5,
   "id": "44326510",
   "metadata": {},
   "outputs": [],
   "source": [
    "X = df.drop(\"Class\",axis=1)"
   ]
  },
  {
   "cell_type": "code",
   "execution_count": 6,
   "id": "b4783a9c",
   "metadata": {},
   "outputs": [],
   "source": [
    "y = df[\"Class\"]"
   ]
  },
  {
   "cell_type": "code",
   "execution_count": 7,
   "id": "426061fd",
   "metadata": {},
   "outputs": [
    {
     "data": {
      "text/plain": [
       "0    284315\n",
       "1       492\n",
       "Name: Class, dtype: int64"
      ]
     },
     "execution_count": 7,
     "metadata": {},
     "output_type": "execute_result"
    }
   ],
   "source": [
    "y.value_counts()"
   ]
  },
  {
   "cell_type": "code",
   "execution_count": 8,
   "id": "2357ca8c",
   "metadata": {},
   "outputs": [],
   "source": [
    "from imblearn.over_sampling import SMOTE "
   ]
  },
  {
   "cell_type": "code",
   "execution_count": 9,
   "id": "2c59d18b",
   "metadata": {},
   "outputs": [],
   "source": [
    "sm = SMOTE()"
   ]
  },
  {
   "cell_type": "code",
   "execution_count": 10,
   "id": "834d078c",
   "metadata": {},
   "outputs": [],
   "source": [
    "X_sm , y_sm = sm.fit_resample(X,y)"
   ]
  },
  {
   "cell_type": "code",
   "execution_count": 11,
   "id": "7559058f",
   "metadata": {},
   "outputs": [
    {
     "data": {
      "text/plain": [
       "0    284315\n",
       "1    284315\n",
       "Name: Class, dtype: int64"
      ]
     },
     "execution_count": 11,
     "metadata": {},
     "output_type": "execute_result"
    }
   ],
   "source": [
    "y_sm.value_counts()"
   ]
  },
  {
   "cell_type": "code",
   "execution_count": 12,
   "id": "be306d8c",
   "metadata": {},
   "outputs": [
    {
     "data": {
      "text/plain": [
       "((568630, 30), (568630,))"
      ]
     },
     "execution_count": 12,
     "metadata": {},
     "output_type": "execute_result"
    }
   ],
   "source": [
    "X_sm.shape , y_sm.shape"
   ]
  },
  {
   "cell_type": "code",
   "execution_count": 13,
   "id": "1388afbe",
   "metadata": {},
   "outputs": [],
   "source": [
    "df1 = pd.concat([X_sm,y_sm],axis=1)"
   ]
  },
  {
   "cell_type": "code",
   "execution_count": 14,
   "id": "fe6bd615",
   "metadata": {},
   "outputs": [
    {
     "data": {
      "text/html": [
       "<div>\n",
       "<style scoped>\n",
       "    .dataframe tbody tr th:only-of-type {\n",
       "        vertical-align: middle;\n",
       "    }\n",
       "\n",
       "    .dataframe tbody tr th {\n",
       "        vertical-align: top;\n",
       "    }\n",
       "\n",
       "    .dataframe thead th {\n",
       "        text-align: right;\n",
       "    }\n",
       "</style>\n",
       "<table border=\"1\" class=\"dataframe\">\n",
       "  <thead>\n",
       "    <tr style=\"text-align: right;\">\n",
       "      <th></th>\n",
       "      <th>Time</th>\n",
       "      <th>V1</th>\n",
       "      <th>V2</th>\n",
       "      <th>V3</th>\n",
       "      <th>V4</th>\n",
       "      <th>V5</th>\n",
       "      <th>V6</th>\n",
       "      <th>V7</th>\n",
       "      <th>V8</th>\n",
       "      <th>V9</th>\n",
       "      <th>...</th>\n",
       "      <th>V21</th>\n",
       "      <th>V22</th>\n",
       "      <th>V23</th>\n",
       "      <th>V24</th>\n",
       "      <th>V25</th>\n",
       "      <th>V26</th>\n",
       "      <th>V27</th>\n",
       "      <th>V28</th>\n",
       "      <th>Amount</th>\n",
       "      <th>Class</th>\n",
       "    </tr>\n",
       "  </thead>\n",
       "  <tbody>\n",
       "    <tr>\n",
       "      <th>0</th>\n",
       "      <td>0.000000</td>\n",
       "      <td>-1.359807</td>\n",
       "      <td>-0.072781</td>\n",
       "      <td>2.536347</td>\n",
       "      <td>1.378155</td>\n",
       "      <td>-0.338321</td>\n",
       "      <td>0.462388</td>\n",
       "      <td>0.239599</td>\n",
       "      <td>0.098698</td>\n",
       "      <td>0.363787</td>\n",
       "      <td>...</td>\n",
       "      <td>-0.018307</td>\n",
       "      <td>0.277838</td>\n",
       "      <td>-0.110474</td>\n",
       "      <td>0.066928</td>\n",
       "      <td>0.128539</td>\n",
       "      <td>-0.189115</td>\n",
       "      <td>0.133558</td>\n",
       "      <td>-0.021053</td>\n",
       "      <td>149.620000</td>\n",
       "      <td>0</td>\n",
       "    </tr>\n",
       "    <tr>\n",
       "      <th>1</th>\n",
       "      <td>0.000000</td>\n",
       "      <td>1.191857</td>\n",
       "      <td>0.266151</td>\n",
       "      <td>0.166480</td>\n",
       "      <td>0.448154</td>\n",
       "      <td>0.060018</td>\n",
       "      <td>-0.082361</td>\n",
       "      <td>-0.078803</td>\n",
       "      <td>0.085102</td>\n",
       "      <td>-0.255425</td>\n",
       "      <td>...</td>\n",
       "      <td>-0.225775</td>\n",
       "      <td>-0.638672</td>\n",
       "      <td>0.101288</td>\n",
       "      <td>-0.339846</td>\n",
       "      <td>0.167170</td>\n",
       "      <td>0.125895</td>\n",
       "      <td>-0.008983</td>\n",
       "      <td>0.014724</td>\n",
       "      <td>2.690000</td>\n",
       "      <td>0</td>\n",
       "    </tr>\n",
       "    <tr>\n",
       "      <th>2</th>\n",
       "      <td>1.000000</td>\n",
       "      <td>-1.358354</td>\n",
       "      <td>-1.340163</td>\n",
       "      <td>1.773209</td>\n",
       "      <td>0.379780</td>\n",
       "      <td>-0.503198</td>\n",
       "      <td>1.800499</td>\n",
       "      <td>0.791461</td>\n",
       "      <td>0.247676</td>\n",
       "      <td>-1.514654</td>\n",
       "      <td>...</td>\n",
       "      <td>0.247998</td>\n",
       "      <td>0.771679</td>\n",
       "      <td>0.909412</td>\n",
       "      <td>-0.689281</td>\n",
       "      <td>-0.327642</td>\n",
       "      <td>-0.139097</td>\n",
       "      <td>-0.055353</td>\n",
       "      <td>-0.059752</td>\n",
       "      <td>378.660000</td>\n",
       "      <td>0</td>\n",
       "    </tr>\n",
       "    <tr>\n",
       "      <th>3</th>\n",
       "      <td>1.000000</td>\n",
       "      <td>-0.966272</td>\n",
       "      <td>-0.185226</td>\n",
       "      <td>1.792993</td>\n",
       "      <td>-0.863291</td>\n",
       "      <td>-0.010309</td>\n",
       "      <td>1.247203</td>\n",
       "      <td>0.237609</td>\n",
       "      <td>0.377436</td>\n",
       "      <td>-1.387024</td>\n",
       "      <td>...</td>\n",
       "      <td>-0.108300</td>\n",
       "      <td>0.005274</td>\n",
       "      <td>-0.190321</td>\n",
       "      <td>-1.175575</td>\n",
       "      <td>0.647376</td>\n",
       "      <td>-0.221929</td>\n",
       "      <td>0.062723</td>\n",
       "      <td>0.061458</td>\n",
       "      <td>123.500000</td>\n",
       "      <td>0</td>\n",
       "    </tr>\n",
       "    <tr>\n",
       "      <th>4</th>\n",
       "      <td>2.000000</td>\n",
       "      <td>-1.158233</td>\n",
       "      <td>0.877737</td>\n",
       "      <td>1.548718</td>\n",
       "      <td>0.403034</td>\n",
       "      <td>-0.407193</td>\n",
       "      <td>0.095921</td>\n",
       "      <td>0.592941</td>\n",
       "      <td>-0.270533</td>\n",
       "      <td>0.817739</td>\n",
       "      <td>...</td>\n",
       "      <td>-0.009431</td>\n",
       "      <td>0.798278</td>\n",
       "      <td>-0.137458</td>\n",
       "      <td>0.141267</td>\n",
       "      <td>-0.206010</td>\n",
       "      <td>0.502292</td>\n",
       "      <td>0.219422</td>\n",
       "      <td>0.215153</td>\n",
       "      <td>69.990000</td>\n",
       "      <td>0</td>\n",
       "    </tr>\n",
       "    <tr>\n",
       "      <th>...</th>\n",
       "      <td>...</td>\n",
       "      <td>...</td>\n",
       "      <td>...</td>\n",
       "      <td>...</td>\n",
       "      <td>...</td>\n",
       "      <td>...</td>\n",
       "      <td>...</td>\n",
       "      <td>...</td>\n",
       "      <td>...</td>\n",
       "      <td>...</td>\n",
       "      <td>...</td>\n",
       "      <td>...</td>\n",
       "      <td>...</td>\n",
       "      <td>...</td>\n",
       "      <td>...</td>\n",
       "      <td>...</td>\n",
       "      <td>...</td>\n",
       "      <td>...</td>\n",
       "      <td>...</td>\n",
       "      <td>...</td>\n",
       "      <td>...</td>\n",
       "    </tr>\n",
       "    <tr>\n",
       "      <th>568625</th>\n",
       "      <td>148047.987790</td>\n",
       "      <td>0.797161</td>\n",
       "      <td>3.054799</td>\n",
       "      <td>-5.553009</td>\n",
       "      <td>5.335095</td>\n",
       "      <td>1.453799</td>\n",
       "      <td>-1.593198</td>\n",
       "      <td>-1.025434</td>\n",
       "      <td>0.224067</td>\n",
       "      <td>-3.006830</td>\n",
       "      <td>...</td>\n",
       "      <td>0.246952</td>\n",
       "      <td>-0.530084</td>\n",
       "      <td>-0.198887</td>\n",
       "      <td>-0.059250</td>\n",
       "      <td>0.558408</td>\n",
       "      <td>0.164054</td>\n",
       "      <td>0.544174</td>\n",
       "      <td>0.330898</td>\n",
       "      <td>1.271223</td>\n",
       "      <td>1</td>\n",
       "    </tr>\n",
       "    <tr>\n",
       "      <th>568626</th>\n",
       "      <td>68207.000000</td>\n",
       "      <td>-13.192671</td>\n",
       "      <td>12.785971</td>\n",
       "      <td>-9.906650</td>\n",
       "      <td>3.320337</td>\n",
       "      <td>-4.801176</td>\n",
       "      <td>5.760059</td>\n",
       "      <td>-18.750889</td>\n",
       "      <td>-37.353443</td>\n",
       "      <td>-0.391540</td>\n",
       "      <td>...</td>\n",
       "      <td>27.202839</td>\n",
       "      <td>-8.887017</td>\n",
       "      <td>5.303607</td>\n",
       "      <td>-0.639435</td>\n",
       "      <td>0.263203</td>\n",
       "      <td>-0.108877</td>\n",
       "      <td>1.269566</td>\n",
       "      <td>0.939407</td>\n",
       "      <td>1.000000</td>\n",
       "      <td>1</td>\n",
       "    </tr>\n",
       "    <tr>\n",
       "      <th>568627</th>\n",
       "      <td>7529.656120</td>\n",
       "      <td>0.015884</td>\n",
       "      <td>4.135654</td>\n",
       "      <td>-6.370653</td>\n",
       "      <td>6.542822</td>\n",
       "      <td>0.996351</td>\n",
       "      <td>-3.011992</td>\n",
       "      <td>-1.655039</td>\n",
       "      <td>0.214995</td>\n",
       "      <td>-2.935441</td>\n",
       "      <td>...</td>\n",
       "      <td>0.366949</td>\n",
       "      <td>-0.595340</td>\n",
       "      <td>-0.592370</td>\n",
       "      <td>-0.232141</td>\n",
       "      <td>1.535838</td>\n",
       "      <td>0.521252</td>\n",
       "      <td>0.736317</td>\n",
       "      <td>0.506719</td>\n",
       "      <td>1.000000</td>\n",
       "      <td>1</td>\n",
       "    </tr>\n",
       "    <tr>\n",
       "      <th>568628</th>\n",
       "      <td>26564.385892</td>\n",
       "      <td>-19.375448</td>\n",
       "      <td>11.898303</td>\n",
       "      <td>-22.076744</td>\n",
       "      <td>6.094710</td>\n",
       "      <td>-14.835841</td>\n",
       "      <td>-4.319829</td>\n",
       "      <td>-15.441971</td>\n",
       "      <td>12.978512</td>\n",
       "      <td>-3.992429</td>\n",
       "      <td>...</td>\n",
       "      <td>1.747937</td>\n",
       "      <td>-1.369483</td>\n",
       "      <td>-0.776511</td>\n",
       "      <td>0.118291</td>\n",
       "      <td>1.313119</td>\n",
       "      <td>-0.224671</td>\n",
       "      <td>1.614277</td>\n",
       "      <td>0.482389</td>\n",
       "      <td>99.990000</td>\n",
       "      <td>1</td>\n",
       "    </tr>\n",
       "    <tr>\n",
       "      <th>568629</th>\n",
       "      <td>76678.985650</td>\n",
       "      <td>-3.128776</td>\n",
       "      <td>2.623593</td>\n",
       "      <td>-4.456852</td>\n",
       "      <td>3.487109</td>\n",
       "      <td>-3.013422</td>\n",
       "      <td>-1.216674</td>\n",
       "      <td>-3.198055</td>\n",
       "      <td>1.698416</td>\n",
       "      <td>-1.752450</td>\n",
       "      <td>...</td>\n",
       "      <td>0.456388</td>\n",
       "      <td>-0.590431</td>\n",
       "      <td>-0.266199</td>\n",
       "      <td>-0.006608</td>\n",
       "      <td>0.334512</td>\n",
       "      <td>-0.351433</td>\n",
       "      <td>-0.100118</td>\n",
       "      <td>0.334722</td>\n",
       "      <td>139.118935</td>\n",
       "      <td>1</td>\n",
       "    </tr>\n",
       "  </tbody>\n",
       "</table>\n",
       "<p>568630 rows × 31 columns</p>\n",
       "</div>"
      ],
      "text/plain": [
       "                 Time         V1         V2         V3        V4         V5  \\\n",
       "0            0.000000  -1.359807  -0.072781   2.536347  1.378155  -0.338321   \n",
       "1            0.000000   1.191857   0.266151   0.166480  0.448154   0.060018   \n",
       "2            1.000000  -1.358354  -1.340163   1.773209  0.379780  -0.503198   \n",
       "3            1.000000  -0.966272  -0.185226   1.792993 -0.863291  -0.010309   \n",
       "4            2.000000  -1.158233   0.877737   1.548718  0.403034  -0.407193   \n",
       "...               ...        ...        ...        ...       ...        ...   \n",
       "568625  148047.987790   0.797161   3.054799  -5.553009  5.335095   1.453799   \n",
       "568626   68207.000000 -13.192671  12.785971  -9.906650  3.320337  -4.801176   \n",
       "568627    7529.656120   0.015884   4.135654  -6.370653  6.542822   0.996351   \n",
       "568628   26564.385892 -19.375448  11.898303 -22.076744  6.094710 -14.835841   \n",
       "568629   76678.985650  -3.128776   2.623593  -4.456852  3.487109  -3.013422   \n",
       "\n",
       "              V6         V7         V8        V9  ...        V21       V22  \\\n",
       "0       0.462388   0.239599   0.098698  0.363787  ...  -0.018307  0.277838   \n",
       "1      -0.082361  -0.078803   0.085102 -0.255425  ...  -0.225775 -0.638672   \n",
       "2       1.800499   0.791461   0.247676 -1.514654  ...   0.247998  0.771679   \n",
       "3       1.247203   0.237609   0.377436 -1.387024  ...  -0.108300  0.005274   \n",
       "4       0.095921   0.592941  -0.270533  0.817739  ...  -0.009431  0.798278   \n",
       "...          ...        ...        ...       ...  ...        ...       ...   \n",
       "568625 -1.593198  -1.025434   0.224067 -3.006830  ...   0.246952 -0.530084   \n",
       "568626  5.760059 -18.750889 -37.353443 -0.391540  ...  27.202839 -8.887017   \n",
       "568627 -3.011992  -1.655039   0.214995 -2.935441  ...   0.366949 -0.595340   \n",
       "568628 -4.319829 -15.441971  12.978512 -3.992429  ...   1.747937 -1.369483   \n",
       "568629 -1.216674  -3.198055   1.698416 -1.752450  ...   0.456388 -0.590431   \n",
       "\n",
       "             V23       V24       V25       V26       V27       V28  \\\n",
       "0      -0.110474  0.066928  0.128539 -0.189115  0.133558 -0.021053   \n",
       "1       0.101288 -0.339846  0.167170  0.125895 -0.008983  0.014724   \n",
       "2       0.909412 -0.689281 -0.327642 -0.139097 -0.055353 -0.059752   \n",
       "3      -0.190321 -1.175575  0.647376 -0.221929  0.062723  0.061458   \n",
       "4      -0.137458  0.141267 -0.206010  0.502292  0.219422  0.215153   \n",
       "...          ...       ...       ...       ...       ...       ...   \n",
       "568625 -0.198887 -0.059250  0.558408  0.164054  0.544174  0.330898   \n",
       "568626  5.303607 -0.639435  0.263203 -0.108877  1.269566  0.939407   \n",
       "568627 -0.592370 -0.232141  1.535838  0.521252  0.736317  0.506719   \n",
       "568628 -0.776511  0.118291  1.313119 -0.224671  1.614277  0.482389   \n",
       "568629 -0.266199 -0.006608  0.334512 -0.351433 -0.100118  0.334722   \n",
       "\n",
       "            Amount  Class  \n",
       "0       149.620000      0  \n",
       "1         2.690000      0  \n",
       "2       378.660000      0  \n",
       "3       123.500000      0  \n",
       "4        69.990000      0  \n",
       "...            ...    ...  \n",
       "568625    1.271223      1  \n",
       "568626    1.000000      1  \n",
       "568627    1.000000      1  \n",
       "568628   99.990000      1  \n",
       "568629  139.118935      1  \n",
       "\n",
       "[568630 rows x 31 columns]"
      ]
     },
     "execution_count": 14,
     "metadata": {},
     "output_type": "execute_result"
    }
   ],
   "source": [
    "df1"
   ]
  },
  {
   "cell_type": "markdown",
   "id": "fe7d9788",
   "metadata": {},
   "source": [
    "## After Correcting the Balance of DF[\"Class\"]"
   ]
  },
  {
   "cell_type": "code",
   "execution_count": 15,
   "id": "68d7b274",
   "metadata": {},
   "outputs": [
    {
     "data": {
      "text/plain": [
       "0    284315\n",
       "1    284315\n",
       "Name: Class, dtype: int64"
      ]
     },
     "execution_count": 15,
     "metadata": {},
     "output_type": "execute_result"
    }
   ],
   "source": [
    "df1[\"Class\"].value_counts()"
   ]
  },
  {
   "cell_type": "code",
   "execution_count": 16,
   "id": "9118a680",
   "metadata": {},
   "outputs": [
    {
     "data": {
      "text/plain": [
       "<AxesSubplot:>"
      ]
     },
     "execution_count": 16,
     "metadata": {},
     "output_type": "execute_result"
    },
    {
     "data": {
      "image/png": "[encoded data removed]",
      "text/plain": [
       "<Figure size 432x288 with 1 Axes>"
      ]
     },
     "metadata": {
      "needs_background": "light"
     },
     "output_type": "display_data"
    }
   ],
   "source": [
    "df1[\"Class\"].value_counts().plot(kind = 'bar')"
   ]
  },
  {
   "cell_type": "markdown",
   "id": "b23bddc2",
   "metadata": {},
   "source": [
    "## Shuffling The DF"
   ]
  },
  {
   "cell_type": "code",
   "execution_count": 17,
   "id": "e22bbe6d",
   "metadata": {},
   "outputs": [],
   "source": [
    "df1 = df1.sample(frac=1)"
   ]
  },
  {
   "cell_type": "code",
   "execution_count": 18,
   "id": "17d96ca4",
   "metadata": {},
   "outputs": [
    {
     "data": {
      "text/plain": [
       "Time      0\n",
       "V1        0\n",
       "V2        0\n",
       "V3        0\n",
       "V4        0\n",
       "V5        0\n",
       "V6        0\n",
       "V7        0\n",
       "V8        0\n",
       "V9        0\n",
       "V10       0\n",
       "V11       0\n",
       "V12       0\n",
       "V13       0\n",
       "V14       0\n",
       "V15       0\n",
       "V16       0\n",
       "V17       0\n",
       "V18       0\n",
       "V19       0\n",
       "V20       0\n",
       "V21       0\n",
       "V22       0\n",
       "V23       0\n",
       "V24       0\n",
       "V25       0\n",
       "V26       0\n",
       "V27       0\n",
       "V28       0\n",
       "Amount    0\n",
       "Class     0\n",
       "dtype: int64"
      ]
     },
     "execution_count": 18,
     "metadata": {},
     "output_type": "execute_result"
    }
   ],
   "source": [
    "df1.isna().sum()"
   ]
  },
  {
   "cell_type": "code",
   "execution_count": 19,
   "id": "ad520c31",
   "metadata": {},
   "outputs": [
    {
     "data": {
      "text/plain": [
       "Index(['Time', 'V1', 'V2', 'V3', 'V4', 'V5', 'V6', 'V7', 'V8', 'V9', 'V10',\n",
       "       'V11', 'V12', 'V13', 'V14', 'V15', 'V16', 'V17', 'V18', 'V19', 'V20',\n",
       "       'V21', 'V22', 'V23', 'V24', 'V25', 'V26', 'V27', 'V28', 'Amount',\n",
       "       'Class'],\n",
       "      dtype='object')"
      ]
     },
     "execution_count": 19,
     "metadata": {},
     "output_type": "execute_result"
    }
   ],
   "source": [
    "df1.columns"
   ]
  },
  {
   "cell_type": "code",
   "execution_count": 20,
   "id": "0b4179b5",
   "metadata": {},
   "outputs": [],
   "source": [
    "clist = ['Time', 'V1', 'V2', 'V3', 'V4', 'V5', 'V6', 'V7', 'V8', 'V9', 'V10',\n",
    "       'V11', 'V12', 'V13', 'V14', 'V15', 'V16', 'V17', 'V18', 'V19', 'V20',\n",
    "       'V21', 'V22', 'V23', 'V24', 'V25', 'V26', 'V27', 'V28', 'Amount']"
   ]
  },
  {
   "cell_type": "markdown",
   "id": "2b774a01",
   "metadata": {},
   "source": [
    "## OD_Tech"
   ]
  },
  {
   "cell_type": "code",
   "execution_count": 21,
   "id": "063e2bda",
   "metadata": {},
   "outputs": [],
   "source": [
    "def odiqr(df):\n",
    "    q1 = df.quantile(0.25)\n",
    "    q3 = df.quantile(0.75)\n",
    "    iqr = q3 - q1\n",
    "    low = q1 - (1.5 * iqr)\n",
    "    high = q3 + (1.5 * iqr)\n",
    "    m = df.mean()\n",
    "    df = df.apply(lambda x : m if x < low else (m if x > high else x ) )\n",
    "    return df"
   ]
  },
  {
   "cell_type": "code",
   "execution_count": 22,
   "id": "22dd7059",
   "metadata": {},
   "outputs": [],
   "source": [
    "def odmsd(df):\n",
    "    m = round(df.mean(),2)\n",
    "    s = round(df.std(),2)\n",
    "    low = round(m-(3*s),2)\n",
    "    high = round(m+(3*s),2)\n",
    "    ft1 = df[df<low]\n",
    "    ft2 = df[df>high]\n",
    "    df = df.map(lambda x : low if x < low else (high if x > high else x ))"
   ]
  },
  {
   "cell_type": "code",
   "execution_count": 23,
   "id": "8f07f5ee",
   "metadata": {},
   "outputs": [
    {
     "name": "stdout",
     "output_type": "stream",
     "text": [
      "Time is 0.10314074640751805\n",
      "V1 is -2.5133676113984333\n",
      "V2 is 1.471713784629566\n",
      "V3 is -2.1065026932028355\n",
      "V4 is 0.7457025744365161\n",
      "V5 is -2.3106211534532926\n",
      "V6 is 0.6933704024107121\n",
      "V7 is -2.436794248856599\n",
      "V8 is -3.380047353495773\n",
      "V9 is -1.1987625941927484\n",
      "V10 is -1.638313897234447\n",
      "V11 is 0.9896096284599116\n",
      "V12 is -1.3085717772981265\n",
      "V13 is 0.05648736448786878\n",
      "V14 is -0.9162017277050574\n",
      "V15 is -0.4876054760133788\n",
      "V16 is -1.4025841258518026\n",
      "V17 is -1.5457163667430056\n",
      "V18 is -1.4066346480760772\n",
      "V19 is 0.512373286057064\n",
      "V20 is 1.3044796798311227\n",
      "V21 is 4.777514811113607\n",
      "V22 is -2.284173624985691\n",
      "V23 is -3.660954803177771\n",
      "V24 is -0.4461911162709423\n",
      "V25 is -0.2601881162660025\n",
      "V26 is 0.5124757708083083\n",
      "V27 is -2.584697570877311\n",
      "V28 is 2.150356912489029\n",
      "Amount is 13.603313652371897\n"
     ]
    }
   ],
   "source": [
    "for i in clist:\n",
    "    print(f'{i} is {df1[i].skew()}')"
   ]
  },
  {
   "cell_type": "code",
   "execution_count": 24,
   "id": "7c40ef59",
   "metadata": {},
   "outputs": [],
   "source": [
    "for i in df1.columns:\n",
    "    if df1[i].skew() <= 0.5:\n",
    "        odmsd(df1[i])\n",
    "    else:\n",
    "        df1[i] = odiqr(df1[i])"
   ]
  },
  {
   "cell_type": "code",
   "execution_count": 25,
   "id": "1c3a4f71",
   "metadata": {},
   "outputs": [
    {
     "name": "stdout",
     "output_type": "stream",
     "text": [
      "Time is 0.10314074640751805\n",
      "V1 is -2.5133676113984333\n",
      "V2 is 0.6885809996406781\n",
      "V3 is -2.1065026932028355\n",
      "V4 is 0.6187783136399427\n",
      "V5 is -2.3106211534532926\n",
      "V6 is -0.23759197086903264\n",
      "V7 is -2.436794248856599\n",
      "V8 is -3.380047353495773\n",
      "V9 is -1.1987625941927484\n",
      "V10 is -1.638313897234447\n",
      "V11 is 0.7574475983954295\n",
      "V12 is -1.3085717772981265\n",
      "V13 is 0.05648736448786878\n",
      "V14 is -0.9162017277050574\n",
      "V15 is -0.4876054760133788\n",
      "V16 is -1.4025841258518026\n",
      "V17 is -1.5457163667430056\n",
      "V18 is -1.4066346480760772\n",
      "V19 is 0.2133968372222076\n",
      "V20 is 0.35658162321891246\n",
      "V21 is 0.707892793756756\n",
      "V22 is -2.284173624985691\n",
      "V23 is -3.660954803177771\n",
      "V24 is -0.4461911162709423\n",
      "V25 is -0.2601881162660025\n",
      "V26 is 0.25189622126719846\n",
      "V27 is -2.584697570877311\n",
      "V28 is 0.2665617145008992\n",
      "Amount is 1.2523790280932312\n"
     ]
    }
   ],
   "source": [
    "for i in clist:\n",
    "    print(f'{i} is {df1[i].skew()}')"
   ]
  },
  {
   "cell_type": "markdown",
   "id": "b9cca2bc",
   "metadata": {},
   "source": [
    "### Splitting"
   ]
  },
  {
   "cell_type": "code",
   "execution_count": 26,
   "id": "194668bb",
   "metadata": {},
   "outputs": [],
   "source": [
    "X = df1.drop(\"Class\",axis=1)"
   ]
  },
  {
   "cell_type": "code",
   "execution_count": 27,
   "id": "8551e813",
   "metadata": {},
   "outputs": [
    {
     "data": {
      "text/html": [
       "<div>\n",
       "<style scoped>\n",
       "    .dataframe tbody tr th:only-of-type {\n",
       "        vertical-align: middle;\n",
       "    }\n",
       "\n",
       "    .dataframe tbody tr th {\n",
       "        vertical-align: top;\n",
       "    }\n",
       "\n",
       "    .dataframe thead th {\n",
       "        text-align: right;\n",
       "    }\n",
       "</style>\n",
       "<table border=\"1\" class=\"dataframe\">\n",
       "  <thead>\n",
       "    <tr style=\"text-align: right;\">\n",
       "      <th></th>\n",
       "      <th>Time</th>\n",
       "      <th>V1</th>\n",
       "      <th>V2</th>\n",
       "      <th>V3</th>\n",
       "      <th>V4</th>\n",
       "      <th>V5</th>\n",
       "      <th>V6</th>\n",
       "      <th>V7</th>\n",
       "      <th>V8</th>\n",
       "      <th>V9</th>\n",
       "      <th>...</th>\n",
       "      <th>V20</th>\n",
       "      <th>V21</th>\n",
       "      <th>V22</th>\n",
       "      <th>V23</th>\n",
       "      <th>V24</th>\n",
       "      <th>V25</th>\n",
       "      <th>V26</th>\n",
       "      <th>V27</th>\n",
       "      <th>V28</th>\n",
       "      <th>Amount</th>\n",
       "    </tr>\n",
       "  </thead>\n",
       "  <tbody>\n",
       "    <tr>\n",
       "      <th>289566</th>\n",
       "      <td>42098.686298</td>\n",
       "      <td>-3.707236</td>\n",
       "      <td>2.82541</td>\n",
       "      <td>-4.729371</td>\n",
       "      <td>4.810962</td>\n",
       "      <td>-0.109292</td>\n",
       "      <td>-1.918177</td>\n",
       "      <td>-3.293923</td>\n",
       "      <td>0.095193</td>\n",
       "      <td>-2.939877</td>\n",
       "      <td>...</td>\n",
       "      <td>-0.212813</td>\n",
       "      <td>1.561204</td>\n",
       "      <td>0.0806</td>\n",
       "      <td>0.235478</td>\n",
       "      <td>-0.172269</td>\n",
       "      <td>0.189396</td>\n",
       "      <td>0.108324</td>\n",
       "      <td>0.30537</td>\n",
       "      <td>-0.088895</td>\n",
       "      <td>1.0</td>\n",
       "    </tr>\n",
       "  </tbody>\n",
       "</table>\n",
       "<p>1 rows × 30 columns</p>\n",
       "</div>"
      ],
      "text/plain": [
       "                Time        V1       V2        V3        V4        V5  \\\n",
       "289566  42098.686298 -3.707236  2.82541 -4.729371  4.810962 -0.109292   \n",
       "\n",
       "              V6        V7        V8        V9  ...       V20       V21  \\\n",
       "289566 -1.918177 -3.293923  0.095193 -2.939877  ... -0.212813  1.561204   \n",
       "\n",
       "           V22       V23       V24       V25       V26      V27       V28  \\\n",
       "289566  0.0806  0.235478 -0.172269  0.189396  0.108324  0.30537 -0.088895   \n",
       "\n",
       "        Amount  \n",
       "289566     1.0  \n",
       "\n",
       "[1 rows x 30 columns]"
      ]
     },
     "execution_count": 27,
     "metadata": {},
     "output_type": "execute_result"
    }
   ],
   "source": [
    "X.sample()"
   ]
  },
  {
   "cell_type": "code",
   "execution_count": 28,
   "id": "19a516fb",
   "metadata": {},
   "outputs": [],
   "source": [
    "y = df1[\"Class\"]"
   ]
  },
  {
   "cell_type": "code",
   "execution_count": 29,
   "id": "c7c0321f",
   "metadata": {},
   "outputs": [
    {
     "data": {
      "text/plain": [
       "24541    0\n",
       "Name: Class, dtype: int64"
      ]
     },
     "execution_count": 29,
     "metadata": {},
     "output_type": "execute_result"
    }
   ],
   "source": [
    "y.sample()"
   ]
  },
  {
   "cell_type": "code",
   "execution_count": 30,
   "id": "2418ccaf",
   "metadata": {},
   "outputs": [
    {
     "data": {
      "text/plain": [
       "0    284315\n",
       "1    284315\n",
       "Name: Class, dtype: int64"
      ]
     },
     "execution_count": 30,
     "metadata": {},
     "output_type": "execute_result"
    }
   ],
   "source": [
    "y.value_counts()"
   ]
  },
  {
   "cell_type": "code",
   "execution_count": 31,
   "id": "04092573",
   "metadata": {},
   "outputs": [],
   "source": [
    "from sklearn.model_selection import train_test_split\n",
    "from sklearn.preprocessing import StandardScaler\n",
    "from sklearn.model_selection import KFold , cross_val_score\n",
    "from sklearn.ensemble import RandomForestClassifier\n",
    "from xgboost import XGBClassifier"
   ]
  },
  {
   "cell_type": "code",
   "execution_count": 32,
   "id": "2f838c32",
   "metadata": {},
   "outputs": [],
   "source": [
    "Xtrain,Xtest,ytrain,ytest = train_test_split(X,y,test_size=.25)"
   ]
  },
  {
   "cell_type": "code",
   "execution_count": 33,
   "id": "622198f5",
   "metadata": {},
   "outputs": [
    {
     "data": {
      "text/plain": [
       "((568630, 30), (426472, 30), (142158, 30))"
      ]
     },
     "execution_count": 33,
     "metadata": {},
     "output_type": "execute_result"
    }
   ],
   "source": [
    "X.shape , Xtrain.shape , Xtest.shape"
   ]
  },
  {
   "cell_type": "code",
   "execution_count": 34,
   "id": "e661cd60",
   "metadata": {},
   "outputs": [
    {
     "data": {
      "text/plain": [
       "((568630,), (426472,), (142158,))"
      ]
     },
     "execution_count": 34,
     "metadata": {},
     "output_type": "execute_result"
    }
   ],
   "source": [
    "y.shape , ytrain.shape , ytest.shape"
   ]
  },
  {
   "cell_type": "code",
   "execution_count": 35,
   "id": "b5666bb7",
   "metadata": {},
   "outputs": [],
   "source": [
    "kf = KFold(n_splits=6)"
   ]
  },
  {
   "cell_type": "code",
   "execution_count": 36,
   "id": "f230bfd7",
   "metadata": {},
   "outputs": [],
   "source": [
    "rfc = RandomForestClassifier()"
   ]
  },
  {
   "cell_type": "code",
   "execution_count": 37,
   "id": "fe07580a",
   "metadata": {},
   "outputs": [],
   "source": [
    "algo = [ rfc ]"
   ]
  },
  {
   "cell_type": "markdown",
   "id": "381cefdd",
   "metadata": {},
   "source": [
    "### Without Feature Scaling\n"
   ]
  },
  {
   "cell_type": "code",
   "execution_count": 38,
   "id": "dd1847d1",
   "metadata": {},
   "outputs": [
    {
     "name": "stdout",
     "output_type": "stream",
     "text": [
      "RandomForestClassifier() = 0.9998522770438526\n",
      "CPU times: user 7min 31s, sys: 6.84 s, total: 7min 38s\n",
      "Wall time: 9min 13s\n"
     ]
    }
   ],
   "source": [
    "%%time\n",
    "for i in algo:\n",
    "    i.fit(Xtrain,ytrain)\n",
    "    s = i.score(Xtest,ytest)\n",
    "    print(f'{i} = {s}')"
   ]
  },
  {
   "cell_type": "markdown",
   "id": "2771e5d1",
   "metadata": {},
   "source": [
    "### With Feature Scaling"
   ]
  },
  {
   "cell_type": "code",
   "execution_count": 39,
   "id": "bdddcdc3",
   "metadata": {},
   "outputs": [],
   "source": [
    "ss = StandardScaler()"
   ]
  },
  {
   "cell_type": "code",
   "execution_count": 40,
   "id": "a5b08656",
   "metadata": {},
   "outputs": [
    {
     "data": {
      "text/plain": [
       "StandardScaler()"
      ]
     },
     "execution_count": 40,
     "metadata": {},
     "output_type": "execute_result"
    }
   ],
   "source": [
    "ss.fit(Xtrain)"
   ]
  },
  {
   "cell_type": "code",
   "execution_count": 41,
   "id": "81355be0",
   "metadata": {},
   "outputs": [],
   "source": [
    "Xtrain_ss = ss.transform(Xtrain)"
   ]
  },
  {
   "cell_type": "code",
   "execution_count": 42,
   "id": "1ad25bcd",
   "metadata": {},
   "outputs": [],
   "source": [
    "Xtest_ss = ss.transform(Xtest)"
   ]
  },
  {
   "cell_type": "code",
   "execution_count": 43,
   "id": "41638e4a",
   "metadata": {},
   "outputs": [
    {
     "name": "stdout",
     "output_type": "stream",
     "text": [
      "RandomForestClassifier() = 0.9998522770438526\n",
      "CPU times: user 3min 43s, sys: 958 ms, total: 3min 44s\n",
      "Wall time: 3min 45s\n"
     ]
    }
   ],
   "source": [
    "%%time\n",
    "for i in algo:\n",
    "    i.fit(Xtrain_ss,ytrain)\n",
    "    s = i.score(Xtest_ss,ytest)\n",
    "    print(f'{i} = {s}')"
   ]
  },
  {
   "cell_type": "markdown",
   "id": "4c1ab13f",
   "metadata": {},
   "source": [
    "### With Cross Validation"
   ]
  },
  {
   "cell_type": "code",
   "execution_count": 44,
   "id": "1530d38d",
   "metadata": {},
   "outputs": [
    {
     "name": "stdout",
     "output_type": "stream",
     "text": [
      "RandomForestClassifier() = 0.9998980003891967\n",
      "CPU times: user 26min, sys: 7.72 s, total: 26min 7s\n",
      "Wall time: 26min 12s\n"
     ]
    }
   ],
   "source": [
    "%%time\n",
    "for i in algo:\n",
    "    s = cross_val_score(i,X,y,cv = kf)\n",
    "    print(f'{i} = {s.mean()}')"
   ]
  },
  {
   "cell_type": "markdown",
   "id": "27f255fc",
   "metadata": {},
   "source": [
    "## Boosting"
   ]
  },
  {
   "cell_type": "code",
   "execution_count": 45,
   "id": "033d8542",
   "metadata": {},
   "outputs": [],
   "source": [
    "rfc1 = RandomForestClassifier(n_estimators=150,max_depth=2,max_leaf_nodes=3)"
   ]
  },
  {
   "cell_type": "code",
   "execution_count": 46,
   "id": "b00e8da8",
   "metadata": {},
   "outputs": [],
   "source": [
    "xg = XGBClassifier(use_label_encoder=False)"
   ]
  },
  {
   "cell_type": "code",
   "execution_count": 47,
   "id": "6c9073f8",
   "metadata": {},
   "outputs": [],
   "source": [
    "algo1 = [rfc1  , xg ]"
   ]
  },
  {
   "cell_type": "code",
   "execution_count": 48,
   "id": "5c3552db",
   "metadata": {},
   "outputs": [
    {
     "name": "stdout",
     "output_type": "stream",
     "text": [
      "RandomForestClassifier(max_depth=2, max_leaf_nodes=3, n_estimators=150)\n",
      "XGBClassifier(base_score=None, booster=None, colsample_bylevel=None,\n",
      "              colsample_bynode=None, colsample_bytree=None,\n",
      "              enable_categorical=False, gamma=None, gpu_id=None,\n",
      "              importance_type=None, interaction_constraints=None,\n",
      "              learning_rate=None, max_delta_step=None, max_depth=None,\n",
      "              min_child_weight=None, missing=nan, monotone_constraints=None,\n",
      "              n_estimators=100, n_jobs=None, num_parallel_tree=None,\n",
      "              predictor=None, random_state=None, reg_alpha=None,\n",
      "              reg_lambda=None, scale_pos_weight=None, subsample=None,\n",
      "              tree_method=None, use_label_encoder=False,\n",
      "              validate_parameters=None, verbosity=None)\n",
      "CPU times: user 1.16 ms, sys: 774 µs, total: 1.94 ms\n",
      "Wall time: 5.62 ms\n"
     ]
    }
   ],
   "source": [
    "%%time\n",
    "for i in algo1:\n",
    "    print(i)"
   ]
  },
  {
   "cell_type": "markdown",
   "id": "bb9ef270",
   "metadata": {},
   "source": [
    "### Without Feature Scaling\n"
   ]
  },
  {
   "cell_type": "code",
   "execution_count": 49,
   "id": "86521e21",
   "metadata": {},
   "outputs": [
    {
     "name": "stdout",
     "output_type": "stream",
     "text": [
      "RandomForestClassifier(max_depth=2, max_leaf_nodes=3, n_estimators=150) = 0.9559222836562135\n",
      "[17:35:08] WARNING: /Users/runner/miniforge3/conda-bld/xgboost-split_1645117948562/work/src/learner.cc:1115: Starting in XGBoost 1.3.0, the default evaluation metric used with the objective 'binary:logistic' was changed from 'error' to 'logloss'. Explicitly set eval_metric if you'd like to restore the old behavior.\n",
      "XGBClassifier(base_score=0.5, booster='gbtree', colsample_bylevel=1,\n",
      "              colsample_bynode=1, colsample_bytree=1, enable_categorical=False,\n",
      "              gamma=0, gpu_id=-1, importance_type=None,\n",
      "              interaction_constraints='', learning_rate=0.300000012,\n",
      "              max_delta_step=0, max_depth=6, min_child_weight=1, missing=nan,\n",
      "              monotone_constraints='()', n_estimators=100, n_jobs=8,\n",
      "              num_parallel_tree=1, predictor='auto', random_state=0,\n",
      "              reg_alpha=0, reg_lambda=1, scale_pos_weight=1, subsample=1,\n",
      "              tree_method='exact', use_label_encoder=False,\n",
      "              validate_parameters=1, verbosity=None) = 0.9997819327790205\n",
      "CPU times: user 7min 6s, sys: 8.8 s, total: 7min 15s\n",
      "Wall time: 1min 38s\n"
     ]
    }
   ],
   "source": [
    "%%time\n",
    "for i in algo1:\n",
    "    i.fit(Xtrain,ytrain)\n",
    "    s = i.score(Xtest,ytest)\n",
    "    print(f'{i} = {s}')"
   ]
  },
  {
   "cell_type": "markdown",
   "id": "be3503ce",
   "metadata": {},
   "source": [
    "### With Feature Scaling"
   ]
  },
  {
   "cell_type": "code",
   "execution_count": 50,
   "id": "45a84fc0",
   "metadata": {},
   "outputs": [
    {
     "name": "stdout",
     "output_type": "stream",
     "text": [
      "RandomForestClassifier(max_depth=2, max_leaf_nodes=3, n_estimators=150) = 0.9516242490749729\n",
      "[17:36:46] WARNING: /Users/runner/miniforge3/conda-bld/xgboost-split_1645117948562/work/src/learner.cc:1115: Starting in XGBoost 1.3.0, the default evaluation metric used with the objective 'binary:logistic' was changed from 'error' to 'logloss'. Explicitly set eval_metric if you'd like to restore the old behavior.\n",
      "XGBClassifier(base_score=0.5, booster='gbtree', colsample_bylevel=1,\n",
      "              colsample_bynode=1, colsample_bytree=1, enable_categorical=False,\n",
      "              gamma=0, gpu_id=-1, importance_type=None,\n",
      "              interaction_constraints='', learning_rate=0.300000012,\n",
      "              max_delta_step=0, max_depth=6, min_child_weight=1, missing=nan,\n",
      "              monotone_constraints='()', n_estimators=100, n_jobs=8,\n",
      "              num_parallel_tree=1, predictor='auto', random_state=0,\n",
      "              reg_alpha=0, reg_lambda=1, scale_pos_weight=1, subsample=1,\n",
      "              tree_method='exact', use_label_encoder=False,\n",
      "              validate_parameters=1, verbosity=None) = 0.9997819327790205\n",
      "CPU times: user 7min 23s, sys: 8.84 s, total: 7min 32s\n",
      "Wall time: 1min 40s\n"
     ]
    }
   ],
   "source": [
    "%%time\n",
    "for i in algo1:\n",
    "    i.fit(Xtrain_ss,ytrain)\n",
    "    s = i.score(Xtest_ss,ytest)\n",
    "    print(f'{i} = {s}')"
   ]
  },
  {
   "cell_type": "markdown",
   "id": "6f62d45d",
   "metadata": {},
   "source": [
    "###  With Cross Validation (Boosting)\n"
   ]
  },
  {
   "cell_type": "code",
   "execution_count": 51,
   "id": "d32a3e43",
   "metadata": {},
   "outputs": [
    {
     "name": "stdout",
     "output_type": "stream",
     "text": [
      "RandomForestClassifier(max_depth=2, max_leaf_nodes=3, n_estimators=150) = 0.9555053390526546\n",
      "[17:43:19] WARNING: /Users/runner/miniforge3/conda-bld/xgboost-split_1645117948562/work/src/learner.cc:1115: Starting in XGBoost 1.3.0, the default evaluation metric used with the objective 'binary:logistic' was changed from 'error' to 'logloss'. Explicitly set eval_metric if you'd like to restore the old behavior.\n",
      "[17:44:16] WARNING: /Users/runner/miniforge3/conda-bld/xgboost-split_1645117948562/work/src/learner.cc:1115: Starting in XGBoost 1.3.0, the default evaluation metric used with the objective 'binary:logistic' was changed from 'error' to 'logloss'. Explicitly set eval_metric if you'd like to restore the old behavior.\n",
      "[17:45:21] WARNING: /Users/runner/miniforge3/conda-bld/xgboost-split_1645117948562/work/src/learner.cc:1115: Starting in XGBoost 1.3.0, the default evaluation metric used with the objective 'binary:logistic' was changed from 'error' to 'logloss'. Explicitly set eval_metric if you'd like to restore the old behavior.\n",
      "[17:46:31] WARNING: /Users/runner/miniforge3/conda-bld/xgboost-split_1645117948562/work/src/learner.cc:1115: Starting in XGBoost 1.3.0, the default evaluation metric used with the objective 'binary:logistic' was changed from 'error' to 'logloss'. Explicitly set eval_metric if you'd like to restore the old behavior.\n",
      "[17:47:41] WARNING: /Users/runner/miniforge3/conda-bld/xgboost-split_1645117948562/work/src/learner.cc:1115: Starting in XGBoost 1.3.0, the default evaluation metric used with the objective 'binary:logistic' was changed from 'error' to 'logloss'. Explicitly set eval_metric if you'd like to restore the old behavior.\n",
      "[17:48:58] WARNING: /Users/runner/miniforge3/conda-bld/xgboost-split_1645117948562/work/src/learner.cc:1115: Starting in XGBoost 1.3.0, the default evaluation metric used with the objective 'binary:logistic' was changed from 'error' to 'logloss'. Explicitly set eval_metric if you'd like to restore the old behavior.\n",
      "XGBClassifier(base_score=0.5, booster='gbtree', colsample_bylevel=1,\n",
      "              colsample_bynode=1, colsample_bytree=1, enable_categorical=False,\n",
      "              gamma=0, gpu_id=-1, importance_type=None,\n",
      "              interaction_constraints='', learning_rate=0.300000012,\n",
      "              max_delta_step=0, max_depth=6, min_child_weight=1, missing=nan,\n",
      "              monotone_constraints='()', n_estimators=100, n_jobs=8,\n",
      "              num_parallel_tree=1, predictor='auto', random_state=0,\n",
      "              reg_alpha=0, reg_lambda=1, scale_pos_weight=1, subsample=1,\n",
      "              tree_method='exact', use_label_encoder=False,\n",
      "              validate_parameters=1, verbosity=None) = 0.9998294145268654\n",
      "CPU times: user 53min 53s, sys: 1min 23s, total: 55min 16s\n",
      "Wall time: 12min 36s\n"
     ]
    }
   ],
   "source": [
    "%%time\n",
    "for i in algo1:\n",
    "    s = cross_val_score(i,X,y,cv = kf)\n",
    "    print(f'{i} = {s.mean()}')"
   ]
  }
 ],
 "metadata": {
  "kernelspec": {
   "display_name": "Python 3 (ipykernel)",
   "language": "python",
   "name": "python3"
  },
  "language_info": {
   "codemirror_mode": {
    "name": "ipython",
    "version": 3
   },
   "file_extension": ".py",
   "mimetype": "text/x-python",
   "name": "python",
   "nbconvert_exporter": "python",
   "pygments_lexer": "ipython3",
   "version": "3.9.7"
  }
 },
 "nbformat": 4,
 "nbformat_minor": 5
}
