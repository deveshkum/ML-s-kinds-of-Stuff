{
 "cells": [
  {
   "cell_type": "code",
   "execution_count": 13,
   "id": "ce7ac26f",
   "metadata": {},
   "outputs": [],
   "source": [
    "import numpy as np\n",
    "import pandas as pd"
   ]
  },
  {
   "cell_type": "code",
   "execution_count": 14,
   "id": "703acd59",
   "metadata": {},
   "outputs": [],
   "source": [
    "df = pd.read_csv(\"/Users/dev/Personal/DS & AI Class Notes/Data Sets/Logistic Regression/sonar.all-data.csv\",header=None)"
   ]
  },
  {
   "cell_type": "code",
   "execution_count": 15,
   "id": "c316130d",
   "metadata": {},
   "outputs": [],
   "source": [
    "df = df.sample(frac=1)"
   ]
  },
  {
   "cell_type": "code",
   "execution_count": 16,
   "id": "71f8c05c",
   "metadata": {},
   "outputs": [
    {
     "data": {
      "text/plain": [
       "0     0\n",
       "1     0\n",
       "2     0\n",
       "3     0\n",
       "4     0\n",
       "     ..\n",
       "56    0\n",
       "57    0\n",
       "58    0\n",
       "59    0\n",
       "60    0\n",
       "Length: 61, dtype: int64"
      ]
     },
     "execution_count": 16,
     "metadata": {},
     "output_type": "execute_result"
    }
   ],
   "source": [
    "df.isna().sum()"
   ]
  },
  {
   "cell_type": "markdown",
   "id": "5d4a9001",
   "metadata": {},
   "source": [
    "### Func for Checking Zeros"
   ]
  },
  {
   "cell_type": "code",
   "execution_count": 17,
   "id": "dc56f0e2",
   "metadata": {},
   "outputs": [],
   "source": [
    "def checkz(df):\n",
    "    return df[df == 0].value_counts()"
   ]
  },
  {
   "cell_type": "code",
   "execution_count": 18,
   "id": "0ae43974",
   "metadata": {},
   "outputs": [
    {
     "name": "stdout",
     "output_type": "stream",
     "text": [
      "Series([], Name: 0, dtype: int64)\n",
      "Series([], Name: 1, dtype: int64)\n",
      "Series([], Name: 2, dtype: int64)\n",
      "Series([], Name: 3, dtype: int64)\n",
      "Series([], Name: 4, dtype: int64)\n",
      "Series([], Name: 5, dtype: int64)\n",
      "Series([], Name: 6, dtype: int64)\n",
      "Series([], Name: 7, dtype: int64)\n",
      "Series([], Name: 8, dtype: int64)\n",
      "Series([], Name: 9, dtype: int64)\n",
      "Series([], Name: 10, dtype: int64)\n",
      "Series([], Name: 11, dtype: int64)\n",
      "Series([], Name: 12, dtype: int64)\n",
      "Series([], Name: 13, dtype: int64)\n",
      "Series([], Name: 14, dtype: int64)\n",
      "Series([], Name: 15, dtype: int64)\n",
      "Series([], Name: 16, dtype: int64)\n",
      "Series([], Name: 17, dtype: int64)\n",
      "Series([], Name: 18, dtype: int64)\n",
      "Series([], Name: 19, dtype: int64)\n",
      "Series([], Name: 20, dtype: int64)\n",
      "Series([], Name: 21, dtype: int64)\n",
      "Series([], Name: 22, dtype: int64)\n",
      "Series([], Name: 23, dtype: int64)\n",
      "Series([], Name: 24, dtype: int64)\n",
      "Series([], Name: 25, dtype: int64)\n",
      "Series([], Name: 26, dtype: int64)\n",
      "Series([], Name: 27, dtype: int64)\n",
      "Series([], Name: 28, dtype: int64)\n",
      "Series([], Name: 29, dtype: int64)\n",
      "Series([], Name: 30, dtype: int64)\n",
      "Series([], Name: 31, dtype: int64)\n",
      "Series([], Name: 32, dtype: int64)\n",
      "Series([], Name: 33, dtype: int64)\n",
      "Series([], Name: 34, dtype: int64)\n",
      "Series([], Name: 35, dtype: int64)\n",
      "Series([], Name: 36, dtype: int64)\n",
      "Series([], Name: 37, dtype: int64)\n",
      "Series([], Name: 38, dtype: int64)\n",
      "Series([], Name: 39, dtype: int64)\n",
      "Series([], Name: 40, dtype: int64)\n",
      "Series([], Name: 41, dtype: int64)\n",
      "0.0    1\n",
      "Name: 42, dtype: int64\n",
      "0.0    1\n",
      "Name: 43, dtype: int64\n",
      "0.0    1\n",
      "Name: 44, dtype: int64\n",
      "0.0    1\n",
      "Name: 45, dtype: int64\n",
      "0.0    1\n",
      "Name: 46, dtype: int64\n",
      "0.0    1\n",
      "Name: 47, dtype: int64\n",
      "0.0    1\n",
      "Name: 48, dtype: int64\n",
      "0.0    1\n",
      "Name: 49, dtype: int64\n",
      "0.0    1\n",
      "Name: 50, dtype: int64\n",
      "Series([], Name: 51, dtype: int64)\n",
      "Series([], Name: 52, dtype: int64)\n",
      "Series([], Name: 53, dtype: int64)\n",
      "Series([], Name: 54, dtype: int64)\n",
      "Series([], Name: 55, dtype: int64)\n",
      "Series([], Name: 56, dtype: int64)\n",
      "Series([], Name: 57, dtype: int64)\n",
      "Series([], Name: 58, dtype: int64)\n",
      "Series([], Name: 59, dtype: int64)\n",
      "Series([], Name: 60, dtype: int64)\n"
     ]
    }
   ],
   "source": [
    "for i in df.columns:\n",
    "    print(checkz(df[i]))"
   ]
  },
  {
   "cell_type": "code",
   "execution_count": 19,
   "id": "51f2898f",
   "metadata": {},
   "outputs": [
    {
     "data": {
      "text/plain": [
       "Int64Index([ 0,  1,  2,  3,  4,  5,  6,  7,  8,  9, 10, 11, 12, 13, 14, 15, 16,\n",
       "            17, 18, 19, 20, 21, 22, 23, 24, 25, 26, 27, 28, 29, 30, 31, 32, 33,\n",
       "            34, 35, 36, 37, 38, 39, 40, 41, 42, 43, 44, 45, 46, 47, 48, 49, 50,\n",
       "            51, 52, 53, 54, 55, 56, 57, 58, 59, 60],\n",
       "           dtype='int64')"
      ]
     },
     "execution_count": 19,
     "metadata": {},
     "output_type": "execute_result"
    }
   ],
   "source": [
    "df.columns"
   ]
  },
  {
   "cell_type": "code",
   "execution_count": 29,
   "id": "db59372b",
   "metadata": {},
   "outputs": [],
   "source": [
    "clist = df.columns[0:60:1]"
   ]
  },
  {
   "cell_type": "code",
   "execution_count": 34,
   "id": "8e499158",
   "metadata": {},
   "outputs": [
    {
     "data": {
      "text/plain": [
       "Int64Index([ 0,  1,  2,  3,  4,  5,  6,  7,  8,  9, 10, 11, 12, 13, 14, 15, 16,\n",
       "            17, 18, 19, 20, 21, 22, 23, 24, 25, 26, 27, 28, 29, 30, 31, 32, 33,\n",
       "            34, 35, 36, 37, 38, 39, 40, 41, 42, 43, 44, 45, 46, 47, 48, 49, 50,\n",
       "            51, 52, 53, 54, 55, 56, 57, 58, 59],\n",
       "           dtype='int64')"
      ]
     },
     "execution_count": 34,
     "metadata": {},
     "output_type": "execute_result"
    }
   ],
   "source": [
    "clist"
   ]
  },
  {
   "cell_type": "markdown",
   "id": "615d4118",
   "metadata": {},
   "source": [
    "### Func for Removing Zeros"
   ]
  },
  {
   "cell_type": "code",
   "execution_count": 35,
   "id": "52f23761",
   "metadata": {},
   "outputs": [],
   "source": [
    "def zeroremove(df):\n",
    "    m = round(df.mean(),2)\n",
    "    df.replace(0,m,inplace = True) "
   ]
  },
  {
   "cell_type": "code",
   "execution_count": 36,
   "id": "269c6c8d",
   "metadata": {},
   "outputs": [],
   "source": [
    "for i in clist:\n",
    "    zeroremove(df[i])"
   ]
  },
  {
   "cell_type": "code",
   "execution_count": 37,
   "id": "d643588c",
   "metadata": {
    "scrolled": false
   },
   "outputs": [
    {
     "name": "stdout",
     "output_type": "stream",
     "text": [
      "Series([], Name: 0, dtype: int64)\n",
      "Series([], Name: 1, dtype: int64)\n",
      "Series([], Name: 2, dtype: int64)\n",
      "Series([], Name: 3, dtype: int64)\n",
      "Series([], Name: 4, dtype: int64)\n",
      "Series([], Name: 5, dtype: int64)\n",
      "Series([], Name: 6, dtype: int64)\n",
      "Series([], Name: 7, dtype: int64)\n",
      "Series([], Name: 8, dtype: int64)\n",
      "Series([], Name: 9, dtype: int64)\n",
      "Series([], Name: 10, dtype: int64)\n",
      "Series([], Name: 11, dtype: int64)\n",
      "Series([], Name: 12, dtype: int64)\n",
      "Series([], Name: 13, dtype: int64)\n",
      "Series([], Name: 14, dtype: int64)\n",
      "Series([], Name: 15, dtype: int64)\n",
      "Series([], Name: 16, dtype: int64)\n",
      "Series([], Name: 17, dtype: int64)\n",
      "Series([], Name: 18, dtype: int64)\n",
      "Series([], Name: 19, dtype: int64)\n",
      "Series([], Name: 20, dtype: int64)\n",
      "Series([], Name: 21, dtype: int64)\n",
      "Series([], Name: 22, dtype: int64)\n",
      "Series([], Name: 23, dtype: int64)\n",
      "Series([], Name: 24, dtype: int64)\n",
      "Series([], Name: 25, dtype: int64)\n",
      "Series([], Name: 26, dtype: int64)\n",
      "Series([], Name: 27, dtype: int64)\n",
      "Series([], Name: 28, dtype: int64)\n",
      "Series([], Name: 29, dtype: int64)\n",
      "Series([], Name: 30, dtype: int64)\n",
      "Series([], Name: 31, dtype: int64)\n",
      "Series([], Name: 32, dtype: int64)\n",
      "Series([], Name: 33, dtype: int64)\n",
      "Series([], Name: 34, dtype: int64)\n",
      "Series([], Name: 35, dtype: int64)\n",
      "Series([], Name: 36, dtype: int64)\n",
      "Series([], Name: 37, dtype: int64)\n",
      "Series([], Name: 38, dtype: int64)\n",
      "Series([], Name: 39, dtype: int64)\n",
      "Series([], Name: 40, dtype: int64)\n",
      "Series([], Name: 41, dtype: int64)\n",
      "Series([], Name: 42, dtype: int64)\n",
      "Series([], Name: 43, dtype: int64)\n",
      "Series([], Name: 44, dtype: int64)\n",
      "Series([], Name: 45, dtype: int64)\n",
      "Series([], Name: 46, dtype: int64)\n",
      "Series([], Name: 47, dtype: int64)\n",
      "Series([], Name: 48, dtype: int64)\n",
      "Series([], Name: 49, dtype: int64)\n",
      "Series([], Name: 50, dtype: int64)\n",
      "Series([], Name: 51, dtype: int64)\n",
      "Series([], Name: 52, dtype: int64)\n",
      "Series([], Name: 53, dtype: int64)\n",
      "Series([], Name: 54, dtype: int64)\n",
      "Series([], Name: 55, dtype: int64)\n",
      "Series([], Name: 56, dtype: int64)\n",
      "Series([], Name: 57, dtype: int64)\n",
      "Series([], Name: 58, dtype: int64)\n",
      "Series([], Name: 59, dtype: int64)\n",
      "Series([], Name: 60, dtype: int64)\n"
     ]
    }
   ],
   "source": [
    "for i in df.columns:\n",
    "    print(checkz(df[i]))"
   ]
  },
  {
   "cell_type": "markdown",
   "id": "4c35a03a",
   "metadata": {},
   "source": [
    "## OD Tech"
   ]
  },
  {
   "cell_type": "code",
   "execution_count": 39,
   "id": "5478eac5",
   "metadata": {},
   "outputs": [],
   "source": [
    "def odiqr(df):\n",
    "    q1 = df.quantile(0.25)\n",
    "    q3 = df.quantile(0.75)\n",
    "    iqr = q3 - q1\n",
    "    low = q1 - (1.5 * iqr)\n",
    "    high = q3 + (1.5 * iqr)\n",
    "    m = df.mean()\n",
    "    df = df.apply(lambda x : m if x < low else (m if x > high else x ) )\n",
    "    return df"
   ]
  },
  {
   "cell_type": "code",
   "execution_count": 40,
   "id": "25b729ef",
   "metadata": {},
   "outputs": [],
   "source": [
    "def odmsd(df):\n",
    "    m = round(df.mean(),2)\n",
    "    s = round(df.std(),2)\n",
    "    low = round(m-(3*s),2)\n",
    "    high = round(m+(3*s),2)\n",
    "    ft1 = df[df<low]\n",
    "    ft2 = df[df>high]\n",
    "    df = df.map(lambda x : low if x < low else (high if x > high else x ))"
   ]
  },
  {
   "cell_type": "markdown",
   "id": "60c486ba",
   "metadata": {},
   "source": [
    "### Checking Skew of Each Columns"
   ]
  },
  {
   "cell_type": "code",
   "execution_count": 42,
   "id": "921a075f",
   "metadata": {},
   "outputs": [
    {
     "name": "stdout",
     "output_type": "stream",
     "text": [
      "0 is 2.131088403617926\n",
      "1 is 2.1556436669002843\n",
      "2 is 2.6525178027721217\n",
      "3 is 3.4016974370591413\n",
      "4 is 2.0181405084483592\n",
      "5 is 1.2481657456456876\n",
      "6 is 0.9708203074544365\n",
      "7 is 1.481106640375855\n",
      "8 is 1.6338699131287824\n",
      "9 is 1.28125841540716\n",
      "10 is 0.9878128779952564\n",
      "11 is 0.5886807806025769\n",
      "12 is 0.7365842949556033\n",
      "13 is 1.022369168524951\n",
      "14 is 0.7639643127441456\n",
      "15 is 0.6946708068184217\n",
      "16 is 0.6544799912965883\n",
      "17 is 0.5258451140663585\n",
      "18 is 0.28318234842918133\n",
      "19 is -0.085331383601653\n",
      "20 is -0.2527412170134086\n",
      "21 is -0.39228941499361286\n",
      "22 is -0.5943498637949107\n",
      "23 is -0.6918610071124024\n",
      "24 is -0.7889086971703941\n",
      "25 is -0.6715801459985963\n",
      "26 is -0.6278429273258318\n",
      "27 is -0.6154465982408338\n",
      "28 is -0.442006952429742\n",
      "29 is -0.13238978896414627\n",
      "30 is 0.2597970958332025\n",
      "31 is 0.31341978888919503\n",
      "32 is 0.42386370967659365\n",
      "33 is 0.5632955277781282\n",
      "34 is 0.5916537771446705\n",
      "35 is 0.6198678663567871\n",
      "36 is 0.676994060446236\n",
      "37 is 1.0333664958915112\n",
      "38 is 0.908835142088458\n",
      "39 is 0.8612796836557962\n",
      "40 is 0.8635260724515679\n",
      "41 is 0.8601098037577956\n",
      "42 is 0.9320122182379786\n",
      "43 is 1.256142307785485\n",
      "44 is 1.3754319263992822\n",
      "45 is 1.715748690602886\n",
      "46 is 1.8099306907999282\n",
      "47 is 1.292398444500869\n",
      "48 is 1.2875050810664357\n",
      "49 is 1.7858668405260794\n",
      "50 is 2.7374494223183405\n",
      "51 is 2.093975741472327\n",
      "52 is 1.0605722830139797\n",
      "53 is 1.093089971731159\n",
      "54 is 1.7899458592155897\n",
      "55 is 1.7808045605717202\n",
      "56 is 1.653090496345695\n",
      "57 is 2.0983296811699987\n",
      "58 is 1.737505621365086\n",
      "59 is 2.7757544828751475\n"
     ]
    }
   ],
   "source": [
    "for i in clist:\n",
    "    print(f'{i} is {df[i].skew()}')"
   ]
  },
  {
   "cell_type": "markdown",
   "id": "79b895bf",
   "metadata": {},
   "source": [
    "### Applying Func for Skew"
   ]
  },
  {
   "cell_type": "code",
   "execution_count": 43,
   "id": "f6785003",
   "metadata": {},
   "outputs": [],
   "source": [
    "for i in clist:\n",
    "    if df[i].skew() <= 0.5:\n",
    "        odmsd(df[i])\n",
    "    else:\n",
    "        df[i] = odiqr(df[i])"
   ]
  },
  {
   "cell_type": "markdown",
   "id": "b976f2d4",
   "metadata": {},
   "source": [
    "### After applying IQR on clist Columns the Skew is...\n"
   ]
  },
  {
   "cell_type": "code",
   "execution_count": 45,
   "id": "2d989e38",
   "metadata": {},
   "outputs": [
    {
     "name": "stdout",
     "output_type": "stream",
     "text": [
      "0 is 0.8127144584689736\n",
      "1 is 0.7891496869954777\n",
      "2 is 0.8246232000444756\n",
      "3 is 0.823731802050785\n",
      "4 is 0.7829704945137077\n",
      "5 is 0.47691354895633203\n",
      "6 is 0.43772719034632784\n",
      "7 is 0.4836735531515572\n",
      "8 is 0.6301391669982177\n",
      "9 is 0.6010276012281704\n",
      "10 is 0.5956316441300802\n",
      "11 is 0.4441066622448995\n",
      "12 is 0.5058381056868104\n",
      "13 is 0.5211971526900219\n",
      "14 is 0.6394912764735239\n",
      "15 is 0.6946708068184217\n",
      "16 is 0.6544799912965883\n",
      "17 is 0.5258451140663585\n",
      "18 is 0.28318234842918133\n",
      "19 is -0.085331383601653\n",
      "20 is -0.2527412170134086\n",
      "21 is -0.39228941499361286\n",
      "22 is -0.5943498637949107\n",
      "23 is -0.6918610071124024\n",
      "24 is -0.7889086971703941\n",
      "25 is -0.6715801459985963\n",
      "26 is -0.6278429273258318\n",
      "27 is -0.6154465982408338\n",
      "28 is -0.442006952429742\n",
      "29 is -0.13238978896414627\n",
      "30 is 0.2597970958332025\n",
      "31 is 0.31341978888919503\n",
      "32 is 0.42386370967659365\n",
      "33 is 0.5632955277781282\n",
      "34 is 0.5916537771446705\n",
      "35 is 0.6198678663567871\n",
      "36 is 0.676994060446236\n",
      "37 is 0.7863273839881887\n",
      "38 is 0.6076962736484544\n",
      "39 is 0.4798987755399655\n",
      "40 is 0.6418355756974223\n",
      "41 is 0.6283497334980148\n",
      "42 is 0.4959403425237674\n",
      "43 is 0.9370516614638617\n",
      "44 is 1.009573054073471\n",
      "45 is 0.7887045995494688\n",
      "46 is 0.7276938240977444\n",
      "47 is 0.6626094312062608\n",
      "48 is 0.78236078965115\n",
      "49 is 0.5582686811080156\n",
      "50 is 0.5678314462957561\n",
      "51 is 0.6277024459103614\n",
      "52 is 0.7035260287168787\n",
      "53 is 0.7895837750439221\n",
      "54 is 0.7832088895721504\n",
      "55 is 0.713035087055552\n",
      "56 is 0.9508094446803266\n",
      "57 is 0.8619817288574543\n",
      "58 is 0.910689145996865\n",
      "59 is 0.8177273456808426\n"
     ]
    }
   ],
   "source": [
    "for i in clist:\n",
    "    print(f'{i} is {df[i].skew()}')"
   ]
  },
  {
   "cell_type": "code",
   "execution_count": 46,
   "id": "32669761",
   "metadata": {},
   "outputs": [
    {
     "data": {
      "text/html": [
       "<div>\n",
       "<style scoped>\n",
       "    .dataframe tbody tr th:only-of-type {\n",
       "        vertical-align: middle;\n",
       "    }\n",
       "\n",
       "    .dataframe tbody tr th {\n",
       "        vertical-align: top;\n",
       "    }\n",
       "\n",
       "    .dataframe thead th {\n",
       "        text-align: right;\n",
       "    }\n",
       "</style>\n",
       "<table border=\"1\" class=\"dataframe\">\n",
       "  <thead>\n",
       "    <tr style=\"text-align: right;\">\n",
       "      <th></th>\n",
       "      <th>0</th>\n",
       "      <th>1</th>\n",
       "      <th>2</th>\n",
       "      <th>3</th>\n",
       "      <th>4</th>\n",
       "      <th>5</th>\n",
       "      <th>6</th>\n",
       "      <th>7</th>\n",
       "      <th>8</th>\n",
       "      <th>9</th>\n",
       "      <th>...</th>\n",
       "      <th>51</th>\n",
       "      <th>52</th>\n",
       "      <th>53</th>\n",
       "      <th>54</th>\n",
       "      <th>55</th>\n",
       "      <th>56</th>\n",
       "      <th>57</th>\n",
       "      <th>58</th>\n",
       "      <th>59</th>\n",
       "      <th>60</th>\n",
       "    </tr>\n",
       "  </thead>\n",
       "  <tbody>\n",
       "    <tr>\n",
       "      <th>75</th>\n",
       "      <td>0.0202</td>\n",
       "      <td>0.010400</td>\n",
       "      <td>0.0325</td>\n",
       "      <td>0.0239</td>\n",
       "      <td>0.080700</td>\n",
       "      <td>0.1529</td>\n",
       "      <td>0.1154</td>\n",
       "      <td>0.0608</td>\n",
       "      <td>0.1317</td>\n",
       "      <td>0.1370</td>\n",
       "      <td>...</td>\n",
       "      <td>0.01270</td>\n",
       "      <td>0.008100</td>\n",
       "      <td>0.0067</td>\n",
       "      <td>0.00430</td>\n",
       "      <td>0.006500</td>\n",
       "      <td>0.00490</td>\n",
       "      <td>0.005400</td>\n",
       "      <td>0.007300</td>\n",
       "      <td>0.0054</td>\n",
       "      <td>R</td>\n",
       "    </tr>\n",
       "    <tr>\n",
       "      <th>110</th>\n",
       "      <td>0.0210</td>\n",
       "      <td>0.012100</td>\n",
       "      <td>0.0203</td>\n",
       "      <td>0.1036</td>\n",
       "      <td>0.167500</td>\n",
       "      <td>0.0418</td>\n",
       "      <td>0.0723</td>\n",
       "      <td>0.0828</td>\n",
       "      <td>0.0494</td>\n",
       "      <td>0.0686</td>\n",
       "      <td>...</td>\n",
       "      <td>0.01170</td>\n",
       "      <td>0.010100</td>\n",
       "      <td>0.0061</td>\n",
       "      <td>0.00310</td>\n",
       "      <td>0.009900</td>\n",
       "      <td>0.00800</td>\n",
       "      <td>0.010700</td>\n",
       "      <td>0.016100</td>\n",
       "      <td>0.0133</td>\n",
       "      <td>M</td>\n",
       "    </tr>\n",
       "    <tr>\n",
       "      <th>0</th>\n",
       "      <td>0.0200</td>\n",
       "      <td>0.037100</td>\n",
       "      <td>0.0428</td>\n",
       "      <td>0.0207</td>\n",
       "      <td>0.095400</td>\n",
       "      <td>0.0986</td>\n",
       "      <td>0.1539</td>\n",
       "      <td>0.1601</td>\n",
       "      <td>0.3109</td>\n",
       "      <td>0.2111</td>\n",
       "      <td>...</td>\n",
       "      <td>0.00270</td>\n",
       "      <td>0.006500</td>\n",
       "      <td>0.0159</td>\n",
       "      <td>0.00720</td>\n",
       "      <td>0.016700</td>\n",
       "      <td>0.01800</td>\n",
       "      <td>0.008400</td>\n",
       "      <td>0.009000</td>\n",
       "      <td>0.0032</td>\n",
       "      <td>R</td>\n",
       "    </tr>\n",
       "    <tr>\n",
       "      <th>60</th>\n",
       "      <td>0.0130</td>\n",
       "      <td>0.000600</td>\n",
       "      <td>0.0088</td>\n",
       "      <td>0.0456</td>\n",
       "      <td>0.052500</td>\n",
       "      <td>0.0778</td>\n",
       "      <td>0.0931</td>\n",
       "      <td>0.0941</td>\n",
       "      <td>0.1711</td>\n",
       "      <td>0.1483</td>\n",
       "      <td>...</td>\n",
       "      <td>0.00780</td>\n",
       "      <td>0.004100</td>\n",
       "      <td>0.0013</td>\n",
       "      <td>0.00110</td>\n",
       "      <td>0.004500</td>\n",
       "      <td>0.00390</td>\n",
       "      <td>0.002200</td>\n",
       "      <td>0.002300</td>\n",
       "      <td>0.0016</td>\n",
       "      <td>R</td>\n",
       "    </tr>\n",
       "    <tr>\n",
       "      <th>204</th>\n",
       "      <td>0.0323</td>\n",
       "      <td>0.010100</td>\n",
       "      <td>0.0298</td>\n",
       "      <td>0.0564</td>\n",
       "      <td>0.076000</td>\n",
       "      <td>0.0958</td>\n",
       "      <td>0.0990</td>\n",
       "      <td>0.1018</td>\n",
       "      <td>0.1030</td>\n",
       "      <td>0.2154</td>\n",
       "      <td>...</td>\n",
       "      <td>0.00610</td>\n",
       "      <td>0.009300</td>\n",
       "      <td>0.0135</td>\n",
       "      <td>0.00630</td>\n",
       "      <td>0.006300</td>\n",
       "      <td>0.00340</td>\n",
       "      <td>0.003200</td>\n",
       "      <td>0.006200</td>\n",
       "      <td>0.0067</td>\n",
       "      <td>M</td>\n",
       "    </tr>\n",
       "    <tr>\n",
       "      <th>...</th>\n",
       "      <td>...</td>\n",
       "      <td>...</td>\n",
       "      <td>...</td>\n",
       "      <td>...</td>\n",
       "      <td>...</td>\n",
       "      <td>...</td>\n",
       "      <td>...</td>\n",
       "      <td>...</td>\n",
       "      <td>...</td>\n",
       "      <td>...</td>\n",
       "      <td>...</td>\n",
       "      <td>...</td>\n",
       "      <td>...</td>\n",
       "      <td>...</td>\n",
       "      <td>...</td>\n",
       "      <td>...</td>\n",
       "      <td>...</td>\n",
       "      <td>...</td>\n",
       "      <td>...</td>\n",
       "      <td>...</td>\n",
       "      <td>...</td>\n",
       "    </tr>\n",
       "    <tr>\n",
       "      <th>16</th>\n",
       "      <td>0.0352</td>\n",
       "      <td>0.011600</td>\n",
       "      <td>0.0191</td>\n",
       "      <td>0.0469</td>\n",
       "      <td>0.073700</td>\n",
       "      <td>0.1185</td>\n",
       "      <td>0.1683</td>\n",
       "      <td>0.1541</td>\n",
       "      <td>0.1466</td>\n",
       "      <td>0.2912</td>\n",
       "      <td>...</td>\n",
       "      <td>0.01342</td>\n",
       "      <td>0.015800</td>\n",
       "      <td>0.0154</td>\n",
       "      <td>0.01090</td>\n",
       "      <td>0.004800</td>\n",
       "      <td>0.00950</td>\n",
       "      <td>0.001500</td>\n",
       "      <td>0.007300</td>\n",
       "      <td>0.0067</td>\n",
       "      <td>R</td>\n",
       "    </tr>\n",
       "    <tr>\n",
       "      <th>140</th>\n",
       "      <td>0.0412</td>\n",
       "      <td>0.038437</td>\n",
       "      <td>0.0518</td>\n",
       "      <td>0.0232</td>\n",
       "      <td>0.064600</td>\n",
       "      <td>0.1124</td>\n",
       "      <td>0.1787</td>\n",
       "      <td>0.2407</td>\n",
       "      <td>0.2682</td>\n",
       "      <td>0.2058</td>\n",
       "      <td>...</td>\n",
       "      <td>0.01342</td>\n",
       "      <td>0.014300</td>\n",
       "      <td>0.0272</td>\n",
       "      <td>0.01270</td>\n",
       "      <td>0.016600</td>\n",
       "      <td>0.00950</td>\n",
       "      <td>0.007949</td>\n",
       "      <td>0.009800</td>\n",
       "      <td>0.0085</td>\n",
       "      <td>M</td>\n",
       "    </tr>\n",
       "    <tr>\n",
       "      <th>5</th>\n",
       "      <td>0.0286</td>\n",
       "      <td>0.045300</td>\n",
       "      <td>0.0277</td>\n",
       "      <td>0.0174</td>\n",
       "      <td>0.038400</td>\n",
       "      <td>0.0990</td>\n",
       "      <td>0.1201</td>\n",
       "      <td>0.1833</td>\n",
       "      <td>0.2105</td>\n",
       "      <td>0.3039</td>\n",
       "      <td>...</td>\n",
       "      <td>0.00450</td>\n",
       "      <td>0.001400</td>\n",
       "      <td>0.0038</td>\n",
       "      <td>0.00130</td>\n",
       "      <td>0.008900</td>\n",
       "      <td>0.00570</td>\n",
       "      <td>0.002700</td>\n",
       "      <td>0.005100</td>\n",
       "      <td>0.0062</td>\n",
       "      <td>R</td>\n",
       "    </tr>\n",
       "    <tr>\n",
       "      <th>147</th>\n",
       "      <td>0.0654</td>\n",
       "      <td>0.064900</td>\n",
       "      <td>0.0737</td>\n",
       "      <td>0.1132</td>\n",
       "      <td>0.075202</td>\n",
       "      <td>0.1257</td>\n",
       "      <td>0.1797</td>\n",
       "      <td>0.0989</td>\n",
       "      <td>0.2460</td>\n",
       "      <td>0.3422</td>\n",
       "      <td>...</td>\n",
       "      <td>0.02100</td>\n",
       "      <td>0.010709</td>\n",
       "      <td>0.0239</td>\n",
       "      <td>0.00929</td>\n",
       "      <td>0.008222</td>\n",
       "      <td>0.00782</td>\n",
       "      <td>0.007949</td>\n",
       "      <td>0.007941</td>\n",
       "      <td>0.0098</td>\n",
       "      <td>M</td>\n",
       "    </tr>\n",
       "    <tr>\n",
       "      <th>94</th>\n",
       "      <td>0.0025</td>\n",
       "      <td>0.030900</td>\n",
       "      <td>0.0171</td>\n",
       "      <td>0.0228</td>\n",
       "      <td>0.043400</td>\n",
       "      <td>0.1224</td>\n",
       "      <td>0.1947</td>\n",
       "      <td>0.1661</td>\n",
       "      <td>0.1368</td>\n",
       "      <td>0.1430</td>\n",
       "      <td>...</td>\n",
       "      <td>0.01490</td>\n",
       "      <td>0.007700</td>\n",
       "      <td>0.0036</td>\n",
       "      <td>0.01140</td>\n",
       "      <td>0.008500</td>\n",
       "      <td>0.01010</td>\n",
       "      <td>0.001600</td>\n",
       "      <td>0.002800</td>\n",
       "      <td>0.0014</td>\n",
       "      <td>R</td>\n",
       "    </tr>\n",
       "  </tbody>\n",
       "</table>\n",
       "<p>208 rows × 61 columns</p>\n",
       "</div>"
      ],
      "text/plain": [
       "         0         1       2       3         4       5       6       7   \\\n",
       "75   0.0202  0.010400  0.0325  0.0239  0.080700  0.1529  0.1154  0.0608   \n",
       "110  0.0210  0.012100  0.0203  0.1036  0.167500  0.0418  0.0723  0.0828   \n",
       "0    0.0200  0.037100  0.0428  0.0207  0.095400  0.0986  0.1539  0.1601   \n",
       "60   0.0130  0.000600  0.0088  0.0456  0.052500  0.0778  0.0931  0.0941   \n",
       "204  0.0323  0.010100  0.0298  0.0564  0.076000  0.0958  0.0990  0.1018   \n",
       "..      ...       ...     ...     ...       ...     ...     ...     ...   \n",
       "16   0.0352  0.011600  0.0191  0.0469  0.073700  0.1185  0.1683  0.1541   \n",
       "140  0.0412  0.038437  0.0518  0.0232  0.064600  0.1124  0.1787  0.2407   \n",
       "5    0.0286  0.045300  0.0277  0.0174  0.038400  0.0990  0.1201  0.1833   \n",
       "147  0.0654  0.064900  0.0737  0.1132  0.075202  0.1257  0.1797  0.0989   \n",
       "94   0.0025  0.030900  0.0171  0.0228  0.043400  0.1224  0.1947  0.1661   \n",
       "\n",
       "         8       9   ...       51        52      53       54        55  \\\n",
       "75   0.1317  0.1370  ...  0.01270  0.008100  0.0067  0.00430  0.006500   \n",
       "110  0.0494  0.0686  ...  0.01170  0.010100  0.0061  0.00310  0.009900   \n",
       "0    0.3109  0.2111  ...  0.00270  0.006500  0.0159  0.00720  0.016700   \n",
       "60   0.1711  0.1483  ...  0.00780  0.004100  0.0013  0.00110  0.004500   \n",
       "204  0.1030  0.2154  ...  0.00610  0.009300  0.0135  0.00630  0.006300   \n",
       "..      ...     ...  ...      ...       ...     ...      ...       ...   \n",
       "16   0.1466  0.2912  ...  0.01342  0.015800  0.0154  0.01090  0.004800   \n",
       "140  0.2682  0.2058  ...  0.01342  0.014300  0.0272  0.01270  0.016600   \n",
       "5    0.2105  0.3039  ...  0.00450  0.001400  0.0038  0.00130  0.008900   \n",
       "147  0.2460  0.3422  ...  0.02100  0.010709  0.0239  0.00929  0.008222   \n",
       "94   0.1368  0.1430  ...  0.01490  0.007700  0.0036  0.01140  0.008500   \n",
       "\n",
       "          56        57        58      59  60  \n",
       "75   0.00490  0.005400  0.007300  0.0054   R  \n",
       "110  0.00800  0.010700  0.016100  0.0133   M  \n",
       "0    0.01800  0.008400  0.009000  0.0032   R  \n",
       "60   0.00390  0.002200  0.002300  0.0016   R  \n",
       "204  0.00340  0.003200  0.006200  0.0067   M  \n",
       "..       ...       ...       ...     ...  ..  \n",
       "16   0.00950  0.001500  0.007300  0.0067   R  \n",
       "140  0.00950  0.007949  0.009800  0.0085   M  \n",
       "5    0.00570  0.002700  0.005100  0.0062   R  \n",
       "147  0.00782  0.007949  0.007941  0.0098   M  \n",
       "94   0.01010  0.001600  0.002800  0.0014   R  \n",
       "\n",
       "[208 rows x 61 columns]"
      ]
     },
     "execution_count": 46,
     "metadata": {},
     "output_type": "execute_result"
    }
   ],
   "source": [
    "df"
   ]
  },
  {
   "cell_type": "code",
   "execution_count": 47,
   "id": "5981339f",
   "metadata": {},
   "outputs": [],
   "source": [
    "from sklearn.preprocessing import LabelEncoder"
   ]
  },
  {
   "cell_type": "code",
   "execution_count": 48,
   "id": "dde3576e",
   "metadata": {},
   "outputs": [],
   "source": [
    "le = LabelEncoder()"
   ]
  },
  {
   "cell_type": "code",
   "execution_count": 51,
   "id": "c66e024b",
   "metadata": {},
   "outputs": [
    {
     "data": {
      "text/plain": [
       "array(['M', 'R'], dtype=object)"
      ]
     },
     "execution_count": 51,
     "metadata": {},
     "output_type": "execute_result"
    }
   ],
   "source": [
    "le.classes_"
   ]
  },
  {
   "cell_type": "code",
   "execution_count": 56,
   "id": "cc920a05",
   "metadata": {},
   "outputs": [],
   "source": [
    "df = pd.concat([df,pd.DataFrame(le.fit_transform(df[60]),columns=[\"TARGET\"])],axis=1).drop(60,axis=1)"
   ]
  },
  {
   "cell_type": "code",
   "execution_count": 57,
   "id": "3295c062",
   "metadata": {},
   "outputs": [
    {
     "data": {
      "text/html": [
       "<div>\n",
       "<style scoped>\n",
       "    .dataframe tbody tr th:only-of-type {\n",
       "        vertical-align: middle;\n",
       "    }\n",
       "\n",
       "    .dataframe tbody tr th {\n",
       "        vertical-align: top;\n",
       "    }\n",
       "\n",
       "    .dataframe thead th {\n",
       "        text-align: right;\n",
       "    }\n",
       "</style>\n",
       "<table border=\"1\" class=\"dataframe\">\n",
       "  <thead>\n",
       "    <tr style=\"text-align: right;\">\n",
       "      <th></th>\n",
       "      <th>0</th>\n",
       "      <th>1</th>\n",
       "      <th>2</th>\n",
       "      <th>3</th>\n",
       "      <th>4</th>\n",
       "      <th>5</th>\n",
       "      <th>6</th>\n",
       "      <th>7</th>\n",
       "      <th>8</th>\n",
       "      <th>9</th>\n",
       "      <th>...</th>\n",
       "      <th>51</th>\n",
       "      <th>52</th>\n",
       "      <th>53</th>\n",
       "      <th>54</th>\n",
       "      <th>55</th>\n",
       "      <th>56</th>\n",
       "      <th>57</th>\n",
       "      <th>58</th>\n",
       "      <th>59</th>\n",
       "      <th>TARGET</th>\n",
       "    </tr>\n",
       "  </thead>\n",
       "  <tbody>\n",
       "    <tr>\n",
       "      <th>0</th>\n",
       "      <td>0.020000</td>\n",
       "      <td>0.0371</td>\n",
       "      <td>0.0428</td>\n",
       "      <td>0.0207</td>\n",
       "      <td>0.0954</td>\n",
       "      <td>0.09860</td>\n",
       "      <td>0.1539</td>\n",
       "      <td>0.160100</td>\n",
       "      <td>0.310900</td>\n",
       "      <td>0.211100</td>\n",
       "      <td>...</td>\n",
       "      <td>0.0027</td>\n",
       "      <td>0.0065</td>\n",
       "      <td>0.0159</td>\n",
       "      <td>0.0072</td>\n",
       "      <td>0.016700</td>\n",
       "      <td>0.01800</td>\n",
       "      <td>0.0084</td>\n",
       "      <td>0.0090</td>\n",
       "      <td>0.0032</td>\n",
       "      <td>1</td>\n",
       "    </tr>\n",
       "    <tr>\n",
       "      <th>1</th>\n",
       "      <td>0.045300</td>\n",
       "      <td>0.0523</td>\n",
       "      <td>0.0843</td>\n",
       "      <td>0.0689</td>\n",
       "      <td>0.1183</td>\n",
       "      <td>0.10457</td>\n",
       "      <td>0.2156</td>\n",
       "      <td>0.134799</td>\n",
       "      <td>0.333700</td>\n",
       "      <td>0.287200</td>\n",
       "      <td>...</td>\n",
       "      <td>0.0084</td>\n",
       "      <td>0.0089</td>\n",
       "      <td>0.0048</td>\n",
       "      <td>0.0094</td>\n",
       "      <td>0.019100</td>\n",
       "      <td>0.01400</td>\n",
       "      <td>0.0049</td>\n",
       "      <td>0.0052</td>\n",
       "      <td>0.0044</td>\n",
       "      <td>0</td>\n",
       "    </tr>\n",
       "    <tr>\n",
       "      <th>2</th>\n",
       "      <td>0.026200</td>\n",
       "      <td>0.0582</td>\n",
       "      <td>0.1099</td>\n",
       "      <td>0.1083</td>\n",
       "      <td>0.0974</td>\n",
       "      <td>0.22800</td>\n",
       "      <td>0.2431</td>\n",
       "      <td>0.134799</td>\n",
       "      <td>0.178003</td>\n",
       "      <td>0.208259</td>\n",
       "      <td>...</td>\n",
       "      <td>0.0232</td>\n",
       "      <td>0.0166</td>\n",
       "      <td>0.0095</td>\n",
       "      <td>0.0180</td>\n",
       "      <td>0.008222</td>\n",
       "      <td>0.00782</td>\n",
       "      <td>0.0164</td>\n",
       "      <td>0.0095</td>\n",
       "      <td>0.0078</td>\n",
       "      <td>1</td>\n",
       "    </tr>\n",
       "    <tr>\n",
       "      <th>3</th>\n",
       "      <td>0.010000</td>\n",
       "      <td>0.0171</td>\n",
       "      <td>0.0623</td>\n",
       "      <td>0.0205</td>\n",
       "      <td>0.0205</td>\n",
       "      <td>0.03680</td>\n",
       "      <td>0.1098</td>\n",
       "      <td>0.127600</td>\n",
       "      <td>0.059800</td>\n",
       "      <td>0.126400</td>\n",
       "      <td>...</td>\n",
       "      <td>0.0121</td>\n",
       "      <td>0.0036</td>\n",
       "      <td>0.0150</td>\n",
       "      <td>0.0085</td>\n",
       "      <td>0.007300</td>\n",
       "      <td>0.00500</td>\n",
       "      <td>0.0044</td>\n",
       "      <td>0.0040</td>\n",
       "      <td>0.0117</td>\n",
       "      <td>1</td>\n",
       "    </tr>\n",
       "    <tr>\n",
       "      <th>4</th>\n",
       "      <td>0.029164</td>\n",
       "      <td>0.0666</td>\n",
       "      <td>0.0481</td>\n",
       "      <td>0.0394</td>\n",
       "      <td>0.0590</td>\n",
       "      <td>0.06490</td>\n",
       "      <td>0.1209</td>\n",
       "      <td>0.246700</td>\n",
       "      <td>0.356400</td>\n",
       "      <td>0.445900</td>\n",
       "      <td>...</td>\n",
       "      <td>0.0031</td>\n",
       "      <td>0.0054</td>\n",
       "      <td>0.0105</td>\n",
       "      <td>0.0110</td>\n",
       "      <td>0.001500</td>\n",
       "      <td>0.00720</td>\n",
       "      <td>0.0048</td>\n",
       "      <td>0.0107</td>\n",
       "      <td>0.0094</td>\n",
       "      <td>0</td>\n",
       "    </tr>\n",
       "    <tr>\n",
       "      <th>...</th>\n",
       "      <td>...</td>\n",
       "      <td>...</td>\n",
       "      <td>...</td>\n",
       "      <td>...</td>\n",
       "      <td>...</td>\n",
       "      <td>...</td>\n",
       "      <td>...</td>\n",
       "      <td>...</td>\n",
       "      <td>...</td>\n",
       "      <td>...</td>\n",
       "      <td>...</td>\n",
       "      <td>...</td>\n",
       "      <td>...</td>\n",
       "      <td>...</td>\n",
       "      <td>...</td>\n",
       "      <td>...</td>\n",
       "      <td>...</td>\n",
       "      <td>...</td>\n",
       "      <td>...</td>\n",
       "      <td>...</td>\n",
       "      <td>...</td>\n",
       "    </tr>\n",
       "    <tr>\n",
       "      <th>203</th>\n",
       "      <td>0.018700</td>\n",
       "      <td>0.0346</td>\n",
       "      <td>0.0168</td>\n",
       "      <td>0.0177</td>\n",
       "      <td>0.0393</td>\n",
       "      <td>0.16300</td>\n",
       "      <td>0.2028</td>\n",
       "      <td>0.169400</td>\n",
       "      <td>0.232800</td>\n",
       "      <td>0.268400</td>\n",
       "      <td>...</td>\n",
       "      <td>0.0116</td>\n",
       "      <td>0.0098</td>\n",
       "      <td>0.0199</td>\n",
       "      <td>0.0033</td>\n",
       "      <td>0.010100</td>\n",
       "      <td>0.00650</td>\n",
       "      <td>0.0115</td>\n",
       "      <td>0.0193</td>\n",
       "      <td>0.0157</td>\n",
       "      <td>1</td>\n",
       "    </tr>\n",
       "    <tr>\n",
       "      <th>204</th>\n",
       "      <td>0.032300</td>\n",
       "      <td>0.0101</td>\n",
       "      <td>0.0298</td>\n",
       "      <td>0.0564</td>\n",
       "      <td>0.0760</td>\n",
       "      <td>0.09580</td>\n",
       "      <td>0.0990</td>\n",
       "      <td>0.101800</td>\n",
       "      <td>0.103000</td>\n",
       "      <td>0.215400</td>\n",
       "      <td>...</td>\n",
       "      <td>0.0061</td>\n",
       "      <td>0.0093</td>\n",
       "      <td>0.0135</td>\n",
       "      <td>0.0063</td>\n",
       "      <td>0.006300</td>\n",
       "      <td>0.00340</td>\n",
       "      <td>0.0032</td>\n",
       "      <td>0.0062</td>\n",
       "      <td>0.0067</td>\n",
       "      <td>0</td>\n",
       "    </tr>\n",
       "    <tr>\n",
       "      <th>205</th>\n",
       "      <td>0.052200</td>\n",
       "      <td>0.0437</td>\n",
       "      <td>0.0180</td>\n",
       "      <td>0.0292</td>\n",
       "      <td>0.0351</td>\n",
       "      <td>0.11710</td>\n",
       "      <td>0.1257</td>\n",
       "      <td>0.117800</td>\n",
       "      <td>0.125800</td>\n",
       "      <td>0.252900</td>\n",
       "      <td>...</td>\n",
       "      <td>0.0160</td>\n",
       "      <td>0.0029</td>\n",
       "      <td>0.0051</td>\n",
       "      <td>0.0062</td>\n",
       "      <td>0.008900</td>\n",
       "      <td>0.01400</td>\n",
       "      <td>0.0138</td>\n",
       "      <td>0.0077</td>\n",
       "      <td>0.0031</td>\n",
       "      <td>1</td>\n",
       "    </tr>\n",
       "    <tr>\n",
       "      <th>206</th>\n",
       "      <td>0.030300</td>\n",
       "      <td>0.0353</td>\n",
       "      <td>0.0490</td>\n",
       "      <td>0.0608</td>\n",
       "      <td>0.0167</td>\n",
       "      <td>0.13540</td>\n",
       "      <td>0.1465</td>\n",
       "      <td>0.112300</td>\n",
       "      <td>0.194500</td>\n",
       "      <td>0.235400</td>\n",
       "      <td>...</td>\n",
       "      <td>0.0086</td>\n",
       "      <td>0.0046</td>\n",
       "      <td>0.0126</td>\n",
       "      <td>0.0036</td>\n",
       "      <td>0.003500</td>\n",
       "      <td>0.00340</td>\n",
       "      <td>0.0079</td>\n",
       "      <td>0.0036</td>\n",
       "      <td>0.0048</td>\n",
       "      <td>0</td>\n",
       "    </tr>\n",
       "    <tr>\n",
       "      <th>207</th>\n",
       "      <td>0.026000</td>\n",
       "      <td>0.0363</td>\n",
       "      <td>0.0136</td>\n",
       "      <td>0.0272</td>\n",
       "      <td>0.0214</td>\n",
       "      <td>0.03380</td>\n",
       "      <td>0.0655</td>\n",
       "      <td>0.140000</td>\n",
       "      <td>0.184300</td>\n",
       "      <td>0.235400</td>\n",
       "      <td>...</td>\n",
       "      <td>0.0146</td>\n",
       "      <td>0.0129</td>\n",
       "      <td>0.0047</td>\n",
       "      <td>0.0039</td>\n",
       "      <td>0.006100</td>\n",
       "      <td>0.00400</td>\n",
       "      <td>0.0036</td>\n",
       "      <td>0.0061</td>\n",
       "      <td>0.0115</td>\n",
       "      <td>1</td>\n",
       "    </tr>\n",
       "  </tbody>\n",
       "</table>\n",
       "<p>208 rows × 61 columns</p>\n",
       "</div>"
      ],
      "text/plain": [
       "            0       1       2       3       4        5       6         7  \\\n",
       "0    0.020000  0.0371  0.0428  0.0207  0.0954  0.09860  0.1539  0.160100   \n",
       "1    0.045300  0.0523  0.0843  0.0689  0.1183  0.10457  0.2156  0.134799   \n",
       "2    0.026200  0.0582  0.1099  0.1083  0.0974  0.22800  0.2431  0.134799   \n",
       "3    0.010000  0.0171  0.0623  0.0205  0.0205  0.03680  0.1098  0.127600   \n",
       "4    0.029164  0.0666  0.0481  0.0394  0.0590  0.06490  0.1209  0.246700   \n",
       "..        ...     ...     ...     ...     ...      ...     ...       ...   \n",
       "203  0.018700  0.0346  0.0168  0.0177  0.0393  0.16300  0.2028  0.169400   \n",
       "204  0.032300  0.0101  0.0298  0.0564  0.0760  0.09580  0.0990  0.101800   \n",
       "205  0.052200  0.0437  0.0180  0.0292  0.0351  0.11710  0.1257  0.117800   \n",
       "206  0.030300  0.0353  0.0490  0.0608  0.0167  0.13540  0.1465  0.112300   \n",
       "207  0.026000  0.0363  0.0136  0.0272  0.0214  0.03380  0.0655  0.140000   \n",
       "\n",
       "            8         9  ...      51      52      53      54        55  \\\n",
       "0    0.310900  0.211100  ...  0.0027  0.0065  0.0159  0.0072  0.016700   \n",
       "1    0.333700  0.287200  ...  0.0084  0.0089  0.0048  0.0094  0.019100   \n",
       "2    0.178003  0.208259  ...  0.0232  0.0166  0.0095  0.0180  0.008222   \n",
       "3    0.059800  0.126400  ...  0.0121  0.0036  0.0150  0.0085  0.007300   \n",
       "4    0.356400  0.445900  ...  0.0031  0.0054  0.0105  0.0110  0.001500   \n",
       "..        ...       ...  ...     ...     ...     ...     ...       ...   \n",
       "203  0.232800  0.268400  ...  0.0116  0.0098  0.0199  0.0033  0.010100   \n",
       "204  0.103000  0.215400  ...  0.0061  0.0093  0.0135  0.0063  0.006300   \n",
       "205  0.125800  0.252900  ...  0.0160  0.0029  0.0051  0.0062  0.008900   \n",
       "206  0.194500  0.235400  ...  0.0086  0.0046  0.0126  0.0036  0.003500   \n",
       "207  0.184300  0.235400  ...  0.0146  0.0129  0.0047  0.0039  0.006100   \n",
       "\n",
       "          56      57      58      59  TARGET  \n",
       "0    0.01800  0.0084  0.0090  0.0032       1  \n",
       "1    0.01400  0.0049  0.0052  0.0044       0  \n",
       "2    0.00782  0.0164  0.0095  0.0078       1  \n",
       "3    0.00500  0.0044  0.0040  0.0117       1  \n",
       "4    0.00720  0.0048  0.0107  0.0094       0  \n",
       "..       ...     ...     ...     ...     ...  \n",
       "203  0.00650  0.0115  0.0193  0.0157       1  \n",
       "204  0.00340  0.0032  0.0062  0.0067       0  \n",
       "205  0.01400  0.0138  0.0077  0.0031       1  \n",
       "206  0.00340  0.0079  0.0036  0.0048       0  \n",
       "207  0.00400  0.0036  0.0061  0.0115       1  \n",
       "\n",
       "[208 rows x 61 columns]"
      ]
     },
     "execution_count": 57,
     "metadata": {},
     "output_type": "execute_result"
    }
   ],
   "source": [
    "df"
   ]
  },
  {
   "cell_type": "code",
   "execution_count": 58,
   "id": "b1e62140",
   "metadata": {},
   "outputs": [],
   "source": [
    "X = df.drop(\"TARGET\",axis=1)"
   ]
  },
  {
   "cell_type": "code",
   "execution_count": 59,
   "id": "0927ca6c",
   "metadata": {},
   "outputs": [
    {
     "data": {
      "text/html": [
       "<div>\n",
       "<style scoped>\n",
       "    .dataframe tbody tr th:only-of-type {\n",
       "        vertical-align: middle;\n",
       "    }\n",
       "\n",
       "    .dataframe tbody tr th {\n",
       "        vertical-align: top;\n",
       "    }\n",
       "\n",
       "    .dataframe thead th {\n",
       "        text-align: right;\n",
       "    }\n",
       "</style>\n",
       "<table border=\"1\" class=\"dataframe\">\n",
       "  <thead>\n",
       "    <tr style=\"text-align: right;\">\n",
       "      <th></th>\n",
       "      <th>0</th>\n",
       "      <th>1</th>\n",
       "      <th>2</th>\n",
       "      <th>3</th>\n",
       "      <th>4</th>\n",
       "      <th>5</th>\n",
       "      <th>6</th>\n",
       "      <th>7</th>\n",
       "      <th>8</th>\n",
       "      <th>9</th>\n",
       "      <th>...</th>\n",
       "      <th>50</th>\n",
       "      <th>51</th>\n",
       "      <th>52</th>\n",
       "      <th>53</th>\n",
       "      <th>54</th>\n",
       "      <th>55</th>\n",
       "      <th>56</th>\n",
       "      <th>57</th>\n",
       "      <th>58</th>\n",
       "      <th>59</th>\n",
       "    </tr>\n",
       "  </thead>\n",
       "  <tbody>\n",
       "    <tr>\n",
       "      <th>194</th>\n",
       "      <td>0.0392</td>\n",
       "      <td>0.0108</td>\n",
       "      <td>0.0267</td>\n",
       "      <td>0.0257</td>\n",
       "      <td>0.041</td>\n",
       "      <td>0.0491</td>\n",
       "      <td>0.1053</td>\n",
       "      <td>0.169</td>\n",
       "      <td>0.2105</td>\n",
       "      <td>0.2471</td>\n",
       "      <td>...</td>\n",
       "      <td>0.0089</td>\n",
       "      <td>0.0083</td>\n",
       "      <td>0.008</td>\n",
       "      <td>0.0026</td>\n",
       "      <td>0.0079</td>\n",
       "      <td>0.0042</td>\n",
       "      <td>0.0071</td>\n",
       "      <td>0.0044</td>\n",
       "      <td>0.0022</td>\n",
       "      <td>0.0014</td>\n",
       "    </tr>\n",
       "  </tbody>\n",
       "</table>\n",
       "<p>1 rows × 60 columns</p>\n",
       "</div>"
      ],
      "text/plain": [
       "         0       1       2       3      4       5       6      7       8   \\\n",
       "194  0.0392  0.0108  0.0267  0.0257  0.041  0.0491  0.1053  0.169  0.2105   \n",
       "\n",
       "         9   ...      50      51     52      53      54      55      56  \\\n",
       "194  0.2471  ...  0.0089  0.0083  0.008  0.0026  0.0079  0.0042  0.0071   \n",
       "\n",
       "         57      58      59  \n",
       "194  0.0044  0.0022  0.0014  \n",
       "\n",
       "[1 rows x 60 columns]"
      ]
     },
     "execution_count": 59,
     "metadata": {},
     "output_type": "execute_result"
    }
   ],
   "source": [
    "X.sample()"
   ]
  },
  {
   "cell_type": "code",
   "execution_count": 60,
   "id": "94c642dd",
   "metadata": {},
   "outputs": [],
   "source": [
    "y = df[\"TARGET\"]"
   ]
  },
  {
   "cell_type": "code",
   "execution_count": 61,
   "id": "fb5be6e0",
   "metadata": {},
   "outputs": [
    {
     "data": {
      "text/plain": [
       "104    0\n",
       "Name: TARGET, dtype: int64"
      ]
     },
     "execution_count": 61,
     "metadata": {},
     "output_type": "execute_result"
    }
   ],
   "source": [
    "y.sample()"
   ]
  },
  {
   "cell_type": "code",
   "execution_count": 163,
   "id": "5aa0cf56",
   "metadata": {},
   "outputs": [],
   "source": [
    "from sklearn.model_selection import train_test_split\n",
    "from sklearn.preprocessing import StandardScaler\n",
    "from sklearn.model_selection import KFold , cross_val_score\n",
    "from sklearn.linear_model import LogisticRegression \n",
    "from sklearn.svm import SVC\n",
    "from sklearn.tree import DecisionTreeClassifier \n",
    "from sklearn.neighbors import KNeighborsClassifier"
   ]
  },
  {
   "cell_type": "code",
   "execution_count": 164,
   "id": "25adf442",
   "metadata": {},
   "outputs": [],
   "source": [
    "import warnings\n",
    "warnings.filterwarnings(\"ignore\")"
   ]
  },
  {
   "cell_type": "code",
   "execution_count": 165,
   "id": "821dc635",
   "metadata": {},
   "outputs": [],
   "source": [
    "Xtrain,Xtest,ytrain,ytest = train_test_split(X,y,test_size=.20)"
   ]
  },
  {
   "cell_type": "code",
   "execution_count": 166,
   "id": "01e6c2c9",
   "metadata": {},
   "outputs": [
    {
     "data": {
      "text/plain": [
       "((208, 60), (166, 60), (42, 60))"
      ]
     },
     "execution_count": 166,
     "metadata": {},
     "output_type": "execute_result"
    }
   ],
   "source": [
    "X.shape , Xtrain.shape , Xtest.shape"
   ]
  },
  {
   "cell_type": "code",
   "execution_count": 167,
   "id": "513f645e",
   "metadata": {},
   "outputs": [
    {
     "data": {
      "text/plain": [
       "((208,), (166,), (42,))"
      ]
     },
     "execution_count": 167,
     "metadata": {},
     "output_type": "execute_result"
    }
   ],
   "source": [
    "y.shape , ytrain.shape , ytest.shape"
   ]
  },
  {
   "cell_type": "code",
   "execution_count": 168,
   "id": "50667942",
   "metadata": {},
   "outputs": [],
   "source": [
    "kf = KFold(n_splits=11)"
   ]
  },
  {
   "cell_type": "code",
   "execution_count": 169,
   "id": "a0c2e401",
   "metadata": {},
   "outputs": [],
   "source": [
    "logreg = LogisticRegression(max_iter=1000)"
   ]
  },
  {
   "cell_type": "code",
   "execution_count": 170,
   "id": "d0b5dd43",
   "metadata": {},
   "outputs": [],
   "source": [
    "sv = SVC()"
   ]
  },
  {
   "cell_type": "code",
   "execution_count": 171,
   "id": "521ecce2",
   "metadata": {},
   "outputs": [],
   "source": [
    "dct = DecisionTreeClassifier()"
   ]
  },
  {
   "cell_type": "code",
   "execution_count": 172,
   "id": "4adbaa53",
   "metadata": {},
   "outputs": [],
   "source": [
    "knn = KNeighborsClassifier()"
   ]
  },
  {
   "cell_type": "code",
   "execution_count": 173,
   "id": "2cccf5ac",
   "metadata": {},
   "outputs": [],
   "source": [
    "algo = [logreg  , sv , dct , knn ]"
   ]
  },
  {
   "cell_type": "markdown",
   "id": "2474f547",
   "metadata": {},
   "source": [
    "### Without Feature Scaling"
   ]
  },
  {
   "cell_type": "code",
   "execution_count": 174,
   "id": "3c896d6f",
   "metadata": {},
   "outputs": [
    {
     "name": "stdout",
     "output_type": "stream",
     "text": [
      "LogisticRegression(max_iter=1000) = 0.5952380952380952\n",
      "SVC() = 0.5952380952380952\n",
      "DecisionTreeClassifier() = 0.5476190476190477\n",
      "KNeighborsClassifier() = 0.5952380952380952\n"
     ]
    }
   ],
   "source": [
    "for i in algo:\n",
    "    i.fit(Xtrain,ytrain)\n",
    "    s = i.score(Xtest,ytest)\n",
    "    print(f'{i} = {s}')"
   ]
  },
  {
   "cell_type": "markdown",
   "id": "199c1c1d",
   "metadata": {},
   "source": [
    "### With Feature Scaling"
   ]
  },
  {
   "cell_type": "code",
   "execution_count": 175,
   "id": "f4a3c8af",
   "metadata": {},
   "outputs": [],
   "source": [
    "ss = StandardScaler()"
   ]
  },
  {
   "cell_type": "code",
   "execution_count": 176,
   "id": "e0a9b8cf",
   "metadata": {},
   "outputs": [
    {
     "data": {
      "text/plain": [
       "StandardScaler()"
      ]
     },
     "execution_count": 176,
     "metadata": {},
     "output_type": "execute_result"
    }
   ],
   "source": [
    "ss.fit(Xtrain)"
   ]
  },
  {
   "cell_type": "code",
   "execution_count": 177,
   "id": "ce170509",
   "metadata": {},
   "outputs": [],
   "source": [
    "Xtrain_ss = ss.transform(Xtrain)"
   ]
  },
  {
   "cell_type": "code",
   "execution_count": 178,
   "id": "af4514b2",
   "metadata": {},
   "outputs": [],
   "source": [
    "Xtest_ss = ss.transform(Xtest)"
   ]
  },
  {
   "cell_type": "code",
   "execution_count": 179,
   "id": "8c99ae9b",
   "metadata": {},
   "outputs": [
    {
     "name": "stdout",
     "output_type": "stream",
     "text": [
      "LogisticRegression(max_iter=1000) = 0.5238095238095238\n",
      "SVC() = 0.6190476190476191\n",
      "DecisionTreeClassifier() = 0.5\n",
      "KNeighborsClassifier() = 0.6428571428571429\n"
     ]
    }
   ],
   "source": [
    "for i in algo:\n",
    "    i.fit(Xtrain_ss,ytrain)\n",
    "    s = i.score(Xtest_ss,ytest)\n",
    "    print(f'{i} = {s}')"
   ]
  },
  {
   "cell_type": "markdown",
   "id": "f9ad0884",
   "metadata": {},
   "source": [
    "### With Cross Validation"
   ]
  },
  {
   "cell_type": "code",
   "execution_count": 180,
   "id": "d98b5ed1",
   "metadata": {},
   "outputs": [
    {
     "name": "stdout",
     "output_type": "stream",
     "text": [
      "LogisticRegression(max_iter=1000) = 0.49548112706007436\n",
      "SVC() = 0.4715576820839979\n",
      "DecisionTreeClassifier() = 0.547846889952153\n",
      "KNeighborsClassifier() = 0.5047846889952152\n"
     ]
    }
   ],
   "source": [
    "for i in algo:\n",
    "    s = cross_val_score(i,X,y,cv = kf)\n",
    "    print(f'{i} = {s.mean()}')"
   ]
  },
  {
   "cell_type": "markdown",
   "id": "ef63d7f8",
   "metadata": {},
   "source": [
    "## With Boosting "
   ]
  },
  {
   "cell_type": "code",
   "execution_count": 181,
   "id": "4ddb61dc",
   "metadata": {},
   "outputs": [],
   "source": [
    "from sklearn.ensemble import RandomForestClassifier , BaggingClassifier , AdaBoostClassifier , GradientBoostingClassifier "
   ]
  },
  {
   "cell_type": "code",
   "execution_count": 182,
   "id": "e3cef58e",
   "metadata": {},
   "outputs": [],
   "source": [
    "rfc = RandomForestClassifier(n_estimators=150,max_depth=3,max_leaf_nodes=4)"
   ]
  },
  {
   "cell_type": "code",
   "execution_count": 183,
   "id": "a3661c6a",
   "metadata": {},
   "outputs": [],
   "source": [
    "baggc = BaggingClassifier(base_estimator=DecisionTreeClassifier())"
   ]
  },
  {
   "cell_type": "code",
   "execution_count": 184,
   "id": "02527985",
   "metadata": {},
   "outputs": [],
   "source": [
    "adbst = AdaBoostClassifier()"
   ]
  },
  {
   "cell_type": "code",
   "execution_count": 185,
   "id": "df21e3c3",
   "metadata": {},
   "outputs": [],
   "source": [
    "gdbst = GradientBoostingClassifier()"
   ]
  },
  {
   "cell_type": "code",
   "execution_count": 186,
   "id": "cab5e845",
   "metadata": {},
   "outputs": [],
   "source": [
    "algo1 = [rfc , baggc , adbst , gdbst]"
   ]
  },
  {
   "cell_type": "code",
   "execution_count": 187,
   "id": "ca21fa97",
   "metadata": {},
   "outputs": [
    {
     "name": "stdout",
     "output_type": "stream",
     "text": [
      "RandomForestClassifier(max_depth=3, max_leaf_nodes=4, n_estimators=150)\n",
      "BaggingClassifier(base_estimator=DecisionTreeClassifier())\n",
      "AdaBoostClassifier()\n",
      "GradientBoostingClassifier()\n"
     ]
    }
   ],
   "source": [
    "for i in algo1:\n",
    "    print(i)"
   ]
  },
  {
   "cell_type": "markdown",
   "id": "46cb0295",
   "metadata": {},
   "source": [
    "### Without Feature Scaling"
   ]
  },
  {
   "cell_type": "code",
   "execution_count": 188,
   "id": "c9f2b4c4",
   "metadata": {},
   "outputs": [
    {
     "name": "stdout",
     "output_type": "stream",
     "text": [
      "RandomForestClassifier(max_depth=3, max_leaf_nodes=4, n_estimators=150) = 0.6904761904761905\n",
      "BaggingClassifier(base_estimator=DecisionTreeClassifier()) = 0.5714285714285714\n",
      "AdaBoostClassifier() = 0.5714285714285714\n",
      "GradientBoostingClassifier() = 0.5238095238095238\n"
     ]
    }
   ],
   "source": [
    "for i in algo1:\n",
    "    i.fit(Xtrain,ytrain)\n",
    "    s = i.score(Xtest,ytest)\n",
    "    print(f'{i} = {s}')"
   ]
  },
  {
   "cell_type": "markdown",
   "id": "2c38ca52",
   "metadata": {},
   "source": [
    "### With Feature Scaling"
   ]
  },
  {
   "cell_type": "code",
   "execution_count": 189,
   "id": "dce4bcf7",
   "metadata": {},
   "outputs": [
    {
     "name": "stdout",
     "output_type": "stream",
     "text": [
      "RandomForestClassifier(max_depth=3, max_leaf_nodes=4, n_estimators=150) = 0.6428571428571429\n",
      "BaggingClassifier(base_estimator=DecisionTreeClassifier()) = 0.5238095238095238\n",
      "AdaBoostClassifier() = 0.5714285714285714\n",
      "GradientBoostingClassifier() = 0.5238095238095238\n"
     ]
    }
   ],
   "source": [
    "for i in algo1:\n",
    "    i.fit(Xtrain_ss,ytrain)\n",
    "    s = i.score(Xtest_ss,ytest)\n",
    "    print(f'{i} = {s}')"
   ]
  },
  {
   "cell_type": "markdown",
   "id": "1c2a20c2",
   "metadata": {},
   "source": [
    "###  With Cross Validation (Boosting)"
   ]
  },
  {
   "cell_type": "code",
   "execution_count": 190,
   "id": "f088763b",
   "metadata": {},
   "outputs": [
    {
     "name": "stdout",
     "output_type": "stream",
     "text": [
      "RandomForestClassifier(max_depth=3, max_leaf_nodes=4, n_estimators=150) = 0.5576820839978734\n",
      "BaggingClassifier(base_estimator=DecisionTreeClassifier()) = 0.5481127060074429\n",
      "AdaBoostClassifier() = 0.5287081339712918\n",
      "GradientBoostingClassifier() = 0.538809144072302\n"
     ]
    }
   ],
   "source": [
    "for i in algo1:\n",
    "    s = cross_val_score(i,X,y,cv = kf)\n",
    "    print(f'{i} = {s.mean()}')"
   ]
  },
  {
   "cell_type": "markdown",
   "id": "ceaab928",
   "metadata": {},
   "source": [
    "### With GridSearch CV"
   ]
  },
  {
   "cell_type": "code",
   "execution_count": 191,
   "id": "93028204",
   "metadata": {},
   "outputs": [],
   "source": [
    "from sklearn.model_selection import GridSearchCV ,RandomizedSearchCV "
   ]
  },
  {
   "cell_type": "code",
   "execution_count": 192,
   "id": "044a449b",
   "metadata": {},
   "outputs": [],
   "source": [
    "dic = { 'criterion' : ['gini','entropy'] , 'splitter' : [\"best\", \"random\"] , 'max_depth' : [5,9,15,20,25] }"
   ]
  },
  {
   "cell_type": "code",
   "execution_count": 193,
   "id": "e2dea143",
   "metadata": {},
   "outputs": [],
   "source": [
    "kf1 = KFold(n_splits=20)"
   ]
  },
  {
   "cell_type": "markdown",
   "id": "0fcdb651",
   "metadata": {},
   "source": [
    "### gvc Using without Feature Scaling"
   ]
  },
  {
   "cell_type": "code",
   "execution_count": 194,
   "id": "094f6efb",
   "metadata": {},
   "outputs": [],
   "source": [
    "gvc = GridSearchCV(DecisionTreeClassifier(),param_grid=dic,cv = kf1)"
   ]
  },
  {
   "cell_type": "code",
   "execution_count": 195,
   "id": "2eb628c2",
   "metadata": {
    "scrolled": true
   },
   "outputs": [
    {
     "data": {
      "text/plain": [
       "GridSearchCV(cv=KFold(n_splits=20, random_state=None, shuffle=False),\n",
       "             estimator=DecisionTreeClassifier(),\n",
       "             param_grid={'criterion': ['gini', 'entropy'],\n",
       "                         'max_depth': [5, 9, 15, 20, 25],\n",
       "                         'splitter': ['best', 'random']})"
      ]
     },
     "execution_count": 195,
     "metadata": {},
     "output_type": "execute_result"
    }
   ],
   "source": [
    "gvc.fit(X,y)"
   ]
  },
  {
   "cell_type": "code",
   "execution_count": 196,
   "id": "c1acad03",
   "metadata": {},
   "outputs": [
    {
     "data": {
      "text/plain": [
       "{'criterion': 'entropy', 'max_depth': 15, 'splitter': 'best'}"
      ]
     },
     "execution_count": 196,
     "metadata": {},
     "output_type": "execute_result"
    }
   ],
   "source": [
    "gvc.best_params_"
   ]
  },
  {
   "cell_type": "code",
   "execution_count": 197,
   "id": "3a2d43e9",
   "metadata": {},
   "outputs": [
    {
     "data": {
      "text/plain": [
       "DecisionTreeClassifier(criterion='entropy', max_depth=15)"
      ]
     },
     "execution_count": 197,
     "metadata": {},
     "output_type": "execute_result"
    }
   ],
   "source": [
    "gvc.best_estimator_"
   ]
  },
  {
   "cell_type": "code",
   "execution_count": 198,
   "id": "8145c5ac",
   "metadata": {},
   "outputs": [
    {
     "data": {
      "text/plain": [
       "0.5513636363636363"
      ]
     },
     "execution_count": 198,
     "metadata": {},
     "output_type": "execute_result"
    }
   ],
   "source": [
    "gvc.best_score_"
   ]
  },
  {
   "cell_type": "markdown",
   "id": "b9a0e324",
   "metadata": {},
   "source": [
    "### gvc Using with Feature Scaling\n"
   ]
  },
  {
   "cell_type": "code",
   "execution_count": 199,
   "id": "b5e7f87e",
   "metadata": {},
   "outputs": [],
   "source": [
    "ss1 = StandardScaler()\n",
    "X_ss1 = ss1.fit_transform(X)"
   ]
  },
  {
   "cell_type": "code",
   "execution_count": 200,
   "id": "d185bcc1",
   "metadata": {},
   "outputs": [],
   "source": [
    "gvc1 = GridSearchCV(DecisionTreeClassifier(),param_grid=dic,cv = kf1)"
   ]
  },
  {
   "cell_type": "code",
   "execution_count": 201,
   "id": "37bb72a9",
   "metadata": {},
   "outputs": [
    {
     "data": {
      "text/plain": [
       "GridSearchCV(cv=KFold(n_splits=20, random_state=None, shuffle=False),\n",
       "             estimator=DecisionTreeClassifier(),\n",
       "             param_grid={'criterion': ['gini', 'entropy'],\n",
       "                         'max_depth': [5, 9, 15, 20, 25],\n",
       "                         'splitter': ['best', 'random']})"
      ]
     },
     "execution_count": 201,
     "metadata": {},
     "output_type": "execute_result"
    }
   ],
   "source": [
    "gvc1.fit(X_ss1,y)"
   ]
  },
  {
   "cell_type": "code",
   "execution_count": 202,
   "id": "ad40af38",
   "metadata": {},
   "outputs": [
    {
     "data": {
      "text/plain": [
       "{'criterion': 'entropy', 'max_depth': 9, 'splitter': 'best'}"
      ]
     },
     "execution_count": 202,
     "metadata": {},
     "output_type": "execute_result"
    }
   ],
   "source": [
    "gvc1.best_params_"
   ]
  },
  {
   "cell_type": "code",
   "execution_count": 203,
   "id": "587b7874",
   "metadata": {},
   "outputs": [
    {
     "data": {
      "text/plain": [
       "DecisionTreeClassifier(criterion='entropy', max_depth=9)"
      ]
     },
     "execution_count": 203,
     "metadata": {},
     "output_type": "execute_result"
    }
   ],
   "source": [
    "gvc1.best_estimator_"
   ]
  },
  {
   "cell_type": "code",
   "execution_count": 204,
   "id": "1bae098f",
   "metadata": {},
   "outputs": [
    {
     "data": {
      "text/plain": [
       "0.5645454545454545"
      ]
     },
     "execution_count": 204,
     "metadata": {},
     "output_type": "execute_result"
    }
   ],
   "source": [
    "gvc1.best_score_"
   ]
  },
  {
   "cell_type": "markdown",
   "id": "f3a99957",
   "metadata": {},
   "source": [
    "### With Random Search CV"
   ]
  },
  {
   "cell_type": "code",
   "execution_count": 205,
   "id": "2e5813ea",
   "metadata": {},
   "outputs": [],
   "source": [
    "rsc =  RandomizedSearchCV(DecisionTreeClassifier(),param_distributions=dic,cv = kf1)"
   ]
  },
  {
   "cell_type": "markdown",
   "id": "0e4cc849",
   "metadata": {},
   "source": [
    "### rsc Using without Feature Scaling"
   ]
  },
  {
   "cell_type": "code",
   "execution_count": 206,
   "id": "d1ad4cae",
   "metadata": {},
   "outputs": [
    {
     "data": {
      "text/plain": [
       "RandomizedSearchCV(cv=KFold(n_splits=20, random_state=None, shuffle=False),\n",
       "                   estimator=DecisionTreeClassifier(),\n",
       "                   param_distributions={'criterion': ['gini', 'entropy'],\n",
       "                                        'max_depth': [5, 9, 15, 20, 25],\n",
       "                                        'splitter': ['best', 'random']})"
      ]
     },
     "execution_count": 206,
     "metadata": {},
     "output_type": "execute_result"
    }
   ],
   "source": [
    "rsc.fit(X,y)"
   ]
  },
  {
   "cell_type": "code",
   "execution_count": 207,
   "id": "6e17f596",
   "metadata": {},
   "outputs": [
    {
     "data": {
      "text/plain": [
       "{'splitter': 'random', 'max_depth': 9, 'criterion': 'gini'}"
      ]
     },
     "execution_count": 207,
     "metadata": {},
     "output_type": "execute_result"
    }
   ],
   "source": [
    "rsc.best_params_"
   ]
  },
  {
   "cell_type": "code",
   "execution_count": 208,
   "id": "d9d943cd",
   "metadata": {},
   "outputs": [
    {
     "data": {
      "text/plain": [
       "DecisionTreeClassifier(max_depth=9, splitter='random')"
      ]
     },
     "execution_count": 208,
     "metadata": {},
     "output_type": "execute_result"
    }
   ],
   "source": [
    "rsc.best_estimator_"
   ]
  },
  {
   "cell_type": "code",
   "execution_count": 209,
   "id": "5075c86f",
   "metadata": {},
   "outputs": [
    {
     "data": {
      "text/plain": [
       "0.5977272727272728"
      ]
     },
     "execution_count": 209,
     "metadata": {},
     "output_type": "execute_result"
    }
   ],
   "source": [
    "rsc.best_score_"
   ]
  },
  {
   "cell_type": "markdown",
   "id": "031a756b",
   "metadata": {},
   "source": [
    "### rsc Using with Feature Scaling\n",
    "\n"
   ]
  },
  {
   "cell_type": "code",
   "execution_count": 210,
   "id": "bae8d978",
   "metadata": {},
   "outputs": [],
   "source": [
    "rsc1 =  RandomizedSearchCV(DecisionTreeClassifier(),param_distributions=dic,cv = kf1)"
   ]
  },
  {
   "cell_type": "code",
   "execution_count": 211,
   "id": "637c9299",
   "metadata": {},
   "outputs": [
    {
     "data": {
      "text/plain": [
       "RandomizedSearchCV(cv=KFold(n_splits=20, random_state=None, shuffle=False),\n",
       "                   estimator=DecisionTreeClassifier(),\n",
       "                   param_distributions={'criterion': ['gini', 'entropy'],\n",
       "                                        'max_depth': [5, 9, 15, 20, 25],\n",
       "                                        'splitter': ['best', 'random']})"
      ]
     },
     "execution_count": 211,
     "metadata": {},
     "output_type": "execute_result"
    }
   ],
   "source": [
    "rsc1.fit(X_ss1,y)"
   ]
  },
  {
   "cell_type": "code",
   "execution_count": 212,
   "id": "d2de1df4",
   "metadata": {},
   "outputs": [
    {
     "data": {
      "text/plain": [
       "{'splitter': 'random', 'max_depth': 9, 'criterion': 'gini'}"
      ]
     },
     "execution_count": 212,
     "metadata": {},
     "output_type": "execute_result"
    }
   ],
   "source": [
    "rsc.best_params_"
   ]
  },
  {
   "cell_type": "code",
   "execution_count": 213,
   "id": "3f56cdf3",
   "metadata": {},
   "outputs": [
    {
     "data": {
      "text/plain": [
       "DecisionTreeClassifier(max_depth=9, splitter='random')"
      ]
     },
     "execution_count": 213,
     "metadata": {},
     "output_type": "execute_result"
    }
   ],
   "source": [
    "rsc.best_estimator_"
   ]
  },
  {
   "cell_type": "code",
   "execution_count": 214,
   "id": "9ceb06a6",
   "metadata": {},
   "outputs": [
    {
     "data": {
      "text/plain": [
       "0.5977272727272728"
      ]
     },
     "execution_count": 214,
     "metadata": {},
     "output_type": "execute_result"
    }
   ],
   "source": [
    "rsc.best_score_"
   ]
  },
  {
   "cell_type": "code",
   "execution_count": null,
   "id": "33174279",
   "metadata": {},
   "outputs": [],
   "source": []
  }
 ],
 "metadata": {
  "kernelspec": {
   "display_name": "Python 3 (ipykernel)",
   "language": "python",
   "name": "python3"
  },
  "language_info": {
   "codemirror_mode": {
    "name": "ipython",
    "version": 3
   },
   "file_extension": ".py",
   "mimetype": "text/x-python",
   "name": "python",
   "nbconvert_exporter": "python",
   "pygments_lexer": "ipython3",
   "version": "3.9.7"
  }
 },
 "nbformat": 4,
 "nbformat_minor": 5
}
