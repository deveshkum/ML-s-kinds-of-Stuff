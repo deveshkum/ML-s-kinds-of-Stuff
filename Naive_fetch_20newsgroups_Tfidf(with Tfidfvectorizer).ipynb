{
 "cells": [
  {
   "cell_type": "code",
   "execution_count": 66,
   "id": "4ee80732",
   "metadata": {},
   "outputs": [],
   "source": [
    "import numpy as np\n",
    "import pandas as pd"
   ]
  },
  {
   "cell_type": "code",
   "execution_count": 67,
   "id": "f5bdbc0f",
   "metadata": {},
   "outputs": [],
   "source": [
    "from sklearn.datasets import fetch_20newsgroups"
   ]
  },
  {
   "cell_type": "code",
   "execution_count": 68,
   "id": "a7b72b0d",
   "metadata": {},
   "outputs": [
    {
     "data": {
      "text/plain": [
       "dict_keys(['data', 'filenames', 'target_names', 'target', 'DESCR'])"
      ]
     },
     "execution_count": 68,
     "metadata": {},
     "output_type": "execute_result"
    }
   ],
   "source": [
    "news_data=fetch_20newsgroups()\n",
    "news_data.keys()"
   ]
  },
  {
   "cell_type": "code",
   "execution_count": 69,
   "id": "bd746fdd",
   "metadata": {},
   "outputs": [],
   "source": [
    "news_train=fetch_20newsgroups(subset=\"train\",categories=news_data[\"target_names\"])"
   ]
  },
  {
   "cell_type": "code",
   "execution_count": 70,
   "id": "a5347b74",
   "metadata": {},
   "outputs": [],
   "source": [
    "news_test=fetch_20newsgroups(subset=\"test\",categories=news_data[\"target_names\"])"
   ]
  },
  {
   "cell_type": "code",
   "execution_count": 71,
   "id": "71174367",
   "metadata": {},
   "outputs": [],
   "source": [
    "from sklearn.feature_extraction.text import TfidfVectorizer"
   ]
  },
  {
   "cell_type": "code",
   "execution_count": 72,
   "id": "bdd79d9d",
   "metadata": {},
   "outputs": [],
   "source": [
    "tfid=TfidfVectorizer()"
   ]
  },
  {
   "cell_type": "code",
   "execution_count": 73,
   "id": "bea2224d",
   "metadata": {},
   "outputs": [
    {
     "data": {
      "text/plain": [
       "TfidfVectorizer()"
      ]
     },
     "execution_count": 73,
     "metadata": {},
     "output_type": "execute_result"
    }
   ],
   "source": [
    "tfid.fit(news_train)"
   ]
  },
  {
   "cell_type": "code",
   "execution_count": 74,
   "id": "b93f9fc3",
   "metadata": {},
   "outputs": [],
   "source": [
    "news_train_tfid=tfid.transform(news_train[\"data\"])"
   ]
  },
  {
   "cell_type": "code",
   "execution_count": 75,
   "id": "68f8f790",
   "metadata": {},
   "outputs": [],
   "source": [
    "news_test_tfid=tfid.transform(news_test[\"data\"])"
   ]
  },
  {
   "cell_type": "code",
   "execution_count": 76,
   "id": "801809eb",
   "metadata": {},
   "outputs": [],
   "source": [
    "from sklearn.naive_bayes import MultinomialNB"
   ]
  },
  {
   "cell_type": "code",
   "execution_count": 77,
   "id": "1ee0d9d1",
   "metadata": {},
   "outputs": [],
   "source": [
    "model=MultinomialNB()"
   ]
  },
  {
   "cell_type": "code",
   "execution_count": 78,
   "id": "0b64eeb4",
   "metadata": {},
   "outputs": [
    {
     "data": {
      "text/plain": [
       "11314"
      ]
     },
     "execution_count": 78,
     "metadata": {},
     "output_type": "execute_result"
    }
   ],
   "source": [
    "news_train[\"target\"].size"
   ]
  },
  {
   "cell_type": "code",
   "execution_count": 79,
   "id": "35bb06fb",
   "metadata": {},
   "outputs": [
    {
     "data": {
      "text/plain": [
       "779"
      ]
     },
     "execution_count": 79,
     "metadata": {},
     "output_type": "execute_result"
    }
   ],
   "source": [
    "news_train_tfid.size"
   ]
  },
  {
   "cell_type": "code",
   "execution_count": 80,
   "id": "f213b281",
   "metadata": {},
   "outputs": [
    {
     "data": {
      "text/plain": [
       "MultinomialNB()"
      ]
     },
     "execution_count": 80,
     "metadata": {},
     "output_type": "execute_result"
    }
   ],
   "source": [
    "model.fit(news_train_tfid,news_train[\"target\"])"
   ]
  },
  {
   "cell_type": "code",
   "execution_count": 81,
   "id": "27e1a2a1",
   "metadata": {},
   "outputs": [
    {
     "data": {
      "text/plain": [
       "0.0605416887944769"
      ]
     },
     "execution_count": 81,
     "metadata": {},
     "output_type": "execute_result"
    }
   ],
   "source": [
    "model.score(news_test_tfid,news_test[\"target\"])"
   ]
  },
  {
   "cell_type": "code",
   "execution_count": null,
   "id": "91e967e8",
   "metadata": {},
   "outputs": [],
   "source": []
  },
  {
   "cell_type": "code",
   "execution_count": null,
   "id": "12388a33",
   "metadata": {},
   "outputs": [],
   "source": []
  },
  {
   "cell_type": "code",
   "execution_count": null,
   "id": "8c34ccc0",
   "metadata": {},
   "outputs": [],
   "source": []
  }
 ],
 "metadata": {
  "kernelspec": {
   "display_name": "Python 3 (ipykernel)",
   "language": "python",
   "name": "python3"
  },
  "language_info": {
   "codemirror_mode": {
    "name": "ipython",
    "version": 3
   },
   "file_extension": ".py",
   "mimetype": "text/x-python",
   "name": "python",
   "nbconvert_exporter": "python",
   "pygments_lexer": "ipython3",
   "version": "3.9.7"
  }
 },
 "nbformat": 4,
 "nbformat_minor": 5
}
