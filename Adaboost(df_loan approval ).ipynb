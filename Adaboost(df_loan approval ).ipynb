{
 "cells": [
  {
   "cell_type": "code",
   "execution_count": 1,
   "id": "bd952c20",
   "metadata": {},
   "outputs": [],
   "source": [
    "import numpy as np\n",
    "import pandas as pd\n",
    "import matplotlib.pyplot as plt"
   ]
  },
  {
   "cell_type": "code",
   "execution_count": 664,
   "id": "b47f0c6d",
   "metadata": {},
   "outputs": [],
   "source": [
    "df = pd.read_csv(\"/Users/dev/Personal/DS & AI Class Notes/Data Sets/Adaboost/loan_approval.csv\" )"
   ]
  },
  {
   "cell_type": "code",
   "execution_count": 665,
   "id": "4cacdf20",
   "metadata": {},
   "outputs": [
    {
     "data": {
      "text/html": [
       "<div>\n",
       "<style scoped>\n",
       "    .dataframe tbody tr th:only-of-type {\n",
       "        vertical-align: middle;\n",
       "    }\n",
       "\n",
       "    .dataframe tbody tr th {\n",
       "        vertical-align: top;\n",
       "    }\n",
       "\n",
       "    .dataframe thead th {\n",
       "        text-align: right;\n",
       "    }\n",
       "</style>\n",
       "<table border=\"1\" class=\"dataframe\">\n",
       "  <thead>\n",
       "    <tr style=\"text-align: right;\">\n",
       "      <th></th>\n",
       "      <th>Gender</th>\n",
       "      <th>Married</th>\n",
       "      <th>Dependents</th>\n",
       "      <th>Education</th>\n",
       "      <th>Self_Employed</th>\n",
       "      <th>ApplicantIncome</th>\n",
       "      <th>CoapplicantIncome</th>\n",
       "      <th>LoanAmount</th>\n",
       "      <th>Loan_Amount_Term</th>\n",
       "      <th>Credit_History</th>\n",
       "      <th>Property_Area</th>\n",
       "      <th>Loan_Status</th>\n",
       "    </tr>\n",
       "  </thead>\n",
       "  <tbody>\n",
       "    <tr>\n",
       "      <th>0</th>\n",
       "      <td>Male</td>\n",
       "      <td>No</td>\n",
       "      <td>0</td>\n",
       "      <td>Graduate</td>\n",
       "      <td>No</td>\n",
       "      <td>5849</td>\n",
       "      <td>0.0</td>\n",
       "      <td>NaN</td>\n",
       "      <td>360.0</td>\n",
       "      <td>1.0</td>\n",
       "      <td>Urban</td>\n",
       "      <td>Y</td>\n",
       "    </tr>\n",
       "    <tr>\n",
       "      <th>1</th>\n",
       "      <td>Male</td>\n",
       "      <td>Yes</td>\n",
       "      <td>1</td>\n",
       "      <td>Graduate</td>\n",
       "      <td>No</td>\n",
       "      <td>4583</td>\n",
       "      <td>1508.0</td>\n",
       "      <td>128.0</td>\n",
       "      <td>360.0</td>\n",
       "      <td>1.0</td>\n",
       "      <td>Rural</td>\n",
       "      <td>N</td>\n",
       "    </tr>\n",
       "    <tr>\n",
       "      <th>2</th>\n",
       "      <td>Male</td>\n",
       "      <td>Yes</td>\n",
       "      <td>0</td>\n",
       "      <td>Graduate</td>\n",
       "      <td>Yes</td>\n",
       "      <td>3000</td>\n",
       "      <td>0.0</td>\n",
       "      <td>66.0</td>\n",
       "      <td>360.0</td>\n",
       "      <td>1.0</td>\n",
       "      <td>Urban</td>\n",
       "      <td>Y</td>\n",
       "    </tr>\n",
       "    <tr>\n",
       "      <th>3</th>\n",
       "      <td>Male</td>\n",
       "      <td>Yes</td>\n",
       "      <td>0</td>\n",
       "      <td>Not Graduate</td>\n",
       "      <td>No</td>\n",
       "      <td>2583</td>\n",
       "      <td>2358.0</td>\n",
       "      <td>120.0</td>\n",
       "      <td>360.0</td>\n",
       "      <td>1.0</td>\n",
       "      <td>Urban</td>\n",
       "      <td>Y</td>\n",
       "    </tr>\n",
       "    <tr>\n",
       "      <th>4</th>\n",
       "      <td>Male</td>\n",
       "      <td>No</td>\n",
       "      <td>0</td>\n",
       "      <td>Graduate</td>\n",
       "      <td>No</td>\n",
       "      <td>6000</td>\n",
       "      <td>0.0</td>\n",
       "      <td>141.0</td>\n",
       "      <td>360.0</td>\n",
       "      <td>1.0</td>\n",
       "      <td>Urban</td>\n",
       "      <td>Y</td>\n",
       "    </tr>\n",
       "    <tr>\n",
       "      <th>...</th>\n",
       "      <td>...</td>\n",
       "      <td>...</td>\n",
       "      <td>...</td>\n",
       "      <td>...</td>\n",
       "      <td>...</td>\n",
       "      <td>...</td>\n",
       "      <td>...</td>\n",
       "      <td>...</td>\n",
       "      <td>...</td>\n",
       "      <td>...</td>\n",
       "      <td>...</td>\n",
       "      <td>...</td>\n",
       "    </tr>\n",
       "    <tr>\n",
       "      <th>609</th>\n",
       "      <td>Female</td>\n",
       "      <td>No</td>\n",
       "      <td>0</td>\n",
       "      <td>Graduate</td>\n",
       "      <td>No</td>\n",
       "      <td>2900</td>\n",
       "      <td>0.0</td>\n",
       "      <td>71.0</td>\n",
       "      <td>360.0</td>\n",
       "      <td>1.0</td>\n",
       "      <td>Rural</td>\n",
       "      <td>Y</td>\n",
       "    </tr>\n",
       "    <tr>\n",
       "      <th>610</th>\n",
       "      <td>Male</td>\n",
       "      <td>Yes</td>\n",
       "      <td>3+</td>\n",
       "      <td>Graduate</td>\n",
       "      <td>No</td>\n",
       "      <td>4106</td>\n",
       "      <td>0.0</td>\n",
       "      <td>40.0</td>\n",
       "      <td>180.0</td>\n",
       "      <td>1.0</td>\n",
       "      <td>Rural</td>\n",
       "      <td>Y</td>\n",
       "    </tr>\n",
       "    <tr>\n",
       "      <th>611</th>\n",
       "      <td>Male</td>\n",
       "      <td>Yes</td>\n",
       "      <td>1</td>\n",
       "      <td>Graduate</td>\n",
       "      <td>No</td>\n",
       "      <td>8072</td>\n",
       "      <td>240.0</td>\n",
       "      <td>253.0</td>\n",
       "      <td>360.0</td>\n",
       "      <td>1.0</td>\n",
       "      <td>Urban</td>\n",
       "      <td>Y</td>\n",
       "    </tr>\n",
       "    <tr>\n",
       "      <th>612</th>\n",
       "      <td>Male</td>\n",
       "      <td>Yes</td>\n",
       "      <td>2</td>\n",
       "      <td>Graduate</td>\n",
       "      <td>No</td>\n",
       "      <td>7583</td>\n",
       "      <td>0.0</td>\n",
       "      <td>187.0</td>\n",
       "      <td>360.0</td>\n",
       "      <td>1.0</td>\n",
       "      <td>Urban</td>\n",
       "      <td>Y</td>\n",
       "    </tr>\n",
       "    <tr>\n",
       "      <th>613</th>\n",
       "      <td>Female</td>\n",
       "      <td>No</td>\n",
       "      <td>0</td>\n",
       "      <td>Graduate</td>\n",
       "      <td>Yes</td>\n",
       "      <td>4583</td>\n",
       "      <td>0.0</td>\n",
       "      <td>133.0</td>\n",
       "      <td>360.0</td>\n",
       "      <td>0.0</td>\n",
       "      <td>Semiurban</td>\n",
       "      <td>N</td>\n",
       "    </tr>\n",
       "  </tbody>\n",
       "</table>\n",
       "<p>614 rows × 12 columns</p>\n",
       "</div>"
      ],
      "text/plain": [
       "     Gender Married Dependents     Education Self_Employed  ApplicantIncome  \\\n",
       "0      Male      No          0      Graduate            No             5849   \n",
       "1      Male     Yes          1      Graduate            No             4583   \n",
       "2      Male     Yes          0      Graduate           Yes             3000   \n",
       "3      Male     Yes          0  Not Graduate            No             2583   \n",
       "4      Male      No          0      Graduate            No             6000   \n",
       "..      ...     ...        ...           ...           ...              ...   \n",
       "609  Female      No          0      Graduate            No             2900   \n",
       "610    Male     Yes         3+      Graduate            No             4106   \n",
       "611    Male     Yes          1      Graduate            No             8072   \n",
       "612    Male     Yes          2      Graduate            No             7583   \n",
       "613  Female      No          0      Graduate           Yes             4583   \n",
       "\n",
       "     CoapplicantIncome  LoanAmount  Loan_Amount_Term  Credit_History  \\\n",
       "0                  0.0         NaN             360.0             1.0   \n",
       "1               1508.0       128.0             360.0             1.0   \n",
       "2                  0.0        66.0             360.0             1.0   \n",
       "3               2358.0       120.0             360.0             1.0   \n",
       "4                  0.0       141.0             360.0             1.0   \n",
       "..                 ...         ...               ...             ...   \n",
       "609                0.0        71.0             360.0             1.0   \n",
       "610                0.0        40.0             180.0             1.0   \n",
       "611              240.0       253.0             360.0             1.0   \n",
       "612                0.0       187.0             360.0             1.0   \n",
       "613                0.0       133.0             360.0             0.0   \n",
       "\n",
       "    Property_Area Loan_Status  \n",
       "0           Urban           Y  \n",
       "1           Rural           N  \n",
       "2           Urban           Y  \n",
       "3           Urban           Y  \n",
       "4           Urban           Y  \n",
       "..            ...         ...  \n",
       "609         Rural           Y  \n",
       "610         Rural           Y  \n",
       "611         Urban           Y  \n",
       "612         Urban           Y  \n",
       "613     Semiurban           N  \n",
       "\n",
       "[614 rows x 12 columns]"
      ]
     },
     "execution_count": 665,
     "metadata": {},
     "output_type": "execute_result"
    }
   ],
   "source": [
    "df.drop(\"Loan_ID\",axis=1,inplace=True)\n",
    "df"
   ]
  },
  {
   "cell_type": "code",
   "execution_count": 666,
   "id": "b5e0c47f",
   "metadata": {
    "scrolled": true
   },
   "outputs": [
    {
     "name": "stdout",
     "output_type": "stream",
     "text": [
      "<class 'pandas.core.frame.DataFrame'>\n",
      "RangeIndex: 614 entries, 0 to 613\n",
      "Data columns (total 12 columns):\n",
      " #   Column             Non-Null Count  Dtype  \n",
      "---  ------             --------------  -----  \n",
      " 0   Gender             601 non-null    object \n",
      " 1   Married            611 non-null    object \n",
      " 2   Dependents         599 non-null    object \n",
      " 3   Education          614 non-null    object \n",
      " 4   Self_Employed      582 non-null    object \n",
      " 5   ApplicantIncome    614 non-null    int64  \n",
      " 6   CoapplicantIncome  614 non-null    float64\n",
      " 7   LoanAmount         592 non-null    float64\n",
      " 8   Loan_Amount_Term   600 non-null    float64\n",
      " 9   Credit_History     564 non-null    float64\n",
      " 10  Property_Area      614 non-null    object \n",
      " 11  Loan_Status        614 non-null    object \n",
      "dtypes: float64(4), int64(1), object(7)\n",
      "memory usage: 57.7+ KB\n"
     ]
    }
   ],
   "source": [
    "df.info()"
   ]
  },
  {
   "cell_type": "markdown",
   "id": "9453982e",
   "metadata": {},
   "source": [
    "## Replacing df[\"Dependents\"] values by str to int. by Regex"
   ]
  },
  {
   "cell_type": "code",
   "execution_count": 667,
   "id": "41fedf4e",
   "metadata": {},
   "outputs": [],
   "source": [
    "df[\"Dependents\"].replace(\"[^0-9.]\",\"\",regex=True,inplace=True)"
   ]
  },
  {
   "cell_type": "markdown",
   "id": "a18be3ed",
   "metadata": {},
   "source": [
    "## Removing Nans "
   ]
  },
  {
   "cell_type": "code",
   "execution_count": 668,
   "id": "6caeb21b",
   "metadata": {
    "scrolled": true
   },
   "outputs": [
    {
     "data": {
      "text/plain": [
       "Gender               13\n",
       "Married               3\n",
       "Dependents           15\n",
       "Education             0\n",
       "Self_Employed        32\n",
       "ApplicantIncome       0\n",
       "CoapplicantIncome     0\n",
       "LoanAmount           22\n",
       "Loan_Amount_Term     14\n",
       "Credit_History       50\n",
       "Property_Area         0\n",
       "Loan_Status           0\n",
       "dtype: int64"
      ]
     },
     "execution_count": 668,
     "metadata": {},
     "output_type": "execute_result"
    }
   ],
   "source": [
    "df.isna().sum()"
   ]
  },
  {
   "cell_type": "code",
   "execution_count": 669,
   "id": "f435e2b7",
   "metadata": {},
   "outputs": [],
   "source": [
    "df[\"Gender\"].fillna(method='pad',inplace=True)"
   ]
  },
  {
   "cell_type": "code",
   "execution_count": 670,
   "id": "b5c1d783",
   "metadata": {},
   "outputs": [],
   "source": [
    "df[\"Married\"].fillna(method='pad',inplace=True)"
   ]
  },
  {
   "cell_type": "code",
   "execution_count": 671,
   "id": "17db92c0",
   "metadata": {},
   "outputs": [],
   "source": [
    "df[\"Dependents\"].fillna(method='pad',inplace=True)"
   ]
  },
  {
   "cell_type": "code",
   "execution_count": 672,
   "id": "69b05fe9",
   "metadata": {},
   "outputs": [],
   "source": [
    "df[\"Self_Employed\"].fillna(method='pad',inplace=True)"
   ]
  },
  {
   "cell_type": "code",
   "execution_count": 673,
   "id": "ef665a31",
   "metadata": {},
   "outputs": [],
   "source": [
    "def nanremove(df):\n",
    "    m = round(df.mean(),2)\n",
    "    df.replace(np.nan,m,inplace = True)"
   ]
  },
  {
   "cell_type": "code",
   "execution_count": 674,
   "id": "ad45df99",
   "metadata": {},
   "outputs": [],
   "source": [
    "nanremove(df[\"LoanAmount\"])"
   ]
  },
  {
   "cell_type": "code",
   "execution_count": 675,
   "id": "3b0d5ff0",
   "metadata": {},
   "outputs": [],
   "source": [
    "nanremove(df[\"Loan_Amount_Term\"])"
   ]
  },
  {
   "cell_type": "code",
   "execution_count": 676,
   "id": "714f3054",
   "metadata": {},
   "outputs": [],
   "source": [
    "nanremove(df[\"Credit_History\"])"
   ]
  },
  {
   "cell_type": "code",
   "execution_count": 677,
   "id": "15e7d155",
   "metadata": {},
   "outputs": [
    {
     "data": {
      "text/plain": [
       "Gender               0\n",
       "Married              0\n",
       "Dependents           0\n",
       "Education            0\n",
       "Self_Employed        0\n",
       "ApplicantIncome      0\n",
       "CoapplicantIncome    0\n",
       "LoanAmount           0\n",
       "Loan_Amount_Term     0\n",
       "Credit_History       0\n",
       "Property_Area        0\n",
       "Loan_Status          0\n",
       "dtype: int64"
      ]
     },
     "execution_count": 677,
     "metadata": {},
     "output_type": "execute_result"
    }
   ],
   "source": [
    "df.isna().sum()"
   ]
  },
  {
   "cell_type": "markdown",
   "id": "da1b255c",
   "metadata": {},
   "source": [
    "## Checking Balance of DF"
   ]
  },
  {
   "cell_type": "code",
   "execution_count": 678,
   "id": "d7af456b",
   "metadata": {},
   "outputs": [
    {
     "data": {
      "text/plain": [
       "Y    422\n",
       "N    192\n",
       "Name: Loan_Status, dtype: int64"
      ]
     },
     "execution_count": 678,
     "metadata": {},
     "output_type": "execute_result"
    }
   ],
   "source": [
    "df[\"Loan_Status\"].value_counts()"
   ]
  },
  {
   "cell_type": "code",
   "execution_count": 679,
   "id": "70380971",
   "metadata": {},
   "outputs": [
    {
     "data": {
      "image/png": "[encoded data removed]",
      "text/plain": [
       "<Figure size 432x288 with 1 Axes>"
      ]
     },
     "metadata": {
      "needs_background": "light"
     },
     "output_type": "display_data"
    }
   ],
   "source": [
    "plt.hist(df[\"Loan_Status\"],color='Red')\n",
    "plt.show()"
   ]
  },
  {
   "cell_type": "markdown",
   "id": "1353c55b",
   "metadata": {},
   "source": [
    "### Checking And Removing 0's"
   ]
  },
  {
   "cell_type": "code",
   "execution_count": 680,
   "id": "e1d7d0b5",
   "metadata": {},
   "outputs": [],
   "source": [
    "def checkz(df):\n",
    "    return df[df == 0].value_counts()"
   ]
  },
  {
   "cell_type": "code",
   "execution_count": 681,
   "id": "b9456018",
   "metadata": {},
   "outputs": [
    {
     "name": "stdout",
     "output_type": "stream",
     "text": [
      "Series([], Name: Gender, dtype: int64)\n",
      "Series([], Name: Married, dtype: int64)\n",
      "Series([], Name: Dependents, dtype: int64)\n",
      "Series([], Name: Education, dtype: int64)\n",
      "Series([], Name: Self_Employed, dtype: int64)\n",
      "Series([], Name: ApplicantIncome, dtype: int64)\n",
      "0.0    273\n",
      "Name: CoapplicantIncome, dtype: int64\n",
      "Series([], Name: LoanAmount, dtype: int64)\n",
      "Series([], Name: Loan_Amount_Term, dtype: int64)\n",
      "0.0    89\n",
      "Name: Credit_History, dtype: int64\n",
      "Series([], Name: Property_Area, dtype: int64)\n",
      "Series([], Name: Loan_Status, dtype: int64)\n"
     ]
    }
   ],
   "source": [
    "for i in df.columns:\n",
    "    print(checkz(df[i]))"
   ]
  },
  {
   "cell_type": "code",
   "execution_count": 682,
   "id": "2263a1a4",
   "metadata": {},
   "outputs": [
    {
     "data": {
      "text/plain": [
       "Index(['Gender', 'Married', 'Dependents', 'Education', 'Self_Employed',\n",
       "       'ApplicantIncome', 'CoapplicantIncome', 'LoanAmount',\n",
       "       'Loan_Amount_Term', 'Credit_History', 'Property_Area', 'Loan_Status'],\n",
       "      dtype='object')"
      ]
     },
     "execution_count": 682,
     "metadata": {},
     "output_type": "execute_result"
    }
   ],
   "source": [
    "df.columns"
   ]
  },
  {
   "cell_type": "code",
   "execution_count": 683,
   "id": "acc42531",
   "metadata": {
    "scrolled": false
   },
   "outputs": [],
   "source": [
    "clist = [ 'Dependents','ApplicantIncome', 'CoapplicantIncome',\n",
    "         'LoanAmount','Loan_Amount_Term', 'Credit_History', ]"
   ]
  },
  {
   "cell_type": "code",
   "execution_count": 684,
   "id": "13ba933c",
   "metadata": {},
   "outputs": [],
   "source": [
    "for i in clist:\n",
    "    zeroremove(df[i])"
   ]
  },
  {
   "cell_type": "code",
   "execution_count": 685,
   "id": "59e7e1e6",
   "metadata": {},
   "outputs": [
    {
     "name": "stdout",
     "output_type": "stream",
     "text": [
      "Series([], Name: Gender, dtype: int64)\n",
      "Series([], Name: Married, dtype: int64)\n",
      "Series([], Name: Dependents, dtype: int64)\n",
      "Series([], Name: Education, dtype: int64)\n",
      "Series([], Name: Self_Employed, dtype: int64)\n",
      "Series([], Name: ApplicantIncome, dtype: int64)\n",
      "Series([], Name: CoapplicantIncome, dtype: int64)\n",
      "Series([], Name: LoanAmount, dtype: int64)\n",
      "Series([], Name: Loan_Amount_Term, dtype: int64)\n",
      "Series([], Name: Credit_History, dtype: int64)\n",
      "Series([], Name: Property_Area, dtype: int64)\n",
      "Series([], Name: Loan_Status, dtype: int64)\n"
     ]
    }
   ],
   "source": [
    "for i in df.columns:\n",
    "    print(checkz(df[i]))"
   ]
  },
  {
   "cell_type": "markdown",
   "id": "78b7e0f9",
   "metadata": {},
   "source": [
    "### OD_Tech With The help of Skew"
   ]
  },
  {
   "cell_type": "code",
   "execution_count": 686,
   "id": "655e6d62",
   "metadata": {},
   "outputs": [],
   "source": [
    "def odiqr(df):\n",
    "    q1 = df.quantile(0.25)\n",
    "    q3 = df.quantile(0.75)\n",
    "    iqr = q3 - q1\n",
    "    low = q1 - (1.5 * iqr)\n",
    "    high = q3 + (1.5 * iqr)\n",
    "    m = df.mean()\n",
    "    df = df.apply(lambda x : m if x < low else (m if x > high else x ) )\n",
    "    return df"
   ]
  },
  {
   "cell_type": "code",
   "execution_count": 687,
   "id": "f672095b",
   "metadata": {},
   "outputs": [],
   "source": [
    "def odmsd(df):\n",
    "    m = round(df.mean(),2)\n",
    "    s = round(df.std(),2)\n",
    "    low = round(m-(3*s),2)\n",
    "    high = round(m+(3*s),2)\n",
    "    ft1 = df[df<low]\n",
    "    ft2 = df[df>high]\n",
    "    df = df.map(lambda x : low if x < low else (high if x > high else x ))"
   ]
  },
  {
   "cell_type": "code",
   "execution_count": 688,
   "id": "49916f81",
   "metadata": {
    "scrolled": true
   },
   "outputs": [
    {
     "name": "stdout",
     "output_type": "stream",
     "text": [
      "Dependents is 0.9764220531079079\n",
      "ApplicantIncome is 6.539513113994625\n",
      "CoapplicantIncome is 9.677702794378638\n",
      "LoanAmount is 2.7266039186591304\n",
      "Loan_Amount_Term is -2.3896799467122745\n",
      "Credit_History is -1.3108351339315514\n"
     ]
    }
   ],
   "source": [
    "for i in clist:\n",
    "    print(f'{i} is {df[i].skew()}')"
   ]
  },
  {
   "cell_type": "code",
   "execution_count": 689,
   "id": "433c95a8",
   "metadata": {},
   "outputs": [
    {
     "name": "stdout",
     "output_type": "stream",
     "text": [
      "Dependents is object\n",
      "ApplicantIncome is int64\n",
      "CoapplicantIncome is float64\n",
      "LoanAmount is float64\n",
      "Loan_Amount_Term is float64\n",
      "Credit_History is float64\n"
     ]
    }
   ],
   "source": [
    "for i in clist:\n",
    "    print(f'{i} is {df[i].dtype}')"
   ]
  },
  {
   "cell_type": "markdown",
   "id": "455e8f87",
   "metadata": {},
   "source": [
    "### Bcz df[\"Dependents\"] is str type"
   ]
  },
  {
   "cell_type": "code",
   "execution_count": 690,
   "id": "d99342ad",
   "metadata": {},
   "outputs": [],
   "source": [
    "df[\"Dependents\"] = df[\"Dependents\"].astype(int)"
   ]
  },
  {
   "cell_type": "code",
   "execution_count": 691,
   "id": "f941cf64",
   "metadata": {},
   "outputs": [],
   "source": [
    "for i in clist:\n",
    "    if df[i].skew() <= 0.5:\n",
    "        odmsd(df[i])\n",
    "    else:\n",
    "        df[i] = odiqr(df[i])"
   ]
  },
  {
   "cell_type": "code",
   "execution_count": 692,
   "id": "229f534d",
   "metadata": {
    "scrolled": true
   },
   "outputs": [
    {
     "name": "stdout",
     "output_type": "stream",
     "text": [
      "Dependents is 0.9764220531079079\n",
      "ApplicantIncome is 0.9131963245496909\n",
      "CoapplicantIncome is 0.6991764314798369\n",
      "LoanAmount is 0.36795693965510146\n",
      "Loan_Amount_Term is -2.3896799467122745\n",
      "Credit_History is -1.3108351339315514\n"
     ]
    }
   ],
   "source": [
    "for i in clist:\n",
    "    print(f'{i} is {df[i].skew()}')"
   ]
  },
  {
   "cell_type": "code",
   "execution_count": 693,
   "id": "1f176073",
   "metadata": {},
   "outputs": [
    {
     "data": {
      "text/html": [
       "<div>\n",
       "<style scoped>\n",
       "    .dataframe tbody tr th:only-of-type {\n",
       "        vertical-align: middle;\n",
       "    }\n",
       "\n",
       "    .dataframe tbody tr th {\n",
       "        vertical-align: top;\n",
       "    }\n",
       "\n",
       "    .dataframe thead th {\n",
       "        text-align: right;\n",
       "    }\n",
       "</style>\n",
       "<table border=\"1\" class=\"dataframe\">\n",
       "  <thead>\n",
       "    <tr style=\"text-align: right;\">\n",
       "      <th></th>\n",
       "      <th>Gender</th>\n",
       "      <th>Married</th>\n",
       "      <th>Dependents</th>\n",
       "      <th>Education</th>\n",
       "      <th>Self_Employed</th>\n",
       "      <th>ApplicantIncome</th>\n",
       "      <th>CoapplicantIncome</th>\n",
       "      <th>LoanAmount</th>\n",
       "      <th>Loan_Amount_Term</th>\n",
       "      <th>Credit_History</th>\n",
       "      <th>Property_Area</th>\n",
       "      <th>Loan_Status</th>\n",
       "    </tr>\n",
       "  </thead>\n",
       "  <tbody>\n",
       "    <tr>\n",
       "      <th>0</th>\n",
       "      <td>Male</td>\n",
       "      <td>No</td>\n",
       "      <td>0</td>\n",
       "      <td>Graduate</td>\n",
       "      <td>No</td>\n",
       "      <td>5849.0</td>\n",
       "      <td>1621.250000</td>\n",
       "      <td>146.41</td>\n",
       "      <td>360.0</td>\n",
       "      <td>1.00</td>\n",
       "      <td>Urban</td>\n",
       "      <td>Y</td>\n",
       "    </tr>\n",
       "    <tr>\n",
       "      <th>1</th>\n",
       "      <td>Male</td>\n",
       "      <td>Yes</td>\n",
       "      <td>1</td>\n",
       "      <td>Graduate</td>\n",
       "      <td>No</td>\n",
       "      <td>4583.0</td>\n",
       "      <td>1508.000000</td>\n",
       "      <td>128.00</td>\n",
       "      <td>360.0</td>\n",
       "      <td>1.00</td>\n",
       "      <td>Rural</td>\n",
       "      <td>N</td>\n",
       "    </tr>\n",
       "    <tr>\n",
       "      <th>2</th>\n",
       "      <td>Male</td>\n",
       "      <td>Yes</td>\n",
       "      <td>0</td>\n",
       "      <td>Graduate</td>\n",
       "      <td>Yes</td>\n",
       "      <td>3000.0</td>\n",
       "      <td>1621.250000</td>\n",
       "      <td>66.00</td>\n",
       "      <td>360.0</td>\n",
       "      <td>1.00</td>\n",
       "      <td>Urban</td>\n",
       "      <td>Y</td>\n",
       "    </tr>\n",
       "    <tr>\n",
       "      <th>3</th>\n",
       "      <td>Male</td>\n",
       "      <td>Yes</td>\n",
       "      <td>0</td>\n",
       "      <td>Not Graduate</td>\n",
       "      <td>No</td>\n",
       "      <td>2583.0</td>\n",
       "      <td>2358.000000</td>\n",
       "      <td>120.00</td>\n",
       "      <td>360.0</td>\n",
       "      <td>1.00</td>\n",
       "      <td>Urban</td>\n",
       "      <td>Y</td>\n",
       "    </tr>\n",
       "    <tr>\n",
       "      <th>4</th>\n",
       "      <td>Male</td>\n",
       "      <td>No</td>\n",
       "      <td>0</td>\n",
       "      <td>Graduate</td>\n",
       "      <td>No</td>\n",
       "      <td>6000.0</td>\n",
       "      <td>1621.250000</td>\n",
       "      <td>141.00</td>\n",
       "      <td>360.0</td>\n",
       "      <td>1.00</td>\n",
       "      <td>Urban</td>\n",
       "      <td>Y</td>\n",
       "    </tr>\n",
       "    <tr>\n",
       "      <th>...</th>\n",
       "      <td>...</td>\n",
       "      <td>...</td>\n",
       "      <td>...</td>\n",
       "      <td>...</td>\n",
       "      <td>...</td>\n",
       "      <td>...</td>\n",
       "      <td>...</td>\n",
       "      <td>...</td>\n",
       "      <td>...</td>\n",
       "      <td>...</td>\n",
       "      <td>...</td>\n",
       "      <td>...</td>\n",
       "    </tr>\n",
       "    <tr>\n",
       "      <th>609</th>\n",
       "      <td>Female</td>\n",
       "      <td>No</td>\n",
       "      <td>0</td>\n",
       "      <td>Graduate</td>\n",
       "      <td>No</td>\n",
       "      <td>2900.0</td>\n",
       "      <td>1621.250000</td>\n",
       "      <td>71.00</td>\n",
       "      <td>360.0</td>\n",
       "      <td>1.00</td>\n",
       "      <td>Rural</td>\n",
       "      <td>Y</td>\n",
       "    </tr>\n",
       "    <tr>\n",
       "      <th>610</th>\n",
       "      <td>Male</td>\n",
       "      <td>Yes</td>\n",
       "      <td>3</td>\n",
       "      <td>Graduate</td>\n",
       "      <td>No</td>\n",
       "      <td>4106.0</td>\n",
       "      <td>1621.250000</td>\n",
       "      <td>40.00</td>\n",
       "      <td>180.0</td>\n",
       "      <td>1.00</td>\n",
       "      <td>Rural</td>\n",
       "      <td>Y</td>\n",
       "    </tr>\n",
       "    <tr>\n",
       "      <th>611</th>\n",
       "      <td>Male</td>\n",
       "      <td>Yes</td>\n",
       "      <td>1</td>\n",
       "      <td>Graduate</td>\n",
       "      <td>No</td>\n",
       "      <td>8072.0</td>\n",
       "      <td>2342.094739</td>\n",
       "      <td>253.00</td>\n",
       "      <td>360.0</td>\n",
       "      <td>1.00</td>\n",
       "      <td>Urban</td>\n",
       "      <td>Y</td>\n",
       "    </tr>\n",
       "    <tr>\n",
       "      <th>612</th>\n",
       "      <td>Male</td>\n",
       "      <td>Yes</td>\n",
       "      <td>2</td>\n",
       "      <td>Graduate</td>\n",
       "      <td>No</td>\n",
       "      <td>7583.0</td>\n",
       "      <td>1621.250000</td>\n",
       "      <td>187.00</td>\n",
       "      <td>360.0</td>\n",
       "      <td>1.00</td>\n",
       "      <td>Urban</td>\n",
       "      <td>Y</td>\n",
       "    </tr>\n",
       "    <tr>\n",
       "      <th>613</th>\n",
       "      <td>Female</td>\n",
       "      <td>No</td>\n",
       "      <td>0</td>\n",
       "      <td>Graduate</td>\n",
       "      <td>Yes</td>\n",
       "      <td>4583.0</td>\n",
       "      <td>1621.250000</td>\n",
       "      <td>133.00</td>\n",
       "      <td>360.0</td>\n",
       "      <td>0.84</td>\n",
       "      <td>Semiurban</td>\n",
       "      <td>N</td>\n",
       "    </tr>\n",
       "  </tbody>\n",
       "</table>\n",
       "<p>614 rows × 12 columns</p>\n",
       "</div>"
      ],
      "text/plain": [
       "     Gender Married  Dependents     Education Self_Employed  ApplicantIncome  \\\n",
       "0      Male      No           0      Graduate            No           5849.0   \n",
       "1      Male     Yes           1      Graduate            No           4583.0   \n",
       "2      Male     Yes           0      Graduate           Yes           3000.0   \n",
       "3      Male     Yes           0  Not Graduate            No           2583.0   \n",
       "4      Male      No           0      Graduate            No           6000.0   \n",
       "..      ...     ...         ...           ...           ...              ...   \n",
       "609  Female      No           0      Graduate            No           2900.0   \n",
       "610    Male     Yes           3      Graduate            No           4106.0   \n",
       "611    Male     Yes           1      Graduate            No           8072.0   \n",
       "612    Male     Yes           2      Graduate            No           7583.0   \n",
       "613  Female      No           0      Graduate           Yes           4583.0   \n",
       "\n",
       "     CoapplicantIncome  LoanAmount  Loan_Amount_Term  Credit_History  \\\n",
       "0          1621.250000      146.41             360.0            1.00   \n",
       "1          1508.000000      128.00             360.0            1.00   \n",
       "2          1621.250000       66.00             360.0            1.00   \n",
       "3          2358.000000      120.00             360.0            1.00   \n",
       "4          1621.250000      141.00             360.0            1.00   \n",
       "..                 ...         ...               ...             ...   \n",
       "609        1621.250000       71.00             360.0            1.00   \n",
       "610        1621.250000       40.00             180.0            1.00   \n",
       "611        2342.094739      253.00             360.0            1.00   \n",
       "612        1621.250000      187.00             360.0            1.00   \n",
       "613        1621.250000      133.00             360.0            0.84   \n",
       "\n",
       "    Property_Area Loan_Status  \n",
       "0           Urban           Y  \n",
       "1           Rural           N  \n",
       "2           Urban           Y  \n",
       "3           Urban           Y  \n",
       "4           Urban           Y  \n",
       "..            ...         ...  \n",
       "609         Rural           Y  \n",
       "610         Rural           Y  \n",
       "611         Urban           Y  \n",
       "612         Urban           Y  \n",
       "613     Semiurban           N  \n",
       "\n",
       "[614 rows x 12 columns]"
      ]
     },
     "execution_count": 693,
     "metadata": {},
     "output_type": "execute_result"
    }
   ],
   "source": [
    "df"
   ]
  },
  {
   "cell_type": "code",
   "execution_count": 694,
   "id": "e161d56e",
   "metadata": {},
   "outputs": [],
   "source": [
    "from sklearn.preprocessing import OneHotEncoder"
   ]
  },
  {
   "cell_type": "code",
   "execution_count": 695,
   "id": "a1f14277",
   "metadata": {},
   "outputs": [],
   "source": [
    "ohe = OneHotEncoder(drop='first')"
   ]
  },
  {
   "cell_type": "code",
   "execution_count": 696,
   "id": "18748bca",
   "metadata": {},
   "outputs": [],
   "source": [
    "df = pd.concat([df,pd.DataFrame(ohe.fit_transform(df[[\"Gender\"]]).toarray(),dtype=int,\n",
    "                                columns=[\"Male\"])],axis=1).drop(\"Gender\",axis=1)"
   ]
  },
  {
   "cell_type": "code",
   "execution_count": 697,
   "id": "431f8b98",
   "metadata": {},
   "outputs": [
    {
     "data": {
      "text/plain": [
       "[array(['Female', 'Male'], dtype=object)]"
      ]
     },
     "execution_count": 697,
     "metadata": {},
     "output_type": "execute_result"
    }
   ],
   "source": [
    "ohe.categories_"
   ]
  },
  {
   "cell_type": "code",
   "execution_count": 698,
   "id": "fca6cf26",
   "metadata": {},
   "outputs": [
    {
     "data": {
      "text/html": [
       "<div>\n",
       "<style scoped>\n",
       "    .dataframe tbody tr th:only-of-type {\n",
       "        vertical-align: middle;\n",
       "    }\n",
       "\n",
       "    .dataframe tbody tr th {\n",
       "        vertical-align: top;\n",
       "    }\n",
       "\n",
       "    .dataframe thead th {\n",
       "        text-align: right;\n",
       "    }\n",
       "</style>\n",
       "<table border=\"1\" class=\"dataframe\">\n",
       "  <thead>\n",
       "    <tr style=\"text-align: right;\">\n",
       "      <th></th>\n",
       "      <th>Married</th>\n",
       "      <th>Dependents</th>\n",
       "      <th>Education</th>\n",
       "      <th>Self_Employed</th>\n",
       "      <th>ApplicantIncome</th>\n",
       "      <th>CoapplicantIncome</th>\n",
       "      <th>LoanAmount</th>\n",
       "      <th>Loan_Amount_Term</th>\n",
       "      <th>Credit_History</th>\n",
       "      <th>Property_Area</th>\n",
       "      <th>Loan_Status</th>\n",
       "      <th>Male</th>\n",
       "    </tr>\n",
       "  </thead>\n",
       "  <tbody>\n",
       "    <tr>\n",
       "      <th>0</th>\n",
       "      <td>No</td>\n",
       "      <td>0</td>\n",
       "      <td>Graduate</td>\n",
       "      <td>No</td>\n",
       "      <td>5849.0</td>\n",
       "      <td>1621.250000</td>\n",
       "      <td>146.41</td>\n",
       "      <td>360.0</td>\n",
       "      <td>1.00</td>\n",
       "      <td>Urban</td>\n",
       "      <td>Y</td>\n",
       "      <td>1</td>\n",
       "    </tr>\n",
       "    <tr>\n",
       "      <th>1</th>\n",
       "      <td>Yes</td>\n",
       "      <td>1</td>\n",
       "      <td>Graduate</td>\n",
       "      <td>No</td>\n",
       "      <td>4583.0</td>\n",
       "      <td>1508.000000</td>\n",
       "      <td>128.00</td>\n",
       "      <td>360.0</td>\n",
       "      <td>1.00</td>\n",
       "      <td>Rural</td>\n",
       "      <td>N</td>\n",
       "      <td>1</td>\n",
       "    </tr>\n",
       "    <tr>\n",
       "      <th>2</th>\n",
       "      <td>Yes</td>\n",
       "      <td>0</td>\n",
       "      <td>Graduate</td>\n",
       "      <td>Yes</td>\n",
       "      <td>3000.0</td>\n",
       "      <td>1621.250000</td>\n",
       "      <td>66.00</td>\n",
       "      <td>360.0</td>\n",
       "      <td>1.00</td>\n",
       "      <td>Urban</td>\n",
       "      <td>Y</td>\n",
       "      <td>1</td>\n",
       "    </tr>\n",
       "    <tr>\n",
       "      <th>3</th>\n",
       "      <td>Yes</td>\n",
       "      <td>0</td>\n",
       "      <td>Not Graduate</td>\n",
       "      <td>No</td>\n",
       "      <td>2583.0</td>\n",
       "      <td>2358.000000</td>\n",
       "      <td>120.00</td>\n",
       "      <td>360.0</td>\n",
       "      <td>1.00</td>\n",
       "      <td>Urban</td>\n",
       "      <td>Y</td>\n",
       "      <td>1</td>\n",
       "    </tr>\n",
       "    <tr>\n",
       "      <th>4</th>\n",
       "      <td>No</td>\n",
       "      <td>0</td>\n",
       "      <td>Graduate</td>\n",
       "      <td>No</td>\n",
       "      <td>6000.0</td>\n",
       "      <td>1621.250000</td>\n",
       "      <td>141.00</td>\n",
       "      <td>360.0</td>\n",
       "      <td>1.00</td>\n",
       "      <td>Urban</td>\n",
       "      <td>Y</td>\n",
       "      <td>1</td>\n",
       "    </tr>\n",
       "    <tr>\n",
       "      <th>...</th>\n",
       "      <td>...</td>\n",
       "      <td>...</td>\n",
       "      <td>...</td>\n",
       "      <td>...</td>\n",
       "      <td>...</td>\n",
       "      <td>...</td>\n",
       "      <td>...</td>\n",
       "      <td>...</td>\n",
       "      <td>...</td>\n",
       "      <td>...</td>\n",
       "      <td>...</td>\n",
       "      <td>...</td>\n",
       "    </tr>\n",
       "    <tr>\n",
       "      <th>609</th>\n",
       "      <td>No</td>\n",
       "      <td>0</td>\n",
       "      <td>Graduate</td>\n",
       "      <td>No</td>\n",
       "      <td>2900.0</td>\n",
       "      <td>1621.250000</td>\n",
       "      <td>71.00</td>\n",
       "      <td>360.0</td>\n",
       "      <td>1.00</td>\n",
       "      <td>Rural</td>\n",
       "      <td>Y</td>\n",
       "      <td>0</td>\n",
       "    </tr>\n",
       "    <tr>\n",
       "      <th>610</th>\n",
       "      <td>Yes</td>\n",
       "      <td>3</td>\n",
       "      <td>Graduate</td>\n",
       "      <td>No</td>\n",
       "      <td>4106.0</td>\n",
       "      <td>1621.250000</td>\n",
       "      <td>40.00</td>\n",
       "      <td>180.0</td>\n",
       "      <td>1.00</td>\n",
       "      <td>Rural</td>\n",
       "      <td>Y</td>\n",
       "      <td>1</td>\n",
       "    </tr>\n",
       "    <tr>\n",
       "      <th>611</th>\n",
       "      <td>Yes</td>\n",
       "      <td>1</td>\n",
       "      <td>Graduate</td>\n",
       "      <td>No</td>\n",
       "      <td>8072.0</td>\n",
       "      <td>2342.094739</td>\n",
       "      <td>253.00</td>\n",
       "      <td>360.0</td>\n",
       "      <td>1.00</td>\n",
       "      <td>Urban</td>\n",
       "      <td>Y</td>\n",
       "      <td>1</td>\n",
       "    </tr>\n",
       "    <tr>\n",
       "      <th>612</th>\n",
       "      <td>Yes</td>\n",
       "      <td>2</td>\n",
       "      <td>Graduate</td>\n",
       "      <td>No</td>\n",
       "      <td>7583.0</td>\n",
       "      <td>1621.250000</td>\n",
       "      <td>187.00</td>\n",
       "      <td>360.0</td>\n",
       "      <td>1.00</td>\n",
       "      <td>Urban</td>\n",
       "      <td>Y</td>\n",
       "      <td>1</td>\n",
       "    </tr>\n",
       "    <tr>\n",
       "      <th>613</th>\n",
       "      <td>No</td>\n",
       "      <td>0</td>\n",
       "      <td>Graduate</td>\n",
       "      <td>Yes</td>\n",
       "      <td>4583.0</td>\n",
       "      <td>1621.250000</td>\n",
       "      <td>133.00</td>\n",
       "      <td>360.0</td>\n",
       "      <td>0.84</td>\n",
       "      <td>Semiurban</td>\n",
       "      <td>N</td>\n",
       "      <td>0</td>\n",
       "    </tr>\n",
       "  </tbody>\n",
       "</table>\n",
       "<p>614 rows × 12 columns</p>\n",
       "</div>"
      ],
      "text/plain": [
       "    Married  Dependents     Education Self_Employed  ApplicantIncome  \\\n",
       "0        No           0      Graduate            No           5849.0   \n",
       "1       Yes           1      Graduate            No           4583.0   \n",
       "2       Yes           0      Graduate           Yes           3000.0   \n",
       "3       Yes           0  Not Graduate            No           2583.0   \n",
       "4        No           0      Graduate            No           6000.0   \n",
       "..      ...         ...           ...           ...              ...   \n",
       "609      No           0      Graduate            No           2900.0   \n",
       "610     Yes           3      Graduate            No           4106.0   \n",
       "611     Yes           1      Graduate            No           8072.0   \n",
       "612     Yes           2      Graduate            No           7583.0   \n",
       "613      No           0      Graduate           Yes           4583.0   \n",
       "\n",
       "     CoapplicantIncome  LoanAmount  Loan_Amount_Term  Credit_History  \\\n",
       "0          1621.250000      146.41             360.0            1.00   \n",
       "1          1508.000000      128.00             360.0            1.00   \n",
       "2          1621.250000       66.00             360.0            1.00   \n",
       "3          2358.000000      120.00             360.0            1.00   \n",
       "4          1621.250000      141.00             360.0            1.00   \n",
       "..                 ...         ...               ...             ...   \n",
       "609        1621.250000       71.00             360.0            1.00   \n",
       "610        1621.250000       40.00             180.0            1.00   \n",
       "611        2342.094739      253.00             360.0            1.00   \n",
       "612        1621.250000      187.00             360.0            1.00   \n",
       "613        1621.250000      133.00             360.0            0.84   \n",
       "\n",
       "    Property_Area Loan_Status  Male  \n",
       "0           Urban           Y     1  \n",
       "1           Rural           N     1  \n",
       "2           Urban           Y     1  \n",
       "3           Urban           Y     1  \n",
       "4           Urban           Y     1  \n",
       "..            ...         ...   ...  \n",
       "609         Rural           Y     0  \n",
       "610         Rural           Y     1  \n",
       "611         Urban           Y     1  \n",
       "612         Urban           Y     1  \n",
       "613     Semiurban           N     0  \n",
       "\n",
       "[614 rows x 12 columns]"
      ]
     },
     "execution_count": 698,
     "metadata": {},
     "output_type": "execute_result"
    }
   ],
   "source": [
    "df"
   ]
  },
  {
   "cell_type": "code",
   "execution_count": 699,
   "id": "be579f3d",
   "metadata": {},
   "outputs": [],
   "source": [
    "ohe1 = OneHotEncoder(drop='first')"
   ]
  },
  {
   "cell_type": "code",
   "execution_count": 700,
   "id": "cdb1cf15",
   "metadata": {},
   "outputs": [],
   "source": [
    "df = pd.concat([df,pd.DataFrame(ohe1.fit_transform(df[[\"Married\"]]).toarray(),dtype=int,columns=[\"Married_Yes\"])],\n",
    "               axis=1).drop(\"Married\",axis=1)"
   ]
  },
  {
   "cell_type": "code",
   "execution_count": 701,
   "id": "f3821c8d",
   "metadata": {},
   "outputs": [
    {
     "data": {
      "text/plain": [
       "[array(['No', 'Yes'], dtype=object)]"
      ]
     },
     "execution_count": 701,
     "metadata": {},
     "output_type": "execute_result"
    }
   ],
   "source": [
    "ohe1.categories_"
   ]
  },
  {
   "cell_type": "code",
   "execution_count": 702,
   "id": "f3f5ca76",
   "metadata": {},
   "outputs": [
    {
     "data": {
      "text/html": [
       "<div>\n",
       "<style scoped>\n",
       "    .dataframe tbody tr th:only-of-type {\n",
       "        vertical-align: middle;\n",
       "    }\n",
       "\n",
       "    .dataframe tbody tr th {\n",
       "        vertical-align: top;\n",
       "    }\n",
       "\n",
       "    .dataframe thead th {\n",
       "        text-align: right;\n",
       "    }\n",
       "</style>\n",
       "<table border=\"1\" class=\"dataframe\">\n",
       "  <thead>\n",
       "    <tr style=\"text-align: right;\">\n",
       "      <th></th>\n",
       "      <th>Dependents</th>\n",
       "      <th>Education</th>\n",
       "      <th>Self_Employed</th>\n",
       "      <th>ApplicantIncome</th>\n",
       "      <th>CoapplicantIncome</th>\n",
       "      <th>LoanAmount</th>\n",
       "      <th>Loan_Amount_Term</th>\n",
       "      <th>Credit_History</th>\n",
       "      <th>Property_Area</th>\n",
       "      <th>Loan_Status</th>\n",
       "      <th>Male</th>\n",
       "      <th>Married_Yes</th>\n",
       "    </tr>\n",
       "  </thead>\n",
       "  <tbody>\n",
       "    <tr>\n",
       "      <th>0</th>\n",
       "      <td>0</td>\n",
       "      <td>Graduate</td>\n",
       "      <td>No</td>\n",
       "      <td>5849.0</td>\n",
       "      <td>1621.250000</td>\n",
       "      <td>146.41</td>\n",
       "      <td>360.0</td>\n",
       "      <td>1.00</td>\n",
       "      <td>Urban</td>\n",
       "      <td>Y</td>\n",
       "      <td>1</td>\n",
       "      <td>0</td>\n",
       "    </tr>\n",
       "    <tr>\n",
       "      <th>1</th>\n",
       "      <td>1</td>\n",
       "      <td>Graduate</td>\n",
       "      <td>No</td>\n",
       "      <td>4583.0</td>\n",
       "      <td>1508.000000</td>\n",
       "      <td>128.00</td>\n",
       "      <td>360.0</td>\n",
       "      <td>1.00</td>\n",
       "      <td>Rural</td>\n",
       "      <td>N</td>\n",
       "      <td>1</td>\n",
       "      <td>1</td>\n",
       "    </tr>\n",
       "    <tr>\n",
       "      <th>2</th>\n",
       "      <td>0</td>\n",
       "      <td>Graduate</td>\n",
       "      <td>Yes</td>\n",
       "      <td>3000.0</td>\n",
       "      <td>1621.250000</td>\n",
       "      <td>66.00</td>\n",
       "      <td>360.0</td>\n",
       "      <td>1.00</td>\n",
       "      <td>Urban</td>\n",
       "      <td>Y</td>\n",
       "      <td>1</td>\n",
       "      <td>1</td>\n",
       "    </tr>\n",
       "    <tr>\n",
       "      <th>3</th>\n",
       "      <td>0</td>\n",
       "      <td>Not Graduate</td>\n",
       "      <td>No</td>\n",
       "      <td>2583.0</td>\n",
       "      <td>2358.000000</td>\n",
       "      <td>120.00</td>\n",
       "      <td>360.0</td>\n",
       "      <td>1.00</td>\n",
       "      <td>Urban</td>\n",
       "      <td>Y</td>\n",
       "      <td>1</td>\n",
       "      <td>1</td>\n",
       "    </tr>\n",
       "    <tr>\n",
       "      <th>4</th>\n",
       "      <td>0</td>\n",
       "      <td>Graduate</td>\n",
       "      <td>No</td>\n",
       "      <td>6000.0</td>\n",
       "      <td>1621.250000</td>\n",
       "      <td>141.00</td>\n",
       "      <td>360.0</td>\n",
       "      <td>1.00</td>\n",
       "      <td>Urban</td>\n",
       "      <td>Y</td>\n",
       "      <td>1</td>\n",
       "      <td>0</td>\n",
       "    </tr>\n",
       "    <tr>\n",
       "      <th>...</th>\n",
       "      <td>...</td>\n",
       "      <td>...</td>\n",
       "      <td>...</td>\n",
       "      <td>...</td>\n",
       "      <td>...</td>\n",
       "      <td>...</td>\n",
       "      <td>...</td>\n",
       "      <td>...</td>\n",
       "      <td>...</td>\n",
       "      <td>...</td>\n",
       "      <td>...</td>\n",
       "      <td>...</td>\n",
       "    </tr>\n",
       "    <tr>\n",
       "      <th>609</th>\n",
       "      <td>0</td>\n",
       "      <td>Graduate</td>\n",
       "      <td>No</td>\n",
       "      <td>2900.0</td>\n",
       "      <td>1621.250000</td>\n",
       "      <td>71.00</td>\n",
       "      <td>360.0</td>\n",
       "      <td>1.00</td>\n",
       "      <td>Rural</td>\n",
       "      <td>Y</td>\n",
       "      <td>0</td>\n",
       "      <td>0</td>\n",
       "    </tr>\n",
       "    <tr>\n",
       "      <th>610</th>\n",
       "      <td>3</td>\n",
       "      <td>Graduate</td>\n",
       "      <td>No</td>\n",
       "      <td>4106.0</td>\n",
       "      <td>1621.250000</td>\n",
       "      <td>40.00</td>\n",
       "      <td>180.0</td>\n",
       "      <td>1.00</td>\n",
       "      <td>Rural</td>\n",
       "      <td>Y</td>\n",
       "      <td>1</td>\n",
       "      <td>1</td>\n",
       "    </tr>\n",
       "    <tr>\n",
       "      <th>611</th>\n",
       "      <td>1</td>\n",
       "      <td>Graduate</td>\n",
       "      <td>No</td>\n",
       "      <td>8072.0</td>\n",
       "      <td>2342.094739</td>\n",
       "      <td>253.00</td>\n",
       "      <td>360.0</td>\n",
       "      <td>1.00</td>\n",
       "      <td>Urban</td>\n",
       "      <td>Y</td>\n",
       "      <td>1</td>\n",
       "      <td>1</td>\n",
       "    </tr>\n",
       "    <tr>\n",
       "      <th>612</th>\n",
       "      <td>2</td>\n",
       "      <td>Graduate</td>\n",
       "      <td>No</td>\n",
       "      <td>7583.0</td>\n",
       "      <td>1621.250000</td>\n",
       "      <td>187.00</td>\n",
       "      <td>360.0</td>\n",
       "      <td>1.00</td>\n",
       "      <td>Urban</td>\n",
       "      <td>Y</td>\n",
       "      <td>1</td>\n",
       "      <td>1</td>\n",
       "    </tr>\n",
       "    <tr>\n",
       "      <th>613</th>\n",
       "      <td>0</td>\n",
       "      <td>Graduate</td>\n",
       "      <td>Yes</td>\n",
       "      <td>4583.0</td>\n",
       "      <td>1621.250000</td>\n",
       "      <td>133.00</td>\n",
       "      <td>360.0</td>\n",
       "      <td>0.84</td>\n",
       "      <td>Semiurban</td>\n",
       "      <td>N</td>\n",
       "      <td>0</td>\n",
       "      <td>0</td>\n",
       "    </tr>\n",
       "  </tbody>\n",
       "</table>\n",
       "<p>614 rows × 12 columns</p>\n",
       "</div>"
      ],
      "text/plain": [
       "     Dependents     Education Self_Employed  ApplicantIncome  \\\n",
       "0             0      Graduate            No           5849.0   \n",
       "1             1      Graduate            No           4583.0   \n",
       "2             0      Graduate           Yes           3000.0   \n",
       "3             0  Not Graduate            No           2583.0   \n",
       "4             0      Graduate            No           6000.0   \n",
       "..          ...           ...           ...              ...   \n",
       "609           0      Graduate            No           2900.0   \n",
       "610           3      Graduate            No           4106.0   \n",
       "611           1      Graduate            No           8072.0   \n",
       "612           2      Graduate            No           7583.0   \n",
       "613           0      Graduate           Yes           4583.0   \n",
       "\n",
       "     CoapplicantIncome  LoanAmount  Loan_Amount_Term  Credit_History  \\\n",
       "0          1621.250000      146.41             360.0            1.00   \n",
       "1          1508.000000      128.00             360.0            1.00   \n",
       "2          1621.250000       66.00             360.0            1.00   \n",
       "3          2358.000000      120.00             360.0            1.00   \n",
       "4          1621.250000      141.00             360.0            1.00   \n",
       "..                 ...         ...               ...             ...   \n",
       "609        1621.250000       71.00             360.0            1.00   \n",
       "610        1621.250000       40.00             180.0            1.00   \n",
       "611        2342.094739      253.00             360.0            1.00   \n",
       "612        1621.250000      187.00             360.0            1.00   \n",
       "613        1621.250000      133.00             360.0            0.84   \n",
       "\n",
       "    Property_Area Loan_Status  Male  Married_Yes  \n",
       "0           Urban           Y     1            0  \n",
       "1           Rural           N     1            1  \n",
       "2           Urban           Y     1            1  \n",
       "3           Urban           Y     1            1  \n",
       "4           Urban           Y     1            0  \n",
       "..            ...         ...   ...          ...  \n",
       "609         Rural           Y     0            0  \n",
       "610         Rural           Y     1            1  \n",
       "611         Urban           Y     1            1  \n",
       "612         Urban           Y     1            1  \n",
       "613     Semiurban           N     0            0  \n",
       "\n",
       "[614 rows x 12 columns]"
      ]
     },
     "execution_count": 702,
     "metadata": {},
     "output_type": "execute_result"
    }
   ],
   "source": [
    "df"
   ]
  },
  {
   "cell_type": "code",
   "execution_count": 703,
   "id": "62b1a4e2",
   "metadata": {},
   "outputs": [],
   "source": [
    "ohe2 = OneHotEncoder(drop='first')"
   ]
  },
  {
   "cell_type": "code",
   "execution_count": 704,
   "id": "52f9605f",
   "metadata": {},
   "outputs": [
    {
     "data": {
      "text/plain": [
       "OneHotEncoder(drop='first')"
      ]
     },
     "execution_count": 704,
     "metadata": {},
     "output_type": "execute_result"
    }
   ],
   "source": [
    "ohe2.fit(df[[\"Education\"]])"
   ]
  },
  {
   "cell_type": "code",
   "execution_count": 705,
   "id": "b0a25614",
   "metadata": {},
   "outputs": [
    {
     "data": {
      "text/plain": [
       "[array(['Graduate', 'Not Graduate'], dtype=object)]"
      ]
     },
     "execution_count": 705,
     "metadata": {},
     "output_type": "execute_result"
    }
   ],
   "source": [
    "ohe2.categories_"
   ]
  },
  {
   "cell_type": "code",
   "execution_count": 706,
   "id": "1bfc70aa",
   "metadata": {},
   "outputs": [],
   "source": [
    "df = pd.concat([df,pd.DataFrame(ohe2.fit_transform(df[[\"Education\"]]).toarray(),\n",
    "                                dtype=int,columns=[\"Not Graduate\"])],axis=1).drop(\"Education\",axis=1)"
   ]
  },
  {
   "cell_type": "code",
   "execution_count": 707,
   "id": "c9b08d3d",
   "metadata": {},
   "outputs": [
    {
     "data": {
      "text/html": [
       "<div>\n",
       "<style scoped>\n",
       "    .dataframe tbody tr th:only-of-type {\n",
       "        vertical-align: middle;\n",
       "    }\n",
       "\n",
       "    .dataframe tbody tr th {\n",
       "        vertical-align: top;\n",
       "    }\n",
       "\n",
       "    .dataframe thead th {\n",
       "        text-align: right;\n",
       "    }\n",
       "</style>\n",
       "<table border=\"1\" class=\"dataframe\">\n",
       "  <thead>\n",
       "    <tr style=\"text-align: right;\">\n",
       "      <th></th>\n",
       "      <th>Dependents</th>\n",
       "      <th>Self_Employed</th>\n",
       "      <th>ApplicantIncome</th>\n",
       "      <th>CoapplicantIncome</th>\n",
       "      <th>LoanAmount</th>\n",
       "      <th>Loan_Amount_Term</th>\n",
       "      <th>Credit_History</th>\n",
       "      <th>Property_Area</th>\n",
       "      <th>Loan_Status</th>\n",
       "      <th>Male</th>\n",
       "      <th>Married_Yes</th>\n",
       "      <th>Not Graduate</th>\n",
       "    </tr>\n",
       "  </thead>\n",
       "  <tbody>\n",
       "    <tr>\n",
       "      <th>0</th>\n",
       "      <td>0</td>\n",
       "      <td>No</td>\n",
       "      <td>5849.0</td>\n",
       "      <td>1621.250000</td>\n",
       "      <td>146.41</td>\n",
       "      <td>360.0</td>\n",
       "      <td>1.00</td>\n",
       "      <td>Urban</td>\n",
       "      <td>Y</td>\n",
       "      <td>1</td>\n",
       "      <td>0</td>\n",
       "      <td>0</td>\n",
       "    </tr>\n",
       "    <tr>\n",
       "      <th>1</th>\n",
       "      <td>1</td>\n",
       "      <td>No</td>\n",
       "      <td>4583.0</td>\n",
       "      <td>1508.000000</td>\n",
       "      <td>128.00</td>\n",
       "      <td>360.0</td>\n",
       "      <td>1.00</td>\n",
       "      <td>Rural</td>\n",
       "      <td>N</td>\n",
       "      <td>1</td>\n",
       "      <td>1</td>\n",
       "      <td>0</td>\n",
       "    </tr>\n",
       "    <tr>\n",
       "      <th>2</th>\n",
       "      <td>0</td>\n",
       "      <td>Yes</td>\n",
       "      <td>3000.0</td>\n",
       "      <td>1621.250000</td>\n",
       "      <td>66.00</td>\n",
       "      <td>360.0</td>\n",
       "      <td>1.00</td>\n",
       "      <td>Urban</td>\n",
       "      <td>Y</td>\n",
       "      <td>1</td>\n",
       "      <td>1</td>\n",
       "      <td>0</td>\n",
       "    </tr>\n",
       "    <tr>\n",
       "      <th>3</th>\n",
       "      <td>0</td>\n",
       "      <td>No</td>\n",
       "      <td>2583.0</td>\n",
       "      <td>2358.000000</td>\n",
       "      <td>120.00</td>\n",
       "      <td>360.0</td>\n",
       "      <td>1.00</td>\n",
       "      <td>Urban</td>\n",
       "      <td>Y</td>\n",
       "      <td>1</td>\n",
       "      <td>1</td>\n",
       "      <td>1</td>\n",
       "    </tr>\n",
       "    <tr>\n",
       "      <th>4</th>\n",
       "      <td>0</td>\n",
       "      <td>No</td>\n",
       "      <td>6000.0</td>\n",
       "      <td>1621.250000</td>\n",
       "      <td>141.00</td>\n",
       "      <td>360.0</td>\n",
       "      <td>1.00</td>\n",
       "      <td>Urban</td>\n",
       "      <td>Y</td>\n",
       "      <td>1</td>\n",
       "      <td>0</td>\n",
       "      <td>0</td>\n",
       "    </tr>\n",
       "    <tr>\n",
       "      <th>...</th>\n",
       "      <td>...</td>\n",
       "      <td>...</td>\n",
       "      <td>...</td>\n",
       "      <td>...</td>\n",
       "      <td>...</td>\n",
       "      <td>...</td>\n",
       "      <td>...</td>\n",
       "      <td>...</td>\n",
       "      <td>...</td>\n",
       "      <td>...</td>\n",
       "      <td>...</td>\n",
       "      <td>...</td>\n",
       "    </tr>\n",
       "    <tr>\n",
       "      <th>609</th>\n",
       "      <td>0</td>\n",
       "      <td>No</td>\n",
       "      <td>2900.0</td>\n",
       "      <td>1621.250000</td>\n",
       "      <td>71.00</td>\n",
       "      <td>360.0</td>\n",
       "      <td>1.00</td>\n",
       "      <td>Rural</td>\n",
       "      <td>Y</td>\n",
       "      <td>0</td>\n",
       "      <td>0</td>\n",
       "      <td>0</td>\n",
       "    </tr>\n",
       "    <tr>\n",
       "      <th>610</th>\n",
       "      <td>3</td>\n",
       "      <td>No</td>\n",
       "      <td>4106.0</td>\n",
       "      <td>1621.250000</td>\n",
       "      <td>40.00</td>\n",
       "      <td>180.0</td>\n",
       "      <td>1.00</td>\n",
       "      <td>Rural</td>\n",
       "      <td>Y</td>\n",
       "      <td>1</td>\n",
       "      <td>1</td>\n",
       "      <td>0</td>\n",
       "    </tr>\n",
       "    <tr>\n",
       "      <th>611</th>\n",
       "      <td>1</td>\n",
       "      <td>No</td>\n",
       "      <td>8072.0</td>\n",
       "      <td>2342.094739</td>\n",
       "      <td>253.00</td>\n",
       "      <td>360.0</td>\n",
       "      <td>1.00</td>\n",
       "      <td>Urban</td>\n",
       "      <td>Y</td>\n",
       "      <td>1</td>\n",
       "      <td>1</td>\n",
       "      <td>0</td>\n",
       "    </tr>\n",
       "    <tr>\n",
       "      <th>612</th>\n",
       "      <td>2</td>\n",
       "      <td>No</td>\n",
       "      <td>7583.0</td>\n",
       "      <td>1621.250000</td>\n",
       "      <td>187.00</td>\n",
       "      <td>360.0</td>\n",
       "      <td>1.00</td>\n",
       "      <td>Urban</td>\n",
       "      <td>Y</td>\n",
       "      <td>1</td>\n",
       "      <td>1</td>\n",
       "      <td>0</td>\n",
       "    </tr>\n",
       "    <tr>\n",
       "      <th>613</th>\n",
       "      <td>0</td>\n",
       "      <td>Yes</td>\n",
       "      <td>4583.0</td>\n",
       "      <td>1621.250000</td>\n",
       "      <td>133.00</td>\n",
       "      <td>360.0</td>\n",
       "      <td>0.84</td>\n",
       "      <td>Semiurban</td>\n",
       "      <td>N</td>\n",
       "      <td>0</td>\n",
       "      <td>0</td>\n",
       "      <td>0</td>\n",
       "    </tr>\n",
       "  </tbody>\n",
       "</table>\n",
       "<p>614 rows × 12 columns</p>\n",
       "</div>"
      ],
      "text/plain": [
       "     Dependents Self_Employed  ApplicantIncome  CoapplicantIncome  LoanAmount  \\\n",
       "0             0            No           5849.0        1621.250000      146.41   \n",
       "1             1            No           4583.0        1508.000000      128.00   \n",
       "2             0           Yes           3000.0        1621.250000       66.00   \n",
       "3             0            No           2583.0        2358.000000      120.00   \n",
       "4             0            No           6000.0        1621.250000      141.00   \n",
       "..          ...           ...              ...                ...         ...   \n",
       "609           0            No           2900.0        1621.250000       71.00   \n",
       "610           3            No           4106.0        1621.250000       40.00   \n",
       "611           1            No           8072.0        2342.094739      253.00   \n",
       "612           2            No           7583.0        1621.250000      187.00   \n",
       "613           0           Yes           4583.0        1621.250000      133.00   \n",
       "\n",
       "     Loan_Amount_Term  Credit_History Property_Area Loan_Status  Male  \\\n",
       "0               360.0            1.00         Urban           Y     1   \n",
       "1               360.0            1.00         Rural           N     1   \n",
       "2               360.0            1.00         Urban           Y     1   \n",
       "3               360.0            1.00         Urban           Y     1   \n",
       "4               360.0            1.00         Urban           Y     1   \n",
       "..                ...             ...           ...         ...   ...   \n",
       "609             360.0            1.00         Rural           Y     0   \n",
       "610             180.0            1.00         Rural           Y     1   \n",
       "611             360.0            1.00         Urban           Y     1   \n",
       "612             360.0            1.00         Urban           Y     1   \n",
       "613             360.0            0.84     Semiurban           N     0   \n",
       "\n",
       "     Married_Yes  Not Graduate  \n",
       "0              0             0  \n",
       "1              1             0  \n",
       "2              1             0  \n",
       "3              1             1  \n",
       "4              0             0  \n",
       "..           ...           ...  \n",
       "609            0             0  \n",
       "610            1             0  \n",
       "611            1             0  \n",
       "612            1             0  \n",
       "613            0             0  \n",
       "\n",
       "[614 rows x 12 columns]"
      ]
     },
     "execution_count": 707,
     "metadata": {},
     "output_type": "execute_result"
    }
   ],
   "source": [
    "df"
   ]
  },
  {
   "cell_type": "code",
   "execution_count": 708,
   "id": "3c6495e3",
   "metadata": {},
   "outputs": [],
   "source": [
    "ohe3 = OneHotEncoder(drop='first')"
   ]
  },
  {
   "cell_type": "code",
   "execution_count": 709,
   "id": "8c78bee5",
   "metadata": {},
   "outputs": [
    {
     "data": {
      "text/plain": [
       "OneHotEncoder(drop='first')"
      ]
     },
     "execution_count": 709,
     "metadata": {},
     "output_type": "execute_result"
    }
   ],
   "source": [
    "ohe3.fit(df[[\"Self_Employed\"]])"
   ]
  },
  {
   "cell_type": "code",
   "execution_count": 710,
   "id": "3fddd96e",
   "metadata": {},
   "outputs": [
    {
     "data": {
      "text/plain": [
       "[array(['No', 'Yes'], dtype=object)]"
      ]
     },
     "execution_count": 710,
     "metadata": {},
     "output_type": "execute_result"
    }
   ],
   "source": [
    "ohe3.categories_"
   ]
  },
  {
   "cell_type": "code",
   "execution_count": 711,
   "id": "2d98c884",
   "metadata": {},
   "outputs": [],
   "source": [
    "df = pd.concat([df,pd.DataFrame(ohe3.fit_transform(df[[\"Self_Employed\"]]).toarray(),\n",
    "                                dtype=int,columns=[\"Self_Employed_Yes\"])],axis=1).drop(\"Self_Employed\",axis=1)"
   ]
  },
  {
   "cell_type": "code",
   "execution_count": 712,
   "id": "19240896",
   "metadata": {},
   "outputs": [
    {
     "data": {
      "text/html": [
       "<div>\n",
       "<style scoped>\n",
       "    .dataframe tbody tr th:only-of-type {\n",
       "        vertical-align: middle;\n",
       "    }\n",
       "\n",
       "    .dataframe tbody tr th {\n",
       "        vertical-align: top;\n",
       "    }\n",
       "\n",
       "    .dataframe thead th {\n",
       "        text-align: right;\n",
       "    }\n",
       "</style>\n",
       "<table border=\"1\" class=\"dataframe\">\n",
       "  <thead>\n",
       "    <tr style=\"text-align: right;\">\n",
       "      <th></th>\n",
       "      <th>Dependents</th>\n",
       "      <th>ApplicantIncome</th>\n",
       "      <th>CoapplicantIncome</th>\n",
       "      <th>LoanAmount</th>\n",
       "      <th>Loan_Amount_Term</th>\n",
       "      <th>Credit_History</th>\n",
       "      <th>Property_Area</th>\n",
       "      <th>Loan_Status</th>\n",
       "      <th>Male</th>\n",
       "      <th>Married_Yes</th>\n",
       "      <th>Not Graduate</th>\n",
       "      <th>Self_Employed_Yes</th>\n",
       "    </tr>\n",
       "  </thead>\n",
       "  <tbody>\n",
       "    <tr>\n",
       "      <th>0</th>\n",
       "      <td>0</td>\n",
       "      <td>5849.0</td>\n",
       "      <td>1621.250000</td>\n",
       "      <td>146.41</td>\n",
       "      <td>360.0</td>\n",
       "      <td>1.00</td>\n",
       "      <td>Urban</td>\n",
       "      <td>Y</td>\n",
       "      <td>1</td>\n",
       "      <td>0</td>\n",
       "      <td>0</td>\n",
       "      <td>0</td>\n",
       "    </tr>\n",
       "    <tr>\n",
       "      <th>1</th>\n",
       "      <td>1</td>\n",
       "      <td>4583.0</td>\n",
       "      <td>1508.000000</td>\n",
       "      <td>128.00</td>\n",
       "      <td>360.0</td>\n",
       "      <td>1.00</td>\n",
       "      <td>Rural</td>\n",
       "      <td>N</td>\n",
       "      <td>1</td>\n",
       "      <td>1</td>\n",
       "      <td>0</td>\n",
       "      <td>0</td>\n",
       "    </tr>\n",
       "    <tr>\n",
       "      <th>2</th>\n",
       "      <td>0</td>\n",
       "      <td>3000.0</td>\n",
       "      <td>1621.250000</td>\n",
       "      <td>66.00</td>\n",
       "      <td>360.0</td>\n",
       "      <td>1.00</td>\n",
       "      <td>Urban</td>\n",
       "      <td>Y</td>\n",
       "      <td>1</td>\n",
       "      <td>1</td>\n",
       "      <td>0</td>\n",
       "      <td>1</td>\n",
       "    </tr>\n",
       "    <tr>\n",
       "      <th>3</th>\n",
       "      <td>0</td>\n",
       "      <td>2583.0</td>\n",
       "      <td>2358.000000</td>\n",
       "      <td>120.00</td>\n",
       "      <td>360.0</td>\n",
       "      <td>1.00</td>\n",
       "      <td>Urban</td>\n",
       "      <td>Y</td>\n",
       "      <td>1</td>\n",
       "      <td>1</td>\n",
       "      <td>1</td>\n",
       "      <td>0</td>\n",
       "    </tr>\n",
       "    <tr>\n",
       "      <th>4</th>\n",
       "      <td>0</td>\n",
       "      <td>6000.0</td>\n",
       "      <td>1621.250000</td>\n",
       "      <td>141.00</td>\n",
       "      <td>360.0</td>\n",
       "      <td>1.00</td>\n",
       "      <td>Urban</td>\n",
       "      <td>Y</td>\n",
       "      <td>1</td>\n",
       "      <td>0</td>\n",
       "      <td>0</td>\n",
       "      <td>0</td>\n",
       "    </tr>\n",
       "    <tr>\n",
       "      <th>...</th>\n",
       "      <td>...</td>\n",
       "      <td>...</td>\n",
       "      <td>...</td>\n",
       "      <td>...</td>\n",
       "      <td>...</td>\n",
       "      <td>...</td>\n",
       "      <td>...</td>\n",
       "      <td>...</td>\n",
       "      <td>...</td>\n",
       "      <td>...</td>\n",
       "      <td>...</td>\n",
       "      <td>...</td>\n",
       "    </tr>\n",
       "    <tr>\n",
       "      <th>609</th>\n",
       "      <td>0</td>\n",
       "      <td>2900.0</td>\n",
       "      <td>1621.250000</td>\n",
       "      <td>71.00</td>\n",
       "      <td>360.0</td>\n",
       "      <td>1.00</td>\n",
       "      <td>Rural</td>\n",
       "      <td>Y</td>\n",
       "      <td>0</td>\n",
       "      <td>0</td>\n",
       "      <td>0</td>\n",
       "      <td>0</td>\n",
       "    </tr>\n",
       "    <tr>\n",
       "      <th>610</th>\n",
       "      <td>3</td>\n",
       "      <td>4106.0</td>\n",
       "      <td>1621.250000</td>\n",
       "      <td>40.00</td>\n",
       "      <td>180.0</td>\n",
       "      <td>1.00</td>\n",
       "      <td>Rural</td>\n",
       "      <td>Y</td>\n",
       "      <td>1</td>\n",
       "      <td>1</td>\n",
       "      <td>0</td>\n",
       "      <td>0</td>\n",
       "    </tr>\n",
       "    <tr>\n",
       "      <th>611</th>\n",
       "      <td>1</td>\n",
       "      <td>8072.0</td>\n",
       "      <td>2342.094739</td>\n",
       "      <td>253.00</td>\n",
       "      <td>360.0</td>\n",
       "      <td>1.00</td>\n",
       "      <td>Urban</td>\n",
       "      <td>Y</td>\n",
       "      <td>1</td>\n",
       "      <td>1</td>\n",
       "      <td>0</td>\n",
       "      <td>0</td>\n",
       "    </tr>\n",
       "    <tr>\n",
       "      <th>612</th>\n",
       "      <td>2</td>\n",
       "      <td>7583.0</td>\n",
       "      <td>1621.250000</td>\n",
       "      <td>187.00</td>\n",
       "      <td>360.0</td>\n",
       "      <td>1.00</td>\n",
       "      <td>Urban</td>\n",
       "      <td>Y</td>\n",
       "      <td>1</td>\n",
       "      <td>1</td>\n",
       "      <td>0</td>\n",
       "      <td>0</td>\n",
       "    </tr>\n",
       "    <tr>\n",
       "      <th>613</th>\n",
       "      <td>0</td>\n",
       "      <td>4583.0</td>\n",
       "      <td>1621.250000</td>\n",
       "      <td>133.00</td>\n",
       "      <td>360.0</td>\n",
       "      <td>0.84</td>\n",
       "      <td>Semiurban</td>\n",
       "      <td>N</td>\n",
       "      <td>0</td>\n",
       "      <td>0</td>\n",
       "      <td>0</td>\n",
       "      <td>1</td>\n",
       "    </tr>\n",
       "  </tbody>\n",
       "</table>\n",
       "<p>614 rows × 12 columns</p>\n",
       "</div>"
      ],
      "text/plain": [
       "     Dependents  ApplicantIncome  CoapplicantIncome  LoanAmount  \\\n",
       "0             0           5849.0        1621.250000      146.41   \n",
       "1             1           4583.0        1508.000000      128.00   \n",
       "2             0           3000.0        1621.250000       66.00   \n",
       "3             0           2583.0        2358.000000      120.00   \n",
       "4             0           6000.0        1621.250000      141.00   \n",
       "..          ...              ...                ...         ...   \n",
       "609           0           2900.0        1621.250000       71.00   \n",
       "610           3           4106.0        1621.250000       40.00   \n",
       "611           1           8072.0        2342.094739      253.00   \n",
       "612           2           7583.0        1621.250000      187.00   \n",
       "613           0           4583.0        1621.250000      133.00   \n",
       "\n",
       "     Loan_Amount_Term  Credit_History Property_Area Loan_Status  Male  \\\n",
       "0               360.0            1.00         Urban           Y     1   \n",
       "1               360.0            1.00         Rural           N     1   \n",
       "2               360.0            1.00         Urban           Y     1   \n",
       "3               360.0            1.00         Urban           Y     1   \n",
       "4               360.0            1.00         Urban           Y     1   \n",
       "..                ...             ...           ...         ...   ...   \n",
       "609             360.0            1.00         Rural           Y     0   \n",
       "610             180.0            1.00         Rural           Y     1   \n",
       "611             360.0            1.00         Urban           Y     1   \n",
       "612             360.0            1.00         Urban           Y     1   \n",
       "613             360.0            0.84     Semiurban           N     0   \n",
       "\n",
       "     Married_Yes  Not Graduate  Self_Employed_Yes  \n",
       "0              0             0                  0  \n",
       "1              1             0                  0  \n",
       "2              1             0                  1  \n",
       "3              1             1                  0  \n",
       "4              0             0                  0  \n",
       "..           ...           ...                ...  \n",
       "609            0             0                  0  \n",
       "610            1             0                  0  \n",
       "611            1             0                  0  \n",
       "612            1             0                  0  \n",
       "613            0             0                  1  \n",
       "\n",
       "[614 rows x 12 columns]"
      ]
     },
     "execution_count": 712,
     "metadata": {},
     "output_type": "execute_result"
    }
   ],
   "source": [
    "df"
   ]
  },
  {
   "cell_type": "code",
   "execution_count": 713,
   "id": "a1f3d162",
   "metadata": {},
   "outputs": [],
   "source": [
    "ohe4 = OneHotEncoder()"
   ]
  },
  {
   "cell_type": "code",
   "execution_count": 714,
   "id": "1b1b6ef7",
   "metadata": {},
   "outputs": [
    {
     "data": {
      "text/plain": [
       "OneHotEncoder()"
      ]
     },
     "execution_count": 714,
     "metadata": {},
     "output_type": "execute_result"
    }
   ],
   "source": [
    "ohe4.fit(df[[\"Property_Area\"]])"
   ]
  },
  {
   "cell_type": "code",
   "execution_count": 715,
   "id": "a13e5e08",
   "metadata": {},
   "outputs": [
    {
     "data": {
      "text/plain": [
       "[array(['Rural', 'Semiurban', 'Urban'], dtype=object)]"
      ]
     },
     "execution_count": 715,
     "metadata": {},
     "output_type": "execute_result"
    }
   ],
   "source": [
    "ohe4.categories_"
   ]
  },
  {
   "cell_type": "code",
   "execution_count": 716,
   "id": "18a5d16d",
   "metadata": {},
   "outputs": [],
   "source": [
    "df = pd.concat([df,pd.DataFrame(ohe4.fit_transform(df[[\"Property_Area\"]]).toarray(),dtype=int,\n",
    "                                columns=['Rural','Semiurban','Urban'])],axis=1).drop(\"Property_Area\",axis=1)"
   ]
  },
  {
   "cell_type": "code",
   "execution_count": 717,
   "id": "3acbf930",
   "metadata": {},
   "outputs": [
    {
     "data": {
      "text/html": [
       "<div>\n",
       "<style scoped>\n",
       "    .dataframe tbody tr th:only-of-type {\n",
       "        vertical-align: middle;\n",
       "    }\n",
       "\n",
       "    .dataframe tbody tr th {\n",
       "        vertical-align: top;\n",
       "    }\n",
       "\n",
       "    .dataframe thead th {\n",
       "        text-align: right;\n",
       "    }\n",
       "</style>\n",
       "<table border=\"1\" class=\"dataframe\">\n",
       "  <thead>\n",
       "    <tr style=\"text-align: right;\">\n",
       "      <th></th>\n",
       "      <th>Dependents</th>\n",
       "      <th>ApplicantIncome</th>\n",
       "      <th>CoapplicantIncome</th>\n",
       "      <th>LoanAmount</th>\n",
       "      <th>Loan_Amount_Term</th>\n",
       "      <th>Credit_History</th>\n",
       "      <th>Loan_Status</th>\n",
       "      <th>Male</th>\n",
       "      <th>Married_Yes</th>\n",
       "      <th>Not Graduate</th>\n",
       "      <th>Self_Employed_Yes</th>\n",
       "      <th>Rural</th>\n",
       "      <th>Semiurban</th>\n",
       "      <th>Urban</th>\n",
       "    </tr>\n",
       "  </thead>\n",
       "  <tbody>\n",
       "    <tr>\n",
       "      <th>0</th>\n",
       "      <td>0</td>\n",
       "      <td>5849.0</td>\n",
       "      <td>1621.250000</td>\n",
       "      <td>146.41</td>\n",
       "      <td>360.0</td>\n",
       "      <td>1.00</td>\n",
       "      <td>Y</td>\n",
       "      <td>1</td>\n",
       "      <td>0</td>\n",
       "      <td>0</td>\n",
       "      <td>0</td>\n",
       "      <td>0</td>\n",
       "      <td>0</td>\n",
       "      <td>1</td>\n",
       "    </tr>\n",
       "    <tr>\n",
       "      <th>1</th>\n",
       "      <td>1</td>\n",
       "      <td>4583.0</td>\n",
       "      <td>1508.000000</td>\n",
       "      <td>128.00</td>\n",
       "      <td>360.0</td>\n",
       "      <td>1.00</td>\n",
       "      <td>N</td>\n",
       "      <td>1</td>\n",
       "      <td>1</td>\n",
       "      <td>0</td>\n",
       "      <td>0</td>\n",
       "      <td>1</td>\n",
       "      <td>0</td>\n",
       "      <td>0</td>\n",
       "    </tr>\n",
       "    <tr>\n",
       "      <th>2</th>\n",
       "      <td>0</td>\n",
       "      <td>3000.0</td>\n",
       "      <td>1621.250000</td>\n",
       "      <td>66.00</td>\n",
       "      <td>360.0</td>\n",
       "      <td>1.00</td>\n",
       "      <td>Y</td>\n",
       "      <td>1</td>\n",
       "      <td>1</td>\n",
       "      <td>0</td>\n",
       "      <td>1</td>\n",
       "      <td>0</td>\n",
       "      <td>0</td>\n",
       "      <td>1</td>\n",
       "    </tr>\n",
       "    <tr>\n",
       "      <th>3</th>\n",
       "      <td>0</td>\n",
       "      <td>2583.0</td>\n",
       "      <td>2358.000000</td>\n",
       "      <td>120.00</td>\n",
       "      <td>360.0</td>\n",
       "      <td>1.00</td>\n",
       "      <td>Y</td>\n",
       "      <td>1</td>\n",
       "      <td>1</td>\n",
       "      <td>1</td>\n",
       "      <td>0</td>\n",
       "      <td>0</td>\n",
       "      <td>0</td>\n",
       "      <td>1</td>\n",
       "    </tr>\n",
       "    <tr>\n",
       "      <th>4</th>\n",
       "      <td>0</td>\n",
       "      <td>6000.0</td>\n",
       "      <td>1621.250000</td>\n",
       "      <td>141.00</td>\n",
       "      <td>360.0</td>\n",
       "      <td>1.00</td>\n",
       "      <td>Y</td>\n",
       "      <td>1</td>\n",
       "      <td>0</td>\n",
       "      <td>0</td>\n",
       "      <td>0</td>\n",
       "      <td>0</td>\n",
       "      <td>0</td>\n",
       "      <td>1</td>\n",
       "    </tr>\n",
       "    <tr>\n",
       "      <th>...</th>\n",
       "      <td>...</td>\n",
       "      <td>...</td>\n",
       "      <td>...</td>\n",
       "      <td>...</td>\n",
       "      <td>...</td>\n",
       "      <td>...</td>\n",
       "      <td>...</td>\n",
       "      <td>...</td>\n",
       "      <td>...</td>\n",
       "      <td>...</td>\n",
       "      <td>...</td>\n",
       "      <td>...</td>\n",
       "      <td>...</td>\n",
       "      <td>...</td>\n",
       "    </tr>\n",
       "    <tr>\n",
       "      <th>609</th>\n",
       "      <td>0</td>\n",
       "      <td>2900.0</td>\n",
       "      <td>1621.250000</td>\n",
       "      <td>71.00</td>\n",
       "      <td>360.0</td>\n",
       "      <td>1.00</td>\n",
       "      <td>Y</td>\n",
       "      <td>0</td>\n",
       "      <td>0</td>\n",
       "      <td>0</td>\n",
       "      <td>0</td>\n",
       "      <td>1</td>\n",
       "      <td>0</td>\n",
       "      <td>0</td>\n",
       "    </tr>\n",
       "    <tr>\n",
       "      <th>610</th>\n",
       "      <td>3</td>\n",
       "      <td>4106.0</td>\n",
       "      <td>1621.250000</td>\n",
       "      <td>40.00</td>\n",
       "      <td>180.0</td>\n",
       "      <td>1.00</td>\n",
       "      <td>Y</td>\n",
       "      <td>1</td>\n",
       "      <td>1</td>\n",
       "      <td>0</td>\n",
       "      <td>0</td>\n",
       "      <td>1</td>\n",
       "      <td>0</td>\n",
       "      <td>0</td>\n",
       "    </tr>\n",
       "    <tr>\n",
       "      <th>611</th>\n",
       "      <td>1</td>\n",
       "      <td>8072.0</td>\n",
       "      <td>2342.094739</td>\n",
       "      <td>253.00</td>\n",
       "      <td>360.0</td>\n",
       "      <td>1.00</td>\n",
       "      <td>Y</td>\n",
       "      <td>1</td>\n",
       "      <td>1</td>\n",
       "      <td>0</td>\n",
       "      <td>0</td>\n",
       "      <td>0</td>\n",
       "      <td>0</td>\n",
       "      <td>1</td>\n",
       "    </tr>\n",
       "    <tr>\n",
       "      <th>612</th>\n",
       "      <td>2</td>\n",
       "      <td>7583.0</td>\n",
       "      <td>1621.250000</td>\n",
       "      <td>187.00</td>\n",
       "      <td>360.0</td>\n",
       "      <td>1.00</td>\n",
       "      <td>Y</td>\n",
       "      <td>1</td>\n",
       "      <td>1</td>\n",
       "      <td>0</td>\n",
       "      <td>0</td>\n",
       "      <td>0</td>\n",
       "      <td>0</td>\n",
       "      <td>1</td>\n",
       "    </tr>\n",
       "    <tr>\n",
       "      <th>613</th>\n",
       "      <td>0</td>\n",
       "      <td>4583.0</td>\n",
       "      <td>1621.250000</td>\n",
       "      <td>133.00</td>\n",
       "      <td>360.0</td>\n",
       "      <td>0.84</td>\n",
       "      <td>N</td>\n",
       "      <td>0</td>\n",
       "      <td>0</td>\n",
       "      <td>0</td>\n",
       "      <td>1</td>\n",
       "      <td>0</td>\n",
       "      <td>1</td>\n",
       "      <td>0</td>\n",
       "    </tr>\n",
       "  </tbody>\n",
       "</table>\n",
       "<p>614 rows × 14 columns</p>\n",
       "</div>"
      ],
      "text/plain": [
       "     Dependents  ApplicantIncome  CoapplicantIncome  LoanAmount  \\\n",
       "0             0           5849.0        1621.250000      146.41   \n",
       "1             1           4583.0        1508.000000      128.00   \n",
       "2             0           3000.0        1621.250000       66.00   \n",
       "3             0           2583.0        2358.000000      120.00   \n",
       "4             0           6000.0        1621.250000      141.00   \n",
       "..          ...              ...                ...         ...   \n",
       "609           0           2900.0        1621.250000       71.00   \n",
       "610           3           4106.0        1621.250000       40.00   \n",
       "611           1           8072.0        2342.094739      253.00   \n",
       "612           2           7583.0        1621.250000      187.00   \n",
       "613           0           4583.0        1621.250000      133.00   \n",
       "\n",
       "     Loan_Amount_Term  Credit_History Loan_Status  Male  Married_Yes  \\\n",
       "0               360.0            1.00           Y     1            0   \n",
       "1               360.0            1.00           N     1            1   \n",
       "2               360.0            1.00           Y     1            1   \n",
       "3               360.0            1.00           Y     1            1   \n",
       "4               360.0            1.00           Y     1            0   \n",
       "..                ...             ...         ...   ...          ...   \n",
       "609             360.0            1.00           Y     0            0   \n",
       "610             180.0            1.00           Y     1            1   \n",
       "611             360.0            1.00           Y     1            1   \n",
       "612             360.0            1.00           Y     1            1   \n",
       "613             360.0            0.84           N     0            0   \n",
       "\n",
       "     Not Graduate  Self_Employed_Yes  Rural  Semiurban  Urban  \n",
       "0               0                  0      0          0      1  \n",
       "1               0                  0      1          0      0  \n",
       "2               0                  1      0          0      1  \n",
       "3               1                  0      0          0      1  \n",
       "4               0                  0      0          0      1  \n",
       "..            ...                ...    ...        ...    ...  \n",
       "609             0                  0      1          0      0  \n",
       "610             0                  0      1          0      0  \n",
       "611             0                  0      0          0      1  \n",
       "612             0                  0      0          0      1  \n",
       "613             0                  1      0          1      0  \n",
       "\n",
       "[614 rows x 14 columns]"
      ]
     },
     "execution_count": 717,
     "metadata": {},
     "output_type": "execute_result"
    }
   ],
   "source": [
    "df"
   ]
  },
  {
   "cell_type": "markdown",
   "id": "29cd1507",
   "metadata": {},
   "source": [
    "### Encoding of df[\"Loan_Status\"] with Label Encoder"
   ]
  },
  {
   "cell_type": "code",
   "execution_count": 718,
   "id": "7ba00847",
   "metadata": {},
   "outputs": [],
   "source": [
    "from sklearn.preprocessing import LabelEncoder"
   ]
  },
  {
   "cell_type": "code",
   "execution_count": 719,
   "id": "b399bbd0",
   "metadata": {},
   "outputs": [],
   "source": [
    "le = LabelEncoder()"
   ]
  },
  {
   "cell_type": "code",
   "execution_count": 720,
   "id": "559a6ced",
   "metadata": {},
   "outputs": [
    {
     "data": {
      "text/plain": [
       "LabelEncoder()"
      ]
     },
     "execution_count": 720,
     "metadata": {},
     "output_type": "execute_result"
    }
   ],
   "source": [
    "le.fit(df[\"Loan_Status\"])"
   ]
  },
  {
   "cell_type": "code",
   "execution_count": 721,
   "id": "800ec32e",
   "metadata": {},
   "outputs": [],
   "source": [
    "df = pd.concat([ df, pd.DataFrame(le.fit_transform(df[\"Loan_Status\"]),columns=[\"LOAN_Status\"])]\n",
    "               ,axis=1).drop(\"Loan_Status\",axis=1)"
   ]
  },
  {
   "cell_type": "code",
   "execution_count": 722,
   "id": "13e45b97",
   "metadata": {},
   "outputs": [
    {
     "data": {
      "text/plain": [
       "array(['N', 'Y'], dtype=object)"
      ]
     },
     "execution_count": 722,
     "metadata": {},
     "output_type": "execute_result"
    }
   ],
   "source": [
    "le.classes_"
   ]
  },
  {
   "cell_type": "code",
   "execution_count": 723,
   "id": "f48f901f",
   "metadata": {},
   "outputs": [],
   "source": [
    "df = df[['Male','Married_Yes','Dependents','Not Graduate',\n",
    "         'Self_Employed_Yes','ApplicantIncome','CoapplicantIncome',\n",
    "        'LoanAmount','Loan_Amount_Term','Credit_History','Rural','Semiurban','Urban','LOAN_Status']]"
   ]
  },
  {
   "cell_type": "code",
   "execution_count": 724,
   "id": "354769a6",
   "metadata": {},
   "outputs": [
    {
     "data": {
      "text/html": [
       "<div>\n",
       "<style scoped>\n",
       "    .dataframe tbody tr th:only-of-type {\n",
       "        vertical-align: middle;\n",
       "    }\n",
       "\n",
       "    .dataframe tbody tr th {\n",
       "        vertical-align: top;\n",
       "    }\n",
       "\n",
       "    .dataframe thead th {\n",
       "        text-align: right;\n",
       "    }\n",
       "</style>\n",
       "<table border=\"1\" class=\"dataframe\">\n",
       "  <thead>\n",
       "    <tr style=\"text-align: right;\">\n",
       "      <th></th>\n",
       "      <th>Male</th>\n",
       "      <th>Married_Yes</th>\n",
       "      <th>Dependents</th>\n",
       "      <th>Not Graduate</th>\n",
       "      <th>Self_Employed_Yes</th>\n",
       "      <th>ApplicantIncome</th>\n",
       "      <th>CoapplicantIncome</th>\n",
       "      <th>LoanAmount</th>\n",
       "      <th>Loan_Amount_Term</th>\n",
       "      <th>Credit_History</th>\n",
       "      <th>Rural</th>\n",
       "      <th>Semiurban</th>\n",
       "      <th>Urban</th>\n",
       "      <th>LOAN_Status</th>\n",
       "    </tr>\n",
       "  </thead>\n",
       "  <tbody>\n",
       "    <tr>\n",
       "      <th>0</th>\n",
       "      <td>1</td>\n",
       "      <td>0</td>\n",
       "      <td>0</td>\n",
       "      <td>0</td>\n",
       "      <td>0</td>\n",
       "      <td>5849.0</td>\n",
       "      <td>1621.250000</td>\n",
       "      <td>146.41</td>\n",
       "      <td>360.0</td>\n",
       "      <td>1.00</td>\n",
       "      <td>0</td>\n",
       "      <td>0</td>\n",
       "      <td>1</td>\n",
       "      <td>1</td>\n",
       "    </tr>\n",
       "    <tr>\n",
       "      <th>1</th>\n",
       "      <td>1</td>\n",
       "      <td>1</td>\n",
       "      <td>1</td>\n",
       "      <td>0</td>\n",
       "      <td>0</td>\n",
       "      <td>4583.0</td>\n",
       "      <td>1508.000000</td>\n",
       "      <td>128.00</td>\n",
       "      <td>360.0</td>\n",
       "      <td>1.00</td>\n",
       "      <td>1</td>\n",
       "      <td>0</td>\n",
       "      <td>0</td>\n",
       "      <td>0</td>\n",
       "    </tr>\n",
       "    <tr>\n",
       "      <th>2</th>\n",
       "      <td>1</td>\n",
       "      <td>1</td>\n",
       "      <td>0</td>\n",
       "      <td>0</td>\n",
       "      <td>1</td>\n",
       "      <td>3000.0</td>\n",
       "      <td>1621.250000</td>\n",
       "      <td>66.00</td>\n",
       "      <td>360.0</td>\n",
       "      <td>1.00</td>\n",
       "      <td>0</td>\n",
       "      <td>0</td>\n",
       "      <td>1</td>\n",
       "      <td>1</td>\n",
       "    </tr>\n",
       "    <tr>\n",
       "      <th>3</th>\n",
       "      <td>1</td>\n",
       "      <td>1</td>\n",
       "      <td>0</td>\n",
       "      <td>1</td>\n",
       "      <td>0</td>\n",
       "      <td>2583.0</td>\n",
       "      <td>2358.000000</td>\n",
       "      <td>120.00</td>\n",
       "      <td>360.0</td>\n",
       "      <td>1.00</td>\n",
       "      <td>0</td>\n",
       "      <td>0</td>\n",
       "      <td>1</td>\n",
       "      <td>1</td>\n",
       "    </tr>\n",
       "    <tr>\n",
       "      <th>4</th>\n",
       "      <td>1</td>\n",
       "      <td>0</td>\n",
       "      <td>0</td>\n",
       "      <td>0</td>\n",
       "      <td>0</td>\n",
       "      <td>6000.0</td>\n",
       "      <td>1621.250000</td>\n",
       "      <td>141.00</td>\n",
       "      <td>360.0</td>\n",
       "      <td>1.00</td>\n",
       "      <td>0</td>\n",
       "      <td>0</td>\n",
       "      <td>1</td>\n",
       "      <td>1</td>\n",
       "    </tr>\n",
       "    <tr>\n",
       "      <th>...</th>\n",
       "      <td>...</td>\n",
       "      <td>...</td>\n",
       "      <td>...</td>\n",
       "      <td>...</td>\n",
       "      <td>...</td>\n",
       "      <td>...</td>\n",
       "      <td>...</td>\n",
       "      <td>...</td>\n",
       "      <td>...</td>\n",
       "      <td>...</td>\n",
       "      <td>...</td>\n",
       "      <td>...</td>\n",
       "      <td>...</td>\n",
       "      <td>...</td>\n",
       "    </tr>\n",
       "    <tr>\n",
       "      <th>609</th>\n",
       "      <td>0</td>\n",
       "      <td>0</td>\n",
       "      <td>0</td>\n",
       "      <td>0</td>\n",
       "      <td>0</td>\n",
       "      <td>2900.0</td>\n",
       "      <td>1621.250000</td>\n",
       "      <td>71.00</td>\n",
       "      <td>360.0</td>\n",
       "      <td>1.00</td>\n",
       "      <td>1</td>\n",
       "      <td>0</td>\n",
       "      <td>0</td>\n",
       "      <td>1</td>\n",
       "    </tr>\n",
       "    <tr>\n",
       "      <th>610</th>\n",
       "      <td>1</td>\n",
       "      <td>1</td>\n",
       "      <td>3</td>\n",
       "      <td>0</td>\n",
       "      <td>0</td>\n",
       "      <td>4106.0</td>\n",
       "      <td>1621.250000</td>\n",
       "      <td>40.00</td>\n",
       "      <td>180.0</td>\n",
       "      <td>1.00</td>\n",
       "      <td>1</td>\n",
       "      <td>0</td>\n",
       "      <td>0</td>\n",
       "      <td>1</td>\n",
       "    </tr>\n",
       "    <tr>\n",
       "      <th>611</th>\n",
       "      <td>1</td>\n",
       "      <td>1</td>\n",
       "      <td>1</td>\n",
       "      <td>0</td>\n",
       "      <td>0</td>\n",
       "      <td>8072.0</td>\n",
       "      <td>2342.094739</td>\n",
       "      <td>253.00</td>\n",
       "      <td>360.0</td>\n",
       "      <td>1.00</td>\n",
       "      <td>0</td>\n",
       "      <td>0</td>\n",
       "      <td>1</td>\n",
       "      <td>1</td>\n",
       "    </tr>\n",
       "    <tr>\n",
       "      <th>612</th>\n",
       "      <td>1</td>\n",
       "      <td>1</td>\n",
       "      <td>2</td>\n",
       "      <td>0</td>\n",
       "      <td>0</td>\n",
       "      <td>7583.0</td>\n",
       "      <td>1621.250000</td>\n",
       "      <td>187.00</td>\n",
       "      <td>360.0</td>\n",
       "      <td>1.00</td>\n",
       "      <td>0</td>\n",
       "      <td>0</td>\n",
       "      <td>1</td>\n",
       "      <td>1</td>\n",
       "    </tr>\n",
       "    <tr>\n",
       "      <th>613</th>\n",
       "      <td>0</td>\n",
       "      <td>0</td>\n",
       "      <td>0</td>\n",
       "      <td>0</td>\n",
       "      <td>1</td>\n",
       "      <td>4583.0</td>\n",
       "      <td>1621.250000</td>\n",
       "      <td>133.00</td>\n",
       "      <td>360.0</td>\n",
       "      <td>0.84</td>\n",
       "      <td>0</td>\n",
       "      <td>1</td>\n",
       "      <td>0</td>\n",
       "      <td>0</td>\n",
       "    </tr>\n",
       "  </tbody>\n",
       "</table>\n",
       "<p>614 rows × 14 columns</p>\n",
       "</div>"
      ],
      "text/plain": [
       "     Male  Married_Yes  Dependents  Not Graduate  Self_Employed_Yes  \\\n",
       "0       1            0           0             0                  0   \n",
       "1       1            1           1             0                  0   \n",
       "2       1            1           0             0                  1   \n",
       "3       1            1           0             1                  0   \n",
       "4       1            0           0             0                  0   \n",
       "..    ...          ...         ...           ...                ...   \n",
       "609     0            0           0             0                  0   \n",
       "610     1            1           3             0                  0   \n",
       "611     1            1           1             0                  0   \n",
       "612     1            1           2             0                  0   \n",
       "613     0            0           0             0                  1   \n",
       "\n",
       "     ApplicantIncome  CoapplicantIncome  LoanAmount  Loan_Amount_Term  \\\n",
       "0             5849.0        1621.250000      146.41             360.0   \n",
       "1             4583.0        1508.000000      128.00             360.0   \n",
       "2             3000.0        1621.250000       66.00             360.0   \n",
       "3             2583.0        2358.000000      120.00             360.0   \n",
       "4             6000.0        1621.250000      141.00             360.0   \n",
       "..               ...                ...         ...               ...   \n",
       "609           2900.0        1621.250000       71.00             360.0   \n",
       "610           4106.0        1621.250000       40.00             180.0   \n",
       "611           8072.0        2342.094739      253.00             360.0   \n",
       "612           7583.0        1621.250000      187.00             360.0   \n",
       "613           4583.0        1621.250000      133.00             360.0   \n",
       "\n",
       "     Credit_History  Rural  Semiurban  Urban  LOAN_Status  \n",
       "0              1.00      0          0      1            1  \n",
       "1              1.00      1          0      0            0  \n",
       "2              1.00      0          0      1            1  \n",
       "3              1.00      0          0      1            1  \n",
       "4              1.00      0          0      1            1  \n",
       "..              ...    ...        ...    ...          ...  \n",
       "609            1.00      1          0      0            1  \n",
       "610            1.00      1          0      0            1  \n",
       "611            1.00      0          0      1            1  \n",
       "612            1.00      0          0      1            1  \n",
       "613            0.84      0          1      0            0  \n",
       "\n",
       "[614 rows x 14 columns]"
      ]
     },
     "execution_count": 724,
     "metadata": {},
     "output_type": "execute_result"
    }
   ],
   "source": [
    "df"
   ]
  },
  {
   "cell_type": "markdown",
   "id": "ed67045b",
   "metadata": {},
   "source": [
    "### Splitting"
   ]
  },
  {
   "cell_type": "code",
   "execution_count": 725,
   "id": "af944ff6",
   "metadata": {},
   "outputs": [],
   "source": [
    "X = df.drop(\"LOAN_Status\",axis=1)"
   ]
  },
  {
   "cell_type": "code",
   "execution_count": 726,
   "id": "367c52bb",
   "metadata": {},
   "outputs": [
    {
     "data": {
      "text/html": [
       "<div>\n",
       "<style scoped>\n",
       "    .dataframe tbody tr th:only-of-type {\n",
       "        vertical-align: middle;\n",
       "    }\n",
       "\n",
       "    .dataframe tbody tr th {\n",
       "        vertical-align: top;\n",
       "    }\n",
       "\n",
       "    .dataframe thead th {\n",
       "        text-align: right;\n",
       "    }\n",
       "</style>\n",
       "<table border=\"1\" class=\"dataframe\">\n",
       "  <thead>\n",
       "    <tr style=\"text-align: right;\">\n",
       "      <th></th>\n",
       "      <th>Male</th>\n",
       "      <th>Married_Yes</th>\n",
       "      <th>Dependents</th>\n",
       "      <th>Not Graduate</th>\n",
       "      <th>Self_Employed_Yes</th>\n",
       "      <th>ApplicantIncome</th>\n",
       "      <th>CoapplicantIncome</th>\n",
       "      <th>LoanAmount</th>\n",
       "      <th>Loan_Amount_Term</th>\n",
       "      <th>Credit_History</th>\n",
       "      <th>Rural</th>\n",
       "      <th>Semiurban</th>\n",
       "      <th>Urban</th>\n",
       "    </tr>\n",
       "  </thead>\n",
       "  <tbody>\n",
       "    <tr>\n",
       "      <th>281</th>\n",
       "      <td>1</td>\n",
       "      <td>1</td>\n",
       "      <td>0</td>\n",
       "      <td>0</td>\n",
       "      <td>0</td>\n",
       "      <td>3927.0</td>\n",
       "      <td>800.0</td>\n",
       "      <td>112.0</td>\n",
       "      <td>360.0</td>\n",
       "      <td>1.0</td>\n",
       "      <td>0</td>\n",
       "      <td>1</td>\n",
       "      <td>0</td>\n",
       "    </tr>\n",
       "  </tbody>\n",
       "</table>\n",
       "</div>"
      ],
      "text/plain": [
       "     Male  Married_Yes  Dependents  Not Graduate  Self_Employed_Yes  \\\n",
       "281     1            1           0             0                  0   \n",
       "\n",
       "     ApplicantIncome  CoapplicantIncome  LoanAmount  Loan_Amount_Term  \\\n",
       "281           3927.0              800.0       112.0             360.0   \n",
       "\n",
       "     Credit_History  Rural  Semiurban  Urban  \n",
       "281             1.0      0          1      0  "
      ]
     },
     "execution_count": 726,
     "metadata": {},
     "output_type": "execute_result"
    }
   ],
   "source": [
    "X.sample()"
   ]
  },
  {
   "cell_type": "code",
   "execution_count": 727,
   "id": "9983ad6e",
   "metadata": {},
   "outputs": [],
   "source": [
    "y = df[\"LOAN_Status\"]"
   ]
  },
  {
   "cell_type": "code",
   "execution_count": 728,
   "id": "4c47b9b4",
   "metadata": {},
   "outputs": [
    {
     "data": {
      "text/plain": [
       "363    1\n",
       "Name: LOAN_Status, dtype: int64"
      ]
     },
     "execution_count": 728,
     "metadata": {},
     "output_type": "execute_result"
    }
   ],
   "source": [
    "y.sample()"
   ]
  },
  {
   "cell_type": "code",
   "execution_count": 729,
   "id": "03ce5526",
   "metadata": {},
   "outputs": [],
   "source": [
    "from sklearn.model_selection import train_test_split\n",
    "from sklearn.preprocessing import StandardScaler\n",
    "from sklearn.model_selection import KFold , cross_val_score\n",
    "from sklearn.svm import SVC\n",
    "from sklearn.tree import DecisionTreeClassifier\n",
    "from sklearn.ensemble import RandomForestClassifier , AdaBoostClassifier"
   ]
  },
  {
   "cell_type": "code",
   "execution_count": 730,
   "id": "d546284a",
   "metadata": {},
   "outputs": [],
   "source": [
    "Xtrain,Xtest,ytrain,ytest = train_test_split(X,y,test_size=.20)"
   ]
  },
  {
   "cell_type": "code",
   "execution_count": 731,
   "id": "c4b8f19e",
   "metadata": {},
   "outputs": [
    {
     "data": {
      "text/plain": [
       "((614, 13), (491, 13), (123, 13))"
      ]
     },
     "execution_count": 731,
     "metadata": {},
     "output_type": "execute_result"
    }
   ],
   "source": [
    "X.shape , Xtrain.shape , Xtest.shape"
   ]
  },
  {
   "cell_type": "code",
   "execution_count": 732,
   "id": "076eb108",
   "metadata": {},
   "outputs": [
    {
     "data": {
      "text/plain": [
       "((614,), (491,), (123,))"
      ]
     },
     "execution_count": 732,
     "metadata": {},
     "output_type": "execute_result"
    }
   ],
   "source": [
    "y.shape , ytrain.shape , ytest.shape"
   ]
  },
  {
   "cell_type": "code",
   "execution_count": 733,
   "id": "3a21f9af",
   "metadata": {},
   "outputs": [],
   "source": [
    "kf = KFold(n_splits=11)"
   ]
  },
  {
   "cell_type": "code",
   "execution_count": 734,
   "id": "a9e18e94",
   "metadata": {},
   "outputs": [],
   "source": [
    "dct = DecisionTreeClassifier()"
   ]
  },
  {
   "cell_type": "code",
   "execution_count": 735,
   "id": "05f30a69",
   "metadata": {},
   "outputs": [],
   "source": [
    "rfc = RandomForestClassifier()"
   ]
  },
  {
   "cell_type": "code",
   "execution_count": 736,
   "id": "2395e061",
   "metadata": {},
   "outputs": [],
   "source": [
    "algo = [ dct , rfc ]"
   ]
  },
  {
   "cell_type": "markdown",
   "id": "5810283b",
   "metadata": {},
   "source": [
    "### Without Feature Scaling\n"
   ]
  },
  {
   "cell_type": "code",
   "execution_count": 737,
   "id": "3fa885d8",
   "metadata": {},
   "outputs": [
    {
     "name": "stdout",
     "output_type": "stream",
     "text": [
      "DecisionTreeClassifier() = 0.7317073170731707\n",
      "RandomForestClassifier() = 0.7560975609756098\n"
     ]
    }
   ],
   "source": [
    "for i in algo:\n",
    "    i.fit(Xtrain,ytrain)\n",
    "    s = i.score(Xtest,ytest)\n",
    "    print(f'{i} = {s}')"
   ]
  },
  {
   "cell_type": "markdown",
   "id": "6ef3acce",
   "metadata": {},
   "source": [
    "### With Feature Scaling"
   ]
  },
  {
   "cell_type": "code",
   "execution_count": 738,
   "id": "cc73ca58",
   "metadata": {},
   "outputs": [],
   "source": [
    "ss = StandardScaler()"
   ]
  },
  {
   "cell_type": "code",
   "execution_count": 739,
   "id": "b2441c64",
   "metadata": {},
   "outputs": [
    {
     "data": {
      "text/plain": [
       "StandardScaler()"
      ]
     },
     "execution_count": 739,
     "metadata": {},
     "output_type": "execute_result"
    }
   ],
   "source": [
    "ss.fit(Xtrain)"
   ]
  },
  {
   "cell_type": "code",
   "execution_count": 740,
   "id": "738bfa08",
   "metadata": {},
   "outputs": [],
   "source": [
    "Xtrain_ss = ss.transform(Xtrain)"
   ]
  },
  {
   "cell_type": "code",
   "execution_count": 741,
   "id": "dcdcb2e4",
   "metadata": {},
   "outputs": [],
   "source": [
    "Xtest_ss = ss.transform(Xtest)"
   ]
  },
  {
   "cell_type": "code",
   "execution_count": 742,
   "id": "6a20d82c",
   "metadata": {},
   "outputs": [
    {
     "name": "stdout",
     "output_type": "stream",
     "text": [
      "DecisionTreeClassifier() = 0.7317073170731707\n",
      "RandomForestClassifier() = 0.7804878048780488\n"
     ]
    }
   ],
   "source": [
    "for i in algo:\n",
    "    i.fit(Xtrain_ss,ytrain)\n",
    "    s = i.score(Xtest_ss,ytest)\n",
    "    print(f'{i} = {s}')"
   ]
  },
  {
   "cell_type": "markdown",
   "id": "d2430f2d",
   "metadata": {},
   "source": [
    "### With Cross Validation"
   ]
  },
  {
   "cell_type": "code",
   "execution_count": 743,
   "id": "1c72b9ed",
   "metadata": {},
   "outputs": [
    {
     "name": "stdout",
     "output_type": "stream",
     "text": [
      "DecisionTreeClassifier() = 0.6514757969303425\n",
      "RandomForestClassifier() = 0.7507969303423849\n"
     ]
    }
   ],
   "source": [
    "for i in algo:\n",
    "    s = cross_val_score(i,X,y,cv = kf)\n",
    "    print(f'{i} = {s.mean()}')"
   ]
  },
  {
   "cell_type": "markdown",
   "id": "69d747ca",
   "metadata": {},
   "source": [
    "## Boosting"
   ]
  },
  {
   "cell_type": "code",
   "execution_count": 744,
   "id": "01299332",
   "metadata": {},
   "outputs": [],
   "source": [
    "rfc1 = RandomForestClassifier(n_estimators=150,max_depth=2,max_leaf_nodes=3)"
   ]
  },
  {
   "cell_type": "code",
   "execution_count": 745,
   "id": "4d0a8792",
   "metadata": {},
   "outputs": [],
   "source": [
    "abc = AdaBoostClassifier()"
   ]
  },
  {
   "cell_type": "code",
   "execution_count": 746,
   "id": "331ee508",
   "metadata": {},
   "outputs": [],
   "source": [
    "algo1 = [rfc1  , abc ]"
   ]
  },
  {
   "cell_type": "code",
   "execution_count": 747,
   "id": "f9851847",
   "metadata": {},
   "outputs": [
    {
     "name": "stdout",
     "output_type": "stream",
     "text": [
      "RandomForestClassifier(max_depth=2, max_leaf_nodes=3, n_estimators=150)\n",
      "AdaBoostClassifier()\n"
     ]
    }
   ],
   "source": [
    "for i in algo1:\n",
    "    print(i)"
   ]
  },
  {
   "cell_type": "markdown",
   "id": "28a95f54",
   "metadata": {},
   "source": [
    "### Without Feature Scaling\n"
   ]
  },
  {
   "cell_type": "code",
   "execution_count": 748,
   "id": "58c256e0",
   "metadata": {},
   "outputs": [
    {
     "name": "stdout",
     "output_type": "stream",
     "text": [
      "RandomForestClassifier(max_depth=2, max_leaf_nodes=3, n_estimators=150) = 0.6910569105691057\n",
      "AdaBoostClassifier() = 0.7642276422764228\n"
     ]
    }
   ],
   "source": [
    "for i in algo1:\n",
    "    i.fit(Xtrain,ytrain)\n",
    "    s = i.score(Xtest,ytest)\n",
    "    print(f'{i} = {s}')"
   ]
  },
  {
   "cell_type": "markdown",
   "id": "eb4fd565",
   "metadata": {},
   "source": [
    "### With Feature Scaling"
   ]
  },
  {
   "cell_type": "code",
   "execution_count": 749,
   "id": "b82ee2be",
   "metadata": {},
   "outputs": [
    {
     "name": "stdout",
     "output_type": "stream",
     "text": [
      "RandomForestClassifier(max_depth=2, max_leaf_nodes=3, n_estimators=150) = 0.6910569105691057\n",
      "AdaBoostClassifier() = 0.7642276422764228\n"
     ]
    }
   ],
   "source": [
    "for i in algo1:\n",
    "    i.fit(Xtrain_ss,ytrain)\n",
    "    s = i.score(Xtest_ss,ytest)\n",
    "    print(f'{i} = {s}')"
   ]
  },
  {
   "cell_type": "markdown",
   "id": "61d7d34a",
   "metadata": {},
   "source": [
    "###  With Cross Validation (Boosting)\n"
   ]
  },
  {
   "cell_type": "code",
   "execution_count": 750,
   "id": "99360d13",
   "metadata": {},
   "outputs": [
    {
     "name": "stdout",
     "output_type": "stream",
     "text": [
      "RandomForestClassifier(max_depth=2, max_leaf_nodes=3, n_estimators=150) = 0.6806965761511217\n",
      "AdaBoostClassifier() = 0.7425619834710744\n",
      "CPU times: user 1.71 s, sys: 15.7 ms, total: 1.72 s\n",
      "Wall time: 1.72 s\n"
     ]
    }
   ],
   "source": [
    "%%time\n",
    "for i in algo1:\n",
    "    s = cross_val_score(i,X,y,cv = kf)\n",
    "    print(f'{i} = {s.mean()}')"
   ]
  },
  {
   "cell_type": "markdown",
   "id": "751bb43b",
   "metadata": {},
   "source": [
    "### With GridSearch CV"
   ]
  },
  {
   "cell_type": "code",
   "execution_count": 751,
   "id": "9ed59fbe",
   "metadata": {},
   "outputs": [],
   "source": [
    "from sklearn.model_selection import GridSearchCV"
   ]
  },
  {
   "cell_type": "code",
   "execution_count": 752,
   "id": "9458f963",
   "metadata": {},
   "outputs": [],
   "source": [
    "dic = { 'n_estimators' : [100,125,180],'criterion': ['gini', 'entropy'], 'max_depth' : [2,3,10]\n",
    "       ,'min_samples_leaf' : [ 1,5]  }"
   ]
  },
  {
   "cell_type": "code",
   "execution_count": 753,
   "id": "4c5d7d8d",
   "metadata": {},
   "outputs": [],
   "source": [
    "kf1 = KFold(n_splits=12)"
   ]
  },
  {
   "cell_type": "code",
   "execution_count": 754,
   "id": "02f02529",
   "metadata": {},
   "outputs": [],
   "source": [
    "gvc = GridSearchCV(RandomForestClassifier(),param_grid=dic,cv = kf1)"
   ]
  },
  {
   "cell_type": "code",
   "execution_count": 755,
   "id": "47e5bd0f",
   "metadata": {},
   "outputs": [
    {
     "name": "stdout",
     "output_type": "stream",
     "text": [
      "CPU times: user 46.1 s, sys: 399 ms, total: 46.5 s\n",
      "Wall time: 46.7 s\n"
     ]
    },
    {
     "data": {
      "text/plain": [
       "GridSearchCV(cv=KFold(n_splits=12, random_state=None, shuffle=False),\n",
       "             estimator=RandomForestClassifier(),\n",
       "             param_grid={'criterion': ['gini', 'entropy'],\n",
       "                         'max_depth': [2, 3, 10], 'min_samples_leaf': [1, 5],\n",
       "                         'n_estimators': [100, 125, 180]})"
      ]
     },
     "execution_count": 755,
     "metadata": {},
     "output_type": "execute_result"
    }
   ],
   "source": [
    "%%time\n",
    "gvc.fit(X,y)"
   ]
  },
  {
   "cell_type": "code",
   "execution_count": 756,
   "id": "e69ea949",
   "metadata": {},
   "outputs": [
    {
     "data": {
      "text/plain": [
       "{'criterion': 'entropy',\n",
       " 'max_depth': 10,\n",
       " 'min_samples_leaf': 5,\n",
       " 'n_estimators': 180}"
      ]
     },
     "execution_count": 756,
     "metadata": {},
     "output_type": "execute_result"
    }
   ],
   "source": [
    "gvc.best_params_"
   ]
  },
  {
   "cell_type": "code",
   "execution_count": 757,
   "id": "e934a5ec",
   "metadata": {},
   "outputs": [
    {
     "data": {
      "text/plain": [
       "RandomForestClassifier(criterion='entropy', max_depth=10, min_samples_leaf=5,\n",
       "                       n_estimators=180)"
      ]
     },
     "execution_count": 757,
     "metadata": {},
     "output_type": "execute_result"
    }
   ],
   "source": [
    "gvc.best_estimator_"
   ]
  },
  {
   "cell_type": "code",
   "execution_count": 758,
   "id": "9c20be1d",
   "metadata": {},
   "outputs": [
    {
     "data": {
      "text/plain": [
       "0.763826043237808"
      ]
     },
     "execution_count": 758,
     "metadata": {},
     "output_type": "execute_result"
    }
   ],
   "source": [
    "gvc.best_score_"
   ]
  },
  {
   "cell_type": "code",
   "execution_count": null,
   "id": "94ae1709",
   "metadata": {},
   "outputs": [],
   "source": []
  }
 ],
 "metadata": {
  "kernelspec": {
   "display_name": "Python 3 (ipykernel)",
   "language": "python",
   "name": "python3"
  },
  "language_info": {
   "codemirror_mode": {
    "name": "ipython",
    "version": 3
   },
   "file_extension": ".py",
   "mimetype": "text/x-python",
   "name": "python",
   "nbconvert_exporter": "python",
   "pygments_lexer": "ipython3",
   "version": "3.9.7"
  }
 },
 "nbformat": 4,
 "nbformat_minor": 5
}
