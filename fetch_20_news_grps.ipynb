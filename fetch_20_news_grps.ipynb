{
 "cells": [
  {
   "cell_type": "code",
   "execution_count": 1,
   "id": "a0faf894",
   "metadata": {},
   "outputs": [],
   "source": [
    "import numpy as np\n",
    "import pandas as pd"
   ]
  },
  {
   "cell_type": "code",
   "execution_count": 2,
   "id": "b17b321f",
   "metadata": {},
   "outputs": [],
   "source": [
    "from sklearn.datasets import fetch_20newsgroups"
   ]
  },
  {
   "cell_type": "code",
   "execution_count": 3,
   "id": "d0ee2459",
   "metadata": {},
   "outputs": [],
   "source": [
    "news_data = fetch_20newsgroups()"
   ]
  },
  {
   "cell_type": "code",
   "execution_count": 4,
   "id": "501e7482",
   "metadata": {},
   "outputs": [],
   "source": [
    "news_train = fetch_20newsgroups(subset='train',categories=news_data[\"target_names\"])"
   ]
  },
  {
   "cell_type": "code",
   "execution_count": 5,
   "id": "92506c92",
   "metadata": {},
   "outputs": [],
   "source": [
    "news_test = fetch_20newsgroups(subset='test',categories=news_data[\"target_names\"])"
   ]
  },
  {
   "cell_type": "code",
   "execution_count": 6,
   "id": "dde5fbad",
   "metadata": {},
   "outputs": [],
   "source": [
    "from sklearn.feature_extraction.text import CountVectorizer,TfidfTransformer"
   ]
  },
  {
   "cell_type": "code",
   "execution_count": 7,
   "id": "cc21fae8",
   "metadata": {},
   "outputs": [],
   "source": [
    "cv = CountVectorizer()"
   ]
  },
  {
   "cell_type": "code",
   "execution_count": 8,
   "id": "b1ebf50b",
   "metadata": {},
   "outputs": [],
   "source": [
    "news_train_cv = cv.fit_transform(news_train['data'])"
   ]
  },
  {
   "cell_type": "code",
   "execution_count": 9,
   "id": "e2d60887",
   "metadata": {},
   "outputs": [],
   "source": [
    "news_test_cv = cv.transform(news_test['data'])"
   ]
  },
  {
   "cell_type": "code",
   "execution_count": 10,
   "id": "fd312177",
   "metadata": {},
   "outputs": [],
   "source": [
    "tfid = TfidfTransformer()"
   ]
  },
  {
   "cell_type": "code",
   "execution_count": 11,
   "id": "a09beb28",
   "metadata": {},
   "outputs": [],
   "source": [
    "news_train_cv_tfid = tfid.fit_transform(news_train_cv)"
   ]
  },
  {
   "cell_type": "code",
   "execution_count": 12,
   "id": "8560e61b",
   "metadata": {},
   "outputs": [],
   "source": [
    "news_test_cv_tfid = tfid.transform(news_test_cv)"
   ]
  },
  {
   "cell_type": "code",
   "execution_count": 13,
   "id": "66cd22eb",
   "metadata": {},
   "outputs": [],
   "source": [
    "from sklearn.naive_bayes import MultinomialNB"
   ]
  },
  {
   "cell_type": "code",
   "execution_count": 14,
   "id": "3935fedd",
   "metadata": {},
   "outputs": [
    {
     "data": {
      "text/plain": [
       "MultinomialNB()"
      ]
     },
     "execution_count": 14,
     "metadata": {},
     "output_type": "execute_result"
    }
   ],
   "source": [
    "ml = MultinomialNB()\n",
    "ml.fit(news_train_cv_tfid,news_train[\"target\"])"
   ]
  },
  {
   "cell_type": "code",
   "execution_count": 15,
   "id": "e8c4ae33",
   "metadata": {},
   "outputs": [
    {
     "data": {
      "text/plain": [
       "0.7738980350504514"
      ]
     },
     "execution_count": 15,
     "metadata": {},
     "output_type": "execute_result"
    }
   ],
   "source": [
    "ml.score(news_test_cv_tfid,news_test[\"target\"])"
   ]
  },
  {
   "cell_type": "code",
   "execution_count": null,
   "id": "e933d17a",
   "metadata": {},
   "outputs": [],
   "source": []
  }
 ],
 "metadata": {
  "kernelspec": {
   "display_name": "Python 3 (ipykernel)",
   "language": "python",
   "name": "python3"
  },
  "language_info": {
   "codemirror_mode": {
    "name": "ipython",
    "version": 3
   },
   "file_extension": ".py",
   "mimetype": "text/x-python",
   "name": "python",
   "nbconvert_exporter": "python",
   "pygments_lexer": "ipython3",
   "version": "3.9.7"
  }
 },
 "nbformat": 4,
 "nbformat_minor": 5
}
