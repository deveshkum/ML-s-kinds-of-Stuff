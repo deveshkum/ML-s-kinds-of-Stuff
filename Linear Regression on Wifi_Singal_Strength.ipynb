{
 "cells": [
  {
   "cell_type": "code",
   "execution_count": 1,
   "id": "3d1a4a33",
   "metadata": {},
   "outputs": [],
   "source": [
    "## Importing the Req. Libraries \n",
    "\n",
    "import pandas as pd\n",
    "import numpy as np\n",
    "import matplotlib.pyplot as plt\n",
    "from sklearn.model_selection import train_test_split, cross_val_score\n",
    "from sklearn.linear_model import LinearRegression\n",
    "from sklearn.metrics import r2_score,mean_squared_error\n",
    "from sklearn.linear_model import LogisticRegression\n",
    "from sklearn.metrics import accuracy_score"
   ]
  },
  {
   "cell_type": "code",
   "execution_count": 2,
   "id": "9549af4c",
   "metadata": {},
   "outputs": [],
   "source": [
    "## For giving the features name \n",
    "\n",
    "headers = [\"Wifi1\", \"Wifi2\", \"Wifi3\", \"Wifi4\", \"Wifi5\", \"Wifi6\", \"Wifi7\", \"Room\" ]\n",
    "df = pd.read_table(\"wifi_localization.txt\",header=None,names=headers)"
   ]
  },
  {
   "cell_type": "code",
   "execution_count": 3,
   "id": "315a8313",
   "metadata": {},
   "outputs": [
    {
     "data": {
      "text/html": [
       "<div>\n",
       "<style scoped>\n",
       "    .dataframe tbody tr th:only-of-type {\n",
       "        vertical-align: middle;\n",
       "    }\n",
       "\n",
       "    .dataframe tbody tr th {\n",
       "        vertical-align: top;\n",
       "    }\n",
       "\n",
       "    .dataframe thead th {\n",
       "        text-align: right;\n",
       "    }\n",
       "</style>\n",
       "<table border=\"1\" class=\"dataframe\">\n",
       "  <thead>\n",
       "    <tr style=\"text-align: right;\">\n",
       "      <th></th>\n",
       "      <th>Wifi1</th>\n",
       "      <th>Wifi2</th>\n",
       "      <th>Wifi3</th>\n",
       "      <th>Wifi4</th>\n",
       "      <th>Wifi5</th>\n",
       "      <th>Wifi6</th>\n",
       "      <th>Wifi7</th>\n",
       "      <th>Room</th>\n",
       "    </tr>\n",
       "  </thead>\n",
       "  <tbody>\n",
       "    <tr>\n",
       "      <th>0</th>\n",
       "      <td>-64</td>\n",
       "      <td>-56</td>\n",
       "      <td>-61</td>\n",
       "      <td>-66</td>\n",
       "      <td>-71</td>\n",
       "      <td>-82</td>\n",
       "      <td>-81</td>\n",
       "      <td>1</td>\n",
       "    </tr>\n",
       "    <tr>\n",
       "      <th>1</th>\n",
       "      <td>-68</td>\n",
       "      <td>-57</td>\n",
       "      <td>-61</td>\n",
       "      <td>-65</td>\n",
       "      <td>-71</td>\n",
       "      <td>-85</td>\n",
       "      <td>-85</td>\n",
       "      <td>1</td>\n",
       "    </tr>\n",
       "    <tr>\n",
       "      <th>2</th>\n",
       "      <td>-63</td>\n",
       "      <td>-60</td>\n",
       "      <td>-60</td>\n",
       "      <td>-67</td>\n",
       "      <td>-76</td>\n",
       "      <td>-85</td>\n",
       "      <td>-84</td>\n",
       "      <td>1</td>\n",
       "    </tr>\n",
       "    <tr>\n",
       "      <th>3</th>\n",
       "      <td>-61</td>\n",
       "      <td>-60</td>\n",
       "      <td>-68</td>\n",
       "      <td>-62</td>\n",
       "      <td>-77</td>\n",
       "      <td>-90</td>\n",
       "      <td>-80</td>\n",
       "      <td>1</td>\n",
       "    </tr>\n",
       "    <tr>\n",
       "      <th>4</th>\n",
       "      <td>-63</td>\n",
       "      <td>-65</td>\n",
       "      <td>-60</td>\n",
       "      <td>-63</td>\n",
       "      <td>-77</td>\n",
       "      <td>-81</td>\n",
       "      <td>-87</td>\n",
       "      <td>1</td>\n",
       "    </tr>\n",
       "  </tbody>\n",
       "</table>\n",
       "</div>"
      ],
      "text/plain": [
       "   Wifi1  Wifi2  Wifi3  Wifi4  Wifi5  Wifi6  Wifi7  Room\n",
       "0    -64    -56    -61    -66    -71    -82    -81     1\n",
       "1    -68    -57    -61    -65    -71    -85    -85     1\n",
       "2    -63    -60    -60    -67    -76    -85    -84     1\n",
       "3    -61    -60    -68    -62    -77    -90    -80     1\n",
       "4    -63    -65    -60    -63    -77    -81    -87     1"
      ]
     },
     "execution_count": 3,
     "metadata": {},
     "output_type": "execute_result"
    }
   ],
   "source": [
    "## Checking the Top 5 rows\n",
    "\n",
    "df.head()"
   ]
  },
  {
   "cell_type": "code",
   "execution_count": 4,
   "id": "b49fa93f",
   "metadata": {},
   "outputs": [
    {
     "data": {
      "text/plain": [
       "<AxesSubplot:ylabel='Room'>"
      ]
     },
     "execution_count": 4,
     "metadata": {},
     "output_type": "execute_result"
    },
    {
     "data": {
      "image/png": "[encoded data removed]",
      "text/plain": [
       "<Figure size 640x480 with 1 Axes>"
      ]
     },
     "metadata": {},
     "output_type": "display_data"
    }
   ],
   "source": [
    "## Checking the balance of the dataset on y.\n",
    "## Bcz if the dataset is imbalanced then there is a high chances of overfitting.\n",
    "\n",
    "df[\"Room\"].value_counts().plot(kind=\"pie\")"
   ]
  },
  {
   "cell_type": "code",
   "execution_count": 5,
   "id": "068e91d5",
   "metadata": {},
   "outputs": [
    {
     "data": {
      "text/plain": [
       "Wifi1    0\n",
       "Wifi2    0\n",
       "Wifi3    0\n",
       "Wifi4    0\n",
       "Wifi5    0\n",
       "Wifi6    0\n",
       "Wifi7    0\n",
       "Room     0\n",
       "dtype: int64"
      ]
     },
     "execution_count": 5,
     "metadata": {},
     "output_type": "execute_result"
    }
   ],
   "source": [
    "## Checking the null values\n",
    "\n",
    "df.isnull().sum()\n"
   ]
  },
  {
   "cell_type": "code",
   "execution_count": 6,
   "id": "cb97d31e",
   "metadata": {},
   "outputs": [
    {
     "name": "stdout",
     "output_type": "stream",
     "text": [
      "<class 'pandas.core.frame.DataFrame'>\n",
      "RangeIndex: 2000 entries, 0 to 1999\n",
      "Data columns (total 8 columns):\n",
      " #   Column  Non-Null Count  Dtype\n",
      "---  ------  --------------  -----\n",
      " 0   Wifi1   2000 non-null   int64\n",
      " 1   Wifi2   2000 non-null   int64\n",
      " 2   Wifi3   2000 non-null   int64\n",
      " 3   Wifi4   2000 non-null   int64\n",
      " 4   Wifi5   2000 non-null   int64\n",
      " 5   Wifi6   2000 non-null   int64\n",
      " 6   Wifi7   2000 non-null   int64\n",
      " 7   Room    2000 non-null   int64\n",
      "dtypes: int64(8)\n",
      "memory usage: 125.1 KB\n"
     ]
    }
   ],
   "source": [
    "df.info()"
   ]
  },
  {
   "cell_type": "code",
   "execution_count": 7,
   "id": "6d35fdda",
   "metadata": {},
   "outputs": [
    {
     "data": {
      "text/plain": [
       "1    500\n",
       "2    500\n",
       "3    500\n",
       "4    500\n",
       "Name: Room, dtype: int64"
      ]
     },
     "execution_count": 7,
     "metadata": {},
     "output_type": "execute_result"
    }
   ],
   "source": [
    "df['Room'].value_counts()"
   ]
  },
  {
   "cell_type": "code",
   "execution_count": 8,
   "id": "fb121f96",
   "metadata": {},
   "outputs": [
    {
     "data": {
      "text/plain": [
       "<AxesSubplot:>"
      ]
     },
     "execution_count": 8,
     "metadata": {},
     "output_type": "execute_result"
    },
    {
     "data": {
      "image/png": "[encoded data removed]",
      "text/plain": [
       "<Figure size 1200x800 with 1 Axes>"
      ]
     },
     "metadata": {},
     "output_type": "display_data"
    }
   ],
   "source": [
    "## Box plot for Outliers and For FIVE Number Summary\n",
    "## Five Number summary includes (Min. Value , Max Value , Median , Q1 , Q3)\n",
    "\n",
    "plt.figure(figsize = (12,8))\n",
    "df.boxplot(vert = 0)"
   ]
  },
  {
   "cell_type": "code",
   "execution_count": 9,
   "id": "e0a8c14b",
   "metadata": {},
   "outputs": [],
   "source": [
    "## Function of IQR \n",
    "def odiqr(df):\n",
    "    q1 = df.quantile(0.25)\n",
    "    q3 = df.quantile(0.75)\n",
    "    iqr = q3 - q1\n",
    "    low = q1 - (1.5 * iqr)\n",
    "    high = q3 + (1.5 * iqr)\n",
    "    m = df.mean()\n",
    "    df = df.apply(lambda x : m if x < low else (m if x > high else x ) )\n",
    "    return df"
   ]
  },
  {
   "cell_type": "code",
   "execution_count": 10,
   "id": "69275a11",
   "metadata": {},
   "outputs": [],
   "source": [
    "## Function of MSD \n",
    "def odmsd(df):\n",
    "    m = round(df.mean(),2)\n",
    "    s = round(df.std(),2)\n",
    "    low = round(m-(3*s),2)\n",
    "    high = round(m+(3*s),2)\n",
    "    ft1 = df[df<low]\n",
    "    ft2 = df[df>high]\n",
    "    df = df.map(lambda x : low if x < low else (high if x > high else x ))"
   ]
  },
  {
   "cell_type": "code",
   "execution_count": 11,
   "id": "2cc0cc48",
   "metadata": {},
   "outputs": [],
   "source": [
    "clist = df.columns[0:7:1]"
   ]
  },
  {
   "cell_type": "code",
   "execution_count": 12,
   "id": "939f189b",
   "metadata": {},
   "outputs": [
    {
     "data": {
      "text/plain": [
       "Index(['Wifi1', 'Wifi2', 'Wifi3', 'Wifi4', 'Wifi5', 'Wifi6', 'Wifi7'], dtype='object')"
      ]
     },
     "execution_count": 12,
     "metadata": {},
     "output_type": "execute_result"
    }
   ],
   "source": [
    "clist"
   ]
  },
  {
   "cell_type": "code",
   "execution_count": 13,
   "id": "e5f6bd2a",
   "metadata": {},
   "outputs": [
    {
     "data": {
      "text/plain": [
       "<AxesSubplot:>"
      ]
     },
     "execution_count": 13,
     "metadata": {},
     "output_type": "execute_result"
    },
    {
     "data": {
      "image/png": "[encoded data removed]",
      "text/plain": [
       "<Figure size 1200x800 with 1 Axes>"
      ]
     },
     "metadata": {},
     "output_type": "display_data"
    }
   ],
   "source": [
    "## Before Applying the OD\n",
    "\n",
    "plt.figure(figsize = (12,8))\n",
    "df.boxplot(vert = 0)"
   ]
  },
  {
   "cell_type": "code",
   "execution_count": 44,
   "id": "3dc1ab08",
   "metadata": {},
   "outputs": [],
   "source": [
    "## Applying the OD Technique baased on Skeness\n",
    "## Below 0.5 is Symmetric and the OD's are ( Zscore & MSD)\n",
    "## Above 0.5 is ASymmetric and the OD's are ( IQR & Percentile)\n",
    "\n",
    "for i in clist:\n",
    "    if df[i].skew() >= 0.5:\n",
    "        df[i] = odiqr(df[i])\n",
    "    else:\n",
    "        odmsd(df[i])"
   ]
  },
  {
   "cell_type": "code",
   "execution_count": 45,
   "id": "80c681a4",
   "metadata": {},
   "outputs": [
    {
     "data": {
      "image/png": "[encoded data removed]",
      "text/plain": [
       "<Figure size 1200x800 with 1 Axes>"
      ]
     },
     "metadata": {},
     "output_type": "display_data"
    }
   ],
   "source": [
    "## After Applying the OD\n",
    "plt.figure(figsize = (12,8))\n",
    "df.boxplot(vert = 0)\n",
    "plt.show()"
   ]
  },
  {
   "cell_type": "code",
   "execution_count": 16,
   "id": "d687025f",
   "metadata": {},
   "outputs": [],
   "source": [
    "## Taking the Dependent Variable in(X)\n",
    "## Taking the InDependent Variable in(y)\n",
    "\n",
    "X = df.drop('Room',axis = 1)\n",
    "y = df['Room']"
   ]
  },
  {
   "cell_type": "code",
   "execution_count": 17,
   "id": "63bcb6bc",
   "metadata": {},
   "outputs": [
    {
     "data": {
      "text/html": [
       "<div>\n",
       "<style scoped>\n",
       "    .dataframe tbody tr th:only-of-type {\n",
       "        vertical-align: middle;\n",
       "    }\n",
       "\n",
       "    .dataframe tbody tr th {\n",
       "        vertical-align: top;\n",
       "    }\n",
       "\n",
       "    .dataframe thead th {\n",
       "        text-align: right;\n",
       "    }\n",
       "</style>\n",
       "<table border=\"1\" class=\"dataframe\">\n",
       "  <thead>\n",
       "    <tr style=\"text-align: right;\">\n",
       "      <th></th>\n",
       "      <th>Wifi1</th>\n",
       "      <th>Wifi2</th>\n",
       "      <th>Wifi3</th>\n",
       "      <th>Wifi4</th>\n",
       "      <th>Wifi5</th>\n",
       "      <th>Wifi6</th>\n",
       "      <th>Wifi7</th>\n",
       "    </tr>\n",
       "  </thead>\n",
       "  <tbody>\n",
       "    <tr>\n",
       "      <th>0</th>\n",
       "      <td>-64.0</td>\n",
       "      <td>-56</td>\n",
       "      <td>-61</td>\n",
       "      <td>-66.0</td>\n",
       "      <td>-71</td>\n",
       "      <td>-82</td>\n",
       "      <td>-81.0</td>\n",
       "    </tr>\n",
       "    <tr>\n",
       "      <th>1</th>\n",
       "      <td>-68.0</td>\n",
       "      <td>-57</td>\n",
       "      <td>-61</td>\n",
       "      <td>-65.0</td>\n",
       "      <td>-71</td>\n",
       "      <td>-85</td>\n",
       "      <td>-85.0</td>\n",
       "    </tr>\n",
       "    <tr>\n",
       "      <th>2</th>\n",
       "      <td>-63.0</td>\n",
       "      <td>-60</td>\n",
       "      <td>-60</td>\n",
       "      <td>-67.0</td>\n",
       "      <td>-76</td>\n",
       "      <td>-85</td>\n",
       "      <td>-84.0</td>\n",
       "    </tr>\n",
       "    <tr>\n",
       "      <th>3</th>\n",
       "      <td>-61.0</td>\n",
       "      <td>-60</td>\n",
       "      <td>-68</td>\n",
       "      <td>-62.0</td>\n",
       "      <td>-77</td>\n",
       "      <td>-90</td>\n",
       "      <td>-80.0</td>\n",
       "    </tr>\n",
       "    <tr>\n",
       "      <th>4</th>\n",
       "      <td>-63.0</td>\n",
       "      <td>-65</td>\n",
       "      <td>-60</td>\n",
       "      <td>-63.0</td>\n",
       "      <td>-77</td>\n",
       "      <td>-81</td>\n",
       "      <td>-87.0</td>\n",
       "    </tr>\n",
       "    <tr>\n",
       "      <th>...</th>\n",
       "      <td>...</td>\n",
       "      <td>...</td>\n",
       "      <td>...</td>\n",
       "      <td>...</td>\n",
       "      <td>...</td>\n",
       "      <td>...</td>\n",
       "      <td>...</td>\n",
       "    </tr>\n",
       "    <tr>\n",
       "      <th>1995</th>\n",
       "      <td>-59.0</td>\n",
       "      <td>-59</td>\n",
       "      <td>-48</td>\n",
       "      <td>-66.0</td>\n",
       "      <td>-50</td>\n",
       "      <td>-86</td>\n",
       "      <td>-94.0</td>\n",
       "    </tr>\n",
       "    <tr>\n",
       "      <th>1996</th>\n",
       "      <td>-59.0</td>\n",
       "      <td>-56</td>\n",
       "      <td>-50</td>\n",
       "      <td>-62.0</td>\n",
       "      <td>-47</td>\n",
       "      <td>-87</td>\n",
       "      <td>-90.0</td>\n",
       "    </tr>\n",
       "    <tr>\n",
       "      <th>1997</th>\n",
       "      <td>-62.0</td>\n",
       "      <td>-59</td>\n",
       "      <td>-46</td>\n",
       "      <td>-65.0</td>\n",
       "      <td>-45</td>\n",
       "      <td>-87</td>\n",
       "      <td>-88.0</td>\n",
       "    </tr>\n",
       "    <tr>\n",
       "      <th>1998</th>\n",
       "      <td>-62.0</td>\n",
       "      <td>-58</td>\n",
       "      <td>-52</td>\n",
       "      <td>-61.0</td>\n",
       "      <td>-41</td>\n",
       "      <td>-90</td>\n",
       "      <td>-85.0</td>\n",
       "    </tr>\n",
       "    <tr>\n",
       "      <th>1999</th>\n",
       "      <td>-59.0</td>\n",
       "      <td>-50</td>\n",
       "      <td>-45</td>\n",
       "      <td>-60.0</td>\n",
       "      <td>-45</td>\n",
       "      <td>-88</td>\n",
       "      <td>-87.0</td>\n",
       "    </tr>\n",
       "  </tbody>\n",
       "</table>\n",
       "<p>2000 rows × 7 columns</p>\n",
       "</div>"
      ],
      "text/plain": [
       "      Wifi1  Wifi2  Wifi3  Wifi4  Wifi5  Wifi6  Wifi7\n",
       "0     -64.0    -56    -61  -66.0    -71    -82  -81.0\n",
       "1     -68.0    -57    -61  -65.0    -71    -85  -85.0\n",
       "2     -63.0    -60    -60  -67.0    -76    -85  -84.0\n",
       "3     -61.0    -60    -68  -62.0    -77    -90  -80.0\n",
       "4     -63.0    -65    -60  -63.0    -77    -81  -87.0\n",
       "...     ...    ...    ...    ...    ...    ...    ...\n",
       "1995  -59.0    -59    -48  -66.0    -50    -86  -94.0\n",
       "1996  -59.0    -56    -50  -62.0    -47    -87  -90.0\n",
       "1997  -62.0    -59    -46  -65.0    -45    -87  -88.0\n",
       "1998  -62.0    -58    -52  -61.0    -41    -90  -85.0\n",
       "1999  -59.0    -50    -45  -60.0    -45    -88  -87.0\n",
       "\n",
       "[2000 rows x 7 columns]"
      ]
     },
     "execution_count": 17,
     "metadata": {},
     "output_type": "execute_result"
    }
   ],
   "source": [
    "X"
   ]
  },
  {
   "cell_type": "code",
   "execution_count": 18,
   "id": "05ecd0a5",
   "metadata": {},
   "outputs": [
    {
     "data": {
      "text/plain": [
       "0       1\n",
       "1       1\n",
       "2       1\n",
       "3       1\n",
       "4       1\n",
       "       ..\n",
       "1995    4\n",
       "1996    4\n",
       "1997    4\n",
       "1998    4\n",
       "1999    4\n",
       "Name: Room, Length: 2000, dtype: int64"
      ]
     },
     "execution_count": 18,
     "metadata": {},
     "output_type": "execute_result"
    }
   ],
   "source": [
    "y"
   ]
  },
  {
   "cell_type": "code",
   "execution_count": 19,
   "id": "124fabd3",
   "metadata": {},
   "outputs": [],
   "source": [
    "## Splitting the Dataset into Training & testing \n",
    "## Splitting in 80:20 ratio\n",
    "X_train,X_test,y_train,y_test = train_test_split(X,y,test_size = 0.2,random_state = 1)"
   ]
  },
  {
   "cell_type": "code",
   "execution_count": 20,
   "id": "44c0e639",
   "metadata": {},
   "outputs": [
    {
     "data": {
      "text/plain": [
       "((1600, 7), (400, 7), (2000, 7))"
      ]
     },
     "execution_count": 20,
     "metadata": {},
     "output_type": "execute_result"
    }
   ],
   "source": [
    "X_train.shape , X_test.shape ,X.shape"
   ]
  },
  {
   "cell_type": "code",
   "execution_count": 21,
   "id": "c083ce01",
   "metadata": {},
   "outputs": [
    {
     "data": {
      "text/plain": [
       "((1600,), (400,), (2000,))"
      ]
     },
     "execution_count": 21,
     "metadata": {},
     "output_type": "execute_result"
    }
   ],
   "source": [
    "y_train.shape , y_test.shape ,y.shape"
   ]
  },
  {
   "cell_type": "code",
   "execution_count": 22,
   "id": "6f13fa00",
   "metadata": {},
   "outputs": [
    {
     "data": {
      "text/html": [
       "<div>\n",
       "<style scoped>\n",
       "    .dataframe tbody tr th:only-of-type {\n",
       "        vertical-align: middle;\n",
       "    }\n",
       "\n",
       "    .dataframe tbody tr th {\n",
       "        vertical-align: top;\n",
       "    }\n",
       "\n",
       "    .dataframe thead th {\n",
       "        text-align: right;\n",
       "    }\n",
       "</style>\n",
       "<table border=\"1\" class=\"dataframe\">\n",
       "  <thead>\n",
       "    <tr style=\"text-align: right;\">\n",
       "      <th></th>\n",
       "      <th>Wifi1</th>\n",
       "      <th>Wifi2</th>\n",
       "      <th>Wifi3</th>\n",
       "      <th>Wifi4</th>\n",
       "      <th>Wifi5</th>\n",
       "      <th>Wifi6</th>\n",
       "      <th>Wifi7</th>\n",
       "    </tr>\n",
       "  </thead>\n",
       "  <tbody>\n",
       "    <tr>\n",
       "      <th>0</th>\n",
       "      <td>-64.0</td>\n",
       "      <td>-56</td>\n",
       "      <td>-61</td>\n",
       "      <td>-66.0</td>\n",
       "      <td>-71</td>\n",
       "      <td>-82</td>\n",
       "      <td>-81.0</td>\n",
       "    </tr>\n",
       "    <tr>\n",
       "      <th>816</th>\n",
       "      <td>-38.0</td>\n",
       "      <td>-57</td>\n",
       "      <td>-50</td>\n",
       "      <td>-38.0</td>\n",
       "      <td>-60</td>\n",
       "      <td>-74</td>\n",
       "      <td>-69.0</td>\n",
       "    </tr>\n",
       "    <tr>\n",
       "      <th>790</th>\n",
       "      <td>-36.0</td>\n",
       "      <td>-57</td>\n",
       "      <td>-52</td>\n",
       "      <td>-40.0</td>\n",
       "      <td>-66</td>\n",
       "      <td>-75</td>\n",
       "      <td>-75.0</td>\n",
       "    </tr>\n",
       "    <tr>\n",
       "      <th>361</th>\n",
       "      <td>-67.0</td>\n",
       "      <td>-61</td>\n",
       "      <td>-63</td>\n",
       "      <td>-65.0</td>\n",
       "      <td>-71</td>\n",
       "      <td>-81</td>\n",
       "      <td>-87.0</td>\n",
       "    </tr>\n",
       "    <tr>\n",
       "      <th>592</th>\n",
       "      <td>-38.0</td>\n",
       "      <td>-63</td>\n",
       "      <td>-61</td>\n",
       "      <td>-43.0</td>\n",
       "      <td>-64</td>\n",
       "      <td>-76</td>\n",
       "      <td>-76.0</td>\n",
       "    </tr>\n",
       "  </tbody>\n",
       "</table>\n",
       "</div>"
      ],
      "text/plain": [
       "     Wifi1  Wifi2  Wifi3  Wifi4  Wifi5  Wifi6  Wifi7\n",
       "0    -64.0    -56    -61  -66.0    -71    -82  -81.0\n",
       "816  -38.0    -57    -50  -38.0    -60    -74  -69.0\n",
       "790  -36.0    -57    -52  -40.0    -66    -75  -75.0\n",
       "361  -67.0    -61    -63  -65.0    -71    -81  -87.0\n",
       "592  -38.0    -63    -61  -43.0    -64    -76  -76.0"
      ]
     },
     "execution_count": 22,
     "metadata": {},
     "output_type": "execute_result"
    }
   ],
   "source": [
    "X_train.head()"
   ]
  },
  {
   "cell_type": "code",
   "execution_count": 23,
   "id": "870e81e6",
   "metadata": {},
   "outputs": [
    {
     "data": {
      "text/html": [
       "<div>\n",
       "<style scoped>\n",
       "    .dataframe tbody tr th:only-of-type {\n",
       "        vertical-align: middle;\n",
       "    }\n",
       "\n",
       "    .dataframe tbody tr th {\n",
       "        vertical-align: top;\n",
       "    }\n",
       "\n",
       "    .dataframe thead th {\n",
       "        text-align: right;\n",
       "    }\n",
       "</style>\n",
       "<table border=\"1\" class=\"dataframe\">\n",
       "  <thead>\n",
       "    <tr style=\"text-align: right;\">\n",
       "      <th></th>\n",
       "      <th>Wifi1</th>\n",
       "      <th>Wifi2</th>\n",
       "      <th>Wifi3</th>\n",
       "      <th>Wifi4</th>\n",
       "      <th>Wifi5</th>\n",
       "      <th>Wifi6</th>\n",
       "      <th>Wifi7</th>\n",
       "    </tr>\n",
       "  </thead>\n",
       "  <tbody>\n",
       "    <tr>\n",
       "      <th>674</th>\n",
       "      <td>-39.0</td>\n",
       "      <td>-56</td>\n",
       "      <td>-53</td>\n",
       "      <td>-49.0</td>\n",
       "      <td>-70</td>\n",
       "      <td>-80</td>\n",
       "      <td>-75.0</td>\n",
       "    </tr>\n",
       "    <tr>\n",
       "      <th>1699</th>\n",
       "      <td>-62.0</td>\n",
       "      <td>-58</td>\n",
       "      <td>-49</td>\n",
       "      <td>-64.0</td>\n",
       "      <td>-42</td>\n",
       "      <td>-86</td>\n",
       "      <td>-89.0</td>\n",
       "    </tr>\n",
       "    <tr>\n",
       "      <th>1282</th>\n",
       "      <td>-53.0</td>\n",
       "      <td>-53</td>\n",
       "      <td>-50</td>\n",
       "      <td>-55.0</td>\n",
       "      <td>-59</td>\n",
       "      <td>-86</td>\n",
       "      <td>-81.0</td>\n",
       "    </tr>\n",
       "    <tr>\n",
       "      <th>1315</th>\n",
       "      <td>-47.0</td>\n",
       "      <td>-57</td>\n",
       "      <td>-57</td>\n",
       "      <td>-52.0</td>\n",
       "      <td>-62</td>\n",
       "      <td>-86</td>\n",
       "      <td>-84.0</td>\n",
       "    </tr>\n",
       "    <tr>\n",
       "      <th>1210</th>\n",
       "      <td>-49.0</td>\n",
       "      <td>-59</td>\n",
       "      <td>-57</td>\n",
       "      <td>-50.0</td>\n",
       "      <td>-72</td>\n",
       "      <td>-80</td>\n",
       "      <td>-91.0</td>\n",
       "    </tr>\n",
       "    <tr>\n",
       "      <th>...</th>\n",
       "      <td>...</td>\n",
       "      <td>...</td>\n",
       "      <td>...</td>\n",
       "      <td>...</td>\n",
       "      <td>...</td>\n",
       "      <td>...</td>\n",
       "      <td>...</td>\n",
       "    </tr>\n",
       "    <tr>\n",
       "      <th>400</th>\n",
       "      <td>-60.0</td>\n",
       "      <td>-54</td>\n",
       "      <td>-56</td>\n",
       "      <td>-64.0</td>\n",
       "      <td>-70</td>\n",
       "      <td>-78</td>\n",
       "      <td>-80.0</td>\n",
       "    </tr>\n",
       "    <tr>\n",
       "      <th>763</th>\n",
       "      <td>-39.0</td>\n",
       "      <td>-51</td>\n",
       "      <td>-57</td>\n",
       "      <td>-36.0</td>\n",
       "      <td>-64</td>\n",
       "      <td>-65</td>\n",
       "      <td>-71.0</td>\n",
       "    </tr>\n",
       "    <tr>\n",
       "      <th>385</th>\n",
       "      <td>-66.0</td>\n",
       "      <td>-57</td>\n",
       "      <td>-59</td>\n",
       "      <td>-64.0</td>\n",
       "      <td>-69</td>\n",
       "      <td>-82</td>\n",
       "      <td>-84.0</td>\n",
       "    </tr>\n",
       "    <tr>\n",
       "      <th>1667</th>\n",
       "      <td>-64.0</td>\n",
       "      <td>-57</td>\n",
       "      <td>-53</td>\n",
       "      <td>-61.0</td>\n",
       "      <td>-50</td>\n",
       "      <td>-86</td>\n",
       "      <td>-98.0</td>\n",
       "    </tr>\n",
       "    <tr>\n",
       "      <th>1820</th>\n",
       "      <td>-63.0</td>\n",
       "      <td>-56</td>\n",
       "      <td>-50</td>\n",
       "      <td>-56.0</td>\n",
       "      <td>-49</td>\n",
       "      <td>-89</td>\n",
       "      <td>-92.0</td>\n",
       "    </tr>\n",
       "  </tbody>\n",
       "</table>\n",
       "<p>400 rows × 7 columns</p>\n",
       "</div>"
      ],
      "text/plain": [
       "      Wifi1  Wifi2  Wifi3  Wifi4  Wifi5  Wifi6  Wifi7\n",
       "674   -39.0    -56    -53  -49.0    -70    -80  -75.0\n",
       "1699  -62.0    -58    -49  -64.0    -42    -86  -89.0\n",
       "1282  -53.0    -53    -50  -55.0    -59    -86  -81.0\n",
       "1315  -47.0    -57    -57  -52.0    -62    -86  -84.0\n",
       "1210  -49.0    -59    -57  -50.0    -72    -80  -91.0\n",
       "...     ...    ...    ...    ...    ...    ...    ...\n",
       "400   -60.0    -54    -56  -64.0    -70    -78  -80.0\n",
       "763   -39.0    -51    -57  -36.0    -64    -65  -71.0\n",
       "385   -66.0    -57    -59  -64.0    -69    -82  -84.0\n",
       "1667  -64.0    -57    -53  -61.0    -50    -86  -98.0\n",
       "1820  -63.0    -56    -50  -56.0    -49    -89  -92.0\n",
       "\n",
       "[400 rows x 7 columns]"
      ]
     },
     "execution_count": 23,
     "metadata": {},
     "output_type": "execute_result"
    }
   ],
   "source": [
    "X_test"
   ]
  },
  {
   "cell_type": "code",
   "execution_count": 24,
   "id": "9484f61c",
   "metadata": {},
   "outputs": [
    {
     "data": {
      "text/plain": [
       "0       1\n",
       "816     2\n",
       "790     2\n",
       "361     1\n",
       "592     2\n",
       "       ..\n",
       "1791    4\n",
       "1096    3\n",
       "1932    4\n",
       "235     1\n",
       "1061    3\n",
       "Name: Room, Length: 1600, dtype: int64"
      ]
     },
     "execution_count": 24,
     "metadata": {},
     "output_type": "execute_result"
    }
   ],
   "source": [
    "y_train"
   ]
  },
  {
   "cell_type": "code",
   "execution_count": 25,
   "id": "a7f73de8",
   "metadata": {},
   "outputs": [
    {
     "data": {
      "text/plain": [
       "674     2\n",
       "1699    4\n",
       "1282    3\n",
       "1315    3\n",
       "1210    3\n",
       "       ..\n",
       "400     1\n",
       "763     2\n",
       "385     1\n",
       "1667    4\n",
       "1820    4\n",
       "Name: Room, Length: 400, dtype: int64"
      ]
     },
     "execution_count": 25,
     "metadata": {},
     "output_type": "execute_result"
    }
   ],
   "source": [
    "y_test"
   ]
  },
  {
   "cell_type": "markdown",
   "id": "5780e59c",
   "metadata": {},
   "source": [
    "## Model Building :\n",
    "1. Model object creation\n",
    "2. Model fitting\n",
    "3. Model prediction\n",
    "4. Model Evaluation"
   ]
  },
  {
   "cell_type": "code",
   "execution_count": 26,
   "id": "387e6c45",
   "metadata": {},
   "outputs": [],
   "source": [
    "model = LinearRegression()"
   ]
  },
  {
   "cell_type": "code",
   "execution_count": 27,
   "id": "b533a729",
   "metadata": {},
   "outputs": [
    {
     "data": {
      "text/plain": [
       "LinearRegression()"
      ]
     },
     "execution_count": 27,
     "metadata": {},
     "output_type": "execute_result"
    }
   ],
   "source": [
    "model.fit(X_train,y_train)"
   ]
  },
  {
   "cell_type": "code",
   "execution_count": 28,
   "id": "b5a9919b",
   "metadata": {},
   "outputs": [
    {
     "data": {
      "text/plain": [
       "0.7790913236924786"
      ]
     },
     "execution_count": 28,
     "metadata": {},
     "output_type": "execute_result"
    }
   ],
   "source": [
    "model.score(X_test,y_test)"
   ]
  },
  {
   "cell_type": "code",
   "execution_count": 29,
   "id": "691da2d6",
   "metadata": {},
   "outputs": [],
   "source": [
    "y_pred = model.predict(X_test)"
   ]
  },
  {
   "cell_type": "code",
   "execution_count": 30,
   "id": "3a19e49e",
   "metadata": {},
   "outputs": [
    {
     "data": {
      "text/plain": [
       "array([ 2.2628962 ,  4.3650856 ,  3.16738203,  2.92579937,  2.1623332 ,\n",
       "        3.4668961 ,  1.65484025,  0.53246514,  2.54581557,  2.12054518,\n",
       "        3.1909548 ,  2.80450646,  3.88314072,  2.63070401,  1.48089983,\n",
       "        3.85249725,  2.03803391,  2.82280616,  1.44118085,  2.79730392,\n",
       "        1.47340753,  3.32359878,  4.3340013 ,  2.69023485,  1.82866797,\n",
       "        1.55252199,  3.24915606,  1.6689704 ,  2.51930417,  1.58323804,\n",
       "        3.79023909,  2.25185651,  3.98493147,  2.34589311,  2.54778453,\n",
       "        2.43370021,  2.58678602,  1.24568412,  1.51939138,  3.65042428,\n",
       "        1.60245326,  1.46753941,  2.88920879,  2.50025434,  2.88844954,\n",
       "        3.50001653,  1.89257835,  3.66767603,  3.49611428,  4.84071668,\n",
       "        4.00448577,  2.67300611,  2.91444571,  1.97551725,  2.66396101,\n",
       "        2.60226144,  1.19909161,  2.70224715,  4.18168223,  2.30472253,\n",
       "        2.30275734,  1.31781698,  2.87845176,  3.27895523,  3.22937624,\n",
       "        1.51549802,  2.93897497,  1.18991704,  2.98157188,  3.10254934,\n",
       "        3.84935258,  3.57317308,  3.76829006,  3.88023621,  2.62282744,\n",
       "        2.69493282,  2.98084075,  2.40128329,  2.38286787,  1.44218671,\n",
       "        1.61687508,  1.67363085,  0.8186752 ,  1.1212147 ,  2.92508868,\n",
       "        2.1065915 ,  1.99150687,  0.85037083,  2.17052526,  0.95346256,\n",
       "        1.25943164,  1.75731251,  1.55109241,  3.96705362,  4.06700364,\n",
       "        2.45333533,  2.98564312,  2.83301151,  2.32909521,  0.19761665,\n",
       "        3.03063902,  1.31572342,  2.35901378,  0.67659907,  2.3417986 ,\n",
       "        3.47085893,  4.14059394,  3.1219436 ,  2.20797736,  2.16364399,\n",
       "        2.62633125,  1.76205728,  3.04630752,  3.96698703,  1.75329543,\n",
       "        2.18423913,  2.1120426 ,  2.55803887,  3.07855349,  3.24831316,\n",
       "        2.65922839,  2.41575501,  3.33388255,  2.88105632,  2.3703577 ,\n",
       "        3.2015609 ,  3.2301285 ,  2.33290213,  4.14123318,  2.17053642,\n",
       "        2.82847455,  2.18990756,  1.91332836,  1.92751642,  2.61255301,\n",
       "        2.58249932,  4.35249022,  1.79149132,  4.05191189,  1.8973452 ,\n",
       "        2.95362058,  1.62118995,  3.5355326 ,  2.87509454,  0.91339871,\n",
       "        2.71834844,  2.48547829,  4.20601889,  2.6595609 ,  3.32268872,\n",
       "        1.16961128,  2.0321846 ,  4.18830457,  2.79774802,  1.75667597,\n",
       "        3.68764632,  3.07829681,  4.00690191,  1.42028679,  2.69536339,\n",
       "        2.85327275,  3.46287803,  2.59328161,  0.5652726 ,  0.97464424,\n",
       "        3.1903674 ,  1.13439378,  2.04623556,  2.11016996,  2.0431046 ,\n",
       "        2.46584835,  2.35912555,  1.22317138,  3.533975  ,  1.05614235,\n",
       "        2.00926215,  2.27270531,  2.13940553,  2.18533463,  2.65977903,\n",
       "        1.68042706,  3.80932258,  1.42325802,  3.99304075,  3.09909195,\n",
       "        3.6426211 ,  2.44167168,  3.5594583 ,  1.47041912,  0.65192908,\n",
       "        1.31041695,  3.19173969,  2.94977393,  3.4103419 ,  1.73949665,\n",
       "        1.86841969,  1.8092798 ,  1.30370077,  2.67470031,  2.40027692,\n",
       "        0.76722407,  2.617292  ,  3.26739966,  3.22181468,  4.31241921,\n",
       "        2.27135064,  2.83204057,  3.64734391,  2.65329122,  2.78573946,\n",
       "        3.40618828,  3.71162543,  1.90280802,  1.85072612,  1.98983033,\n",
       "        1.64179078,  2.32079872,  0.25068281,  4.84526638,  1.73934216,\n",
       "        2.61552382,  3.26279377,  3.16661719, -0.22054494,  3.9592418 ,\n",
       "        0.36816011,  1.03060981,  2.88437578,  1.23804624,  3.04168376,\n",
       "        2.61528979,  3.31617391,  4.27558943,  2.10757087,  1.61432192,\n",
       "        3.05371419,  2.08679993,  2.69678885,  2.50215861,  3.93193666,\n",
       "        3.52932735,  1.00228859,  1.89669243,  3.58892573,  1.16100412,\n",
       "        1.61214759,  3.00791954,  2.06692901,  3.9936155 ,  3.38142817,\n",
       "        2.20464017,  1.47073613,  3.18181816,  3.70577701,  3.52613734,\n",
       "        2.50619332,  2.50548585,  3.53394278,  1.65172361,  2.36426969,\n",
       "        2.98795278,  3.28395096,  1.71440111,  3.92842969,  3.4316395 ,\n",
       "        3.14527639,  0.83826127,  3.13676672,  2.24227057,  2.6197549 ,\n",
       "        1.5970533 ,  2.46254569,  2.35191737,  2.05178499,  2.42635073,\n",
       "        2.11174177,  0.75597607,  3.6672684 ,  1.19205371,  3.14522635,\n",
       "        2.25275729,  3.36064742,  2.7645037 ,  4.40420801,  3.59812261,\n",
       "        2.30083621,  4.39877817,  1.23766163,  2.60214499,  3.32617227,\n",
       "        3.41110735,  1.38213112,  3.76877978,  2.31601168,  4.20532729,\n",
       "        1.01368438,  1.86997972,  1.63730521,  2.92608223,  1.36527724,\n",
       "        1.62370005,  3.30467621,  3.37660359,  4.03188911,  2.6803436 ,\n",
       "        3.12527282,  3.33967921,  2.6461912 ,  3.7986626 ,  2.87217187,\n",
       "        3.68064678,  1.64634535,  1.44440345,  3.65489452,  2.8872299 ,\n",
       "        0.37182303,  2.86320137,  2.73422284,  1.2171002 ,  2.59426829,\n",
       "        3.48893739,  0.91266073,  2.05408378,  3.86047536,  3.75399125,\n",
       "        3.82371288,  1.39635588,  3.69731991,  1.64972832,  2.94865931,\n",
       "        0.96895638,  4.66365845,  3.19076857,  1.08504487,  3.18564642,\n",
       "        1.54884745,  2.3597311 ,  1.63586599,  2.68370866,  0.99416782,\n",
       "        1.70125491,  1.20968551,  2.6058265 ,  3.63352748,  4.29251351,\n",
       "        1.47490228,  2.68869889,  0.84846499,  2.51061257,  3.15617482,\n",
       "        2.22082801,  1.53112541,  4.0897679 ,  1.59676988,  1.27418886,\n",
       "        1.56401508,  3.19823888,  2.02798164,  1.50084055,  3.23111586,\n",
       "        1.81170478,  1.56200125,  2.53003487,  3.47982697,  3.30006402,\n",
       "        1.62324076,  2.41802932,  3.81983124,  2.28532729,  2.04696822,\n",
       "        2.9656778 ,  3.6922812 ,  1.50803561,  2.15998292,  3.81668494,\n",
       "        1.50567448,  4.01062956,  2.70210677,  3.92628771,  2.01846782,\n",
       "        0.65714512,  1.63328389,  1.36035023,  3.63546198,  0.47801356,\n",
       "        3.08336299,  4.08266496,  1.13734   ,  3.56484623,  3.93719762,\n",
       "        2.07529227,  2.40527125,  1.24445486,  3.85253839,  2.73449519,\n",
       "        1.34598792,  1.95865206,  1.46603139,  3.83136346,  4.1423862 ])"
      ]
     },
     "execution_count": 30,
     "metadata": {},
     "output_type": "execute_result"
    }
   ],
   "source": [
    "y_pred"
   ]
  },
  {
   "cell_type": "code",
   "execution_count": 31,
   "id": "5a48f39f",
   "metadata": {},
   "outputs": [
    {
     "data": {
      "text/plain": [
       "674     2\n",
       "1699    4\n",
       "1282    3\n",
       "1315    3\n",
       "1210    3\n",
       "       ..\n",
       "400     1\n",
       "763     2\n",
       "385     1\n",
       "1667    4\n",
       "1820    4\n",
       "Name: Room, Length: 400, dtype: int64"
      ]
     },
     "execution_count": 31,
     "metadata": {},
     "output_type": "execute_result"
    }
   ],
   "source": [
    "y_test"
   ]
  },
  {
   "cell_type": "code",
   "execution_count": 32,
   "id": "6de7e8ca",
   "metadata": {},
   "outputs": [
    {
     "data": {
      "text/plain": [
       "0.7790913236924786"
      ]
     },
     "execution_count": 32,
     "metadata": {},
     "output_type": "execute_result"
    }
   ],
   "source": [
    "\"\"\" A statistical measure of fit that indicates \n",
    "    how much variation of a dependent variable is explained by the \n",
    "    independent variable(s) in a regression model\"\"\".\n",
    "\n",
    "\n",
    "r2_score(y_test,y_pred) #coefficient of determination (1-RSS/TSS)"
   ]
  },
  {
   "cell_type": "code",
   "execution_count": 33,
   "id": "a59db37c",
   "metadata": {},
   "outputs": [
    {
     "data": {
      "text/plain": [
       "0.2736934238319768"
      ]
     },
     "execution_count": 33,
     "metadata": {},
     "output_type": "execute_result"
    }
   ],
   "source": [
    "\"\"\"measures how close a regression line is to a set of data points\"\"\"\n",
    "\n",
    "mean_squared_error(y_test,y_pred) #MSE = (1/n) * Σ(actual – forecast)2"
   ]
  },
  {
   "cell_type": "markdown",
   "id": "74842b77",
   "metadata": {},
   "source": [
    "## Assumptions\n",
    "1. Linear Relationship - Linear Regression needs linear relationship b/w independent variable(x) and dependent variable(y).\n",
    "2. Normality : Linear Regression requires all the variables to be normally distributed. The error term also should be normally distributed. There should be no outliers in the data because linear regression is very sensitive to outliers.\n",
    "3. Multi-collinearity - There should be very little or no multi-collinearity in the data. Multi-collinearity happens when the independent variables are too highly correlated with each other. There are different methods to measure multi-collinearity . They are as follows :"
   ]
  },
  {
   "cell_type": "markdown",
   "id": "987db591",
   "metadata": {},
   "source": [
    "## After Doing Standardization"
   ]
  },
  {
   "cell_type": "code",
   "execution_count": 56,
   "id": "0524959a",
   "metadata": {},
   "outputs": [],
   "source": [
    "from sklearn.preprocessing import StandardScaler"
   ]
  },
  {
   "cell_type": "code",
   "execution_count": 57,
   "id": "e61f7c29",
   "metadata": {},
   "outputs": [],
   "source": [
    "ss = StandardScaler()"
   ]
  },
  {
   "cell_type": "code",
   "execution_count": 58,
   "id": "8e379764",
   "metadata": {},
   "outputs": [
    {
     "data": {
      "text/plain": [
       "StandardScaler()"
      ]
     },
     "execution_count": 58,
     "metadata": {},
     "output_type": "execute_result"
    }
   ],
   "source": [
    "ss.fit(X_train)"
   ]
  },
  {
   "cell_type": "code",
   "execution_count": 59,
   "id": "1e6f46e4",
   "metadata": {},
   "outputs": [],
   "source": [
    "Xtrain_ss = ss.transform(X_train)"
   ]
  },
  {
   "cell_type": "code",
   "execution_count": 60,
   "id": "3d02b705",
   "metadata": {},
   "outputs": [],
   "source": [
    "Xtest_ss = ss.transform(X_test)"
   ]
  },
  {
   "cell_type": "code",
   "execution_count": 61,
   "id": "08b93cad",
   "metadata": {},
   "outputs": [],
   "source": [
    "model1 = LinearRegression()"
   ]
  },
  {
   "cell_type": "code",
   "execution_count": 62,
   "id": "4993c5a6",
   "metadata": {},
   "outputs": [
    {
     "data": {
      "text/plain": [
       "LinearRegression()"
      ]
     },
     "execution_count": 62,
     "metadata": {},
     "output_type": "execute_result"
    }
   ],
   "source": [
    "model1.fit(Xtrain_ss,y_train)"
   ]
  },
  {
   "cell_type": "code",
   "execution_count": 63,
   "id": "c8f50bbb",
   "metadata": {},
   "outputs": [
    {
     "data": {
      "text/plain": [
       "0.7790913236924785"
      ]
     },
     "execution_count": 63,
     "metadata": {},
     "output_type": "execute_result"
    }
   ],
   "source": [
    "model1.score(Xtest_ss,y_test)"
   ]
  },
  {
   "cell_type": "code",
   "execution_count": 64,
   "id": "f42c323e",
   "metadata": {},
   "outputs": [],
   "source": [
    "y_pred_ss = model1.predict(Xtest_ss)"
   ]
  },
  {
   "cell_type": "code",
   "execution_count": 65,
   "id": "bed5835f",
   "metadata": {
    "scrolled": true
   },
   "outputs": [
    {
     "data": {
      "text/plain": [
       "array([ 2.2628962 ,  4.3650856 ,  3.16738203,  2.92579937,  2.1623332 ,\n",
       "        3.4668961 ,  1.65484025,  0.53246514,  2.54581557,  2.12054518,\n",
       "        3.1909548 ,  2.80450646,  3.88314072,  2.63070401,  1.48089983,\n",
       "        3.85249725,  2.03803391,  2.82280616,  1.44118085,  2.79730392,\n",
       "        1.47340753,  3.32359878,  4.3340013 ,  2.69023485,  1.82866797,\n",
       "        1.55252199,  3.24915606,  1.6689704 ,  2.51930417,  1.58323804,\n",
       "        3.79023909,  2.25185651,  3.98493147,  2.34589311,  2.54778453,\n",
       "        2.43370021,  2.58678602,  1.24568412,  1.51939138,  3.65042428,\n",
       "        1.60245326,  1.46753941,  2.88920879,  2.50025434,  2.88844954,\n",
       "        3.50001653,  1.89257835,  3.66767603,  3.49611428,  4.84071668,\n",
       "        4.00448577,  2.67300611,  2.91444571,  1.97551725,  2.66396101,\n",
       "        2.60226144,  1.19909161,  2.70224715,  4.18168223,  2.30472253,\n",
       "        2.30275734,  1.31781698,  2.87845176,  3.27895523,  3.22937624,\n",
       "        1.51549802,  2.93897497,  1.18991704,  2.98157188,  3.10254934,\n",
       "        3.84935258,  3.57317308,  3.76829006,  3.88023621,  2.62282744,\n",
       "        2.69493282,  2.98084075,  2.40128329,  2.38286787,  1.44218671,\n",
       "        1.61687508,  1.67363085,  0.8186752 ,  1.1212147 ,  2.92508868,\n",
       "        2.1065915 ,  1.99150687,  0.85037083,  2.17052526,  0.95346256,\n",
       "        1.25943164,  1.75731251,  1.55109241,  3.96705362,  4.06700364,\n",
       "        2.45333533,  2.98564312,  2.83301151,  2.32909521,  0.19761665,\n",
       "        3.03063902,  1.31572342,  2.35901378,  0.67659907,  2.3417986 ,\n",
       "        3.47085893,  4.14059394,  3.1219436 ,  2.20797736,  2.16364399,\n",
       "        2.62633125,  1.76205728,  3.04630752,  3.96698703,  1.75329543,\n",
       "        2.18423913,  2.1120426 ,  2.55803887,  3.07855349,  3.24831316,\n",
       "        2.65922839,  2.41575501,  3.33388255,  2.88105632,  2.3703577 ,\n",
       "        3.2015609 ,  3.2301285 ,  2.33290213,  4.14123318,  2.17053642,\n",
       "        2.82847455,  2.18990756,  1.91332836,  1.92751642,  2.61255301,\n",
       "        2.58249932,  4.35249022,  1.79149132,  4.05191189,  1.8973452 ,\n",
       "        2.95362058,  1.62118995,  3.5355326 ,  2.87509454,  0.91339871,\n",
       "        2.71834844,  2.48547829,  4.20601889,  2.6595609 ,  3.32268872,\n",
       "        1.16961128,  2.0321846 ,  4.18830457,  2.79774802,  1.75667597,\n",
       "        3.68764632,  3.07829681,  4.00690191,  1.42028679,  2.69536339,\n",
       "        2.85327275,  3.46287803,  2.59328161,  0.5652726 ,  0.97464424,\n",
       "        3.1903674 ,  1.13439378,  2.04623556,  2.11016996,  2.0431046 ,\n",
       "        2.46584835,  2.35912555,  1.22317138,  3.533975  ,  1.05614235,\n",
       "        2.00926215,  2.27270531,  2.13940553,  2.18533463,  2.65977903,\n",
       "        1.68042706,  3.80932258,  1.42325802,  3.99304075,  3.09909195,\n",
       "        3.6426211 ,  2.44167168,  3.5594583 ,  1.47041912,  0.65192908,\n",
       "        1.31041695,  3.19173969,  2.94977393,  3.4103419 ,  1.73949665,\n",
       "        1.86841969,  1.8092798 ,  1.30370077,  2.67470031,  2.40027692,\n",
       "        0.76722407,  2.617292  ,  3.26739966,  3.22181468,  4.31241921,\n",
       "        2.27135064,  2.83204057,  3.64734391,  2.65329122,  2.78573946,\n",
       "        3.40618828,  3.71162543,  1.90280802,  1.85072612,  1.98983033,\n",
       "        1.64179078,  2.32079872,  0.25068281,  4.84526638,  1.73934216,\n",
       "        2.61552382,  3.26279377,  3.16661719, -0.22054494,  3.9592418 ,\n",
       "        0.36816011,  1.03060981,  2.88437578,  1.23804624,  3.04168376,\n",
       "        2.61528979,  3.31617391,  4.27558943,  2.10757087,  1.61432192,\n",
       "        3.05371419,  2.08679993,  2.69678885,  2.50215861,  3.93193666,\n",
       "        3.52932735,  1.00228859,  1.89669243,  3.58892573,  1.16100412,\n",
       "        1.61214759,  3.00791954,  2.06692901,  3.9936155 ,  3.38142817,\n",
       "        2.20464017,  1.47073613,  3.18181816,  3.70577701,  3.52613734,\n",
       "        2.50619332,  2.50548585,  3.53394278,  1.65172361,  2.36426969,\n",
       "        2.98795278,  3.28395096,  1.71440111,  3.92842969,  3.4316395 ,\n",
       "        3.14527639,  0.83826127,  3.13676672,  2.24227057,  2.6197549 ,\n",
       "        1.5970533 ,  2.46254569,  2.35191737,  2.05178499,  2.42635073,\n",
       "        2.11174177,  0.75597607,  3.6672684 ,  1.19205371,  3.14522635,\n",
       "        2.25275729,  3.36064742,  2.7645037 ,  4.40420801,  3.59812261,\n",
       "        2.30083621,  4.39877817,  1.23766163,  2.60214499,  3.32617227,\n",
       "        3.41110735,  1.38213112,  3.76877978,  2.31601168,  4.20532729,\n",
       "        1.01368438,  1.86997972,  1.63730521,  2.92608223,  1.36527724,\n",
       "        1.62370005,  3.30467621,  3.37660359,  4.03188911,  2.6803436 ,\n",
       "        3.12527282,  3.33967921,  2.6461912 ,  3.7986626 ,  2.87217187,\n",
       "        3.68064678,  1.64634535,  1.44440345,  3.65489452,  2.8872299 ,\n",
       "        0.37182303,  2.86320137,  2.73422284,  1.2171002 ,  2.59426829,\n",
       "        3.48893739,  0.91266073,  2.05408378,  3.86047536,  3.75399125,\n",
       "        3.82371288,  1.39635588,  3.69731991,  1.64972832,  2.94865931,\n",
       "        0.96895638,  4.66365845,  3.19076857,  1.08504487,  3.18564642,\n",
       "        1.54884745,  2.3597311 ,  1.63586599,  2.68370866,  0.99416782,\n",
       "        1.70125491,  1.20968551,  2.6058265 ,  3.63352748,  4.29251351,\n",
       "        1.47490228,  2.68869889,  0.84846499,  2.51061257,  3.15617482,\n",
       "        2.22082801,  1.53112541,  4.0897679 ,  1.59676988,  1.27418886,\n",
       "        1.56401508,  3.19823888,  2.02798164,  1.50084055,  3.23111586,\n",
       "        1.81170478,  1.56200125,  2.53003487,  3.47982697,  3.30006402,\n",
       "        1.62324076,  2.41802932,  3.81983124,  2.28532729,  2.04696822,\n",
       "        2.9656778 ,  3.6922812 ,  1.50803561,  2.15998292,  3.81668494,\n",
       "        1.50567448,  4.01062956,  2.70210677,  3.92628771,  2.01846782,\n",
       "        0.65714512,  1.63328389,  1.36035023,  3.63546198,  0.47801356,\n",
       "        3.08336299,  4.08266496,  1.13734   ,  3.56484623,  3.93719762,\n",
       "        2.07529227,  2.40527125,  1.24445486,  3.85253839,  2.73449519,\n",
       "        1.34598792,  1.95865206,  1.46603139,  3.83136346,  4.1423862 ])"
      ]
     },
     "execution_count": 65,
     "metadata": {},
     "output_type": "execute_result"
    }
   ],
   "source": [
    "y_pred_ss"
   ]
  },
  {
   "cell_type": "code",
   "execution_count": null,
   "id": "0563e079",
   "metadata": {},
   "outputs": [],
   "source": []
  }
 ],
 "metadata": {
  "kernelspec": {
   "display_name": "Python 3 (ipykernel)",
   "language": "python",
   "name": "python3"
  },
  "language_info": {
   "codemirror_mode": {
    "name": "ipython",
    "version": 3
   },
   "file_extension": ".py",
   "mimetype": "text/x-python",
   "name": "python",
   "nbconvert_exporter": "python",
   "pygments_lexer": "ipython3",
   "version": "3.9.13"
  }
 },
 "nbformat": 4,
 "nbformat_minor": 5
}
