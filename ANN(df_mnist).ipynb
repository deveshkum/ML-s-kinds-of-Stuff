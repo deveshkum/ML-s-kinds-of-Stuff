{
 "cells": [
  {
   "cell_type": "code",
   "execution_count": 1,
   "id": "3b74d133",
   "metadata": {},
   "outputs": [],
   "source": [
    "import numpy as np\n",
    "import pandas as pd\n",
    "import tensorflow as tf"
   ]
  },
  {
   "cell_type": "code",
   "execution_count": 2,
   "id": "d332fcd1",
   "metadata": {},
   "outputs": [],
   "source": [
    "from tensorflow.keras.models import Sequential\n",
    "from tensorflow.keras.layers import Dense, Flatten"
   ]
  },
  {
   "cell_type": "code",
   "execution_count": 3,
   "id": "1b35c3ce",
   "metadata": {},
   "outputs": [],
   "source": [
    "m = Sequential()"
   ]
  },
  {
   "cell_type": "code",
   "execution_count": 4,
   "id": "12eaf6cc",
   "metadata": {},
   "outputs": [],
   "source": [
    "m.add(Flatten(input_shape = (28,28)))"
   ]
  },
  {
   "cell_type": "code",
   "execution_count": 5,
   "id": "303d2c1c",
   "metadata": {},
   "outputs": [
    {
     "name": "stderr",
     "output_type": "stream",
     "text": [
      "2022-04-27 19:51:49.209968: I tensorflow/core/platform/cpu_feature_guard.cc:145] This TensorFlow binary is optimized with Intel(R) MKL-DNN to use the following CPU instructions in performance critical operations:  SSE4.1 SSE4.2\n",
      "To enable them in non-MKL-DNN operations, rebuild TensorFlow with the appropriate compiler flags.\n",
      "2022-04-27 19:51:49.211208: I tensorflow/core/common_runtime/process_util.cc:115] Creating new thread pool with default inter op setting: 8. Tune using inter_op_parallelism_threads for best performance.\n"
     ]
    }
   ],
   "source": [
    "m.add(Dense(120,activation='relu'))"
   ]
  },
  {
   "cell_type": "code",
   "execution_count": 6,
   "id": "6e72e4bc",
   "metadata": {},
   "outputs": [],
   "source": [
    "m.add(Dense(120,activation='relu'))"
   ]
  },
  {
   "cell_type": "code",
   "execution_count": 7,
   "id": "4e604c11",
   "metadata": {},
   "outputs": [],
   "source": [
    "m.add(Dense(10,activation='softmax'))"
   ]
  },
  {
   "cell_type": "code",
   "execution_count": 8,
   "id": "bfe917fa",
   "metadata": {},
   "outputs": [
    {
     "name": "stdout",
     "output_type": "stream",
     "text": [
      "Model: \"sequential\"\n",
      "_________________________________________________________________\n",
      "Layer (type)                 Output Shape              Param #   \n",
      "=================================================================\n",
      "flatten (Flatten)            (None, 784)               0         \n",
      "_________________________________________________________________\n",
      "dense (Dense)                (None, 120)               94200     \n",
      "_________________________________________________________________\n",
      "dense_1 (Dense)              (None, 120)               14520     \n",
      "_________________________________________________________________\n",
      "dense_2 (Dense)              (None, 10)                1210      \n",
      "=================================================================\n",
      "Total params: 109,930\n",
      "Trainable params: 109,930\n",
      "Non-trainable params: 0\n",
      "_________________________________________________________________\n"
     ]
    }
   ],
   "source": [
    "m.summary() ### ANN with 2 layers"
   ]
  },
  {
   "cell_type": "code",
   "execution_count": 9,
   "id": "5d5850f4",
   "metadata": {},
   "outputs": [],
   "source": [
    "m.compile(optimizer='Adam',\n",
    "    loss='sparse_categorical_crossentropy',\n",
    "    metrics=['acc'])"
   ]
  },
  {
   "cell_type": "code",
   "execution_count": 10,
   "id": "b2f06670",
   "metadata": {},
   "outputs": [],
   "source": [
    "from tensorflow.keras.datasets import mnist"
   ]
  },
  {
   "cell_type": "code",
   "execution_count": 11,
   "id": "a12e91fa",
   "metadata": {},
   "outputs": [],
   "source": [
    "(Xtrain,ytrain),(Xtest,ytest) = mnist.load_data()"
   ]
  },
  {
   "cell_type": "code",
   "execution_count": 12,
   "id": "e30af9a0",
   "metadata": {},
   "outputs": [
    {
     "data": {
      "text/plain": [
       "((60000, 28, 28), (60000,))"
      ]
     },
     "execution_count": 12,
     "metadata": {},
     "output_type": "execute_result"
    }
   ],
   "source": [
    "Xtrain.shape , ytrain.shape"
   ]
  },
  {
   "cell_type": "code",
   "execution_count": 13,
   "id": "a51bdaa5",
   "metadata": {},
   "outputs": [
    {
     "data": {
      "text/plain": [
       "((10000, 28, 28), (10000,))"
      ]
     },
     "execution_count": 13,
     "metadata": {},
     "output_type": "execute_result"
    }
   ],
   "source": [
    "Xtest.shape , ytest.shape"
   ]
  },
  {
   "cell_type": "code",
   "execution_count": 14,
   "id": "932f3e98",
   "metadata": {},
   "outputs": [
    {
     "name": "stdout",
     "output_type": "stream",
     "text": [
      "Train on 60000 samples\n",
      "60000/60000 [==============================] - 8s 135us/sample - loss: 1.6106 - acc: 0.8808\n"
     ]
    },
    {
     "data": {
      "text/plain": [
       "<tensorflow.python.keras.callbacks.History at 0x7fc2e8f01a90>"
      ]
     },
     "execution_count": 14,
     "metadata": {},
     "output_type": "execute_result"
    }
   ],
   "source": [
    "m.fit(Xtrain,ytrain)"
   ]
  },
  {
   "cell_type": "code",
   "execution_count": 15,
   "id": "b3de823c",
   "metadata": {},
   "outputs": [
    {
     "name": "stdout",
     "output_type": "stream",
     "text": [
      "Model: \"sequential_1\"\n",
      "_________________________________________________________________\n",
      "Layer (type)                 Output Shape              Param #   \n",
      "=================================================================\n",
      "flatten_1 (Flatten)          (None, 784)               0         \n",
      "_________________________________________________________________\n",
      "dense_3 (Dense)              (None, 320)               251200    \n",
      "_________________________________________________________________\n",
      "dense_4 (Dense)              (None, 220)               70620     \n",
      "_________________________________________________________________\n",
      "dense_5 (Dense)              (None, 320)               70720     \n",
      "_________________________________________________________________\n",
      "dense_6 (Dense)              (None, 10)                3210      \n",
      "=================================================================\n",
      "Total params: 395,750\n",
      "Trainable params: 395,750\n",
      "Non-trainable params: 0\n",
      "_________________________________________________________________\n"
     ]
    }
   ],
   "source": [
    "m1 = Sequential()\n",
    "m1.add(Flatten(input_shape = (28,28)))\n",
    "m1.add(Dense(320,activation='relu'))\n",
    "m1.add(Dense(220,activation='relu'))\n",
    "m1.add(Dense(320,activation='relu'))\n",
    "m1.add(Dense(10,activation='softmax'))\n",
    "m1.summary() ### ANN with 3 layers but 3 different dense \n",
    "m1.compile(optimizer='Adam',\n",
    "    loss='sparse_categorical_crossentropy',\n",
    "    metrics=['acc']) "
   ]
  },
  {
   "cell_type": "code",
   "execution_count": 17,
   "id": "ff9b31cc",
   "metadata": {
    "scrolled": true
   },
   "outputs": [
    {
     "name": "stdout",
     "output_type": "stream",
     "text": [
      "Train on 60000 samples\n",
      "Epoch 1/20\n",
      "60000/60000 [==============================] - 16s 270us/sample - loss: 0.9009 - acc: 0.8917\n",
      "Epoch 2/20\n",
      "60000/60000 [==============================] - 15s 250us/sample - loss: 0.2200 - acc: 0.9415\n",
      "Epoch 3/20\n",
      "60000/60000 [==============================] - 15s 252us/sample - loss: 0.1606 - acc: 0.9556\n",
      "Epoch 4/20\n",
      "60000/60000 [==============================] - 15s 252us/sample - loss: 0.1299 - acc: 0.9629\n",
      "Epoch 5/20\n",
      "60000/60000 [==============================] - 15s 251us/sample - loss: 0.1141 - acc: 0.9683\n",
      "Epoch 6/20\n",
      "60000/60000 [==============================] - 18s 292us/sample - loss: 0.1004 - acc: 0.9726\n",
      "Epoch 7/20\n",
      "60000/60000 [==============================] - 15s 248us/sample - loss: 0.0890 - acc: 0.9755\n",
      "Epoch 8/20\n",
      "60000/60000 [==============================] - 15s 255us/sample - loss: 0.0832 - acc: 0.9773\n",
      "Epoch 9/20\n",
      "60000/60000 [==============================] - 15s 250us/sample - loss: 0.0728 - acc: 0.9809\n",
      "Epoch 10/20\n",
      "60000/60000 [==============================] - 15s 247us/sample - loss: 0.0701 - acc: 0.9820\n",
      "Epoch 11/20\n",
      "60000/60000 [==============================] - 15s 251us/sample - loss: 0.0636 - acc: 0.9839\n",
      "Epoch 12/20\n",
      "60000/60000 [==============================] - 15s 250us/sample - loss: 0.0646 - acc: 0.9833\n",
      "Epoch 13/20\n",
      "60000/60000 [==============================] - 16s 268us/sample - loss: 0.0572 - acc: 0.9852\n",
      "Epoch 14/20\n",
      "60000/60000 [==============================] - 16s 265us/sample - loss: 0.0588 - acc: 0.9858\n",
      "Epoch 15/20\n",
      "60000/60000 [==============================] - 15s 256us/sample - loss: 0.0485 - acc: 0.9879\n",
      "Epoch 16/20\n",
      "60000/60000 [==============================] - 15s 254us/sample - loss: 0.0514 - acc: 0.9871\n",
      "Epoch 17/20\n",
      "60000/60000 [==============================] - 15s 256us/sample - loss: 0.0455 - acc: 0.9891\n",
      "Epoch 18/20\n",
      "60000/60000 [==============================] - 15s 258us/sample - loss: 0.0474 - acc: 0.9887\n",
      "Epoch 19/20\n",
      "60000/60000 [==============================] - 15s 255us/sample - loss: 0.0506 - acc: 0.9892\n",
      "Epoch 20/20\n",
      "60000/60000 [==============================] - 15s 255us/sample - loss: 0.0433 - acc: 0.9899\n"
     ]
    },
    {
     "data": {
      "text/plain": [
       "<tensorflow.python.keras.callbacks.History at 0x7fc2c02557d0>"
      ]
     },
     "execution_count": 17,
     "metadata": {},
     "output_type": "execute_result"
    }
   ],
   "source": [
    "m1.fit(Xtrain,ytrain,epochs = 20 )"
   ]
  },
  {
   "cell_type": "code",
   "execution_count": 18,
   "id": "593596e2",
   "metadata": {},
   "outputs": [],
   "source": [
    "Xtrain_s = Xtrain/255"
   ]
  },
  {
   "cell_type": "code",
   "execution_count": 19,
   "id": "5a245397",
   "metadata": {},
   "outputs": [],
   "source": [
    "Xtest_s = Xtest/255"
   ]
  },
  {
   "cell_type": "code",
   "execution_count": 34,
   "id": "7aee0864",
   "metadata": {},
   "outputs": [
    {
     "name": "stdout",
     "output_type": "stream",
     "text": [
      "Train on 60000 samples\n",
      "Epoch 1/10\n",
      "60000/60000 [==============================] - 14s 234us/sample - loss: 0.3298 - acc: 0.9671\n",
      "Epoch 2/10\n",
      "60000/60000 [==============================] - 14s 235us/sample - loss: 0.0155 - acc: 0.9950\n",
      "Epoch 3/10\n",
      "60000/60000 [==============================] - 14s 229us/sample - loss: 0.0122 - acc: 0.9961\n",
      "Epoch 4/10\n",
      "60000/60000 [==============================] - 14s 235us/sample - loss: 0.0112 - acc: 0.9969\n",
      "Epoch 5/10\n",
      "60000/60000 [==============================] - 14s 236us/sample - loss: 0.0082 - acc: 0.9979\n",
      "Epoch 6/10\n",
      "60000/60000 [==============================] - 14s 241us/sample - loss: 0.0099 - acc: 0.9973\n",
      "Epoch 7/10\n",
      "60000/60000 [==============================] - 14s 240us/sample - loss: 0.0073 - acc: 0.9979\n",
      "Epoch 8/10\n",
      "60000/60000 [==============================] - 14s 240us/sample - loss: 0.0082 - acc: 0.9981\n",
      "Epoch 9/10\n",
      "60000/60000 [==============================] - 15s 246us/sample - loss: 0.0056 - acc: 0.9984\n",
      "Epoch 10/10\n",
      "60000/60000 [==============================] - 15s 257us/sample - loss: 0.0077 - acc: 0.9979\n"
     ]
    },
    {
     "data": {
      "text/plain": [
       "<tensorflow.python.keras.callbacks.History at 0x7fc2c06de850>"
      ]
     },
     "execution_count": 34,
     "metadata": {},
     "output_type": "execute_result"
    }
   ],
   "source": [
    "m1.fit(Xtrain_s,ytrain,epochs = 10 )"
   ]
  },
  {
   "cell_type": "code",
   "execution_count": 39,
   "id": "a2c647db",
   "metadata": {},
   "outputs": [
    {
     "data": {
      "text/plain": [
       "array([7, 2, 1, ..., 4, 5, 6])"
      ]
     },
     "execution_count": 39,
     "metadata": {},
     "output_type": "execute_result"
    }
   ],
   "source": [
    "np.argmax(m1.predict(Xtest_s),axis=1)"
   ]
  },
  {
   "cell_type": "code",
   "execution_count": 36,
   "id": "23695db1",
   "metadata": {},
   "outputs": [],
   "source": [
    "from sklearn.metrics import accuracy_score"
   ]
  },
  {
   "cell_type": "code",
   "execution_count": 37,
   "id": "107c3b49",
   "metadata": {},
   "outputs": [
    {
     "data": {
      "text/plain": [
       "0.9803"
      ]
     },
     "execution_count": 37,
     "metadata": {},
     "output_type": "execute_result"
    }
   ],
   "source": [
    "accuracy_score(ytest,y_pred=np.argmax(m1.predict(Xtest_s),axis=1))"
   ]
  },
  {
   "cell_type": "markdown",
   "id": "266a9fd0",
   "metadata": {},
   "source": [
    "### OR"
   ]
  },
  {
   "cell_type": "code",
   "execution_count": 40,
   "id": "b637baf3",
   "metadata": {},
   "outputs": [],
   "source": [
    "ypred = np.argmax(m1.predict(Xtest_s),axis=1)"
   ]
  },
  {
   "cell_type": "code",
   "execution_count": 41,
   "id": "0296aff6",
   "metadata": {},
   "outputs": [
    {
     "data": {
      "text/plain": [
       "0.9803"
      ]
     },
     "execution_count": 41,
     "metadata": {},
     "output_type": "execute_result"
    }
   ],
   "source": [
    "accuracy_score(ytest,ypred)"
   ]
  },
  {
   "cell_type": "code",
   "execution_count": null,
   "id": "013239e8",
   "metadata": {},
   "outputs": [],
   "source": []
  }
 ],
 "metadata": {
  "kernelspec": {
   "display_name": "Python 3 (ipykernel)",
   "language": "python",
   "name": "python3"
  },
  "language_info": {
   "codemirror_mode": {
    "name": "ipython",
    "version": 3
   },
   "file_extension": ".py",
   "mimetype": "text/x-python",
   "name": "python",
   "nbconvert_exporter": "python",
   "pygments_lexer": "ipython3",
   "version": "3.7.13"
  }
 },
 "nbformat": 4,
 "nbformat_minor": 5
}
