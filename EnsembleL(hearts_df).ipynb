{
 "cells": [
  {
   "cell_type": "code",
   "execution_count": 172,
   "id": "ce7ac26f",
   "metadata": {},
   "outputs": [],
   "source": [
    "import numpy as np\n",
    "import pandas as pd"
   ]
  },
  {
   "cell_type": "code",
   "execution_count": 173,
   "id": "703acd59",
   "metadata": {},
   "outputs": [],
   "source": [
    "df = pd.read_csv(\"/Users/dev/Personal/DS & AI Class Notes/Data Sets/EL/heart.csv\")"
   ]
  },
  {
   "cell_type": "code",
   "execution_count": 174,
   "id": "6be06be8",
   "metadata": {},
   "outputs": [
    {
     "data": {
      "text/html": [
       "<div>\n",
       "<style scoped>\n",
       "    .dataframe tbody tr th:only-of-type {\n",
       "        vertical-align: middle;\n",
       "    }\n",
       "\n",
       "    .dataframe tbody tr th {\n",
       "        vertical-align: top;\n",
       "    }\n",
       "\n",
       "    .dataframe thead th {\n",
       "        text-align: right;\n",
       "    }\n",
       "</style>\n",
       "<table border=\"1\" class=\"dataframe\">\n",
       "  <thead>\n",
       "    <tr style=\"text-align: right;\">\n",
       "      <th></th>\n",
       "      <th>age</th>\n",
       "      <th>sex</th>\n",
       "      <th>cp</th>\n",
       "      <th>trestbps</th>\n",
       "      <th>chol</th>\n",
       "      <th>fbs</th>\n",
       "      <th>restecg</th>\n",
       "      <th>thalach</th>\n",
       "      <th>exang</th>\n",
       "      <th>oldpeak</th>\n",
       "      <th>slope</th>\n",
       "      <th>ca</th>\n",
       "      <th>thal</th>\n",
       "      <th>target</th>\n",
       "    </tr>\n",
       "  </thead>\n",
       "  <tbody>\n",
       "    <tr>\n",
       "      <th>0</th>\n",
       "      <td>52</td>\n",
       "      <td>1</td>\n",
       "      <td>0</td>\n",
       "      <td>125</td>\n",
       "      <td>212</td>\n",
       "      <td>0</td>\n",
       "      <td>1</td>\n",
       "      <td>168</td>\n",
       "      <td>0</td>\n",
       "      <td>1.0</td>\n",
       "      <td>2</td>\n",
       "      <td>2</td>\n",
       "      <td>3</td>\n",
       "      <td>0</td>\n",
       "    </tr>\n",
       "    <tr>\n",
       "      <th>1</th>\n",
       "      <td>53</td>\n",
       "      <td>1</td>\n",
       "      <td>0</td>\n",
       "      <td>140</td>\n",
       "      <td>203</td>\n",
       "      <td>1</td>\n",
       "      <td>0</td>\n",
       "      <td>155</td>\n",
       "      <td>1</td>\n",
       "      <td>3.1</td>\n",
       "      <td>0</td>\n",
       "      <td>0</td>\n",
       "      <td>3</td>\n",
       "      <td>0</td>\n",
       "    </tr>\n",
       "    <tr>\n",
       "      <th>2</th>\n",
       "      <td>70</td>\n",
       "      <td>1</td>\n",
       "      <td>0</td>\n",
       "      <td>145</td>\n",
       "      <td>174</td>\n",
       "      <td>0</td>\n",
       "      <td>1</td>\n",
       "      <td>125</td>\n",
       "      <td>1</td>\n",
       "      <td>2.6</td>\n",
       "      <td>0</td>\n",
       "      <td>0</td>\n",
       "      <td>3</td>\n",
       "      <td>0</td>\n",
       "    </tr>\n",
       "    <tr>\n",
       "      <th>3</th>\n",
       "      <td>61</td>\n",
       "      <td>1</td>\n",
       "      <td>0</td>\n",
       "      <td>148</td>\n",
       "      <td>203</td>\n",
       "      <td>0</td>\n",
       "      <td>1</td>\n",
       "      <td>161</td>\n",
       "      <td>0</td>\n",
       "      <td>0.0</td>\n",
       "      <td>2</td>\n",
       "      <td>1</td>\n",
       "      <td>3</td>\n",
       "      <td>0</td>\n",
       "    </tr>\n",
       "    <tr>\n",
       "      <th>4</th>\n",
       "      <td>62</td>\n",
       "      <td>0</td>\n",
       "      <td>0</td>\n",
       "      <td>138</td>\n",
       "      <td>294</td>\n",
       "      <td>1</td>\n",
       "      <td>1</td>\n",
       "      <td>106</td>\n",
       "      <td>0</td>\n",
       "      <td>1.9</td>\n",
       "      <td>1</td>\n",
       "      <td>3</td>\n",
       "      <td>2</td>\n",
       "      <td>0</td>\n",
       "    </tr>\n",
       "    <tr>\n",
       "      <th>...</th>\n",
       "      <td>...</td>\n",
       "      <td>...</td>\n",
       "      <td>...</td>\n",
       "      <td>...</td>\n",
       "      <td>...</td>\n",
       "      <td>...</td>\n",
       "      <td>...</td>\n",
       "      <td>...</td>\n",
       "      <td>...</td>\n",
       "      <td>...</td>\n",
       "      <td>...</td>\n",
       "      <td>...</td>\n",
       "      <td>...</td>\n",
       "      <td>...</td>\n",
       "    </tr>\n",
       "    <tr>\n",
       "      <th>1020</th>\n",
       "      <td>59</td>\n",
       "      <td>1</td>\n",
       "      <td>1</td>\n",
       "      <td>140</td>\n",
       "      <td>221</td>\n",
       "      <td>0</td>\n",
       "      <td>1</td>\n",
       "      <td>164</td>\n",
       "      <td>1</td>\n",
       "      <td>0.0</td>\n",
       "      <td>2</td>\n",
       "      <td>0</td>\n",
       "      <td>2</td>\n",
       "      <td>1</td>\n",
       "    </tr>\n",
       "    <tr>\n",
       "      <th>1021</th>\n",
       "      <td>60</td>\n",
       "      <td>1</td>\n",
       "      <td>0</td>\n",
       "      <td>125</td>\n",
       "      <td>258</td>\n",
       "      <td>0</td>\n",
       "      <td>0</td>\n",
       "      <td>141</td>\n",
       "      <td>1</td>\n",
       "      <td>2.8</td>\n",
       "      <td>1</td>\n",
       "      <td>1</td>\n",
       "      <td>3</td>\n",
       "      <td>0</td>\n",
       "    </tr>\n",
       "    <tr>\n",
       "      <th>1022</th>\n",
       "      <td>47</td>\n",
       "      <td>1</td>\n",
       "      <td>0</td>\n",
       "      <td>110</td>\n",
       "      <td>275</td>\n",
       "      <td>0</td>\n",
       "      <td>0</td>\n",
       "      <td>118</td>\n",
       "      <td>1</td>\n",
       "      <td>1.0</td>\n",
       "      <td>1</td>\n",
       "      <td>1</td>\n",
       "      <td>2</td>\n",
       "      <td>0</td>\n",
       "    </tr>\n",
       "    <tr>\n",
       "      <th>1023</th>\n",
       "      <td>50</td>\n",
       "      <td>0</td>\n",
       "      <td>0</td>\n",
       "      <td>110</td>\n",
       "      <td>254</td>\n",
       "      <td>0</td>\n",
       "      <td>0</td>\n",
       "      <td>159</td>\n",
       "      <td>0</td>\n",
       "      <td>0.0</td>\n",
       "      <td>2</td>\n",
       "      <td>0</td>\n",
       "      <td>2</td>\n",
       "      <td>1</td>\n",
       "    </tr>\n",
       "    <tr>\n",
       "      <th>1024</th>\n",
       "      <td>54</td>\n",
       "      <td>1</td>\n",
       "      <td>0</td>\n",
       "      <td>120</td>\n",
       "      <td>188</td>\n",
       "      <td>0</td>\n",
       "      <td>1</td>\n",
       "      <td>113</td>\n",
       "      <td>0</td>\n",
       "      <td>1.4</td>\n",
       "      <td>1</td>\n",
       "      <td>1</td>\n",
       "      <td>3</td>\n",
       "      <td>0</td>\n",
       "    </tr>\n",
       "  </tbody>\n",
       "</table>\n",
       "<p>1025 rows × 14 columns</p>\n",
       "</div>"
      ],
      "text/plain": [
       "      age  sex  cp  trestbps  chol  fbs  restecg  thalach  exang  oldpeak  \\\n",
       "0      52    1   0       125   212    0        1      168      0      1.0   \n",
       "1      53    1   0       140   203    1        0      155      1      3.1   \n",
       "2      70    1   0       145   174    0        1      125      1      2.6   \n",
       "3      61    1   0       148   203    0        1      161      0      0.0   \n",
       "4      62    0   0       138   294    1        1      106      0      1.9   \n",
       "...   ...  ...  ..       ...   ...  ...      ...      ...    ...      ...   \n",
       "1020   59    1   1       140   221    0        1      164      1      0.0   \n",
       "1021   60    1   0       125   258    0        0      141      1      2.8   \n",
       "1022   47    1   0       110   275    0        0      118      1      1.0   \n",
       "1023   50    0   0       110   254    0        0      159      0      0.0   \n",
       "1024   54    1   0       120   188    0        1      113      0      1.4   \n",
       "\n",
       "      slope  ca  thal  target  \n",
       "0         2   2     3       0  \n",
       "1         0   0     3       0  \n",
       "2         0   0     3       0  \n",
       "3         2   1     3       0  \n",
       "4         1   3     2       0  \n",
       "...     ...  ..   ...     ...  \n",
       "1020      2   0     2       1  \n",
       "1021      1   1     3       0  \n",
       "1022      1   1     2       0  \n",
       "1023      2   0     2       1  \n",
       "1024      1   1     3       0  \n",
       "\n",
       "[1025 rows x 14 columns]"
      ]
     },
     "execution_count": 174,
     "metadata": {},
     "output_type": "execute_result"
    }
   ],
   "source": [
    "df"
   ]
  },
  {
   "cell_type": "code",
   "execution_count": 4,
   "id": "71f8c05c",
   "metadata": {},
   "outputs": [
    {
     "data": {
      "text/plain": [
       "age         0\n",
       "sex         0\n",
       "cp          0\n",
       "trestbps    0\n",
       "chol        0\n",
       "fbs         0\n",
       "restecg     0\n",
       "thalach     0\n",
       "exang       0\n",
       "oldpeak     0\n",
       "slope       0\n",
       "ca          0\n",
       "thal        0\n",
       "target      0\n",
       "dtype: int64"
      ]
     },
     "execution_count": 4,
     "metadata": {},
     "output_type": "execute_result"
    }
   ],
   "source": [
    "df.isna().sum()"
   ]
  },
  {
   "cell_type": "markdown",
   "id": "5d4a9001",
   "metadata": {},
   "source": [
    "### Func for Checking Zeros"
   ]
  },
  {
   "cell_type": "code",
   "execution_count": 5,
   "id": "dc56f0e2",
   "metadata": {},
   "outputs": [],
   "source": [
    "def checkz(df):\n",
    "    return df[df == 0].value_counts()"
   ]
  },
  {
   "cell_type": "code",
   "execution_count": 6,
   "id": "0ae43974",
   "metadata": {},
   "outputs": [
    {
     "name": "stdout",
     "output_type": "stream",
     "text": [
      "Series([], Name: age, dtype: int64)\n",
      "0    312\n",
      "Name: sex, dtype: int64\n",
      "0    497\n",
      "Name: cp, dtype: int64\n",
      "Series([], Name: trestbps, dtype: int64)\n",
      "Series([], Name: chol, dtype: int64)\n",
      "0    872\n",
      "Name: fbs, dtype: int64\n",
      "0    497\n",
      "Name: restecg, dtype: int64\n",
      "Series([], Name: thalach, dtype: int64)\n",
      "0    680\n",
      "Name: exang, dtype: int64\n",
      "0.0    329\n",
      "Name: oldpeak, dtype: int64\n",
      "0    74\n",
      "Name: slope, dtype: int64\n",
      "0    578\n",
      "Name: ca, dtype: int64\n",
      "0    7\n",
      "Name: thal, dtype: int64\n",
      "0    499\n",
      "Name: target, dtype: int64\n"
     ]
    }
   ],
   "source": [
    "for i in df.columns:\n",
    "    print(checkz(df[i]))"
   ]
  },
  {
   "cell_type": "code",
   "execution_count": 7,
   "id": "51f2898f",
   "metadata": {},
   "outputs": [
    {
     "data": {
      "text/plain": [
       "Index(['age', 'sex', 'cp', 'trestbps', 'chol', 'fbs', 'restecg', 'thalach',\n",
       "       'exang', 'oldpeak', 'slope', 'ca', 'thal', 'target'],\n",
       "      dtype='object')"
      ]
     },
     "execution_count": 7,
     "metadata": {},
     "output_type": "execute_result"
    }
   ],
   "source": [
    "df.columns"
   ]
  },
  {
   "cell_type": "code",
   "execution_count": 8,
   "id": "09e1bafe",
   "metadata": {},
   "outputs": [],
   "source": [
    "clist = ['age', 'sex', 'cp', 'trestbps', 'chol', 'fbs', 'restecg', 'thalach','exang', 'oldpeak', 'slope', 'ca', 'thal' ] "
   ]
  },
  {
   "cell_type": "markdown",
   "id": "615d4118",
   "metadata": {},
   "source": [
    "### Func for Removing Zeros"
   ]
  },
  {
   "cell_type": "code",
   "execution_count": 9,
   "id": "52f23761",
   "metadata": {},
   "outputs": [],
   "source": [
    "def zeroremove(df):\n",
    "    m = round(df.mean(),2)\n",
    "    df.replace(0,m,inplace = True) "
   ]
  },
  {
   "cell_type": "code",
   "execution_count": 10,
   "id": "269c6c8d",
   "metadata": {},
   "outputs": [],
   "source": [
    "for i in clist:\n",
    "    zeroremove(df[i])"
   ]
  },
  {
   "cell_type": "markdown",
   "id": "95626288",
   "metadata": {},
   "source": [
    "### Outcome is already having the  2 output (i.e 0 & 1 ) that's why...i didn't apply the func on target Col."
   ]
  },
  {
   "cell_type": "code",
   "execution_count": 11,
   "id": "d643588c",
   "metadata": {
    "scrolled": true
   },
   "outputs": [
    {
     "name": "stdout",
     "output_type": "stream",
     "text": [
      "Series([], Name: age, dtype: int64)\n",
      "Series([], Name: sex, dtype: int64)\n",
      "Series([], Name: cp, dtype: int64)\n",
      "Series([], Name: trestbps, dtype: int64)\n",
      "Series([], Name: chol, dtype: int64)\n",
      "Series([], Name: fbs, dtype: int64)\n",
      "Series([], Name: restecg, dtype: int64)\n",
      "Series([], Name: thalach, dtype: int64)\n",
      "Series([], Name: exang, dtype: int64)\n",
      "Series([], Name: oldpeak, dtype: int64)\n",
      "Series([], Name: slope, dtype: int64)\n",
      "Series([], Name: ca, dtype: int64)\n",
      "Series([], Name: thal, dtype: int64)\n",
      "0    499\n",
      "Name: target, dtype: int64\n"
     ]
    }
   ],
   "source": [
    "for i in df.columns:\n",
    "    print(checkz(df[i]))"
   ]
  },
  {
   "cell_type": "markdown",
   "id": "4c35a03a",
   "metadata": {},
   "source": [
    "## OD Tech"
   ]
  },
  {
   "cell_type": "code",
   "execution_count": 12,
   "id": "5478eac5",
   "metadata": {},
   "outputs": [],
   "source": [
    "def odiqr(df):\n",
    "    q1 = df.quantile(0.25)\n",
    "    q3 = df.quantile(0.75)\n",
    "    iqr = q3 - q1\n",
    "    low = q1 - (1.5 * iqr)\n",
    "    high = q3 + (1.5 * iqr)\n",
    "    m = df.mean()\n",
    "    df = df.apply(lambda x : m if x < low else (m if x > high else x ) )\n",
    "    return df"
   ]
  },
  {
   "cell_type": "code",
   "execution_count": 13,
   "id": "25b729ef",
   "metadata": {},
   "outputs": [],
   "source": [
    "def odmsd(df):\n",
    "    m = round(df.mean(),2)\n",
    "    s = round(df.std(),2)\n",
    "    low = round(m-(3*s),2)\n",
    "    high = round(m+(3*s),2)\n",
    "    ft1 = df[df<low]\n",
    "    ft2 = df[df>high]\n",
    "    df = df.map(lambda x : low if x < low else (high if x > high else x ))"
   ]
  },
  {
   "cell_type": "markdown",
   "id": "60c486ba",
   "metadata": {},
   "source": [
    "### Checking Skew of Each Columns"
   ]
  },
  {
   "cell_type": "code",
   "execution_count": 14,
   "id": "921a075f",
   "metadata": {},
   "outputs": [
    {
     "name": "stdout",
     "output_type": "stream",
     "text": [
      "age is -0.24886590174584555\n",
      "sex is -0.8514488985126782\n",
      "cp is 1.145578382862549\n",
      "trestbps is 0.739768226050074\n",
      "chol is 1.0740727783354815\n",
      "fbs is 1.9713385276901945\n",
      "restecg is 1.0833677759026794\n",
      "thalach is -0.5137771771417209\n",
      "exang is 0.6926551704693221\n",
      "oldpeak is 1.653635327922581\n",
      "slope is 0.07398850254344282\n",
      "ca is 1.9745316034414788\n",
      "thal is -0.2727031060122246\n",
      "target is -0.05277848219047285\n"
     ]
    }
   ],
   "source": [
    "for i in df.columns:\n",
    "    print(f'{i} is {df[i].skew()}')"
   ]
  },
  {
   "cell_type": "markdown",
   "id": "79b895bf",
   "metadata": {},
   "source": [
    "### Applying Func for Skew"
   ]
  },
  {
   "cell_type": "code",
   "execution_count": 15,
   "id": "f6785003",
   "metadata": {},
   "outputs": [],
   "source": [
    "for i in df.columns:\n",
    "    if df[i].skew() <= 0.5:\n",
    "        odmsd(df[i])\n",
    "    else:\n",
    "        df[i] = odiqr(df[i])"
   ]
  },
  {
   "cell_type": "markdown",
   "id": "b976f2d4",
   "metadata": {},
   "source": [
    "### After applying IQR on clist Columns the Skew is...\n"
   ]
  },
  {
   "cell_type": "code",
   "execution_count": 16,
   "id": "2d989e38",
   "metadata": {},
   "outputs": [
    {
     "name": "stdout",
     "output_type": "stream",
     "text": [
      "age is -0.24886590174584555\n",
      "sex is -0.8514488985126782\n",
      "cp is 1.145578382862549\n",
      "trestbps is 0.2562919840425967\n",
      "chol is 0.19704648770201832\n",
      "fbs is 1.9713385276901962\n",
      "restecg is -0.0353538878826251\n",
      "thalach is -0.5137771771417209\n",
      "exang is 0.6926551704693221\n",
      "oldpeak is 0.7971440066257179\n",
      "slope is 0.07398850254344282\n",
      "ca is 0.5690654674289185\n",
      "thal is -0.2727031060122246\n",
      "target is -0.05277848219047285\n"
     ]
    }
   ],
   "source": [
    "for i in df.columns:\n",
    "    print(f'{i} is {df[i].skew()}')"
   ]
  },
  {
   "cell_type": "code",
   "execution_count": 17,
   "id": "32669761",
   "metadata": {},
   "outputs": [
    {
     "data": {
      "text/html": [
       "<div>\n",
       "<style scoped>\n",
       "    .dataframe tbody tr th:only-of-type {\n",
       "        vertical-align: middle;\n",
       "    }\n",
       "\n",
       "    .dataframe tbody tr th {\n",
       "        vertical-align: top;\n",
       "    }\n",
       "\n",
       "    .dataframe thead th {\n",
       "        text-align: right;\n",
       "    }\n",
       "</style>\n",
       "<table border=\"1\" class=\"dataframe\">\n",
       "  <thead>\n",
       "    <tr style=\"text-align: right;\">\n",
       "      <th></th>\n",
       "      <th>age</th>\n",
       "      <th>sex</th>\n",
       "      <th>cp</th>\n",
       "      <th>trestbps</th>\n",
       "      <th>chol</th>\n",
       "      <th>fbs</th>\n",
       "      <th>restecg</th>\n",
       "      <th>thalach</th>\n",
       "      <th>exang</th>\n",
       "      <th>oldpeak</th>\n",
       "      <th>slope</th>\n",
       "      <th>ca</th>\n",
       "      <th>thal</th>\n",
       "      <th>target</th>\n",
       "    </tr>\n",
       "  </thead>\n",
       "  <tbody>\n",
       "    <tr>\n",
       "      <th>0</th>\n",
       "      <td>52</td>\n",
       "      <td>1.0</td>\n",
       "      <td>0.94</td>\n",
       "      <td>125.0</td>\n",
       "      <td>212.0</td>\n",
       "      <td>0.150000</td>\n",
       "      <td>1.00</td>\n",
       "      <td>168</td>\n",
       "      <td>0.34</td>\n",
       "      <td>1.000000</td>\n",
       "      <td>2.00</td>\n",
       "      <td>1.177073</td>\n",
       "      <td>3.0</td>\n",
       "      <td>0</td>\n",
       "    </tr>\n",
       "    <tr>\n",
       "      <th>1</th>\n",
       "      <td>53</td>\n",
       "      <td>1.0</td>\n",
       "      <td>0.94</td>\n",
       "      <td>140.0</td>\n",
       "      <td>203.0</td>\n",
       "      <td>0.276878</td>\n",
       "      <td>0.53</td>\n",
       "      <td>155</td>\n",
       "      <td>1.00</td>\n",
       "      <td>1.414956</td>\n",
       "      <td>1.39</td>\n",
       "      <td>0.750000</td>\n",
       "      <td>3.0</td>\n",
       "      <td>0</td>\n",
       "    </tr>\n",
       "    <tr>\n",
       "      <th>2</th>\n",
       "      <td>70</td>\n",
       "      <td>1.0</td>\n",
       "      <td>0.94</td>\n",
       "      <td>145.0</td>\n",
       "      <td>174.0</td>\n",
       "      <td>0.150000</td>\n",
       "      <td>1.00</td>\n",
       "      <td>125</td>\n",
       "      <td>1.00</td>\n",
       "      <td>2.600000</td>\n",
       "      <td>1.39</td>\n",
       "      <td>0.750000</td>\n",
       "      <td>3.0</td>\n",
       "      <td>0</td>\n",
       "    </tr>\n",
       "    <tr>\n",
       "      <th>3</th>\n",
       "      <td>61</td>\n",
       "      <td>1.0</td>\n",
       "      <td>0.94</td>\n",
       "      <td>148.0</td>\n",
       "      <td>203.0</td>\n",
       "      <td>0.150000</td>\n",
       "      <td>1.00</td>\n",
       "      <td>161</td>\n",
       "      <td>0.34</td>\n",
       "      <td>1.070000</td>\n",
       "      <td>2.00</td>\n",
       "      <td>1.000000</td>\n",
       "      <td>3.0</td>\n",
       "      <td>0</td>\n",
       "    </tr>\n",
       "    <tr>\n",
       "      <th>4</th>\n",
       "      <td>62</td>\n",
       "      <td>0.7</td>\n",
       "      <td>0.94</td>\n",
       "      <td>138.0</td>\n",
       "      <td>294.0</td>\n",
       "      <td>0.276878</td>\n",
       "      <td>1.00</td>\n",
       "      <td>106</td>\n",
       "      <td>0.34</td>\n",
       "      <td>1.900000</td>\n",
       "      <td>1.00</td>\n",
       "      <td>1.177073</td>\n",
       "      <td>2.0</td>\n",
       "      <td>0</td>\n",
       "    </tr>\n",
       "    <tr>\n",
       "      <th>...</th>\n",
       "      <td>...</td>\n",
       "      <td>...</td>\n",
       "      <td>...</td>\n",
       "      <td>...</td>\n",
       "      <td>...</td>\n",
       "      <td>...</td>\n",
       "      <td>...</td>\n",
       "      <td>...</td>\n",
       "      <td>...</td>\n",
       "      <td>...</td>\n",
       "      <td>...</td>\n",
       "      <td>...</td>\n",
       "      <td>...</td>\n",
       "      <td>...</td>\n",
       "    </tr>\n",
       "    <tr>\n",
       "      <th>1020</th>\n",
       "      <td>59</td>\n",
       "      <td>1.0</td>\n",
       "      <td>1.00</td>\n",
       "      <td>140.0</td>\n",
       "      <td>221.0</td>\n",
       "      <td>0.150000</td>\n",
       "      <td>1.00</td>\n",
       "      <td>164</td>\n",
       "      <td>1.00</td>\n",
       "      <td>1.070000</td>\n",
       "      <td>2.00</td>\n",
       "      <td>0.750000</td>\n",
       "      <td>2.0</td>\n",
       "      <td>1</td>\n",
       "    </tr>\n",
       "    <tr>\n",
       "      <th>1021</th>\n",
       "      <td>60</td>\n",
       "      <td>1.0</td>\n",
       "      <td>0.94</td>\n",
       "      <td>125.0</td>\n",
       "      <td>258.0</td>\n",
       "      <td>0.150000</td>\n",
       "      <td>0.53</td>\n",
       "      <td>141</td>\n",
       "      <td>1.00</td>\n",
       "      <td>2.800000</td>\n",
       "      <td>1.00</td>\n",
       "      <td>1.000000</td>\n",
       "      <td>3.0</td>\n",
       "      <td>0</td>\n",
       "    </tr>\n",
       "    <tr>\n",
       "      <th>1022</th>\n",
       "      <td>47</td>\n",
       "      <td>1.0</td>\n",
       "      <td>0.94</td>\n",
       "      <td>110.0</td>\n",
       "      <td>275.0</td>\n",
       "      <td>0.150000</td>\n",
       "      <td>0.53</td>\n",
       "      <td>118</td>\n",
       "      <td>1.00</td>\n",
       "      <td>1.000000</td>\n",
       "      <td>1.00</td>\n",
       "      <td>1.000000</td>\n",
       "      <td>2.0</td>\n",
       "      <td>0</td>\n",
       "    </tr>\n",
       "    <tr>\n",
       "      <th>1023</th>\n",
       "      <td>50</td>\n",
       "      <td>0.7</td>\n",
       "      <td>0.94</td>\n",
       "      <td>110.0</td>\n",
       "      <td>254.0</td>\n",
       "      <td>0.150000</td>\n",
       "      <td>0.53</td>\n",
       "      <td>159</td>\n",
       "      <td>0.34</td>\n",
       "      <td>1.070000</td>\n",
       "      <td>2.00</td>\n",
       "      <td>0.750000</td>\n",
       "      <td>2.0</td>\n",
       "      <td>1</td>\n",
       "    </tr>\n",
       "    <tr>\n",
       "      <th>1024</th>\n",
       "      <td>54</td>\n",
       "      <td>1.0</td>\n",
       "      <td>0.94</td>\n",
       "      <td>120.0</td>\n",
       "      <td>188.0</td>\n",
       "      <td>0.150000</td>\n",
       "      <td>1.00</td>\n",
       "      <td>113</td>\n",
       "      <td>0.34</td>\n",
       "      <td>1.400000</td>\n",
       "      <td>1.00</td>\n",
       "      <td>1.000000</td>\n",
       "      <td>3.0</td>\n",
       "      <td>0</td>\n",
       "    </tr>\n",
       "  </tbody>\n",
       "</table>\n",
       "<p>1025 rows × 14 columns</p>\n",
       "</div>"
      ],
      "text/plain": [
       "      age  sex    cp  trestbps   chol       fbs  restecg  thalach  exang  \\\n",
       "0      52  1.0  0.94     125.0  212.0  0.150000     1.00      168   0.34   \n",
       "1      53  1.0  0.94     140.0  203.0  0.276878     0.53      155   1.00   \n",
       "2      70  1.0  0.94     145.0  174.0  0.150000     1.00      125   1.00   \n",
       "3      61  1.0  0.94     148.0  203.0  0.150000     1.00      161   0.34   \n",
       "4      62  0.7  0.94     138.0  294.0  0.276878     1.00      106   0.34   \n",
       "...   ...  ...   ...       ...    ...       ...      ...      ...    ...   \n",
       "1020   59  1.0  1.00     140.0  221.0  0.150000     1.00      164   1.00   \n",
       "1021   60  1.0  0.94     125.0  258.0  0.150000     0.53      141   1.00   \n",
       "1022   47  1.0  0.94     110.0  275.0  0.150000     0.53      118   1.00   \n",
       "1023   50  0.7  0.94     110.0  254.0  0.150000     0.53      159   0.34   \n",
       "1024   54  1.0  0.94     120.0  188.0  0.150000     1.00      113   0.34   \n",
       "\n",
       "       oldpeak  slope        ca  thal  target  \n",
       "0     1.000000   2.00  1.177073   3.0       0  \n",
       "1     1.414956   1.39  0.750000   3.0       0  \n",
       "2     2.600000   1.39  0.750000   3.0       0  \n",
       "3     1.070000   2.00  1.000000   3.0       0  \n",
       "4     1.900000   1.00  1.177073   2.0       0  \n",
       "...        ...    ...       ...   ...     ...  \n",
       "1020  1.070000   2.00  0.750000   2.0       1  \n",
       "1021  2.800000   1.00  1.000000   3.0       0  \n",
       "1022  1.000000   1.00  1.000000   2.0       0  \n",
       "1023  1.070000   2.00  0.750000   2.0       1  \n",
       "1024  1.400000   1.00  1.000000   3.0       0  \n",
       "\n",
       "[1025 rows x 14 columns]"
      ]
     },
     "execution_count": 17,
     "metadata": {},
     "output_type": "execute_result"
    }
   ],
   "source": [
    "df"
   ]
  },
  {
   "cell_type": "code",
   "execution_count": 18,
   "id": "b1e62140",
   "metadata": {},
   "outputs": [],
   "source": [
    "X = df.drop(\"target\",axis=1)"
   ]
  },
  {
   "cell_type": "code",
   "execution_count": 19,
   "id": "0927ca6c",
   "metadata": {},
   "outputs": [
    {
     "data": {
      "text/html": [
       "<div>\n",
       "<style scoped>\n",
       "    .dataframe tbody tr th:only-of-type {\n",
       "        vertical-align: middle;\n",
       "    }\n",
       "\n",
       "    .dataframe tbody tr th {\n",
       "        vertical-align: top;\n",
       "    }\n",
       "\n",
       "    .dataframe thead th {\n",
       "        text-align: right;\n",
       "    }\n",
       "</style>\n",
       "<table border=\"1\" class=\"dataframe\">\n",
       "  <thead>\n",
       "    <tr style=\"text-align: right;\">\n",
       "      <th></th>\n",
       "      <th>age</th>\n",
       "      <th>sex</th>\n",
       "      <th>cp</th>\n",
       "      <th>trestbps</th>\n",
       "      <th>chol</th>\n",
       "      <th>fbs</th>\n",
       "      <th>restecg</th>\n",
       "      <th>thalach</th>\n",
       "      <th>exang</th>\n",
       "      <th>oldpeak</th>\n",
       "      <th>slope</th>\n",
       "      <th>ca</th>\n",
       "      <th>thal</th>\n",
       "    </tr>\n",
       "  </thead>\n",
       "  <tbody>\n",
       "    <tr>\n",
       "      <th>52</th>\n",
       "      <td>38</td>\n",
       "      <td>1.0</td>\n",
       "      <td>2.0</td>\n",
       "      <td>138.0</td>\n",
       "      <td>175.0</td>\n",
       "      <td>0.15</td>\n",
       "      <td>1.0</td>\n",
       "      <td>173</td>\n",
       "      <td>0.34</td>\n",
       "      <td>1.07</td>\n",
       "      <td>2.0</td>\n",
       "      <td>1.177073</td>\n",
       "      <td>2.0</td>\n",
       "    </tr>\n",
       "  </tbody>\n",
       "</table>\n",
       "</div>"
      ],
      "text/plain": [
       "    age  sex   cp  trestbps   chol   fbs  restecg  thalach  exang  oldpeak  \\\n",
       "52   38  1.0  2.0     138.0  175.0  0.15      1.0      173   0.34     1.07   \n",
       "\n",
       "    slope        ca  thal  \n",
       "52    2.0  1.177073   2.0  "
      ]
     },
     "execution_count": 19,
     "metadata": {},
     "output_type": "execute_result"
    }
   ],
   "source": [
    "X.sample()"
   ]
  },
  {
   "cell_type": "code",
   "execution_count": 20,
   "id": "94c642dd",
   "metadata": {},
   "outputs": [],
   "source": [
    "y = df[\"target\"]"
   ]
  },
  {
   "cell_type": "code",
   "execution_count": 21,
   "id": "fb5be6e0",
   "metadata": {},
   "outputs": [
    {
     "data": {
      "text/plain": [
       "796    1\n",
       "Name: target, dtype: int64"
      ]
     },
     "execution_count": 21,
     "metadata": {},
     "output_type": "execute_result"
    }
   ],
   "source": [
    "y.sample()"
   ]
  },
  {
   "cell_type": "code",
   "execution_count": 22,
   "id": "5aa0cf56",
   "metadata": {},
   "outputs": [],
   "source": [
    "from sklearn.model_selection import train_test_split\n",
    "from sklearn.preprocessing import StandardScaler\n",
    "from sklearn.model_selection import KFold , cross_val_score\n",
    "from sklearn.linear_model import LogisticRegression , LinearRegression\n",
    "from sklearn.svm import SVC\n",
    "from sklearn.tree import DecisionTreeClassifier \n",
    "from sklearn.neighbors import KNeighborsClassifier"
   ]
  },
  {
   "cell_type": "code",
   "execution_count": 53,
   "id": "25adf442",
   "metadata": {},
   "outputs": [],
   "source": [
    "import warnings\n",
    "warnings.filterwarnings(\"ignore\")"
   ]
  },
  {
   "cell_type": "code",
   "execution_count": 121,
   "id": "821dc635",
   "metadata": {},
   "outputs": [],
   "source": [
    "Xtrain,Xtest,ytrain,ytest = train_test_split(X,y,test_size=.20)"
   ]
  },
  {
   "cell_type": "code",
   "execution_count": 122,
   "id": "01e6c2c9",
   "metadata": {},
   "outputs": [
    {
     "data": {
      "text/plain": [
       "((1025, 13), (820, 13), (205, 13))"
      ]
     },
     "execution_count": 122,
     "metadata": {},
     "output_type": "execute_result"
    }
   ],
   "source": [
    "X.shape , Xtrain.shape , Xtest.shape"
   ]
  },
  {
   "cell_type": "code",
   "execution_count": 123,
   "id": "513f645e",
   "metadata": {},
   "outputs": [
    {
     "data": {
      "text/plain": [
       "((1025,), (820,), (205,))"
      ]
     },
     "execution_count": 123,
     "metadata": {},
     "output_type": "execute_result"
    }
   ],
   "source": [
    "y.shape , ytrain.shape , ytest.shape"
   ]
  },
  {
   "cell_type": "code",
   "execution_count": 124,
   "id": "50667942",
   "metadata": {},
   "outputs": [],
   "source": [
    "kf = KFold(n_splits=11)"
   ]
  },
  {
   "cell_type": "code",
   "execution_count": 125,
   "id": "a0c2e401",
   "metadata": {},
   "outputs": [],
   "source": [
    "logreg = LogisticRegression(max_iter=1000)"
   ]
  },
  {
   "cell_type": "code",
   "execution_count": 126,
   "id": "9fa8e766",
   "metadata": {},
   "outputs": [],
   "source": [
    "linreg = LinearRegression()"
   ]
  },
  {
   "cell_type": "code",
   "execution_count": 127,
   "id": "d0b5dd43",
   "metadata": {},
   "outputs": [],
   "source": [
    "sv = SVC()"
   ]
  },
  {
   "cell_type": "code",
   "execution_count": 128,
   "id": "521ecce2",
   "metadata": {},
   "outputs": [],
   "source": [
    "dct = DecisionTreeClassifier()"
   ]
  },
  {
   "cell_type": "code",
   "execution_count": 129,
   "id": "4adbaa53",
   "metadata": {},
   "outputs": [],
   "source": [
    "knn = KNeighborsClassifier()"
   ]
  },
  {
   "cell_type": "code",
   "execution_count": 130,
   "id": "2cccf5ac",
   "metadata": {},
   "outputs": [],
   "source": [
    "algo = [logreg , linreg , sv , dct , knn ]"
   ]
  },
  {
   "cell_type": "markdown",
   "id": "2474f547",
   "metadata": {},
   "source": [
    "### Without Feature Scaling"
   ]
  },
  {
   "cell_type": "code",
   "execution_count": 131,
   "id": "3c896d6f",
   "metadata": {},
   "outputs": [
    {
     "name": "stdout",
     "output_type": "stream",
     "text": [
      "LogisticRegression(max_iter=1000) = 0.8341463414634146\n",
      "LinearRegression() = 0.4178985513448299\n",
      "SVC() = 0.6048780487804878\n",
      "DecisionTreeClassifier() = 0.9609756097560975\n",
      "KNeighborsClassifier() = 0.6634146341463415\n"
     ]
    }
   ],
   "source": [
    "for i in algo:\n",
    "    i.fit(Xtrain,ytrain)\n",
    "    s = i.score(Xtest,ytest)\n",
    "    print(f'{i} = {s}')"
   ]
  },
  {
   "cell_type": "markdown",
   "id": "199c1c1d",
   "metadata": {},
   "source": [
    "### With Feature Scaling"
   ]
  },
  {
   "cell_type": "code",
   "execution_count": 132,
   "id": "f4a3c8af",
   "metadata": {},
   "outputs": [],
   "source": [
    "ss = StandardScaler()"
   ]
  },
  {
   "cell_type": "code",
   "execution_count": 133,
   "id": "e0a9b8cf",
   "metadata": {},
   "outputs": [
    {
     "data": {
      "text/plain": [
       "StandardScaler()"
      ]
     },
     "execution_count": 133,
     "metadata": {},
     "output_type": "execute_result"
    }
   ],
   "source": [
    "ss.fit(Xtrain)"
   ]
  },
  {
   "cell_type": "code",
   "execution_count": 134,
   "id": "ce170509",
   "metadata": {},
   "outputs": [],
   "source": [
    "Xtrain_ss = ss.transform(Xtrain)"
   ]
  },
  {
   "cell_type": "code",
   "execution_count": 135,
   "id": "af4514b2",
   "metadata": {},
   "outputs": [],
   "source": [
    "Xtest_ss = ss.transform(Xtest)"
   ]
  },
  {
   "cell_type": "code",
   "execution_count": 136,
   "id": "8c99ae9b",
   "metadata": {},
   "outputs": [
    {
     "name": "stdout",
     "output_type": "stream",
     "text": [
      "LogisticRegression(max_iter=1000) = 0.8195121951219512\n",
      "LinearRegression() = 0.4178985513448239\n",
      "SVC() = 0.8536585365853658\n",
      "DecisionTreeClassifier() = 0.9609756097560975\n",
      "KNeighborsClassifier() = 0.8195121951219512\n"
     ]
    }
   ],
   "source": [
    "for i in algo:\n",
    "    i.fit(Xtrain_ss,ytrain)\n",
    "    s = i.score(Xtest_ss,ytest)\n",
    "    print(f'{i} = {s}')"
   ]
  },
  {
   "cell_type": "markdown",
   "id": "f9ad0884",
   "metadata": {},
   "source": [
    "### With Cross Validation"
   ]
  },
  {
   "cell_type": "code",
   "execution_count": 137,
   "id": "d98b5ed1",
   "metadata": {},
   "outputs": [
    {
     "name": "stdout",
     "output_type": "stream",
     "text": [
      "LogisticRegression(max_iter=1000) = 0.8555770470664087\n",
      "LinearRegression() = 0.5142110200404165\n",
      "SVC() = 0.6995174809176183\n",
      "DecisionTreeClassifier() = 0.997067448680352\n",
      "KNeighborsClassifier() = 0.7668309727335122\n"
     ]
    }
   ],
   "source": [
    "for i in algo:\n",
    "    s = cross_val_score(i,X,y,cv = kf)\n",
    "    print(f'{i} = {s.mean()}')"
   ]
  },
  {
   "cell_type": "markdown",
   "id": "ef63d7f8",
   "metadata": {},
   "source": [
    "## With Boosting "
   ]
  },
  {
   "cell_type": "code",
   "execution_count": 138,
   "id": "4ddb61dc",
   "metadata": {},
   "outputs": [],
   "source": [
    "from sklearn.ensemble import RandomForestClassifier , BaggingClassifier , AdaBoostClassifier , GradientBoostingClassifier "
   ]
  },
  {
   "cell_type": "code",
   "execution_count": 139,
   "id": "e3cef58e",
   "metadata": {},
   "outputs": [],
   "source": [
    "rfc = RandomForestClassifier(n_estimators=150,max_depth=3,max_leaf_nodes=4)"
   ]
  },
  {
   "cell_type": "code",
   "execution_count": 140,
   "id": "a3661c6a",
   "metadata": {},
   "outputs": [],
   "source": [
    "baggc = BaggingClassifier(base_estimator=DecisionTreeClassifier())"
   ]
  },
  {
   "cell_type": "code",
   "execution_count": 141,
   "id": "02527985",
   "metadata": {},
   "outputs": [],
   "source": [
    "adbst = AdaBoostClassifier()"
   ]
  },
  {
   "cell_type": "code",
   "execution_count": 142,
   "id": "df21e3c3",
   "metadata": {},
   "outputs": [],
   "source": [
    "gdbst = GradientBoostingClassifier()"
   ]
  },
  {
   "cell_type": "code",
   "execution_count": 143,
   "id": "cab5e845",
   "metadata": {},
   "outputs": [],
   "source": [
    "algo1 = [rfc , baggc , adbst , gdbst]"
   ]
  },
  {
   "cell_type": "code",
   "execution_count": 144,
   "id": "ca21fa97",
   "metadata": {},
   "outputs": [
    {
     "name": "stdout",
     "output_type": "stream",
     "text": [
      "RandomForestClassifier(max_depth=3, max_leaf_nodes=4, n_estimators=150)\n",
      "BaggingClassifier(base_estimator=DecisionTreeClassifier())\n",
      "AdaBoostClassifier()\n",
      "GradientBoostingClassifier()\n"
     ]
    }
   ],
   "source": [
    "for i in algo1:\n",
    "    print(i)"
   ]
  },
  {
   "cell_type": "markdown",
   "id": "46cb0295",
   "metadata": {},
   "source": [
    "### Without Feature Scaling"
   ]
  },
  {
   "cell_type": "code",
   "execution_count": 145,
   "id": "c9f2b4c4",
   "metadata": {},
   "outputs": [
    {
     "name": "stdout",
     "output_type": "stream",
     "text": [
      "RandomForestClassifier(max_depth=3, max_leaf_nodes=4, n_estimators=150) = 0.7951219512195122\n",
      "BaggingClassifier(base_estimator=DecisionTreeClassifier()) = 0.9609756097560975\n",
      "AdaBoostClassifier() = 0.848780487804878\n",
      "GradientBoostingClassifier() = 0.9512195121951219\n"
     ]
    }
   ],
   "source": [
    "for i in algo1:\n",
    "    i.fit(Xtrain,ytrain)\n",
    "    s = i.score(Xtest,ytest)\n",
    "    print(f'{i} = {s}')"
   ]
  },
  {
   "cell_type": "markdown",
   "id": "2c38ca52",
   "metadata": {},
   "source": [
    "### With Feature Scaling"
   ]
  },
  {
   "cell_type": "code",
   "execution_count": 146,
   "id": "dce4bcf7",
   "metadata": {},
   "outputs": [
    {
     "name": "stdout",
     "output_type": "stream",
     "text": [
      "RandomForestClassifier(max_depth=3, max_leaf_nodes=4, n_estimators=150) = 0.8\n",
      "BaggingClassifier(base_estimator=DecisionTreeClassifier()) = 0.9512195121951219\n",
      "AdaBoostClassifier() = 0.848780487804878\n",
      "GradientBoostingClassifier() = 0.9512195121951219\n"
     ]
    }
   ],
   "source": [
    "for i in algo1:\n",
    "    i.fit(Xtrain_ss,ytrain)\n",
    "    s = i.score(Xtest_ss,ytest)\n",
    "    print(f'{i} = {s}')"
   ]
  },
  {
   "cell_type": "markdown",
   "id": "1c2a20c2",
   "metadata": {},
   "source": [
    "###  With Cross Validation (Boosting)"
   ]
  },
  {
   "cell_type": "code",
   "execution_count": 147,
   "id": "f088763b",
   "metadata": {},
   "outputs": [
    {
     "name": "stdout",
     "output_type": "stream",
     "text": [
      "RandomForestClassifier(max_depth=3, max_leaf_nodes=4, n_estimators=150) = 0.8633243900917201\n",
      "BaggingClassifier(base_estimator=DecisionTreeClassifier()) = 0.9951124144672533\n",
      "AdaBoostClassifier() = 0.885828081778665\n",
      "GradientBoostingClassifier() = 0.9785570183648428\n"
     ]
    }
   ],
   "source": [
    "for i in algo1:\n",
    "    s = cross_val_score(i,X,y,cv = kf)\n",
    "    print(f'{i} = {s.mean()}')"
   ]
  },
  {
   "cell_type": "markdown",
   "id": "ceaab928",
   "metadata": {},
   "source": [
    "### With GridSearch CV"
   ]
  },
  {
   "cell_type": "code",
   "execution_count": 148,
   "id": "93028204",
   "metadata": {},
   "outputs": [],
   "source": [
    "from sklearn.model_selection import GridSearchCV ,RandomizedSearchCV "
   ]
  },
  {
   "cell_type": "code",
   "execution_count": 149,
   "id": "044a449b",
   "metadata": {},
   "outputs": [],
   "source": [
    "dic = { 'criterion' : ['gini','entropy'] , 'splitter' : [\"best\", \"random\"] , 'max_depth' : [5,9,15,20,25] }"
   ]
  },
  {
   "cell_type": "code",
   "execution_count": 150,
   "id": "e2dea143",
   "metadata": {},
   "outputs": [],
   "source": [
    "kf1 = KFold(n_splits=20)"
   ]
  },
  {
   "cell_type": "markdown",
   "id": "0fcdb651",
   "metadata": {},
   "source": [
    "### gvc Using without Feature Scaling"
   ]
  },
  {
   "cell_type": "code",
   "execution_count": 151,
   "id": "094f6efb",
   "metadata": {},
   "outputs": [],
   "source": [
    "gvc = GridSearchCV(DecisionTreeClassifier(),param_grid=dic,cv = kf1)"
   ]
  },
  {
   "cell_type": "code",
   "execution_count": 152,
   "id": "2eb628c2",
   "metadata": {
    "scrolled": true
   },
   "outputs": [
    {
     "data": {
      "text/plain": [
       "GridSearchCV(cv=KFold(n_splits=20, random_state=None, shuffle=False),\n",
       "             estimator=DecisionTreeClassifier(),\n",
       "             param_grid={'criterion': ['gini', 'entropy'],\n",
       "                         'max_depth': [5, 9, 15, 20, 25],\n",
       "                         'splitter': ['best', 'random']})"
      ]
     },
     "execution_count": 152,
     "metadata": {},
     "output_type": "execute_result"
    }
   ],
   "source": [
    "gvc.fit(X,y)"
   ]
  },
  {
   "cell_type": "code",
   "execution_count": 153,
   "id": "c1acad03",
   "metadata": {},
   "outputs": [
    {
     "data": {
      "text/plain": [
       "{'criterion': 'gini', 'max_depth': 15, 'splitter': 'random'}"
      ]
     },
     "execution_count": 153,
     "metadata": {},
     "output_type": "execute_result"
    }
   ],
   "source": [
    "gvc.best_params_"
   ]
  },
  {
   "cell_type": "code",
   "execution_count": 154,
   "id": "3a2d43e9",
   "metadata": {},
   "outputs": [
    {
     "data": {
      "text/plain": [
       "DecisionTreeClassifier(max_depth=15, splitter='random')"
      ]
     },
     "execution_count": 154,
     "metadata": {},
     "output_type": "execute_result"
    }
   ],
   "source": [
    "gvc.best_estimator_"
   ]
  },
  {
   "cell_type": "code",
   "execution_count": 155,
   "id": "8145c5ac",
   "metadata": {},
   "outputs": [
    {
     "data": {
      "text/plain": [
       "1.0"
      ]
     },
     "execution_count": 155,
     "metadata": {},
     "output_type": "execute_result"
    }
   ],
   "source": [
    "gvc.best_score_"
   ]
  },
  {
   "cell_type": "markdown",
   "id": "b9a0e324",
   "metadata": {},
   "source": [
    "### gvc Using with Feature Scaling\n"
   ]
  },
  {
   "cell_type": "code",
   "execution_count": 156,
   "id": "b5e7f87e",
   "metadata": {},
   "outputs": [],
   "source": [
    "ss1 = StandardScaler()\n",
    "X_ss1 = ss1.fit_transform(X)"
   ]
  },
  {
   "cell_type": "code",
   "execution_count": 157,
   "id": "d185bcc1",
   "metadata": {},
   "outputs": [],
   "source": [
    "gvc1 = GridSearchCV(DecisionTreeClassifier(),param_grid=dic,cv = kf1)"
   ]
  },
  {
   "cell_type": "code",
   "execution_count": 158,
   "id": "37bb72a9",
   "metadata": {},
   "outputs": [
    {
     "data": {
      "text/plain": [
       "GridSearchCV(cv=KFold(n_splits=20, random_state=None, shuffle=False),\n",
       "             estimator=DecisionTreeClassifier(),\n",
       "             param_grid={'criterion': ['gini', 'entropy'],\n",
       "                         'max_depth': [5, 9, 15, 20, 25],\n",
       "                         'splitter': ['best', 'random']})"
      ]
     },
     "execution_count": 158,
     "metadata": {},
     "output_type": "execute_result"
    }
   ],
   "source": [
    "gvc1.fit(X_ss1,y)"
   ]
  },
  {
   "cell_type": "code",
   "execution_count": 159,
   "id": "ad40af38",
   "metadata": {},
   "outputs": [
    {
     "data": {
      "text/plain": [
       "{'criterion': 'gini', 'max_depth': 9, 'splitter': 'best'}"
      ]
     },
     "execution_count": 159,
     "metadata": {},
     "output_type": "execute_result"
    }
   ],
   "source": [
    "gvc1.best_params_"
   ]
  },
  {
   "cell_type": "code",
   "execution_count": 160,
   "id": "587b7874",
   "metadata": {},
   "outputs": [
    {
     "data": {
      "text/plain": [
       "DecisionTreeClassifier(max_depth=9)"
      ]
     },
     "execution_count": 160,
     "metadata": {},
     "output_type": "execute_result"
    }
   ],
   "source": [
    "gvc1.best_estimator_"
   ]
  },
  {
   "cell_type": "code",
   "execution_count": 161,
   "id": "1bae098f",
   "metadata": {},
   "outputs": [
    {
     "data": {
      "text/plain": [
       "1.0"
      ]
     },
     "execution_count": 161,
     "metadata": {},
     "output_type": "execute_result"
    }
   ],
   "source": [
    "gvc1.best_score_"
   ]
  },
  {
   "cell_type": "markdown",
   "id": "f3a99957",
   "metadata": {},
   "source": [
    "### With Random Search CV"
   ]
  },
  {
   "cell_type": "code",
   "execution_count": 162,
   "id": "2e5813ea",
   "metadata": {},
   "outputs": [],
   "source": [
    "rsc =  RandomizedSearchCV(DecisionTreeClassifier(),param_distributions=dic,cv = kf1)"
   ]
  },
  {
   "cell_type": "markdown",
   "id": "0e4cc849",
   "metadata": {},
   "source": [
    "### rsc Using without Feature Scaling"
   ]
  },
  {
   "cell_type": "code",
   "execution_count": 163,
   "id": "d1ad4cae",
   "metadata": {},
   "outputs": [
    {
     "data": {
      "text/plain": [
       "RandomizedSearchCV(cv=KFold(n_splits=20, random_state=None, shuffle=False),\n",
       "                   estimator=DecisionTreeClassifier(),\n",
       "                   param_distributions={'criterion': ['gini', 'entropy'],\n",
       "                                        'max_depth': [5, 9, 15, 20, 25],\n",
       "                                        'splitter': ['best', 'random']})"
      ]
     },
     "execution_count": 163,
     "metadata": {},
     "output_type": "execute_result"
    }
   ],
   "source": [
    "rsc.fit(X,y)"
   ]
  },
  {
   "cell_type": "code",
   "execution_count": 164,
   "id": "6e17f596",
   "metadata": {},
   "outputs": [
    {
     "data": {
      "text/plain": [
       "{'splitter': 'random', 'max_depth': 20, 'criterion': 'entropy'}"
      ]
     },
     "execution_count": 164,
     "metadata": {},
     "output_type": "execute_result"
    }
   ],
   "source": [
    "rsc.best_params_"
   ]
  },
  {
   "cell_type": "code",
   "execution_count": 165,
   "id": "d9d943cd",
   "metadata": {},
   "outputs": [
    {
     "data": {
      "text/plain": [
       "DecisionTreeClassifier(criterion='entropy', max_depth=20, splitter='random')"
      ]
     },
     "execution_count": 165,
     "metadata": {},
     "output_type": "execute_result"
    }
   ],
   "source": [
    "rsc.best_estimator_"
   ]
  },
  {
   "cell_type": "code",
   "execution_count": 166,
   "id": "5075c86f",
   "metadata": {},
   "outputs": [
    {
     "data": {
      "text/plain": [
       "1.0"
      ]
     },
     "execution_count": 166,
     "metadata": {},
     "output_type": "execute_result"
    }
   ],
   "source": [
    "rsc.best_score_"
   ]
  },
  {
   "cell_type": "markdown",
   "id": "031a756b",
   "metadata": {},
   "source": [
    "### rsc Using with Feature Scaling\n",
    "\n"
   ]
  },
  {
   "cell_type": "code",
   "execution_count": 167,
   "id": "bae8d978",
   "metadata": {},
   "outputs": [],
   "source": [
    "rsc1 =  RandomizedSearchCV(DecisionTreeClassifier(),param_distributions=dic,cv = kf1)"
   ]
  },
  {
   "cell_type": "code",
   "execution_count": 168,
   "id": "637c9299",
   "metadata": {},
   "outputs": [
    {
     "data": {
      "text/plain": [
       "RandomizedSearchCV(cv=KFold(n_splits=20, random_state=None, shuffle=False),\n",
       "                   estimator=DecisionTreeClassifier(),\n",
       "                   param_distributions={'criterion': ['gini', 'entropy'],\n",
       "                                        'max_depth': [5, 9, 15, 20, 25],\n",
       "                                        'splitter': ['best', 'random']})"
      ]
     },
     "execution_count": 168,
     "metadata": {},
     "output_type": "execute_result"
    }
   ],
   "source": [
    "rsc1.fit(X_ss1,y)"
   ]
  },
  {
   "cell_type": "code",
   "execution_count": 169,
   "id": "d2de1df4",
   "metadata": {},
   "outputs": [
    {
     "data": {
      "text/plain": [
       "{'splitter': 'random', 'max_depth': 20, 'criterion': 'entropy'}"
      ]
     },
     "execution_count": 169,
     "metadata": {},
     "output_type": "execute_result"
    }
   ],
   "source": [
    "rsc.best_params_"
   ]
  },
  {
   "cell_type": "code",
   "execution_count": 170,
   "id": "3f56cdf3",
   "metadata": {},
   "outputs": [
    {
     "data": {
      "text/plain": [
       "DecisionTreeClassifier(criterion='entropy', max_depth=20, splitter='random')"
      ]
     },
     "execution_count": 170,
     "metadata": {},
     "output_type": "execute_result"
    }
   ],
   "source": [
    "rsc.best_estimator_"
   ]
  },
  {
   "cell_type": "code",
   "execution_count": 171,
   "id": "9ceb06a6",
   "metadata": {},
   "outputs": [
    {
     "data": {
      "text/plain": [
       "1.0"
      ]
     },
     "execution_count": 171,
     "metadata": {},
     "output_type": "execute_result"
    }
   ],
   "source": [
    "rsc.best_score_"
   ]
  },
  {
   "cell_type": "code",
   "execution_count": null,
   "id": "33174279",
   "metadata": {},
   "outputs": [],
   "source": []
  }
 ],
 "metadata": {
  "kernelspec": {
   "display_name": "Python 3 (ipykernel)",
   "language": "python",
   "name": "python3"
  },
  "language_info": {
   "codemirror_mode": {
    "name": "ipython",
    "version": 3
   },
   "file_extension": ".py",
   "mimetype": "text/x-python",
   "name": "python",
   "nbconvert_exporter": "python",
   "pygments_lexer": "ipython3",
   "version": "3.9.7"
  }
 },
 "nbformat": 4,
 "nbformat_minor": 5
}
