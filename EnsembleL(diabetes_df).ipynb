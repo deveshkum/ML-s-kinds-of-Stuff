{
 "cells": [
  {
   "cell_type": "code",
   "execution_count": 201,
   "id": "ce7ac26f",
   "metadata": {},
   "outputs": [],
   "source": [
    "import numpy as np\n",
    "import pandas as pd"
   ]
  },
  {
   "cell_type": "code",
   "execution_count": 203,
   "id": "703acd59",
   "metadata": {},
   "outputs": [],
   "source": [
    "df = pd.read_csv(\"/Users/dev/Personal/DS & AI Class Notes/Data Sets/Logistic Regression/diabetes.csv\")"
   ]
  },
  {
   "cell_type": "code",
   "execution_count": 204,
   "id": "71f8c05c",
   "metadata": {},
   "outputs": [
    {
     "data": {
      "text/plain": [
       "Pregnancies                 0\n",
       "Glucose                     0\n",
       "BloodPressure               0\n",
       "SkinThickness               0\n",
       "Insulin                     0\n",
       "BMI                         0\n",
       "DiabetesPedigreeFunction    0\n",
       "Age                         0\n",
       "Outcome                     0\n",
       "dtype: int64"
      ]
     },
     "execution_count": 204,
     "metadata": {},
     "output_type": "execute_result"
    }
   ],
   "source": [
    "df.isna().sum()"
   ]
  },
  {
   "cell_type": "markdown",
   "id": "5d4a9001",
   "metadata": {},
   "source": [
    "### Func for Checking Zeros"
   ]
  },
  {
   "cell_type": "code",
   "execution_count": 205,
   "id": "dc56f0e2",
   "metadata": {},
   "outputs": [],
   "source": [
    "def checkz(df):\n",
    "    return df[df == 0].value_counts()"
   ]
  },
  {
   "cell_type": "code",
   "execution_count": 206,
   "id": "0ae43974",
   "metadata": {},
   "outputs": [
    {
     "name": "stdout",
     "output_type": "stream",
     "text": [
      "0    111\n",
      "Name: Pregnancies, dtype: int64\n",
      "0    5\n",
      "Name: Glucose, dtype: int64\n",
      "0    35\n",
      "Name: BloodPressure, dtype: int64\n",
      "0    227\n",
      "Name: SkinThickness, dtype: int64\n",
      "0    374\n",
      "Name: Insulin, dtype: int64\n",
      "0.0    11\n",
      "Name: BMI, dtype: int64\n",
      "Series([], Name: DiabetesPedigreeFunction, dtype: int64)\n",
      "Series([], Name: Age, dtype: int64)\n",
      "0    500\n",
      "Name: Outcome, dtype: int64\n"
     ]
    }
   ],
   "source": [
    "for i in df.columns:\n",
    "    print(checkz(df[i]))"
   ]
  },
  {
   "cell_type": "code",
   "execution_count": 207,
   "id": "09e1bafe",
   "metadata": {},
   "outputs": [],
   "source": [
    "clist = ['Pregnancies', 'Glucose', 'BloodPressure', 'SkinThickness', 'Insulin','BMI', 'DiabetesPedigreeFunction', 'Age']"
   ]
  },
  {
   "cell_type": "markdown",
   "id": "615d4118",
   "metadata": {},
   "source": [
    "### Func for Removing Zeros"
   ]
  },
  {
   "cell_type": "code",
   "execution_count": 208,
   "id": "52f23761",
   "metadata": {},
   "outputs": [],
   "source": [
    "def zeroremove(df):\n",
    "    m = round(df.mean(),2)\n",
    "    df.replace(0,m,inplace = True) "
   ]
  },
  {
   "cell_type": "code",
   "execution_count": 209,
   "id": "269c6c8d",
   "metadata": {},
   "outputs": [],
   "source": [
    "for i in clist:\n",
    "    zeroremove(df[i])"
   ]
  },
  {
   "cell_type": "markdown",
   "id": "95626288",
   "metadata": {},
   "source": [
    "### Outcome is already having the  2 output (i.e 0 & 1 ) that's why...i didn't apply the func on Outcome Col."
   ]
  },
  {
   "cell_type": "code",
   "execution_count": 210,
   "id": "d643588c",
   "metadata": {
    "scrolled": true
   },
   "outputs": [
    {
     "name": "stdout",
     "output_type": "stream",
     "text": [
      "Series([], Name: Pregnancies, dtype: int64)\n",
      "Series([], Name: Glucose, dtype: int64)\n",
      "Series([], Name: BloodPressure, dtype: int64)\n",
      "Series([], Name: SkinThickness, dtype: int64)\n",
      "Series([], Name: Insulin, dtype: int64)\n",
      "Series([], Name: BMI, dtype: int64)\n",
      "Series([], Name: DiabetesPedigreeFunction, dtype: int64)\n",
      "Series([], Name: Age, dtype: int64)\n",
      "0    500\n",
      "Name: Outcome, dtype: int64\n"
     ]
    }
   ],
   "source": [
    "for i in df.columns:\n",
    "    print(checkz(df[i]))"
   ]
  },
  {
   "cell_type": "markdown",
   "id": "4c35a03a",
   "metadata": {},
   "source": [
    "## OD Tech"
   ]
  },
  {
   "cell_type": "code",
   "execution_count": 211,
   "id": "5478eac5",
   "metadata": {},
   "outputs": [],
   "source": [
    "def odiqr(df):\n",
    "    q1 = df.quantile(0.25)\n",
    "    q3 = df.quantile(0.75)\n",
    "    iqr = q3 - q1\n",
    "    low = q1 - (1.5 * iqr)\n",
    "    high = q3 + (1.5 * iqr)\n",
    "    m = df.mean()\n",
    "    df = df.apply(lambda x : m if x < low else (m if x > high else x ) )\n",
    "    return df"
   ]
  },
  {
   "cell_type": "code",
   "execution_count": 212,
   "id": "25b729ef",
   "metadata": {},
   "outputs": [],
   "source": [
    "def odmsd(df):\n",
    "    m = round(df.mean(),2)\n",
    "    s = round(df.std(),2)\n",
    "    low = round(m-(3*s),2)\n",
    "    high = round(m+(3*s),2)\n",
    "    ft1 = df[df<low]\n",
    "    ft2 = df[df>high]\n",
    "    df = df.map(lambda x : low if x < low else (high if x > high else x ))"
   ]
  },
  {
   "cell_type": "markdown",
   "id": "60c486ba",
   "metadata": {},
   "source": [
    "### Checking Skew of Each Columns"
   ]
  },
  {
   "cell_type": "code",
   "execution_count": 213,
   "id": "921a075f",
   "metadata": {},
   "outputs": [
    {
     "name": "stdout",
     "output_type": "stream",
     "text": [
      "Pregnancies is 1.0413081819820824\n",
      "Glucose is 0.5332276258075371\n",
      "BloodPressure is 0.17300471264838402\n",
      "SkinThickness is 1.2267253970099732\n",
      "Insulin is 3.2918295090631706\n",
      "BMI is 0.6011186113949238\n",
      "DiabetesPedigreeFunction is 1.919911066307204\n",
      "Age is 1.1295967011444805\n",
      "Outcome is 0.635016643444986\n"
     ]
    }
   ],
   "source": [
    "for i in df.columns:\n",
    "    print(f'{i} is {df[i].skew()}')"
   ]
  },
  {
   "cell_type": "markdown",
   "id": "79b895bf",
   "metadata": {},
   "source": [
    "### Applying Func for Skew"
   ]
  },
  {
   "cell_type": "code",
   "execution_count": 214,
   "id": "f6785003",
   "metadata": {},
   "outputs": [],
   "source": [
    "for i in df.columns:\n",
    "    if df[i].skew() <= 0.5:\n",
    "        odmsd(df[i])\n",
    "    else:\n",
    "        df[i] = odiqr(df[i])"
   ]
  },
  {
   "cell_type": "markdown",
   "id": "b976f2d4",
   "metadata": {},
   "source": [
    "### After applying IQR on clist Columns the Skew is...\n"
   ]
  },
  {
   "cell_type": "code",
   "execution_count": 215,
   "id": "2d989e38",
   "metadata": {},
   "outputs": [
    {
     "name": "stdout",
     "output_type": "stream",
     "text": [
      "Pregnancies is 0.8364127708246099\n",
      "Glucose is 0.5332276258075371\n",
      "BloodPressure is 0.17300471264838402\n",
      "SkinThickness is 0.6153800987519674\n",
      "Insulin is 1.0069907744811908\n",
      "BMI is 0.25673836714268067\n",
      "DiabetesPedigreeFunction is 0.912098278969851\n",
      "Age is 1.0283798090717455\n",
      "Outcome is 0.635016643444986\n"
     ]
    }
   ],
   "source": [
    "for i in df.columns:\n",
    "    print(f'{i} is {df[i].skew()}')"
   ]
  },
  {
   "cell_type": "code",
   "execution_count": 216,
   "id": "32669761",
   "metadata": {},
   "outputs": [
    {
     "data": {
      "text/html": [
       "<div>\n",
       "<style scoped>\n",
       "    .dataframe tbody tr th:only-of-type {\n",
       "        vertical-align: middle;\n",
       "    }\n",
       "\n",
       "    .dataframe tbody tr th {\n",
       "        vertical-align: top;\n",
       "    }\n",
       "\n",
       "    .dataframe thead th {\n",
       "        text-align: right;\n",
       "    }\n",
       "</style>\n",
       "<table border=\"1\" class=\"dataframe\">\n",
       "  <thead>\n",
       "    <tr style=\"text-align: right;\">\n",
       "      <th></th>\n",
       "      <th>Pregnancies</th>\n",
       "      <th>Glucose</th>\n",
       "      <th>BloodPressure</th>\n",
       "      <th>SkinThickness</th>\n",
       "      <th>Insulin</th>\n",
       "      <th>BMI</th>\n",
       "      <th>DiabetesPedigreeFunction</th>\n",
       "      <th>Age</th>\n",
       "      <th>Outcome</th>\n",
       "    </tr>\n",
       "  </thead>\n",
       "  <tbody>\n",
       "    <tr>\n",
       "      <th>0</th>\n",
       "      <td>6.00</td>\n",
       "      <td>148.0</td>\n",
       "      <td>72.0</td>\n",
       "      <td>35.00</td>\n",
       "      <td>79.8</td>\n",
       "      <td>33.6</td>\n",
       "      <td>0.627000</td>\n",
       "      <td>50.0</td>\n",
       "      <td>1</td>\n",
       "    </tr>\n",
       "    <tr>\n",
       "      <th>1</th>\n",
       "      <td>1.00</td>\n",
       "      <td>85.0</td>\n",
       "      <td>66.0</td>\n",
       "      <td>29.00</td>\n",
       "      <td>79.8</td>\n",
       "      <td>26.6</td>\n",
       "      <td>0.351000</td>\n",
       "      <td>31.0</td>\n",
       "      <td>0</td>\n",
       "    </tr>\n",
       "    <tr>\n",
       "      <th>2</th>\n",
       "      <td>8.00</td>\n",
       "      <td>183.0</td>\n",
       "      <td>64.0</td>\n",
       "      <td>20.54</td>\n",
       "      <td>79.8</td>\n",
       "      <td>23.3</td>\n",
       "      <td>0.672000</td>\n",
       "      <td>32.0</td>\n",
       "      <td>1</td>\n",
       "    </tr>\n",
       "    <tr>\n",
       "      <th>3</th>\n",
       "      <td>1.00</td>\n",
       "      <td>89.0</td>\n",
       "      <td>66.0</td>\n",
       "      <td>23.00</td>\n",
       "      <td>94.0</td>\n",
       "      <td>28.1</td>\n",
       "      <td>0.167000</td>\n",
       "      <td>21.0</td>\n",
       "      <td>0</td>\n",
       "    </tr>\n",
       "    <tr>\n",
       "      <th>4</th>\n",
       "      <td>3.85</td>\n",
       "      <td>137.0</td>\n",
       "      <td>40.0</td>\n",
       "      <td>35.00</td>\n",
       "      <td>168.0</td>\n",
       "      <td>43.1</td>\n",
       "      <td>0.471876</td>\n",
       "      <td>33.0</td>\n",
       "      <td>1</td>\n",
       "    </tr>\n",
       "    <tr>\n",
       "      <th>...</th>\n",
       "      <td>...</td>\n",
       "      <td>...</td>\n",
       "      <td>...</td>\n",
       "      <td>...</td>\n",
       "      <td>...</td>\n",
       "      <td>...</td>\n",
       "      <td>...</td>\n",
       "      <td>...</td>\n",
       "      <td>...</td>\n",
       "    </tr>\n",
       "    <tr>\n",
       "      <th>763</th>\n",
       "      <td>10.00</td>\n",
       "      <td>101.0</td>\n",
       "      <td>76.0</td>\n",
       "      <td>48.00</td>\n",
       "      <td>180.0</td>\n",
       "      <td>32.9</td>\n",
       "      <td>0.171000</td>\n",
       "      <td>63.0</td>\n",
       "      <td>0</td>\n",
       "    </tr>\n",
       "    <tr>\n",
       "      <th>764</th>\n",
       "      <td>2.00</td>\n",
       "      <td>122.0</td>\n",
       "      <td>70.0</td>\n",
       "      <td>27.00</td>\n",
       "      <td>79.8</td>\n",
       "      <td>36.8</td>\n",
       "      <td>0.340000</td>\n",
       "      <td>27.0</td>\n",
       "      <td>0</td>\n",
       "    </tr>\n",
       "    <tr>\n",
       "      <th>765</th>\n",
       "      <td>5.00</td>\n",
       "      <td>121.0</td>\n",
       "      <td>72.0</td>\n",
       "      <td>23.00</td>\n",
       "      <td>112.0</td>\n",
       "      <td>26.2</td>\n",
       "      <td>0.245000</td>\n",
       "      <td>30.0</td>\n",
       "      <td>0</td>\n",
       "    </tr>\n",
       "    <tr>\n",
       "      <th>766</th>\n",
       "      <td>1.00</td>\n",
       "      <td>126.0</td>\n",
       "      <td>60.0</td>\n",
       "      <td>20.54</td>\n",
       "      <td>79.8</td>\n",
       "      <td>30.1</td>\n",
       "      <td>0.349000</td>\n",
       "      <td>47.0</td>\n",
       "      <td>1</td>\n",
       "    </tr>\n",
       "    <tr>\n",
       "      <th>767</th>\n",
       "      <td>1.00</td>\n",
       "      <td>93.0</td>\n",
       "      <td>70.0</td>\n",
       "      <td>31.00</td>\n",
       "      <td>79.8</td>\n",
       "      <td>30.4</td>\n",
       "      <td>0.315000</td>\n",
       "      <td>23.0</td>\n",
       "      <td>0</td>\n",
       "    </tr>\n",
       "  </tbody>\n",
       "</table>\n",
       "<p>768 rows × 9 columns</p>\n",
       "</div>"
      ],
      "text/plain": [
       "     Pregnancies  Glucose  BloodPressure  SkinThickness  Insulin   BMI  \\\n",
       "0           6.00    148.0           72.0          35.00     79.8  33.6   \n",
       "1           1.00     85.0           66.0          29.00     79.8  26.6   \n",
       "2           8.00    183.0           64.0          20.54     79.8  23.3   \n",
       "3           1.00     89.0           66.0          23.00     94.0  28.1   \n",
       "4           3.85    137.0           40.0          35.00    168.0  43.1   \n",
       "..           ...      ...            ...            ...      ...   ...   \n",
       "763        10.00    101.0           76.0          48.00    180.0  32.9   \n",
       "764         2.00    122.0           70.0          27.00     79.8  36.8   \n",
       "765         5.00    121.0           72.0          23.00    112.0  26.2   \n",
       "766         1.00    126.0           60.0          20.54     79.8  30.1   \n",
       "767         1.00     93.0           70.0          31.00     79.8  30.4   \n",
       "\n",
       "     DiabetesPedigreeFunction   Age  Outcome  \n",
       "0                    0.627000  50.0        1  \n",
       "1                    0.351000  31.0        0  \n",
       "2                    0.672000  32.0        1  \n",
       "3                    0.167000  21.0        0  \n",
       "4                    0.471876  33.0        1  \n",
       "..                        ...   ...      ...  \n",
       "763                  0.171000  63.0        0  \n",
       "764                  0.340000  27.0        0  \n",
       "765                  0.245000  30.0        0  \n",
       "766                  0.349000  47.0        1  \n",
       "767                  0.315000  23.0        0  \n",
       "\n",
       "[768 rows x 9 columns]"
      ]
     },
     "execution_count": 216,
     "metadata": {},
     "output_type": "execute_result"
    }
   ],
   "source": [
    "df"
   ]
  },
  {
   "cell_type": "code",
   "execution_count": 217,
   "id": "b1e62140",
   "metadata": {},
   "outputs": [],
   "source": [
    "X = df.drop(\"Outcome\",axis=1)"
   ]
  },
  {
   "cell_type": "code",
   "execution_count": 218,
   "id": "0927ca6c",
   "metadata": {},
   "outputs": [
    {
     "data": {
      "text/html": [
       "<div>\n",
       "<style scoped>\n",
       "    .dataframe tbody tr th:only-of-type {\n",
       "        vertical-align: middle;\n",
       "    }\n",
       "\n",
       "    .dataframe tbody tr th {\n",
       "        vertical-align: top;\n",
       "    }\n",
       "\n",
       "    .dataframe thead th {\n",
       "        text-align: right;\n",
       "    }\n",
       "</style>\n",
       "<table border=\"1\" class=\"dataframe\">\n",
       "  <thead>\n",
       "    <tr style=\"text-align: right;\">\n",
       "      <th></th>\n",
       "      <th>Pregnancies</th>\n",
       "      <th>Glucose</th>\n",
       "      <th>BloodPressure</th>\n",
       "      <th>SkinThickness</th>\n",
       "      <th>Insulin</th>\n",
       "      <th>BMI</th>\n",
       "      <th>DiabetesPedigreeFunction</th>\n",
       "      <th>Age</th>\n",
       "    </tr>\n",
       "  </thead>\n",
       "  <tbody>\n",
       "    <tr>\n",
       "      <th>463</th>\n",
       "      <td>5.0</td>\n",
       "      <td>88.0</td>\n",
       "      <td>78.0</td>\n",
       "      <td>30.0</td>\n",
       "      <td>79.8</td>\n",
       "      <td>27.6</td>\n",
       "      <td>0.258</td>\n",
       "      <td>37.0</td>\n",
       "    </tr>\n",
       "  </tbody>\n",
       "</table>\n",
       "</div>"
      ],
      "text/plain": [
       "     Pregnancies  Glucose  BloodPressure  SkinThickness  Insulin   BMI  \\\n",
       "463          5.0     88.0           78.0           30.0     79.8  27.6   \n",
       "\n",
       "     DiabetesPedigreeFunction   Age  \n",
       "463                     0.258  37.0  "
      ]
     },
     "execution_count": 218,
     "metadata": {},
     "output_type": "execute_result"
    }
   ],
   "source": [
    "X.sample()"
   ]
  },
  {
   "cell_type": "code",
   "execution_count": 219,
   "id": "94c642dd",
   "metadata": {},
   "outputs": [],
   "source": [
    "y = df[\"Outcome\"]"
   ]
  },
  {
   "cell_type": "code",
   "execution_count": 220,
   "id": "fb5be6e0",
   "metadata": {},
   "outputs": [
    {
     "data": {
      "text/plain": [
       "399    1\n",
       "Name: Outcome, dtype: int64"
      ]
     },
     "execution_count": 220,
     "metadata": {},
     "output_type": "execute_result"
    }
   ],
   "source": [
    "y.sample()"
   ]
  },
  {
   "cell_type": "code",
   "execution_count": 325,
   "id": "5aa0cf56",
   "metadata": {},
   "outputs": [],
   "source": [
    "from sklearn.model_selection import train_test_split\n",
    "from sklearn.preprocessing import StandardScaler\n",
    "from sklearn.model_selection import KFold , cross_val_score\n",
    "from sklearn.linear_model import LogisticRegression , LinearRegression\n",
    "from sklearn.svm import SVC\n",
    "from sklearn.tree import DecisionTreeClassifier \n",
    "from sklearn.neighbors import KNeighborsClassifier"
   ]
  },
  {
   "cell_type": "code",
   "execution_count": 326,
   "id": "821dc635",
   "metadata": {},
   "outputs": [],
   "source": [
    "Xtrain,Xtest,ytrain,ytest = train_test_split(X,y,test_size=.20)"
   ]
  },
  {
   "cell_type": "code",
   "execution_count": 327,
   "id": "01e6c2c9",
   "metadata": {},
   "outputs": [
    {
     "data": {
      "text/plain": [
       "((768, 8), (614, 8), (154, 8))"
      ]
     },
     "execution_count": 327,
     "metadata": {},
     "output_type": "execute_result"
    }
   ],
   "source": [
    "X.shape , Xtrain.shape , Xtest.shape"
   ]
  },
  {
   "cell_type": "code",
   "execution_count": 328,
   "id": "513f645e",
   "metadata": {},
   "outputs": [
    {
     "data": {
      "text/plain": [
       "((768,), (614,), (154,))"
      ]
     },
     "execution_count": 328,
     "metadata": {},
     "output_type": "execute_result"
    }
   ],
   "source": [
    "y.shape , ytrain.shape , ytest.shape"
   ]
  },
  {
   "cell_type": "code",
   "execution_count": 329,
   "id": "50667942",
   "metadata": {},
   "outputs": [],
   "source": [
    "kf = KFold(n_splits=11)"
   ]
  },
  {
   "cell_type": "code",
   "execution_count": 330,
   "id": "a0c2e401",
   "metadata": {},
   "outputs": [],
   "source": [
    "logreg = LogisticRegression(max_iter=1000)"
   ]
  },
  {
   "cell_type": "code",
   "execution_count": 331,
   "id": "9fa8e766",
   "metadata": {},
   "outputs": [],
   "source": [
    "linreg = LinearRegression()"
   ]
  },
  {
   "cell_type": "code",
   "execution_count": 332,
   "id": "d0b5dd43",
   "metadata": {},
   "outputs": [],
   "source": [
    "sv = SVC()"
   ]
  },
  {
   "cell_type": "code",
   "execution_count": 333,
   "id": "521ecce2",
   "metadata": {},
   "outputs": [],
   "source": [
    "dct = DecisionTreeClassifier()"
   ]
  },
  {
   "cell_type": "code",
   "execution_count": 334,
   "id": "4adbaa53",
   "metadata": {},
   "outputs": [],
   "source": [
    "knn = KNeighborsClassifier()"
   ]
  },
  {
   "cell_type": "code",
   "execution_count": 335,
   "id": "ef25aecb",
   "metadata": {},
   "outputs": [],
   "source": [
    "mul = MultinomialNB()"
   ]
  },
  {
   "cell_type": "code",
   "execution_count": 336,
   "id": "2cccf5ac",
   "metadata": {},
   "outputs": [],
   "source": [
    "algo = [logreg , linreg , sv , dct , knn ]"
   ]
  },
  {
   "cell_type": "markdown",
   "id": "2474f547",
   "metadata": {},
   "source": [
    "### Without Feature Scaling"
   ]
  },
  {
   "cell_type": "code",
   "execution_count": 337,
   "id": "3c896d6f",
   "metadata": {},
   "outputs": [
    {
     "name": "stdout",
     "output_type": "stream",
     "text": [
      "LogisticRegression(max_iter=1000) = 0.7402597402597403\n",
      "LinearRegression() = 0.29610955674019845\n",
      "SVC() = 0.7272727272727273\n",
      "DecisionTreeClassifier() = 0.6818181818181818\n",
      "KNeighborsClassifier() = 0.7337662337662337\n"
     ]
    }
   ],
   "source": [
    "for i in algo:\n",
    "    i.fit(Xtrain,ytrain)\n",
    "    s = i.score(Xtest,ytest)\n",
    "    print(f'{i} = {s}')"
   ]
  },
  {
   "cell_type": "markdown",
   "id": "199c1c1d",
   "metadata": {},
   "source": [
    "### With Feature Scaling"
   ]
  },
  {
   "cell_type": "code",
   "execution_count": 338,
   "id": "f4a3c8af",
   "metadata": {},
   "outputs": [],
   "source": [
    "ss = StandardScaler()"
   ]
  },
  {
   "cell_type": "code",
   "execution_count": 339,
   "id": "e0a9b8cf",
   "metadata": {},
   "outputs": [
    {
     "data": {
      "text/plain": [
       "StandardScaler()"
      ]
     },
     "execution_count": 339,
     "metadata": {},
     "output_type": "execute_result"
    }
   ],
   "source": [
    "ss.fit(Xtrain)"
   ]
  },
  {
   "cell_type": "code",
   "execution_count": 340,
   "id": "ce170509",
   "metadata": {},
   "outputs": [],
   "source": [
    "Xtrain_ss = ss.transform(Xtrain)"
   ]
  },
  {
   "cell_type": "code",
   "execution_count": 341,
   "id": "af4514b2",
   "metadata": {},
   "outputs": [],
   "source": [
    "Xtest_ss = ss.transform(Xtest)"
   ]
  },
  {
   "cell_type": "code",
   "execution_count": 342,
   "id": "8c99ae9b",
   "metadata": {},
   "outputs": [
    {
     "name": "stdout",
     "output_type": "stream",
     "text": [
      "LogisticRegression(max_iter=1000) = 0.7467532467532467\n",
      "LinearRegression() = 0.29610955674019845\n",
      "SVC() = 0.7272727272727273\n",
      "DecisionTreeClassifier() = 0.7077922077922078\n",
      "KNeighborsClassifier() = 0.7532467532467533\n"
     ]
    }
   ],
   "source": [
    "for i in algo:\n",
    "    i.fit(Xtrain_ss,ytrain)\n",
    "    s = i.score(Xtest_ss,ytest)\n",
    "    print(f'{i} = {s}')"
   ]
  },
  {
   "cell_type": "markdown",
   "id": "f9ad0884",
   "metadata": {},
   "source": [
    "### With Cross Validation"
   ]
  },
  {
   "cell_type": "code",
   "execution_count": 343,
   "id": "d98b5ed1",
   "metadata": {},
   "outputs": [
    {
     "name": "stdout",
     "output_type": "stream",
     "text": [
      "LogisticRegression(max_iter=1000) = 0.7669301712779973\n",
      "LinearRegression() = 0.28399915973128154\n",
      "SVC() = 0.7474684735554301\n",
      "DecisionTreeClassifier() = 0.6836250705815924\n",
      "KNeighborsClassifier() = 0.7187088274044796\n"
     ]
    }
   ],
   "source": [
    "for i in algo:\n",
    "    s = cross_val_score(i,X,y,cv = kf)\n",
    "    print(f'{i} = {s.mean()}')"
   ]
  },
  {
   "cell_type": "markdown",
   "id": "ef63d7f8",
   "metadata": {},
   "source": [
    "## With Boosting "
   ]
  },
  {
   "cell_type": "code",
   "execution_count": 344,
   "id": "4ddb61dc",
   "metadata": {},
   "outputs": [],
   "source": [
    "from sklearn.ensemble import RandomForestClassifier , BaggingClassifier , AdaBoostClassifier , GradientBoostingClassifier "
   ]
  },
  {
   "cell_type": "code",
   "execution_count": 345,
   "id": "e3cef58e",
   "metadata": {},
   "outputs": [],
   "source": [
    "rfc = RandomForestClassifier(n_estimators=150,max_depth=3,max_leaf_nodes=4)"
   ]
  },
  {
   "cell_type": "code",
   "execution_count": 346,
   "id": "a3661c6a",
   "metadata": {},
   "outputs": [],
   "source": [
    "baggc = BaggingClassifier(base_estimator=DecisionTreeClassifier())"
   ]
  },
  {
   "cell_type": "code",
   "execution_count": 347,
   "id": "02527985",
   "metadata": {},
   "outputs": [],
   "source": [
    "adbst = AdaBoostClassifier()"
   ]
  },
  {
   "cell_type": "code",
   "execution_count": 348,
   "id": "df21e3c3",
   "metadata": {},
   "outputs": [],
   "source": [
    "gdbst = GradientBoostingClassifier()"
   ]
  },
  {
   "cell_type": "code",
   "execution_count": 349,
   "id": "cab5e845",
   "metadata": {},
   "outputs": [],
   "source": [
    "algo1 = [rfc , baggc , adbst , gdbst]"
   ]
  },
  {
   "cell_type": "code",
   "execution_count": 350,
   "id": "ca21fa97",
   "metadata": {},
   "outputs": [
    {
     "name": "stdout",
     "output_type": "stream",
     "text": [
      "RandomForestClassifier(max_depth=3, max_leaf_nodes=4, n_estimators=150)\n",
      "BaggingClassifier(base_estimator=DecisionTreeClassifier())\n",
      "AdaBoostClassifier()\n",
      "GradientBoostingClassifier()\n"
     ]
    }
   ],
   "source": [
    "for i in algo1:\n",
    "    print(i)"
   ]
  },
  {
   "cell_type": "markdown",
   "id": "46cb0295",
   "metadata": {},
   "source": [
    "### Without Feature Scaling"
   ]
  },
  {
   "cell_type": "code",
   "execution_count": 351,
   "id": "c9f2b4c4",
   "metadata": {},
   "outputs": [
    {
     "name": "stdout",
     "output_type": "stream",
     "text": [
      "RandomForestClassifier(max_depth=3, max_leaf_nodes=4, n_estimators=150) = 0.7467532467532467\n",
      "BaggingClassifier(base_estimator=DecisionTreeClassifier()) = 0.7142857142857143\n",
      "AdaBoostClassifier() = 0.7662337662337663\n",
      "GradientBoostingClassifier() = 0.7467532467532467\n"
     ]
    }
   ],
   "source": [
    "for i in algo1:\n",
    "    i.fit(Xtrain,ytrain)\n",
    "    s = i.score(Xtest,ytest)\n",
    "    print(f'{i} = {s}')"
   ]
  },
  {
   "cell_type": "markdown",
   "id": "2c38ca52",
   "metadata": {},
   "source": [
    "### With Feature Scaling"
   ]
  },
  {
   "cell_type": "code",
   "execution_count": 352,
   "id": "dce4bcf7",
   "metadata": {},
   "outputs": [
    {
     "name": "stdout",
     "output_type": "stream",
     "text": [
      "RandomForestClassifier(max_depth=3, max_leaf_nodes=4, n_estimators=150) = 0.7077922077922078\n",
      "BaggingClassifier(base_estimator=DecisionTreeClassifier()) = 0.7467532467532467\n",
      "AdaBoostClassifier() = 0.7662337662337663\n",
      "GradientBoostingClassifier() = 0.7532467532467533\n"
     ]
    }
   ],
   "source": [
    "for i in algo1:\n",
    "    i.fit(Xtrain_ss,ytrain)\n",
    "    s = i.score(Xtest_ss,ytest)\n",
    "    print(f'{i} = {s}')"
   ]
  },
  {
   "cell_type": "markdown",
   "id": "1c2a20c2",
   "metadata": {},
   "source": [
    "###  With Cross Validation (Boosting)"
   ]
  },
  {
   "cell_type": "code",
   "execution_count": 353,
   "id": "f088763b",
   "metadata": {},
   "outputs": [
    {
     "name": "stdout",
     "output_type": "stream",
     "text": [
      "RandomForestClassifier(max_depth=3, max_leaf_nodes=4, n_estimators=150) = 0.7408808582721627\n",
      "BaggingClassifier(base_estimator=DecisionTreeClassifier()) = 0.7368530020703933\n",
      "AdaBoostClassifier() = 0.7344814605684171\n",
      "GradientBoostingClassifier() = 0.7460756634669679\n"
     ]
    }
   ],
   "source": [
    "for i in algo1:\n",
    "    s = cross_val_score(i,X,y,cv = kf)\n",
    "    print(f'{i} = {s.mean()}')"
   ]
  },
  {
   "cell_type": "markdown",
   "id": "ceaab928",
   "metadata": {},
   "source": [
    "### With GridSearch CV"
   ]
  },
  {
   "cell_type": "code",
   "execution_count": 354,
   "id": "93028204",
   "metadata": {},
   "outputs": [],
   "source": [
    "from sklearn.model_selection import GridSearchCV ,RandomizedSearchCV "
   ]
  },
  {
   "cell_type": "code",
   "execution_count": 355,
   "id": "044a449b",
   "metadata": {},
   "outputs": [],
   "source": [
    "dic = { 'criterion' : ['gini','entropy'] , 'splitter' : [\"best\", \"random\"] , 'max_depth' : [5,9,15,20,25] }"
   ]
  },
  {
   "cell_type": "code",
   "execution_count": 356,
   "id": "e2dea143",
   "metadata": {},
   "outputs": [],
   "source": [
    "kf1 = KFold(n_splits=20)"
   ]
  },
  {
   "cell_type": "markdown",
   "id": "0fcdb651",
   "metadata": {},
   "source": [
    "### gvc Using without Feature Scaling"
   ]
  },
  {
   "cell_type": "code",
   "execution_count": 357,
   "id": "094f6efb",
   "metadata": {},
   "outputs": [],
   "source": [
    "gvc = GridSearchCV(DecisionTreeClassifier(),param_grid=dic,cv = kf1)"
   ]
  },
  {
   "cell_type": "code",
   "execution_count": 358,
   "id": "2eb628c2",
   "metadata": {
    "scrolled": true
   },
   "outputs": [
    {
     "data": {
      "text/plain": [
       "GridSearchCV(cv=KFold(n_splits=20, random_state=None, shuffle=False),\n",
       "             estimator=DecisionTreeClassifier(),\n",
       "             param_grid={'criterion': ['gini', 'entropy'],\n",
       "                         'max_depth': [5, 9, 15, 20, 25],\n",
       "                         'splitter': ['best', 'random']})"
      ]
     },
     "execution_count": 358,
     "metadata": {},
     "output_type": "execute_result"
    }
   ],
   "source": [
    "gvc.fit(X,y)"
   ]
  },
  {
   "cell_type": "code",
   "execution_count": 359,
   "id": "c1acad03",
   "metadata": {},
   "outputs": [
    {
     "data": {
      "text/plain": [
       "{'criterion': 'gini', 'max_depth': 5, 'splitter': 'random'}"
      ]
     },
     "execution_count": 359,
     "metadata": {},
     "output_type": "execute_result"
    }
   ],
   "source": [
    "gvc.best_params_"
   ]
  },
  {
   "cell_type": "code",
   "execution_count": 360,
   "id": "3a2d43e9",
   "metadata": {},
   "outputs": [
    {
     "data": {
      "text/plain": [
       "DecisionTreeClassifier(max_depth=5, splitter='random')"
      ]
     },
     "execution_count": 360,
     "metadata": {},
     "output_type": "execute_result"
    }
   ],
   "source": [
    "gvc.best_estimator_"
   ]
  },
  {
   "cell_type": "code",
   "execution_count": 361,
   "id": "8145c5ac",
   "metadata": {},
   "outputs": [
    {
     "data": {
      "text/plain": [
       "0.7489541160593791"
      ]
     },
     "execution_count": 361,
     "metadata": {},
     "output_type": "execute_result"
    }
   ],
   "source": [
    "gvc.best_score_"
   ]
  },
  {
   "cell_type": "markdown",
   "id": "b9a0e324",
   "metadata": {},
   "source": [
    "### gvc Using with Feature Scaling\n"
   ]
  },
  {
   "cell_type": "code",
   "execution_count": 362,
   "id": "b5e7f87e",
   "metadata": {},
   "outputs": [],
   "source": [
    "ss1 = StandardScaler()\n",
    "X_ss1 = ss1.fit_transform(X)"
   ]
  },
  {
   "cell_type": "code",
   "execution_count": 363,
   "id": "d185bcc1",
   "metadata": {},
   "outputs": [],
   "source": [
    "gvc1 = GridSearchCV(DecisionTreeClassifier(),param_grid=dic,cv = kf1)"
   ]
  },
  {
   "cell_type": "code",
   "execution_count": 364,
   "id": "37bb72a9",
   "metadata": {},
   "outputs": [
    {
     "data": {
      "text/plain": [
       "GridSearchCV(cv=KFold(n_splits=20, random_state=None, shuffle=False),\n",
       "             estimator=DecisionTreeClassifier(),\n",
       "             param_grid={'criterion': ['gini', 'entropy'],\n",
       "                         'max_depth': [5, 9, 15, 20, 25],\n",
       "                         'splitter': ['best', 'random']})"
      ]
     },
     "execution_count": 364,
     "metadata": {},
     "output_type": "execute_result"
    }
   ],
   "source": [
    "gvc1.fit(X_ss1,y)"
   ]
  },
  {
   "cell_type": "code",
   "execution_count": 365,
   "id": "ad40af38",
   "metadata": {},
   "outputs": [
    {
     "data": {
      "text/plain": [
       "{'criterion': 'entropy', 'max_depth': 5, 'splitter': 'best'}"
      ]
     },
     "execution_count": 365,
     "metadata": {},
     "output_type": "execute_result"
    }
   ],
   "source": [
    "gvc1.best_params_"
   ]
  },
  {
   "cell_type": "code",
   "execution_count": 366,
   "id": "587b7874",
   "metadata": {},
   "outputs": [
    {
     "data": {
      "text/plain": [
       "DecisionTreeClassifier(criterion='entropy', max_depth=5)"
      ]
     },
     "execution_count": 366,
     "metadata": {},
     "output_type": "execute_result"
    }
   ],
   "source": [
    "gvc1.best_estimator_"
   ]
  },
  {
   "cell_type": "code",
   "execution_count": 367,
   "id": "1bae098f",
   "metadata": {},
   "outputs": [
    {
     "data": {
      "text/plain": [
       "0.7323211875843454"
      ]
     },
     "execution_count": 367,
     "metadata": {},
     "output_type": "execute_result"
    }
   ],
   "source": [
    "gvc1.best_score_"
   ]
  },
  {
   "cell_type": "markdown",
   "id": "f3a99957",
   "metadata": {},
   "source": [
    "### With Random Search CV"
   ]
  },
  {
   "cell_type": "code",
   "execution_count": 368,
   "id": "2e5813ea",
   "metadata": {},
   "outputs": [],
   "source": [
    "rsc =  RandomizedSearchCV(DecisionTreeClassifier(),param_distributions=dic,cv = kf1)"
   ]
  },
  {
   "cell_type": "markdown",
   "id": "0e4cc849",
   "metadata": {},
   "source": [
    "### rsc Using without Feature Scaling"
   ]
  },
  {
   "cell_type": "code",
   "execution_count": 369,
   "id": "d1ad4cae",
   "metadata": {},
   "outputs": [
    {
     "data": {
      "text/plain": [
       "RandomizedSearchCV(cv=KFold(n_splits=20, random_state=None, shuffle=False),\n",
       "                   estimator=DecisionTreeClassifier(),\n",
       "                   param_distributions={'criterion': ['gini', 'entropy'],\n",
       "                                        'max_depth': [5, 9, 15, 20, 25],\n",
       "                                        'splitter': ['best', 'random']})"
      ]
     },
     "execution_count": 369,
     "metadata": {},
     "output_type": "execute_result"
    }
   ],
   "source": [
    "rsc.fit(X,y)"
   ]
  },
  {
   "cell_type": "code",
   "execution_count": 370,
   "id": "6e17f596",
   "metadata": {},
   "outputs": [
    {
     "data": {
      "text/plain": [
       "{'splitter': 'random', 'max_depth': 5, 'criterion': 'entropy'}"
      ]
     },
     "execution_count": 370,
     "metadata": {},
     "output_type": "execute_result"
    }
   ],
   "source": [
    "rsc.best_params_"
   ]
  },
  {
   "cell_type": "code",
   "execution_count": 371,
   "id": "d9d943cd",
   "metadata": {},
   "outputs": [
    {
     "data": {
      "text/plain": [
       "DecisionTreeClassifier(criterion='entropy', max_depth=5, splitter='random')"
      ]
     },
     "execution_count": 371,
     "metadata": {},
     "output_type": "execute_result"
    }
   ],
   "source": [
    "rsc.best_estimator_"
   ]
  },
  {
   "cell_type": "code",
   "execution_count": 372,
   "id": "5075c86f",
   "metadata": {},
   "outputs": [
    {
     "data": {
      "text/plain": [
       "0.7464237516869096"
      ]
     },
     "execution_count": 372,
     "metadata": {},
     "output_type": "execute_result"
    }
   ],
   "source": [
    "rsc.best_score_"
   ]
  },
  {
   "cell_type": "markdown",
   "id": "031a756b",
   "metadata": {},
   "source": [
    "### rsc Using with Feature Scaling\n",
    "\n"
   ]
  },
  {
   "cell_type": "code",
   "execution_count": 373,
   "id": "bae8d978",
   "metadata": {},
   "outputs": [],
   "source": [
    "rsc1 =  RandomizedSearchCV(DecisionTreeClassifier(),param_distributions=dic,cv = kf1)"
   ]
  },
  {
   "cell_type": "code",
   "execution_count": 374,
   "id": "637c9299",
   "metadata": {},
   "outputs": [
    {
     "data": {
      "text/plain": [
       "RandomizedSearchCV(cv=KFold(n_splits=20, random_state=None, shuffle=False),\n",
       "                   estimator=DecisionTreeClassifier(),\n",
       "                   param_distributions={'criterion': ['gini', 'entropy'],\n",
       "                                        'max_depth': [5, 9, 15, 20, 25],\n",
       "                                        'splitter': ['best', 'random']})"
      ]
     },
     "execution_count": 374,
     "metadata": {},
     "output_type": "execute_result"
    }
   ],
   "source": [
    "rsc1.fit(X_ss1,y)"
   ]
  },
  {
   "cell_type": "code",
   "execution_count": 375,
   "id": "d2de1df4",
   "metadata": {},
   "outputs": [
    {
     "data": {
      "text/plain": [
       "{'splitter': 'random', 'max_depth': 5, 'criterion': 'entropy'}"
      ]
     },
     "execution_count": 375,
     "metadata": {},
     "output_type": "execute_result"
    }
   ],
   "source": [
    "rsc.best_params_"
   ]
  },
  {
   "cell_type": "code",
   "execution_count": 376,
   "id": "3f56cdf3",
   "metadata": {},
   "outputs": [
    {
     "data": {
      "text/plain": [
       "DecisionTreeClassifier(criterion='entropy', max_depth=5, splitter='random')"
      ]
     },
     "execution_count": 376,
     "metadata": {},
     "output_type": "execute_result"
    }
   ],
   "source": [
    "rsc.best_estimator_"
   ]
  },
  {
   "cell_type": "code",
   "execution_count": 377,
   "id": "9ceb06a6",
   "metadata": {},
   "outputs": [
    {
     "data": {
      "text/plain": [
       "0.7464237516869096"
      ]
     },
     "execution_count": 377,
     "metadata": {},
     "output_type": "execute_result"
    }
   ],
   "source": [
    "rsc.best_score_"
   ]
  },
  {
   "cell_type": "code",
   "execution_count": null,
   "id": "33174279",
   "metadata": {},
   "outputs": [],
   "source": []
  }
 ],
 "metadata": {
  "kernelspec": {
   "display_name": "Python 3 (ipykernel)",
   "language": "python",
   "name": "python3"
  },
  "language_info": {
   "codemirror_mode": {
    "name": "ipython",
    "version": 3
   },
   "file_extension": ".py",
   "mimetype": "text/x-python",
   "name": "python",
   "nbconvert_exporter": "python",
   "pygments_lexer": "ipython3",
   "version": "3.9.7"
  }
 },
 "nbformat": 4,
 "nbformat_minor": 5
}
