{
 "cells": [
  {
   "cell_type": "code",
   "execution_count": 40,
   "id": "bd952c20",
   "metadata": {},
   "outputs": [],
   "source": [
    "import numpy as np\n",
    "import pandas as pd"
   ]
  },
  {
   "cell_type": "code",
   "execution_count": 41,
   "id": "b47f0c6d",
   "metadata": {},
   "outputs": [],
   "source": [
    "df = pd.read_csv(\"/Users/dev/Personal/DS & AI Class Notes/Data Sets/Adaboost/creditcard.csv\")"
   ]
  },
  {
   "cell_type": "markdown",
   "id": "da1b255c",
   "metadata": {},
   "source": [
    "## Checking Balance of DF"
   ]
  },
  {
   "cell_type": "code",
   "execution_count": 42,
   "id": "d7af456b",
   "metadata": {},
   "outputs": [
    {
     "data": {
      "text/plain": [
       "0    284315\n",
       "1       492\n",
       "Name: Class, dtype: int64"
      ]
     },
     "execution_count": 42,
     "metadata": {},
     "output_type": "execute_result"
    }
   ],
   "source": [
    "df[\"Class\"].value_counts()"
   ]
  },
  {
   "cell_type": "code",
   "execution_count": 43,
   "id": "8a2d1190",
   "metadata": {},
   "outputs": [],
   "source": [
    "dfone = df[df[\"Class\"] ==1]"
   ]
  },
  {
   "cell_type": "code",
   "execution_count": 44,
   "id": "1b5b8254",
   "metadata": {},
   "outputs": [],
   "source": [
    "dfzero = df[df[\"Class\"] == 0].sample(492)"
   ]
  },
  {
   "cell_type": "code",
   "execution_count": 45,
   "id": "285f8e1a",
   "metadata": {},
   "outputs": [
    {
     "data": {
      "text/plain": [
       "((492, 31), (492, 31))"
      ]
     },
     "execution_count": 45,
     "metadata": {},
     "output_type": "execute_result"
    }
   ],
   "source": [
    "dfzero.shape,dfone.shape"
   ]
  },
  {
   "cell_type": "code",
   "execution_count": 49,
   "id": "a793f9bc",
   "metadata": {},
   "outputs": [],
   "source": [
    "df1 = pd.concat([dfone,dfzero])"
   ]
  },
  {
   "cell_type": "code",
   "execution_count": 55,
   "id": "b5543714",
   "metadata": {},
   "outputs": [],
   "source": [
    "df1 = df1.sample(frac=1)"
   ]
  },
  {
   "cell_type": "code",
   "execution_count": 64,
   "id": "2ff4d1e5",
   "metadata": {},
   "outputs": [
    {
     "data": {
      "text/plain": [
       "0    492\n",
       "1    492\n",
       "Name: Class, dtype: int64"
      ]
     },
     "execution_count": 64,
     "metadata": {},
     "output_type": "execute_result"
    }
   ],
   "source": [
    "df1[\"Class\"].value_counts()"
   ]
  },
  {
   "cell_type": "code",
   "execution_count": 65,
   "id": "e1d7d0b5",
   "metadata": {},
   "outputs": [],
   "source": [
    "def checkz(df):\n",
    "    return df[df == 0].value_counts()"
   ]
  },
  {
   "cell_type": "code",
   "execution_count": 66,
   "id": "b9456018",
   "metadata": {},
   "outputs": [
    {
     "name": "stdout",
     "output_type": "stream",
     "text": [
      "0.0    2\n",
      "Name: Time, dtype: int64\n",
      "Series([], Name: V1, dtype: int64)\n",
      "Series([], Name: V2, dtype: int64)\n",
      "Series([], Name: V3, dtype: int64)\n",
      "Series([], Name: V4, dtype: int64)\n",
      "Series([], Name: V5, dtype: int64)\n",
      "Series([], Name: V6, dtype: int64)\n",
      "Series([], Name: V7, dtype: int64)\n",
      "Series([], Name: V8, dtype: int64)\n",
      "Series([], Name: V9, dtype: int64)\n",
      "Series([], Name: V10, dtype: int64)\n",
      "Series([], Name: V11, dtype: int64)\n",
      "Series([], Name: V12, dtype: int64)\n",
      "Series([], Name: V13, dtype: int64)\n",
      "Series([], Name: V14, dtype: int64)\n",
      "Series([], Name: V15, dtype: int64)\n",
      "Series([], Name: V16, dtype: int64)\n",
      "Series([], Name: V17, dtype: int64)\n",
      "Series([], Name: V18, dtype: int64)\n",
      "Series([], Name: V19, dtype: int64)\n",
      "Series([], Name: V20, dtype: int64)\n",
      "Series([], Name: V21, dtype: int64)\n",
      "Series([], Name: V22, dtype: int64)\n",
      "Series([], Name: V23, dtype: int64)\n",
      "Series([], Name: V24, dtype: int64)\n",
      "Series([], Name: V25, dtype: int64)\n",
      "Series([], Name: V26, dtype: int64)\n",
      "Series([], Name: V27, dtype: int64)\n",
      "Series([], Name: V28, dtype: int64)\n",
      "0.0    1825\n",
      "Name: Amount, dtype: int64\n",
      "0    284315\n",
      "Name: Class, dtype: int64\n"
     ]
    }
   ],
   "source": [
    "for i in df1.columns:\n",
    "    print(checkz(df[i]))"
   ]
  },
  {
   "cell_type": "code",
   "execution_count": 68,
   "id": "2263a1a4",
   "metadata": {},
   "outputs": [
    {
     "data": {
      "text/plain": [
       "Index(['Time', 'V1', 'V2', 'V3', 'V4', 'V5', 'V6', 'V7', 'V8', 'V9', 'V10',\n",
       "       'V11', 'V12', 'V13', 'V14', 'V15', 'V16', 'V17', 'V18', 'V19', 'V20',\n",
       "       'V21', 'V22', 'V23', 'V24', 'V25', 'V26', 'V27', 'V28', 'Amount',\n",
       "       'Class'],\n",
       "      dtype='object')"
      ]
     },
     "execution_count": 68,
     "metadata": {},
     "output_type": "execute_result"
    }
   ],
   "source": [
    "df.columns"
   ]
  },
  {
   "cell_type": "code",
   "execution_count": 69,
   "id": "acc42531",
   "metadata": {
    "scrolled": false
   },
   "outputs": [],
   "source": [
    "clist = ['Time', 'V1', 'V2', 'V3', 'V4', 'V5', 'V6', 'V7', 'V8', 'V9', 'V10',\n",
    "       'V11', 'V12', 'V13', 'V14', 'V15', 'V16', 'V17', 'V18', 'V19', 'V20',\n",
    "       'V21', 'V22', 'V23', 'V24', 'V25', 'V26', 'V27', 'V28', 'Amount']"
   ]
  },
  {
   "cell_type": "code",
   "execution_count": 61,
   "id": "7dbbb649",
   "metadata": {},
   "outputs": [],
   "source": [
    "def zeroremove(df):\n",
    "    m = round(df.mean(),2)\n",
    "    df.replace(0,m,inplace = True)"
   ]
  },
  {
   "cell_type": "code",
   "execution_count": 62,
   "id": "13ba933c",
   "metadata": {},
   "outputs": [],
   "source": [
    "for i in clist:\n",
    "    zeroremove(df[i])"
   ]
  },
  {
   "cell_type": "code",
   "execution_count": 63,
   "id": "59e7e1e6",
   "metadata": {},
   "outputs": [
    {
     "name": "stdout",
     "output_type": "stream",
     "text": [
      "Series([], Name: Time, dtype: int64)\n",
      "Series([], Name: V1, dtype: int64)\n",
      "Series([], Name: V2, dtype: int64)\n",
      "Series([], Name: V3, dtype: int64)\n",
      "Series([], Name: V4, dtype: int64)\n",
      "Series([], Name: V5, dtype: int64)\n",
      "Series([], Name: V6, dtype: int64)\n",
      "Series([], Name: V7, dtype: int64)\n",
      "Series([], Name: V8, dtype: int64)\n",
      "Series([], Name: V9, dtype: int64)\n",
      "Series([], Name: V10, dtype: int64)\n",
      "Series([], Name: V11, dtype: int64)\n",
      "Series([], Name: V12, dtype: int64)\n",
      "Series([], Name: V13, dtype: int64)\n",
      "Series([], Name: V14, dtype: int64)\n",
      "Series([], Name: V15, dtype: int64)\n",
      "Series([], Name: V16, dtype: int64)\n",
      "Series([], Name: V17, dtype: int64)\n",
      "Series([], Name: V18, dtype: int64)\n",
      "Series([], Name: V19, dtype: int64)\n",
      "Series([], Name: V20, dtype: int64)\n",
      "Series([], Name: V21, dtype: int64)\n",
      "Series([], Name: V22, dtype: int64)\n",
      "Series([], Name: V23, dtype: int64)\n",
      "Series([], Name: V24, dtype: int64)\n",
      "Series([], Name: V25, dtype: int64)\n",
      "Series([], Name: V26, dtype: int64)\n",
      "Series([], Name: V27, dtype: int64)\n",
      "Series([], Name: V28, dtype: int64)\n",
      "Series([], Name: Amount, dtype: int64)\n",
      "0    284315\n",
      "Name: Class, dtype: int64\n"
     ]
    }
   ],
   "source": [
    "for i in df.columns:\n",
    "    print(checkz(df[i]))"
   ]
  },
  {
   "cell_type": "code",
   "execution_count": 70,
   "id": "655e6d62",
   "metadata": {},
   "outputs": [],
   "source": [
    "def odiqr(df):\n",
    "    q1 = df.quantile(0.25)\n",
    "    q3 = df.quantile(0.75)\n",
    "    iqr = q3 - q1\n",
    "    low = q1 - (1.5 * iqr)\n",
    "    high = q3 + (1.5 * iqr)\n",
    "    m = df.mean()\n",
    "    df = df.apply(lambda x : m if x < low else (m if x > high else x ) )\n",
    "    return df"
   ]
  },
  {
   "cell_type": "code",
   "execution_count": 75,
   "id": "f672095b",
   "metadata": {},
   "outputs": [],
   "source": [
    "def odmsd(df):\n",
    "    m = round(df.mean(),2)\n",
    "    s = round(df.std(),2)\n",
    "    low = round(m-(3*s),2)\n",
    "    high = round(m+(3*s),2)\n",
    "    ft1 = df[df<low]\n",
    "    ft2 = df[df>high]\n",
    "    df = df.map(lambda x : low if x < low else (high if x > high else x ))"
   ]
  },
  {
   "cell_type": "code",
   "execution_count": 76,
   "id": "49916f81",
   "metadata": {},
   "outputs": [
    {
     "name": "stdout",
     "output_type": "stream",
     "text": [
      "Time is 0.07432341681272475\n",
      "V1 is -2.6085603012232563\n",
      "V2 is 1.795575448827865\n",
      "V3 is -2.205329032930736\n",
      "V4 is 0.8331263321632946\n",
      "V5 is -2.266576127242939\n",
      "V6 is 0.46307224760809645\n",
      "V7 is -2.720576416278144\n",
      "V8 is -3.650602841072597\n",
      "V9 is -1.241290929614122\n",
      "V10 is -1.6644772673459114\n",
      "V11 is 1.0356462258545986\n",
      "V12 is -1.3542217291030367\n",
      "V13 is -0.002139172322972022\n",
      "V14 is -0.9992109456055122\n",
      "V15 is -0.5061684523317908\n",
      "V16 is -1.3976963866402168\n",
      "V17 is -1.5146368931966372\n",
      "V18 is -1.3967406999682332\n",
      "V19 is 0.4569547868693889\n",
      "V20 is 2.6496288833049473\n",
      "V21 is 3.8687825594559504\n",
      "V22 is -1.5511344378832106\n",
      "V23 is -6.626672076470413\n",
      "V24 is -0.4198966762428677\n",
      "V25 is -0.6464599374837476\n",
      "V26 is 0.6042073895389056\n",
      "V27 is -2.7159334283414918\n",
      "V28 is -0.04083312854155775\n",
      "Amount is 5.343839360229817\n"
     ]
    }
   ],
   "source": [
    "for i in clist:\n",
    "    print(f'{i} is {df1[i].skew()}')"
   ]
  },
  {
   "cell_type": "code",
   "execution_count": 77,
   "id": "f941cf64",
   "metadata": {},
   "outputs": [],
   "source": [
    "for i in df1.columns:\n",
    "    if df[i].skew() >= 0.5:\n",
    "        odmsd(df[i])\n",
    "    else:\n",
    "        df[i] = odiqr(df[i])"
   ]
  },
  {
   "cell_type": "code",
   "execution_count": 78,
   "id": "229f534d",
   "metadata": {},
   "outputs": [
    {
     "name": "stdout",
     "output_type": "stream",
     "text": [
      "Time is -0.0355676180063216\n",
      "V1 is -0.37913693857688197\n",
      "V2 is -0.05728061207137957\n",
      "V3 is -0.26369343036312826\n",
      "V4 is 0.676292097985747\n",
      "V5 is 0.09409192340543848\n",
      "V6 is 1.826580664998085\n",
      "V7 is 2.553907417429514\n",
      "V8 is 0.3636041497844991\n",
      "V9 is 0.5546797719063509\n",
      "V10 is 1.1871405899625278\n",
      "V11 is 0.07415694830329334\n",
      "V12 is -0.13988846437496277\n",
      "V13 is -0.015437466125834208\n",
      "V14 is -0.030474047058365247\n",
      "V15 is -0.18289543364369218\n",
      "V16 is -0.08353512476885572\n",
      "V17 is 0.26081261454438887\n",
      "V18 is 0.03988352840383541\n",
      "V19 is -0.04189898726108976\n",
      "V20 is 0.02690746913916284\n",
      "V21 is 3.5929911930778453\n",
      "V22 is 0.0014802093677941728\n",
      "V23 is 0.02945252844586551\n",
      "V24 is -0.4308098546898199\n",
      "V25 is -0.08182636098075079\n",
      "V26 is 0.5766926172084218\n",
      "V27 is 0.13318294605704664\n",
      "V28 is 11.19209119221281\n",
      "Amount is 16.977724453761024\n"
     ]
    }
   ],
   "source": [
    "for i in clist:\n",
    "    print(f'{i} is {df[i].skew()}')"
   ]
  },
  {
   "cell_type": "code",
   "execution_count": 80,
   "id": "c2230e52",
   "metadata": {},
   "outputs": [
    {
     "data": {
      "text/html": [
       "<div>\n",
       "<style scoped>\n",
       "    .dataframe tbody tr th:only-of-type {\n",
       "        vertical-align: middle;\n",
       "    }\n",
       "\n",
       "    .dataframe tbody tr th {\n",
       "        vertical-align: top;\n",
       "    }\n",
       "\n",
       "    .dataframe thead th {\n",
       "        text-align: right;\n",
       "    }\n",
       "</style>\n",
       "<table border=\"1\" class=\"dataframe\">\n",
       "  <thead>\n",
       "    <tr style=\"text-align: right;\">\n",
       "      <th></th>\n",
       "      <th>Time</th>\n",
       "      <th>V1</th>\n",
       "      <th>V2</th>\n",
       "      <th>V3</th>\n",
       "      <th>V4</th>\n",
       "      <th>V5</th>\n",
       "      <th>V6</th>\n",
       "      <th>V7</th>\n",
       "      <th>V8</th>\n",
       "      <th>V9</th>\n",
       "      <th>...</th>\n",
       "      <th>V21</th>\n",
       "      <th>V22</th>\n",
       "      <th>V23</th>\n",
       "      <th>V24</th>\n",
       "      <th>V25</th>\n",
       "      <th>V26</th>\n",
       "      <th>V27</th>\n",
       "      <th>V28</th>\n",
       "      <th>Amount</th>\n",
       "      <th>Class</th>\n",
       "    </tr>\n",
       "  </thead>\n",
       "  <tbody>\n",
       "    <tr>\n",
       "      <th>26382</th>\n",
       "      <td>34033.0</td>\n",
       "      <td>-1.508404</td>\n",
       "      <td>-0.182394</td>\n",
       "      <td>0.664991</td>\n",
       "      <td>-0.716993</td>\n",
       "      <td>-1.565775</td>\n",
       "      <td>0.515343</td>\n",
       "      <td>-3.759493</td>\n",
       "      <td>-5.995489</td>\n",
       "      <td>-2.824535</td>\n",
       "      <td>...</td>\n",
       "      <td>-1.716580</td>\n",
       "      <td>1.720219</td>\n",
       "      <td>1.144045</td>\n",
       "      <td>0.513956</td>\n",
       "      <td>-1.467814</td>\n",
       "      <td>-0.105248</td>\n",
       "      <td>0.562044</td>\n",
       "      <td>0.191321</td>\n",
       "      <td>8.70</td>\n",
       "      <td>0</td>\n",
       "    </tr>\n",
       "    <tr>\n",
       "      <th>231541</th>\n",
       "      <td>146803.0</td>\n",
       "      <td>1.837506</td>\n",
       "      <td>-0.460695</td>\n",
       "      <td>-0.429255</td>\n",
       "      <td>0.282574</td>\n",
       "      <td>-0.391341</td>\n",
       "      <td>0.012993</td>\n",
       "      <td>-0.465334</td>\n",
       "      <td>0.078779</td>\n",
       "      <td>0.848216</td>\n",
       "      <td>...</td>\n",
       "      <td>-0.085358</td>\n",
       "      <td>-0.251865</td>\n",
       "      <td>0.337428</td>\n",
       "      <td>0.748229</td>\n",
       "      <td>-0.432264</td>\n",
       "      <td>-0.687595</td>\n",
       "      <td>0.021947</td>\n",
       "      <td>-0.021178</td>\n",
       "      <td>65.24</td>\n",
       "      <td>0</td>\n",
       "    </tr>\n",
       "    <tr>\n",
       "      <th>220634</th>\n",
       "      <td>142251.0</td>\n",
       "      <td>-0.691135</td>\n",
       "      <td>0.890081</td>\n",
       "      <td>-0.230734</td>\n",
       "      <td>-0.494018</td>\n",
       "      <td>0.396162</td>\n",
       "      <td>-1.139473</td>\n",
       "      <td>0.872338</td>\n",
       "      <td>0.189297</td>\n",
       "      <td>-0.061377</td>\n",
       "      <td>...</td>\n",
       "      <td>-0.049749</td>\n",
       "      <td>-0.138564</td>\n",
       "      <td>0.122511</td>\n",
       "      <td>-0.127978</td>\n",
       "      <td>-0.580885</td>\n",
       "      <td>-0.622728</td>\n",
       "      <td>0.322298</td>\n",
       "      <td>0.185636</td>\n",
       "      <td>43.10</td>\n",
       "      <td>0</td>\n",
       "    </tr>\n",
       "    <tr>\n",
       "      <th>93420</th>\n",
       "      <td>64410.0</td>\n",
       "      <td>-0.635049</td>\n",
       "      <td>0.984151</td>\n",
       "      <td>1.597940</td>\n",
       "      <td>-0.162115</td>\n",
       "      <td>0.028175</td>\n",
       "      <td>-0.225490</td>\n",
       "      <td>0.495315</td>\n",
       "      <td>0.191361</td>\n",
       "      <td>-0.546149</td>\n",
       "      <td>...</td>\n",
       "      <td>-0.122560</td>\n",
       "      <td>-0.361647</td>\n",
       "      <td>0.039948</td>\n",
       "      <td>0.193351</td>\n",
       "      <td>-0.346938</td>\n",
       "      <td>0.059546</td>\n",
       "      <td>0.140212</td>\n",
       "      <td>0.105935</td>\n",
       "      <td>2.69</td>\n",
       "      <td>0</td>\n",
       "    </tr>\n",
       "    <tr>\n",
       "      <th>9487</th>\n",
       "      <td>14073.0</td>\n",
       "      <td>-4.153014</td>\n",
       "      <td>8.204797</td>\n",
       "      <td>-15.031714</td>\n",
       "      <td>10.330100</td>\n",
       "      <td>-3.994426</td>\n",
       "      <td>-3.250013</td>\n",
       "      <td>-10.415698</td>\n",
       "      <td>4.620804</td>\n",
       "      <td>-5.711248</td>\n",
       "      <td>...</td>\n",
       "      <td>1.976988</td>\n",
       "      <td>0.256510</td>\n",
       "      <td>0.485908</td>\n",
       "      <td>-1.198821</td>\n",
       "      <td>-0.526567</td>\n",
       "      <td>0.634874</td>\n",
       "      <td>1.627209</td>\n",
       "      <td>0.723235</td>\n",
       "      <td>1.00</td>\n",
       "      <td>1</td>\n",
       "    </tr>\n",
       "    <tr>\n",
       "      <th>...</th>\n",
       "      <td>...</td>\n",
       "      <td>...</td>\n",
       "      <td>...</td>\n",
       "      <td>...</td>\n",
       "      <td>...</td>\n",
       "      <td>...</td>\n",
       "      <td>...</td>\n",
       "      <td>...</td>\n",
       "      <td>...</td>\n",
       "      <td>...</td>\n",
       "      <td>...</td>\n",
       "      <td>...</td>\n",
       "      <td>...</td>\n",
       "      <td>...</td>\n",
       "      <td>...</td>\n",
       "      <td>...</td>\n",
       "      <td>...</td>\n",
       "      <td>...</td>\n",
       "      <td>...</td>\n",
       "      <td>...</td>\n",
       "      <td>...</td>\n",
       "    </tr>\n",
       "    <tr>\n",
       "      <th>255934</th>\n",
       "      <td>157467.0</td>\n",
       "      <td>-1.198221</td>\n",
       "      <td>-0.994297</td>\n",
       "      <td>-0.014804</td>\n",
       "      <td>0.160180</td>\n",
       "      <td>2.266832</td>\n",
       "      <td>-2.037787</td>\n",
       "      <td>0.238082</td>\n",
       "      <td>-0.249956</td>\n",
       "      <td>-0.166972</td>\n",
       "      <td>...</td>\n",
       "      <td>0.510673</td>\n",
       "      <td>1.113419</td>\n",
       "      <td>0.182022</td>\n",
       "      <td>-0.007916</td>\n",
       "      <td>-0.471744</td>\n",
       "      <td>-0.214778</td>\n",
       "      <td>-0.020552</td>\n",
       "      <td>0.049075</td>\n",
       "      <td>67.76</td>\n",
       "      <td>0</td>\n",
       "    </tr>\n",
       "    <tr>\n",
       "      <th>154694</th>\n",
       "      <td>102622.0</td>\n",
       "      <td>-2.877176</td>\n",
       "      <td>4.569649</td>\n",
       "      <td>-9.553069</td>\n",
       "      <td>4.441079</td>\n",
       "      <td>-3.653961</td>\n",
       "      <td>-1.877981</td>\n",
       "      <td>-3.514353</td>\n",
       "      <td>1.547608</td>\n",
       "      <td>-2.503304</td>\n",
       "      <td>...</td>\n",
       "      <td>1.272896</td>\n",
       "      <td>1.300268</td>\n",
       "      <td>-0.003950</td>\n",
       "      <td>-0.360848</td>\n",
       "      <td>-0.597526</td>\n",
       "      <td>-0.390901</td>\n",
       "      <td>0.592197</td>\n",
       "      <td>-0.241010</td>\n",
       "      <td>346.94</td>\n",
       "      <td>1</td>\n",
       "    </tr>\n",
       "    <tr>\n",
       "      <th>278058</th>\n",
       "      <td>168017.0</td>\n",
       "      <td>1.957778</td>\n",
       "      <td>-0.229079</td>\n",
       "      <td>-0.896589</td>\n",
       "      <td>0.124183</td>\n",
       "      <td>-0.274162</td>\n",
       "      <td>-0.228216</td>\n",
       "      <td>-0.659842</td>\n",
       "      <td>0.212668</td>\n",
       "      <td>1.147953</td>\n",
       "      <td>...</td>\n",
       "      <td>-0.222049</td>\n",
       "      <td>-0.579256</td>\n",
       "      <td>0.419039</td>\n",
       "      <td>0.545722</td>\n",
       "      <td>-0.560647</td>\n",
       "      <td>-0.329822</td>\n",
       "      <td>0.013613</td>\n",
       "      <td>-0.015389</td>\n",
       "      <td>0.92</td>\n",
       "      <td>0</td>\n",
       "    </tr>\n",
       "    <tr>\n",
       "      <th>163861</th>\n",
       "      <td>116258.0</td>\n",
       "      <td>-1.258358</td>\n",
       "      <td>-1.146954</td>\n",
       "      <td>1.518207</td>\n",
       "      <td>-3.264535</td>\n",
       "      <td>0.602702</td>\n",
       "      <td>1.196127</td>\n",
       "      <td>-0.505122</td>\n",
       "      <td>0.201515</td>\n",
       "      <td>-1.999455</td>\n",
       "      <td>...</td>\n",
       "      <td>-0.111850</td>\n",
       "      <td>0.293454</td>\n",
       "      <td>-0.436368</td>\n",
       "      <td>-1.639210</td>\n",
       "      <td>0.394880</td>\n",
       "      <td>-0.074586</td>\n",
       "      <td>-0.344104</td>\n",
       "      <td>-0.075189</td>\n",
       "      <td>42.00</td>\n",
       "      <td>0</td>\n",
       "    </tr>\n",
       "    <tr>\n",
       "      <th>183215</th>\n",
       "      <td>125703.0</td>\n",
       "      <td>1.999926</td>\n",
       "      <td>-0.368815</td>\n",
       "      <td>-0.460516</td>\n",
       "      <td>0.364296</td>\n",
       "      <td>-0.401536</td>\n",
       "      <td>-0.066027</td>\n",
       "      <td>-0.610919</td>\n",
       "      <td>0.003684</td>\n",
       "      <td>1.362559</td>\n",
       "      <td>...</td>\n",
       "      <td>0.182921</td>\n",
       "      <td>0.782565</td>\n",
       "      <td>0.121020</td>\n",
       "      <td>0.619970</td>\n",
       "      <td>-0.026599</td>\n",
       "      <td>-0.239056</td>\n",
       "      <td>0.041183</td>\n",
       "      <td>-0.029744</td>\n",
       "      <td>9.99</td>\n",
       "      <td>0</td>\n",
       "    </tr>\n",
       "  </tbody>\n",
       "</table>\n",
       "<p>984 rows × 31 columns</p>\n",
       "</div>"
      ],
      "text/plain": [
       "            Time        V1        V2         V3         V4        V5  \\\n",
       "26382    34033.0 -1.508404 -0.182394   0.664991  -0.716993 -1.565775   \n",
       "231541  146803.0  1.837506 -0.460695  -0.429255   0.282574 -0.391341   \n",
       "220634  142251.0 -0.691135  0.890081  -0.230734  -0.494018  0.396162   \n",
       "93420    64410.0 -0.635049  0.984151   1.597940  -0.162115  0.028175   \n",
       "9487     14073.0 -4.153014  8.204797 -15.031714  10.330100 -3.994426   \n",
       "...          ...       ...       ...        ...        ...       ...   \n",
       "255934  157467.0 -1.198221 -0.994297  -0.014804   0.160180  2.266832   \n",
       "154694  102622.0 -2.877176  4.569649  -9.553069   4.441079 -3.653961   \n",
       "278058  168017.0  1.957778 -0.229079  -0.896589   0.124183 -0.274162   \n",
       "163861  116258.0 -1.258358 -1.146954   1.518207  -3.264535  0.602702   \n",
       "183215  125703.0  1.999926 -0.368815  -0.460516   0.364296 -0.401536   \n",
       "\n",
       "              V6         V7        V8        V9  ...       V21       V22  \\\n",
       "26382   0.515343  -3.759493 -5.995489 -2.824535  ... -1.716580  1.720219   \n",
       "231541  0.012993  -0.465334  0.078779  0.848216  ... -0.085358 -0.251865   \n",
       "220634 -1.139473   0.872338  0.189297 -0.061377  ... -0.049749 -0.138564   \n",
       "93420  -0.225490   0.495315  0.191361 -0.546149  ... -0.122560 -0.361647   \n",
       "9487   -3.250013 -10.415698  4.620804 -5.711248  ...  1.976988  0.256510   \n",
       "...          ...        ...       ...       ...  ...       ...       ...   \n",
       "255934 -2.037787   0.238082 -0.249956 -0.166972  ...  0.510673  1.113419   \n",
       "154694 -1.877981  -3.514353  1.547608 -2.503304  ...  1.272896  1.300268   \n",
       "278058 -0.228216  -0.659842  0.212668  1.147953  ... -0.222049 -0.579256   \n",
       "163861  1.196127  -0.505122  0.201515 -1.999455  ... -0.111850  0.293454   \n",
       "183215 -0.066027  -0.610919  0.003684  1.362559  ...  0.182921  0.782565   \n",
       "\n",
       "             V23       V24       V25       V26       V27       V28  Amount  \\\n",
       "26382   1.144045  0.513956 -1.467814 -0.105248  0.562044  0.191321    8.70   \n",
       "231541  0.337428  0.748229 -0.432264 -0.687595  0.021947 -0.021178   65.24   \n",
       "220634  0.122511 -0.127978 -0.580885 -0.622728  0.322298  0.185636   43.10   \n",
       "93420   0.039948  0.193351 -0.346938  0.059546  0.140212  0.105935    2.69   \n",
       "9487    0.485908 -1.198821 -0.526567  0.634874  1.627209  0.723235    1.00   \n",
       "...          ...       ...       ...       ...       ...       ...     ...   \n",
       "255934  0.182022 -0.007916 -0.471744 -0.214778 -0.020552  0.049075   67.76   \n",
       "154694 -0.003950 -0.360848 -0.597526 -0.390901  0.592197 -0.241010  346.94   \n",
       "278058  0.419039  0.545722 -0.560647 -0.329822  0.013613 -0.015389    0.92   \n",
       "163861 -0.436368 -1.639210  0.394880 -0.074586 -0.344104 -0.075189   42.00   \n",
       "183215  0.121020  0.619970 -0.026599 -0.239056  0.041183 -0.029744    9.99   \n",
       "\n",
       "        Class  \n",
       "26382       0  \n",
       "231541      0  \n",
       "220634      0  \n",
       "93420       0  \n",
       "9487        1  \n",
       "...       ...  \n",
       "255934      0  \n",
       "154694      1  \n",
       "278058      0  \n",
       "163861      0  \n",
       "183215      0  \n",
       "\n",
       "[984 rows x 31 columns]"
      ]
     },
     "execution_count": 80,
     "metadata": {},
     "output_type": "execute_result"
    }
   ],
   "source": [
    "df1"
   ]
  },
  {
   "cell_type": "code",
   "execution_count": 81,
   "id": "af944ff6",
   "metadata": {},
   "outputs": [],
   "source": [
    "X = df1.drop(\"Class\",axis=1)"
   ]
  },
  {
   "cell_type": "code",
   "execution_count": 82,
   "id": "367c52bb",
   "metadata": {},
   "outputs": [
    {
     "data": {
      "text/html": [
       "<div>\n",
       "<style scoped>\n",
       "    .dataframe tbody tr th:only-of-type {\n",
       "        vertical-align: middle;\n",
       "    }\n",
       "\n",
       "    .dataframe tbody tr th {\n",
       "        vertical-align: top;\n",
       "    }\n",
       "\n",
       "    .dataframe thead th {\n",
       "        text-align: right;\n",
       "    }\n",
       "</style>\n",
       "<table border=\"1\" class=\"dataframe\">\n",
       "  <thead>\n",
       "    <tr style=\"text-align: right;\">\n",
       "      <th></th>\n",
       "      <th>Time</th>\n",
       "      <th>V1</th>\n",
       "      <th>V2</th>\n",
       "      <th>V3</th>\n",
       "      <th>V4</th>\n",
       "      <th>V5</th>\n",
       "      <th>V6</th>\n",
       "      <th>V7</th>\n",
       "      <th>V8</th>\n",
       "      <th>V9</th>\n",
       "      <th>...</th>\n",
       "      <th>V20</th>\n",
       "      <th>V21</th>\n",
       "      <th>V22</th>\n",
       "      <th>V23</th>\n",
       "      <th>V24</th>\n",
       "      <th>V25</th>\n",
       "      <th>V26</th>\n",
       "      <th>V27</th>\n",
       "      <th>V28</th>\n",
       "      <th>Amount</th>\n",
       "    </tr>\n",
       "  </thead>\n",
       "  <tbody>\n",
       "    <tr>\n",
       "      <th>272521</th>\n",
       "      <td>165132.0</td>\n",
       "      <td>-7.503926</td>\n",
       "      <td>-0.360628</td>\n",
       "      <td>-3.830952</td>\n",
       "      <td>2.486103</td>\n",
       "      <td>2.497367</td>\n",
       "      <td>1.332437</td>\n",
       "      <td>-6.783964</td>\n",
       "      <td>-15.415385</td>\n",
       "      <td>0.465512</td>\n",
       "      <td>...</td>\n",
       "      <td>-0.475126</td>\n",
       "      <td>-6.389132</td>\n",
       "      <td>2.249964</td>\n",
       "      <td>1.670508</td>\n",
       "      <td>0.14045</td>\n",
       "      <td>0.162147</td>\n",
       "      <td>1.207731</td>\n",
       "      <td>1.268958</td>\n",
       "      <td>0.097538</td>\n",
       "      <td>12.31</td>\n",
       "    </tr>\n",
       "  </tbody>\n",
       "</table>\n",
       "<p>1 rows × 30 columns</p>\n",
       "</div>"
      ],
      "text/plain": [
       "            Time        V1        V2        V3        V4        V5        V6  \\\n",
       "272521  165132.0 -7.503926 -0.360628 -3.830952  2.486103  2.497367  1.332437   \n",
       "\n",
       "              V7         V8        V9  ...       V20       V21       V22  \\\n",
       "272521 -6.783964 -15.415385  0.465512  ... -0.475126 -6.389132  2.249964   \n",
       "\n",
       "             V23      V24       V25       V26       V27       V28  Amount  \n",
       "272521  1.670508  0.14045  0.162147  1.207731  1.268958  0.097538   12.31  \n",
       "\n",
       "[1 rows x 30 columns]"
      ]
     },
     "execution_count": 82,
     "metadata": {},
     "output_type": "execute_result"
    }
   ],
   "source": [
    "X.sample()"
   ]
  },
  {
   "cell_type": "code",
   "execution_count": 83,
   "id": "9983ad6e",
   "metadata": {},
   "outputs": [],
   "source": [
    "y = df1[\"Class\"]"
   ]
  },
  {
   "cell_type": "code",
   "execution_count": 84,
   "id": "4c47b9b4",
   "metadata": {},
   "outputs": [
    {
     "data": {
      "text/plain": [
       "222201    0\n",
       "Name: Class, dtype: int64"
      ]
     },
     "execution_count": 84,
     "metadata": {},
     "output_type": "execute_result"
    }
   ],
   "source": [
    "y.sample()"
   ]
  },
  {
   "cell_type": "code",
   "execution_count": 85,
   "id": "03ce5526",
   "metadata": {},
   "outputs": [],
   "source": [
    "from sklearn.model_selection import train_test_split\n",
    "from sklearn.preprocessing import StandardScaler\n",
    "from sklearn.model_selection import KFold , cross_val_score\n",
    "from sklearn.svm import SVC\n",
    "from sklearn.tree import DecisionTreeClassifier\n",
    "from sklearn.ensemble import RandomForestClassifier , AdaBoostClassifier"
   ]
  },
  {
   "cell_type": "code",
   "execution_count": 86,
   "id": "d546284a",
   "metadata": {},
   "outputs": [],
   "source": [
    "Xtrain,Xtest,ytrain,ytest = train_test_split(X,y,test_size=.30)"
   ]
  },
  {
   "cell_type": "code",
   "execution_count": 87,
   "id": "c4b8f19e",
   "metadata": {},
   "outputs": [
    {
     "data": {
      "text/plain": [
       "((984, 30), (688, 30), (296, 30))"
      ]
     },
     "execution_count": 87,
     "metadata": {},
     "output_type": "execute_result"
    }
   ],
   "source": [
    "X.shape , Xtrain.shape , Xtest.shape"
   ]
  },
  {
   "cell_type": "code",
   "execution_count": 88,
   "id": "076eb108",
   "metadata": {},
   "outputs": [
    {
     "data": {
      "text/plain": [
       "((984,), (688,), (296,))"
      ]
     },
     "execution_count": 88,
     "metadata": {},
     "output_type": "execute_result"
    }
   ],
   "source": [
    "y.shape , ytrain.shape , ytest.shape"
   ]
  },
  {
   "cell_type": "code",
   "execution_count": 89,
   "id": "3a21f9af",
   "metadata": {},
   "outputs": [],
   "source": [
    "kf = KFold(n_splits=11)"
   ]
  },
  {
   "cell_type": "code",
   "execution_count": 90,
   "id": "a9e18e94",
   "metadata": {},
   "outputs": [],
   "source": [
    "dct = DecisionTreeClassifier()"
   ]
  },
  {
   "cell_type": "code",
   "execution_count": 91,
   "id": "2395e061",
   "metadata": {},
   "outputs": [],
   "source": [
    "algo = [ dct ]"
   ]
  },
  {
   "cell_type": "markdown",
   "id": "5810283b",
   "metadata": {},
   "source": [
    "### Without Feature Scaling\n"
   ]
  },
  {
   "cell_type": "code",
   "execution_count": 92,
   "id": "3fa885d8",
   "metadata": {},
   "outputs": [
    {
     "name": "stdout",
     "output_type": "stream",
     "text": [
      "DecisionTreeClassifier() = 0.8885135135135135\n"
     ]
    }
   ],
   "source": [
    "for i in algo:\n",
    "    i.fit(Xtrain,ytrain)\n",
    "    s = i.score(Xtest,ytest)\n",
    "    print(f'{i} = {s}')"
   ]
  },
  {
   "cell_type": "markdown",
   "id": "6ef3acce",
   "metadata": {},
   "source": [
    "### With Feature Scaling"
   ]
  },
  {
   "cell_type": "code",
   "execution_count": 93,
   "id": "cc73ca58",
   "metadata": {},
   "outputs": [],
   "source": [
    "ss = StandardScaler()"
   ]
  },
  {
   "cell_type": "code",
   "execution_count": 94,
   "id": "b2441c64",
   "metadata": {},
   "outputs": [
    {
     "data": {
      "text/plain": [
       "StandardScaler()"
      ]
     },
     "execution_count": 94,
     "metadata": {},
     "output_type": "execute_result"
    }
   ],
   "source": [
    "ss.fit(Xtrain)"
   ]
  },
  {
   "cell_type": "code",
   "execution_count": 95,
   "id": "738bfa08",
   "metadata": {},
   "outputs": [],
   "source": [
    "Xtrain_ss = ss.transform(Xtrain)"
   ]
  },
  {
   "cell_type": "code",
   "execution_count": 96,
   "id": "dcdcb2e4",
   "metadata": {},
   "outputs": [],
   "source": [
    "Xtest_ss = ss.transform(Xtest)"
   ]
  },
  {
   "cell_type": "code",
   "execution_count": 97,
   "id": "6a20d82c",
   "metadata": {},
   "outputs": [
    {
     "name": "stdout",
     "output_type": "stream",
     "text": [
      "DecisionTreeClassifier() = 0.8851351351351351\n"
     ]
    }
   ],
   "source": [
    "for i in algo:\n",
    "    i.fit(Xtrain_ss,ytrain)\n",
    "    s = i.score(Xtest_ss,ytest)\n",
    "    print(f'{i} = {s}')"
   ]
  },
  {
   "cell_type": "markdown",
   "id": "d2430f2d",
   "metadata": {},
   "source": [
    "### With Cross Validation"
   ]
  },
  {
   "cell_type": "code",
   "execution_count": 98,
   "id": "1c72b9ed",
   "metadata": {},
   "outputs": [
    {
     "name": "stdout",
     "output_type": "stream",
     "text": [
      "DecisionTreeClassifier() = 0.8983770287141073\n"
     ]
    }
   ],
   "source": [
    "for i in algo:\n",
    "    s = cross_val_score(i,X,y,cv = kf)\n",
    "    print(f'{i} = {s.mean()}')"
   ]
  },
  {
   "cell_type": "markdown",
   "id": "69d747ca",
   "metadata": {},
   "source": [
    "## Boosting"
   ]
  },
  {
   "cell_type": "code",
   "execution_count": 99,
   "id": "01299332",
   "metadata": {},
   "outputs": [],
   "source": [
    "rfc = RandomForestClassifier(n_estimators=150,max_depth=4,max_leaf_nodes=6)"
   ]
  },
  {
   "cell_type": "code",
   "execution_count": 100,
   "id": "4d0a8792",
   "metadata": {},
   "outputs": [],
   "source": [
    "abc = AdaBoostClassifier()"
   ]
  },
  {
   "cell_type": "code",
   "execution_count": 101,
   "id": "331ee508",
   "metadata": {},
   "outputs": [],
   "source": [
    "algo1 = [rfc  , abc ]"
   ]
  },
  {
   "cell_type": "code",
   "execution_count": 102,
   "id": "f9851847",
   "metadata": {},
   "outputs": [
    {
     "name": "stdout",
     "output_type": "stream",
     "text": [
      "RandomForestClassifier(max_depth=4, max_leaf_nodes=6, n_estimators=150)\n",
      "AdaBoostClassifier()\n"
     ]
    }
   ],
   "source": [
    "for i in algo1:\n",
    "    print(i)"
   ]
  },
  {
   "cell_type": "markdown",
   "id": "28a95f54",
   "metadata": {},
   "source": [
    "### Without Feature Scaling\n"
   ]
  },
  {
   "cell_type": "code",
   "execution_count": 103,
   "id": "58c256e0",
   "metadata": {},
   "outputs": [
    {
     "name": "stdout",
     "output_type": "stream",
     "text": [
      "RandomForestClassifier(max_depth=4, max_leaf_nodes=6, n_estimators=150) = 0.9324324324324325\n",
      "AdaBoostClassifier() = 0.9121621621621622\n"
     ]
    }
   ],
   "source": [
    "for i in algo1:\n",
    "    i.fit(Xtrain,ytrain)\n",
    "    s = i.score(Xtest,ytest)\n",
    "    print(f'{i} = {s}')"
   ]
  },
  {
   "cell_type": "markdown",
   "id": "eb4fd565",
   "metadata": {},
   "source": [
    "### With Feature Scaling"
   ]
  },
  {
   "cell_type": "code",
   "execution_count": 104,
   "id": "b82ee2be",
   "metadata": {},
   "outputs": [
    {
     "name": "stdout",
     "output_type": "stream",
     "text": [
      "RandomForestClassifier(max_depth=4, max_leaf_nodes=6, n_estimators=150) = 0.9324324324324325\n",
      "AdaBoostClassifier() = 0.9121621621621622\n"
     ]
    }
   ],
   "source": [
    "for i in algo1:\n",
    "    i.fit(Xtrain_ss,ytrain)\n",
    "    s = i.score(Xtest_ss,ytest)\n",
    "    print(f'{i} = {s}')"
   ]
  },
  {
   "cell_type": "markdown",
   "id": "61d7d34a",
   "metadata": {},
   "source": [
    "###  With Cross Validation (Boosting)\n"
   ]
  },
  {
   "cell_type": "code",
   "execution_count": 105,
   "id": "99360d13",
   "metadata": {},
   "outputs": [
    {
     "name": "stdout",
     "output_type": "stream",
     "text": [
      "RandomForestClassifier(max_depth=4, max_leaf_nodes=6, n_estimators=150) = 0.924809896720009\n",
      "AdaBoostClassifier() = 0.926796050391556\n",
      "CPU times: user 3.81 s, sys: 18.3 ms, total: 3.83 s\n",
      "Wall time: 3.83 s\n"
     ]
    }
   ],
   "source": [
    "%%time\n",
    "for i in algo1:\n",
    "    s = cross_val_score(i,X,y,cv = kf)\n",
    "    print(f'{i} = {s.mean()}')"
   ]
  },
  {
   "cell_type": "markdown",
   "id": "751bb43b",
   "metadata": {},
   "source": [
    "### With GridSearch CV"
   ]
  },
  {
   "cell_type": "code",
   "execution_count": 126,
   "id": "9ed59fbe",
   "metadata": {},
   "outputs": [],
   "source": [
    "from sklearn.model_selection import GridSearchCV"
   ]
  },
  {
   "cell_type": "code",
   "execution_count": 127,
   "id": "9458f963",
   "metadata": {},
   "outputs": [],
   "source": [
    "dic = { 'n_estimators' : [100,125],'criterion': ['gini', 'entropy'], 'max_depth' : [2,3]\n",
    "       ,'min_samples_leaf' : [ 1,3]  }"
   ]
  },
  {
   "cell_type": "code",
   "execution_count": 128,
   "id": "4c5d7d8d",
   "metadata": {},
   "outputs": [],
   "source": [
    "kf1 = KFold(n_splits=20)"
   ]
  },
  {
   "cell_type": "code",
   "execution_count": 129,
   "id": "02f02529",
   "metadata": {},
   "outputs": [],
   "source": [
    "gvc = GridSearchCV(RandomForestClassifier(),param_grid=dic,cv = kf1)"
   ]
  },
  {
   "cell_type": "code",
   "execution_count": 130,
   "id": "47e5bd0f",
   "metadata": {},
   "outputs": [
    {
     "data": {
      "text/plain": [
       "GridSearchCV(cv=KFold(n_splits=20, random_state=None, shuffle=False),\n",
       "             estimator=RandomForestClassifier(),\n",
       "             param_grid={'criterion': ['gini', 'entropy'], 'max_depth': [2, 3],\n",
       "                         'min_samples_leaf': [1, 3],\n",
       "                         'n_estimators': [100, 125]})"
      ]
     },
     "execution_count": 130,
     "metadata": {},
     "output_type": "execute_result"
    }
   ],
   "source": [
    "gvc.fit(X,y)"
   ]
  },
  {
   "cell_type": "code",
   "execution_count": 131,
   "id": "e69ea949",
   "metadata": {},
   "outputs": [
    {
     "data": {
      "text/plain": [
       "{'criterion': 'gini',\n",
       " 'max_depth': 3,\n",
       " 'min_samples_leaf': 1,\n",
       " 'n_estimators': 125}"
      ]
     },
     "execution_count": 131,
     "metadata": {},
     "output_type": "execute_result"
    }
   ],
   "source": [
    "gvc.best_params_"
   ]
  },
  {
   "cell_type": "code",
   "execution_count": 132,
   "id": "e934a5ec",
   "metadata": {},
   "outputs": [
    {
     "data": {
      "text/plain": [
       "RandomForestClassifier(max_depth=3, n_estimators=125)"
      ]
     },
     "execution_count": 132,
     "metadata": {},
     "output_type": "execute_result"
    }
   ],
   "source": [
    "gvc.best_estimator_"
   ]
  },
  {
   "cell_type": "code",
   "execution_count": 133,
   "id": "9c20be1d",
   "metadata": {},
   "outputs": [
    {
     "data": {
      "text/plain": [
       "0.9248571428571429"
      ]
     },
     "execution_count": 133,
     "metadata": {},
     "output_type": "execute_result"
    }
   ],
   "source": [
    "gvc.best_score_"
   ]
  },
  {
   "cell_type": "code",
   "execution_count": null,
   "id": "c1b88daf",
   "metadata": {},
   "outputs": [],
   "source": []
  }
 ],
 "metadata": {
  "kernelspec": {
   "display_name": "Python 3 (ipykernel)",
   "language": "python",
   "name": "python3"
  },
  "language_info": {
   "codemirror_mode": {
    "name": "ipython",
    "version": 3
   },
   "file_extension": ".py",
   "mimetype": "text/x-python",
   "name": "python",
   "nbconvert_exporter": "python",
   "pygments_lexer": "ipython3",
   "version": "3.9.7"
  }
 },
 "nbformat": 4,
 "nbformat_minor": 5
}
