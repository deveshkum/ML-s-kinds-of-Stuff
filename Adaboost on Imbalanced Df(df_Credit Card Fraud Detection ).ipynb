{
 "cells": [
  {
   "cell_type": "code",
   "execution_count": 53,
   "id": "bd952c20",
   "metadata": {},
   "outputs": [],
   "source": [
    "import numpy as np\n",
    "import pandas as pd"
   ]
  },
  {
   "cell_type": "code",
   "execution_count": 54,
   "id": "b47f0c6d",
   "metadata": {},
   "outputs": [],
   "source": [
    "df = pd.read_csv(\"/Users/dev/Personal/DS & AI Class Notes/Data Sets/Adaboost/creditcard.csv\")"
   ]
  },
  {
   "cell_type": "markdown",
   "id": "cc7b942f",
   "metadata": {},
   "source": [
    "## Checking Balance of DF"
   ]
  },
  {
   "cell_type": "code",
   "execution_count": 55,
   "id": "d7af456b",
   "metadata": {},
   "outputs": [
    {
     "data": {
      "text/plain": [
       "0    284315\n",
       "1       492\n",
       "Name: Class, dtype: int64"
      ]
     },
     "execution_count": 55,
     "metadata": {},
     "output_type": "execute_result"
    }
   ],
   "source": [
    "df[\"Class\"].value_counts()"
   ]
  },
  {
   "cell_type": "code",
   "execution_count": 56,
   "id": "80348928",
   "metadata": {},
   "outputs": [],
   "source": [
    "df = df.sample(frac=1)"
   ]
  },
  {
   "cell_type": "code",
   "execution_count": 57,
   "id": "e1d7d0b5",
   "metadata": {},
   "outputs": [],
   "source": [
    "def checkz(df):\n",
    "    return df[df == 0].value_counts()"
   ]
  },
  {
   "cell_type": "code",
   "execution_count": 58,
   "id": "b9456018",
   "metadata": {},
   "outputs": [
    {
     "name": "stdout",
     "output_type": "stream",
     "text": [
      "0.0    2\n",
      "Name: Time, dtype: int64\n",
      "Series([], Name: V1, dtype: int64)\n",
      "Series([], Name: V2, dtype: int64)\n",
      "Series([], Name: V3, dtype: int64)\n",
      "Series([], Name: V4, dtype: int64)\n",
      "Series([], Name: V5, dtype: int64)\n",
      "Series([], Name: V6, dtype: int64)\n",
      "Series([], Name: V7, dtype: int64)\n",
      "Series([], Name: V8, dtype: int64)\n",
      "Series([], Name: V9, dtype: int64)\n",
      "Series([], Name: V10, dtype: int64)\n",
      "Series([], Name: V11, dtype: int64)\n",
      "Series([], Name: V12, dtype: int64)\n",
      "Series([], Name: V13, dtype: int64)\n",
      "Series([], Name: V14, dtype: int64)\n",
      "Series([], Name: V15, dtype: int64)\n",
      "Series([], Name: V16, dtype: int64)\n",
      "Series([], Name: V17, dtype: int64)\n",
      "Series([], Name: V18, dtype: int64)\n",
      "Series([], Name: V19, dtype: int64)\n",
      "Series([], Name: V20, dtype: int64)\n",
      "Series([], Name: V21, dtype: int64)\n",
      "Series([], Name: V22, dtype: int64)\n",
      "Series([], Name: V23, dtype: int64)\n",
      "Series([], Name: V24, dtype: int64)\n",
      "Series([], Name: V25, dtype: int64)\n",
      "Series([], Name: V26, dtype: int64)\n",
      "Series([], Name: V27, dtype: int64)\n",
      "Series([], Name: V28, dtype: int64)\n",
      "0.0    1825\n",
      "Name: Amount, dtype: int64\n",
      "0    284315\n",
      "Name: Class, dtype: int64\n"
     ]
    }
   ],
   "source": [
    "for i in df.columns:\n",
    "    print(checkz(df[i]))"
   ]
  },
  {
   "cell_type": "code",
   "execution_count": 59,
   "id": "b0ef22d1",
   "metadata": {},
   "outputs": [
    {
     "data": {
      "text/plain": [
       "Index(['Time', 'V1', 'V2', 'V3', 'V4', 'V5', 'V6', 'V7', 'V8', 'V9', 'V10',\n",
       "       'V11', 'V12', 'V13', 'V14', 'V15', 'V16', 'V17', 'V18', 'V19', 'V20',\n",
       "       'V21', 'V22', 'V23', 'V24', 'V25', 'V26', 'V27', 'V28', 'Amount',\n",
       "       'Class'],\n",
       "      dtype='object')"
      ]
     },
     "execution_count": 59,
     "metadata": {},
     "output_type": "execute_result"
    }
   ],
   "source": [
    "df.columns"
   ]
  },
  {
   "cell_type": "code",
   "execution_count": 60,
   "id": "acc42531",
   "metadata": {
    "scrolled": false
   },
   "outputs": [],
   "source": [
    "clist = ['Time', 'V1', 'V2', 'V3', 'V4', 'V5', 'V6', 'V7', 'V8', 'V9', 'V10',\n",
    "       'V11', 'V12', 'V13', 'V14', 'V15', 'V16', 'V17', 'V18', 'V19', 'V20',\n",
    "       'V21', 'V22', 'V23', 'V24', 'V25', 'V26', 'V27', 'V28', 'Amount']"
   ]
  },
  {
   "cell_type": "code",
   "execution_count": 61,
   "id": "7dbbb649",
   "metadata": {},
   "outputs": [],
   "source": [
    "def zeroremove(df):\n",
    "    m = round(df.mean(),2)\n",
    "    df.replace(0,m,inplace = True)"
   ]
  },
  {
   "cell_type": "code",
   "execution_count": 62,
   "id": "0d25bf0e",
   "metadata": {},
   "outputs": [],
   "source": [
    "for i in clist:\n",
    "    zeroremove(df[i])"
   ]
  },
  {
   "cell_type": "code",
   "execution_count": 63,
   "id": "b32cad11",
   "metadata": {},
   "outputs": [
    {
     "name": "stdout",
     "output_type": "stream",
     "text": [
      "Series([], Name: Time, dtype: int64)\n",
      "Series([], Name: V1, dtype: int64)\n",
      "Series([], Name: V2, dtype: int64)\n",
      "Series([], Name: V3, dtype: int64)\n",
      "Series([], Name: V4, dtype: int64)\n",
      "Series([], Name: V5, dtype: int64)\n",
      "Series([], Name: V6, dtype: int64)\n",
      "Series([], Name: V7, dtype: int64)\n",
      "Series([], Name: V8, dtype: int64)\n",
      "Series([], Name: V9, dtype: int64)\n",
      "Series([], Name: V10, dtype: int64)\n",
      "Series([], Name: V11, dtype: int64)\n",
      "Series([], Name: V12, dtype: int64)\n",
      "Series([], Name: V13, dtype: int64)\n",
      "Series([], Name: V14, dtype: int64)\n",
      "Series([], Name: V15, dtype: int64)\n",
      "Series([], Name: V16, dtype: int64)\n",
      "Series([], Name: V17, dtype: int64)\n",
      "Series([], Name: V18, dtype: int64)\n",
      "Series([], Name: V19, dtype: int64)\n",
      "Series([], Name: V20, dtype: int64)\n",
      "Series([], Name: V21, dtype: int64)\n",
      "Series([], Name: V22, dtype: int64)\n",
      "Series([], Name: V23, dtype: int64)\n",
      "Series([], Name: V24, dtype: int64)\n",
      "Series([], Name: V25, dtype: int64)\n",
      "Series([], Name: V26, dtype: int64)\n",
      "Series([], Name: V27, dtype: int64)\n",
      "Series([], Name: V28, dtype: int64)\n",
      "Series([], Name: Amount, dtype: int64)\n",
      "0    284315\n",
      "Name: Class, dtype: int64\n"
     ]
    }
   ],
   "source": [
    "for i in df.columns:\n",
    "    print(checkz(df[i]))"
   ]
  },
  {
   "cell_type": "code",
   "execution_count": 64,
   "id": "063e2bda",
   "metadata": {},
   "outputs": [],
   "source": [
    "def odiqr(df):\n",
    "    q1 = df.quantile(0.25)\n",
    "    q3 = df.quantile(0.75)\n",
    "    iqr = q3 - q1\n",
    "    low = q1 - (1.5 * iqr)\n",
    "    high = q3 + (1.5 * iqr)\n",
    "    m = df.mean()\n",
    "    df = df.apply(lambda x : m if x < low else (m if x > high else x ) )\n",
    "    return df"
   ]
  },
  {
   "cell_type": "code",
   "execution_count": 65,
   "id": "22dd7059",
   "metadata": {},
   "outputs": [],
   "source": [
    "def odmsd(df):\n",
    "    m = round(df.mean(),2)\n",
    "    s = round(df.std(),2)\n",
    "    low = round(m-(3*s),2)\n",
    "    high = round(m+(3*s),2)\n",
    "    ft1 = df[df<low]\n",
    "    ft2 = df[df>high]\n",
    "    df = df.map(lambda x : low if x < low else (high if x > high else x ))"
   ]
  },
  {
   "cell_type": "code",
   "execution_count": 66,
   "id": "8f07f5ee",
   "metadata": {},
   "outputs": [
    {
     "name": "stdout",
     "output_type": "stream",
     "text": [
      "Time is -0.035555280585659904\n",
      "V1 is -3.2806673027560413\n",
      "V2 is -4.624865573285335\n",
      "V3 is -2.24015544024042\n",
      "V4 is 0.6762920979857465\n",
      "V5 is -2.4259014959520546\n",
      "V6 is 1.8265806649980851\n",
      "V7 is 2.5539074174295133\n",
      "V8 is -8.521944194777976\n",
      "V9 is 0.5546797719063512\n",
      "V10 is 1.1871405899625271\n",
      "V11 is 0.35650585548882024\n",
      "V12 is -2.2784009354106183\n",
      "V13 is 0.06523345790658316\n",
      "V14 is -1.9951758402683293\n",
      "V15 is -0.30842298213592384\n",
      "V16 is -1.1009662760510657\n",
      "V17 is -3.844914473870621\n",
      "V18 is -0.2598802680943063\n",
      "V19 is 0.10919175998147106\n",
      "V20 is -2.037155299081399\n",
      "V21 is 3.592991193077847\n",
      "V22 is -0.21325762284328817\n",
      "V23 is -5.875140340106817\n",
      "V24 is -0.552499301167305\n",
      "V25 is -0.41579259031563526\n",
      "V26 is 0.5766926172084218\n",
      "V27 is -1.1702089424327127\n",
      "V28 is 11.192091192212814\n",
      "Amount is 16.991726060658795\n"
     ]
    }
   ],
   "source": [
    "for i in clist:\n",
    "    print(f'{i} is {df[i].skew()}')"
   ]
  },
  {
   "cell_type": "code",
   "execution_count": 67,
   "id": "7c40ef59",
   "metadata": {},
   "outputs": [],
   "source": [
    "for i in df.columns:\n",
    "    if df[i].skew() >= 0.5:\n",
    "        odmsd(df[i])\n",
    "    else:\n",
    "        df[i] = odiqr(df[i])"
   ]
  },
  {
   "cell_type": "code",
   "execution_count": 68,
   "id": "1c3a4f71",
   "metadata": {},
   "outputs": [
    {
     "name": "stdout",
     "output_type": "stream",
     "text": [
      "Time is -0.035555280585659904\n",
      "V1 is -0.4161161985304087\n",
      "V2 is -0.07438377028745115\n",
      "V3 is -0.28343989247536927\n",
      "V4 is 0.6762920979857465\n",
      "V5 is 0.16957915375938057\n",
      "V6 is 1.8265806649980851\n",
      "V7 is 2.5539074174295133\n",
      "V8 is 0.4523229294236395\n",
      "V9 is 0.5546797719063512\n",
      "V10 is 1.1871405899625271\n",
      "V11 is 0.07488578742568466\n",
      "V12 is -0.31063725309318385\n",
      "V13 is -0.007247631514974938\n",
      "V14 is -0.028055340400578804\n",
      "V15 is -0.199911583817233\n",
      "V16 is -0.11877314436253476\n",
      "V17 is 0.30644125389622356\n",
      "V18 is 0.03512675179034511\n",
      "V19 is -0.06096936812830072\n",
      "V20 is 0.18375776727857\n",
      "V21 is 3.592991193077847\n",
      "V22 is 0.0005558802734464447\n",
      "V23 is 0.012816923220893029\n",
      "V24 is -0.4511153967813033\n",
      "V25 is -0.09320714468855326\n",
      "V26 is 0.5766926172084218\n",
      "V27 is 0.3628061242154801\n",
      "V28 is 11.192091192212814\n",
      "Amount is 16.991726060658795\n"
     ]
    }
   ],
   "source": [
    "for i in clist:\n",
    "    print(f'{i} is {df[i].skew()}')"
   ]
  },
  {
   "cell_type": "code",
   "execution_count": 69,
   "id": "93cc96f7",
   "metadata": {},
   "outputs": [
    {
     "data": {
      "text/html": [
       "<div>\n",
       "<style scoped>\n",
       "    .dataframe tbody tr th:only-of-type {\n",
       "        vertical-align: middle;\n",
       "    }\n",
       "\n",
       "    .dataframe tbody tr th {\n",
       "        vertical-align: top;\n",
       "    }\n",
       "\n",
       "    .dataframe thead th {\n",
       "        text-align: right;\n",
       "    }\n",
       "</style>\n",
       "<table border=\"1\" class=\"dataframe\">\n",
       "  <thead>\n",
       "    <tr style=\"text-align: right;\">\n",
       "      <th></th>\n",
       "      <th>Time</th>\n",
       "      <th>V1</th>\n",
       "      <th>V2</th>\n",
       "      <th>V3</th>\n",
       "      <th>V4</th>\n",
       "      <th>V5</th>\n",
       "      <th>V6</th>\n",
       "      <th>V7</th>\n",
       "      <th>V8</th>\n",
       "      <th>V9</th>\n",
       "      <th>...</th>\n",
       "      <th>V21</th>\n",
       "      <th>V22</th>\n",
       "      <th>V23</th>\n",
       "      <th>V24</th>\n",
       "      <th>V25</th>\n",
       "      <th>V26</th>\n",
       "      <th>V27</th>\n",
       "      <th>V28</th>\n",
       "      <th>Amount</th>\n",
       "      <th>Class</th>\n",
       "    </tr>\n",
       "  </thead>\n",
       "  <tbody>\n",
       "    <tr>\n",
       "      <th>201535</th>\n",
       "      <td>133925.0</td>\n",
       "      <td>-0.532698</td>\n",
       "      <td>0.061942</td>\n",
       "      <td>0.539588</td>\n",
       "      <td>0.026725</td>\n",
       "      <td>1.341665</td>\n",
       "      <td>-0.772780</td>\n",
       "      <td>0.316415</td>\n",
       "      <td>-0.000083</td>\n",
       "      <td>-0.633072</td>\n",
       "      <td>...</td>\n",
       "      <td>-0.078126</td>\n",
       "      <td>-0.351809</td>\n",
       "      <td>1.161017e-01</td>\n",
       "      <td>-0.379144</td>\n",
       "      <td>-7.653777e-01</td>\n",
       "      <td>0.300085</td>\n",
       "      <td>1.147221e-01</td>\n",
       "      <td>0.185445</td>\n",
       "      <td>0.89</td>\n",
       "      <td>0</td>\n",
       "    </tr>\n",
       "    <tr>\n",
       "      <th>56394</th>\n",
       "      <td>47403.0</td>\n",
       "      <td>0.772197</td>\n",
       "      <td>-1.268315</td>\n",
       "      <td>0.414432</td>\n",
       "      <td>0.236163</td>\n",
       "      <td>-1.029296</td>\n",
       "      <td>0.261512</td>\n",
       "      <td>-0.365420</td>\n",
       "      <td>0.084106</td>\n",
       "      <td>1.338675</td>\n",
       "      <td>...</td>\n",
       "      <td>-0.147341</td>\n",
       "      <td>-0.787348</td>\n",
       "      <td>-2.692944e-01</td>\n",
       "      <td>-0.552362</td>\n",
       "      <td>1.521278e-01</td>\n",
       "      <td>0.979108</td>\n",
       "      <td>-8.887986e-02</td>\n",
       "      <td>0.048657</td>\n",
       "      <td>272.20</td>\n",
       "      <td>0</td>\n",
       "    </tr>\n",
       "    <tr>\n",
       "      <th>58180</th>\n",
       "      <td>48269.0</td>\n",
       "      <td>1.145246</td>\n",
       "      <td>-0.134345</td>\n",
       "      <td>0.556085</td>\n",
       "      <td>0.926994</td>\n",
       "      <td>-0.688657</td>\n",
       "      <td>-0.587888</td>\n",
       "      <td>-0.084333</td>\n",
       "      <td>-0.106054</td>\n",
       "      <td>0.631916</td>\n",
       "      <td>...</td>\n",
       "      <td>-0.064965</td>\n",
       "      <td>-0.038364</td>\n",
       "      <td>-1.230673e-01</td>\n",
       "      <td>0.458320</td>\n",
       "      <td>5.666350e-01</td>\n",
       "      <td>0.433819</td>\n",
       "      <td>-2.454648e-02</td>\n",
       "      <td>0.017889</td>\n",
       "      <td>47.99</td>\n",
       "      <td>0</td>\n",
       "    </tr>\n",
       "    <tr>\n",
       "      <th>259417</th>\n",
       "      <td>159105.0</td>\n",
       "      <td>-1.599972</td>\n",
       "      <td>-0.062006</td>\n",
       "      <td>-2.061615</td>\n",
       "      <td>-0.932018</td>\n",
       "      <td>-0.111652</td>\n",
       "      <td>-1.972131</td>\n",
       "      <td>0.676450</td>\n",
       "      <td>0.194297</td>\n",
       "      <td>0.207792</td>\n",
       "      <td>...</td>\n",
       "      <td>0.240038</td>\n",
       "      <td>0.506011</td>\n",
       "      <td>-6.041429e-01</td>\n",
       "      <td>0.164844</td>\n",
       "      <td>-4.465691e-01</td>\n",
       "      <td>0.785375</td>\n",
       "      <td>-3.701552e-16</td>\n",
       "      <td>-0.306508</td>\n",
       "      <td>104.61</td>\n",
       "      <td>0</td>\n",
       "    </tr>\n",
       "    <tr>\n",
       "      <th>256796</th>\n",
       "      <td>157865.0</td>\n",
       "      <td>-0.283381</td>\n",
       "      <td>0.865942</td>\n",
       "      <td>-0.304250</td>\n",
       "      <td>-0.477897</td>\n",
       "      <td>0.336655</td>\n",
       "      <td>-1.152088</td>\n",
       "      <td>0.698611</td>\n",
       "      <td>0.166241</td>\n",
       "      <td>-0.212692</td>\n",
       "      <td>...</td>\n",
       "      <td>-0.036336</td>\n",
       "      <td>-0.160843</td>\n",
       "      <td>1.910910e-01</td>\n",
       "      <td>-0.104403</td>\n",
       "      <td>-1.222097e+00</td>\n",
       "      <td>0.086214</td>\n",
       "      <td>7.205944e-02</td>\n",
       "      <td>0.169780</td>\n",
       "      <td>10.74</td>\n",
       "      <td>0</td>\n",
       "    </tr>\n",
       "    <tr>\n",
       "      <th>...</th>\n",
       "      <td>...</td>\n",
       "      <td>...</td>\n",
       "      <td>...</td>\n",
       "      <td>...</td>\n",
       "      <td>...</td>\n",
       "      <td>...</td>\n",
       "      <td>...</td>\n",
       "      <td>...</td>\n",
       "      <td>...</td>\n",
       "      <td>...</td>\n",
       "      <td>...</td>\n",
       "      <td>...</td>\n",
       "      <td>...</td>\n",
       "      <td>...</td>\n",
       "      <td>...</td>\n",
       "      <td>...</td>\n",
       "      <td>...</td>\n",
       "      <td>...</td>\n",
       "      <td>...</td>\n",
       "      <td>...</td>\n",
       "      <td>...</td>\n",
       "    </tr>\n",
       "    <tr>\n",
       "      <th>222664</th>\n",
       "      <td>143072.0</td>\n",
       "      <td>-1.806836</td>\n",
       "      <td>-2.647502</td>\n",
       "      <td>0.368712</td>\n",
       "      <td>1.819831</td>\n",
       "      <td>1.662377</td>\n",
       "      <td>-0.764252</td>\n",
       "      <td>-1.697692</td>\n",
       "      <td>-0.490170</td>\n",
       "      <td>1.573567</td>\n",
       "      <td>...</td>\n",
       "      <td>-0.234302</td>\n",
       "      <td>1.087348</td>\n",
       "      <td>2.570198e-16</td>\n",
       "      <td>0.967634</td>\n",
       "      <td>5.301163e-16</td>\n",
       "      <td>0.695639</td>\n",
       "      <td>-2.803489e-01</td>\n",
       "      <td>-0.043333</td>\n",
       "      <td>100.00</td>\n",
       "      <td>0</td>\n",
       "    </tr>\n",
       "    <tr>\n",
       "      <th>51043</th>\n",
       "      <td>44764.0</td>\n",
       "      <td>-0.794725</td>\n",
       "      <td>0.001324</td>\n",
       "      <td>1.363956</td>\n",
       "      <td>-0.495473</td>\n",
       "      <td>0.453376</td>\n",
       "      <td>1.909162</td>\n",
       "      <td>0.194464</td>\n",
       "      <td>0.422105</td>\n",
       "      <td>0.014290</td>\n",
       "      <td>...</td>\n",
       "      <td>0.175166</td>\n",
       "      <td>0.837053</td>\n",
       "      <td>2.081477e-01</td>\n",
       "      <td>-1.303939</td>\n",
       "      <td>-1.092905e+00</td>\n",
       "      <td>1.076346</td>\n",
       "      <td>-2.013867e-01</td>\n",
       "      <td>-0.125788</td>\n",
       "      <td>75.96</td>\n",
       "      <td>0</td>\n",
       "    </tr>\n",
       "    <tr>\n",
       "      <th>104717</th>\n",
       "      <td>69202.0</td>\n",
       "      <td>0.957089</td>\n",
       "      <td>-0.269360</td>\n",
       "      <td>0.985397</td>\n",
       "      <td>1.689844</td>\n",
       "      <td>-0.792481</td>\n",
       "      <td>0.118937</td>\n",
       "      <td>-0.293932</td>\n",
       "      <td>0.143662</td>\n",
       "      <td>0.867402</td>\n",
       "      <td>...</td>\n",
       "      <td>-0.022379</td>\n",
       "      <td>0.135807</td>\n",
       "      <td>-9.139770e-02</td>\n",
       "      <td>0.434818</td>\n",
       "      <td>5.381971e-01</td>\n",
       "      <td>-0.285407</td>\n",
       "      <td>5.878651e-02</td>\n",
       "      <td>0.038085</td>\n",
       "      <td>80.00</td>\n",
       "      <td>0</td>\n",
       "    </tr>\n",
       "    <tr>\n",
       "      <th>245280</th>\n",
       "      <td>152679.0</td>\n",
       "      <td>-0.595664</td>\n",
       "      <td>0.801118</td>\n",
       "      <td>0.941026</td>\n",
       "      <td>-1.546981</td>\n",
       "      <td>1.503167</td>\n",
       "      <td>0.102437</td>\n",
       "      <td>1.327923</td>\n",
       "      <td>-0.176545</td>\n",
       "      <td>-0.518947</td>\n",
       "      <td>...</td>\n",
       "      <td>-0.381590</td>\n",
       "      <td>-1.008710</td>\n",
       "      <td>-5.456834e-01</td>\n",
       "      <td>-1.395039</td>\n",
       "      <td>6.874727e-01</td>\n",
       "      <td>0.274332</td>\n",
       "      <td>-2.331637e-01</td>\n",
       "      <td>-0.211158</td>\n",
       "      <td>1.29</td>\n",
       "      <td>0</td>\n",
       "    </tr>\n",
       "    <tr>\n",
       "      <th>52339</th>\n",
       "      <td>45396.0</td>\n",
       "      <td>1.080493</td>\n",
       "      <td>-0.488378</td>\n",
       "      <td>0.065247</td>\n",
       "      <td>0.150653</td>\n",
       "      <td>-0.943189</td>\n",
       "      <td>-0.914390</td>\n",
       "      <td>-0.294321</td>\n",
       "      <td>-0.285063</td>\n",
       "      <td>-1.038732</td>\n",
       "      <td>...</td>\n",
       "      <td>-0.162442</td>\n",
       "      <td>-0.160004</td>\n",
       "      <td>-1.857338e-01</td>\n",
       "      <td>0.353585</td>\n",
       "      <td>3.427649e-01</td>\n",
       "      <td>0.640960</td>\n",
       "      <td>8.500214e-04</td>\n",
       "      <td>0.078436</td>\n",
       "      <td>144.90</td>\n",
       "      <td>0</td>\n",
       "    </tr>\n",
       "  </tbody>\n",
       "</table>\n",
       "<p>284807 rows × 31 columns</p>\n",
       "</div>"
      ],
      "text/plain": [
       "            Time        V1        V2        V3        V4        V5        V6  \\\n",
       "201535  133925.0 -0.532698  0.061942  0.539588  0.026725  1.341665 -0.772780   \n",
       "56394    47403.0  0.772197 -1.268315  0.414432  0.236163 -1.029296  0.261512   \n",
       "58180    48269.0  1.145246 -0.134345  0.556085  0.926994 -0.688657 -0.587888   \n",
       "259417  159105.0 -1.599972 -0.062006 -2.061615 -0.932018 -0.111652 -1.972131   \n",
       "256796  157865.0 -0.283381  0.865942 -0.304250 -0.477897  0.336655 -1.152088   \n",
       "...          ...       ...       ...       ...       ...       ...       ...   \n",
       "222664  143072.0 -1.806836 -2.647502  0.368712  1.819831  1.662377 -0.764252   \n",
       "51043    44764.0 -0.794725  0.001324  1.363956 -0.495473  0.453376  1.909162   \n",
       "104717   69202.0  0.957089 -0.269360  0.985397  1.689844 -0.792481  0.118937   \n",
       "245280  152679.0 -0.595664  0.801118  0.941026 -1.546981  1.503167  0.102437   \n",
       "52339    45396.0  1.080493 -0.488378  0.065247  0.150653 -0.943189 -0.914390   \n",
       "\n",
       "              V7        V8        V9  ...       V21       V22           V23  \\\n",
       "201535  0.316415 -0.000083 -0.633072  ... -0.078126 -0.351809  1.161017e-01   \n",
       "56394  -0.365420  0.084106  1.338675  ... -0.147341 -0.787348 -2.692944e-01   \n",
       "58180  -0.084333 -0.106054  0.631916  ... -0.064965 -0.038364 -1.230673e-01   \n",
       "259417  0.676450  0.194297  0.207792  ...  0.240038  0.506011 -6.041429e-01   \n",
       "256796  0.698611  0.166241 -0.212692  ... -0.036336 -0.160843  1.910910e-01   \n",
       "...          ...       ...       ...  ...       ...       ...           ...   \n",
       "222664 -1.697692 -0.490170  1.573567  ... -0.234302  1.087348  2.570198e-16   \n",
       "51043   0.194464  0.422105  0.014290  ...  0.175166  0.837053  2.081477e-01   \n",
       "104717 -0.293932  0.143662  0.867402  ... -0.022379  0.135807 -9.139770e-02   \n",
       "245280  1.327923 -0.176545 -0.518947  ... -0.381590 -1.008710 -5.456834e-01   \n",
       "52339  -0.294321 -0.285063 -1.038732  ... -0.162442 -0.160004 -1.857338e-01   \n",
       "\n",
       "             V24           V25       V26           V27       V28  Amount  \\\n",
       "201535 -0.379144 -7.653777e-01  0.300085  1.147221e-01  0.185445    0.89   \n",
       "56394  -0.552362  1.521278e-01  0.979108 -8.887986e-02  0.048657  272.20   \n",
       "58180   0.458320  5.666350e-01  0.433819 -2.454648e-02  0.017889   47.99   \n",
       "259417  0.164844 -4.465691e-01  0.785375 -3.701552e-16 -0.306508  104.61   \n",
       "256796 -0.104403 -1.222097e+00  0.086214  7.205944e-02  0.169780   10.74   \n",
       "...          ...           ...       ...           ...       ...     ...   \n",
       "222664  0.967634  5.301163e-16  0.695639 -2.803489e-01 -0.043333  100.00   \n",
       "51043  -1.303939 -1.092905e+00  1.076346 -2.013867e-01 -0.125788   75.96   \n",
       "104717  0.434818  5.381971e-01 -0.285407  5.878651e-02  0.038085   80.00   \n",
       "245280 -1.395039  6.874727e-01  0.274332 -2.331637e-01 -0.211158    1.29   \n",
       "52339   0.353585  3.427649e-01  0.640960  8.500214e-04  0.078436  144.90   \n",
       "\n",
       "        Class  \n",
       "201535      0  \n",
       "56394       0  \n",
       "58180       0  \n",
       "259417      0  \n",
       "256796      0  \n",
       "...       ...  \n",
       "222664      0  \n",
       "51043       0  \n",
       "104717      0  \n",
       "245280      0  \n",
       "52339       0  \n",
       "\n",
       "[284807 rows x 31 columns]"
      ]
     },
     "execution_count": 69,
     "metadata": {},
     "output_type": "execute_result"
    }
   ],
   "source": [
    "df"
   ]
  },
  {
   "cell_type": "code",
   "execution_count": 70,
   "id": "194668bb",
   "metadata": {},
   "outputs": [],
   "source": [
    "X = df.drop(\"Class\",axis=1)"
   ]
  },
  {
   "cell_type": "code",
   "execution_count": 71,
   "id": "0cf7ffb4",
   "metadata": {},
   "outputs": [
    {
     "data": {
      "text/html": [
       "<div>\n",
       "<style scoped>\n",
       "    .dataframe tbody tr th:only-of-type {\n",
       "        vertical-align: middle;\n",
       "    }\n",
       "\n",
       "    .dataframe tbody tr th {\n",
       "        vertical-align: top;\n",
       "    }\n",
       "\n",
       "    .dataframe thead th {\n",
       "        text-align: right;\n",
       "    }\n",
       "</style>\n",
       "<table border=\"1\" class=\"dataframe\">\n",
       "  <thead>\n",
       "    <tr style=\"text-align: right;\">\n",
       "      <th></th>\n",
       "      <th>Time</th>\n",
       "      <th>V1</th>\n",
       "      <th>V2</th>\n",
       "      <th>V3</th>\n",
       "      <th>V4</th>\n",
       "      <th>V5</th>\n",
       "      <th>V6</th>\n",
       "      <th>V7</th>\n",
       "      <th>V8</th>\n",
       "      <th>V9</th>\n",
       "      <th>...</th>\n",
       "      <th>V20</th>\n",
       "      <th>V21</th>\n",
       "      <th>V22</th>\n",
       "      <th>V23</th>\n",
       "      <th>V24</th>\n",
       "      <th>V25</th>\n",
       "      <th>V26</th>\n",
       "      <th>V27</th>\n",
       "      <th>V28</th>\n",
       "      <th>Amount</th>\n",
       "    </tr>\n",
       "  </thead>\n",
       "  <tbody>\n",
       "    <tr>\n",
       "      <th>204525</th>\n",
       "      <td>135320.0</td>\n",
       "      <td>-0.829237</td>\n",
       "      <td>-0.794164</td>\n",
       "      <td>0.886723</td>\n",
       "      <td>-3.127353</td>\n",
       "      <td>-0.270686</td>\n",
       "      <td>-0.433324</td>\n",
       "      <td>0.326638</td>\n",
       "      <td>-0.018152</td>\n",
       "      <td>-2.764001</td>\n",
       "      <td>...</td>\n",
       "      <td>-0.092774</td>\n",
       "      <td>0.200667</td>\n",
       "      <td>0.527354</td>\n",
       "      <td>-0.231145</td>\n",
       "      <td>0.734639</td>\n",
       "      <td>0.957478</td>\n",
       "      <td>0.061094</td>\n",
       "      <td>-0.063176</td>\n",
       "      <td>0.042389</td>\n",
       "      <td>117.65</td>\n",
       "    </tr>\n",
       "  </tbody>\n",
       "</table>\n",
       "<p>1 rows × 30 columns</p>\n",
       "</div>"
      ],
      "text/plain": [
       "            Time        V1        V2        V3        V4        V5        V6  \\\n",
       "204525  135320.0 -0.829237 -0.794164  0.886723 -3.127353 -0.270686 -0.433324   \n",
       "\n",
       "              V7        V8        V9  ...       V20       V21       V22  \\\n",
       "204525  0.326638 -0.018152 -2.764001  ... -0.092774  0.200667  0.527354   \n",
       "\n",
       "             V23       V24       V25       V26       V27       V28  Amount  \n",
       "204525 -0.231145  0.734639  0.957478  0.061094 -0.063176  0.042389  117.65  \n",
       "\n",
       "[1 rows x 30 columns]"
      ]
     },
     "execution_count": 71,
     "metadata": {},
     "output_type": "execute_result"
    }
   ],
   "source": [
    "X.sample()"
   ]
  },
  {
   "cell_type": "code",
   "execution_count": 72,
   "id": "19a516fb",
   "metadata": {},
   "outputs": [],
   "source": [
    "y = df[\"Class\"]"
   ]
  },
  {
   "cell_type": "code",
   "execution_count": 73,
   "id": "c7c0321f",
   "metadata": {},
   "outputs": [
    {
     "data": {
      "text/plain": [
       "50896    0\n",
       "Name: Class, dtype: int64"
      ]
     },
     "execution_count": 73,
     "metadata": {},
     "output_type": "execute_result"
    }
   ],
   "source": [
    "y.sample()"
   ]
  },
  {
   "cell_type": "code",
   "execution_count": 79,
   "id": "04092573",
   "metadata": {},
   "outputs": [],
   "source": [
    "from sklearn.model_selection import train_test_split\n",
    "from sklearn.preprocessing import StandardScaler\n",
    "from sklearn.model_selection import KFold , cross_val_score\n",
    "from sklearn.svm import SVC\n",
    "from sklearn.tree import DecisionTreeClassifier\n",
    "from sklearn.ensemble import RandomForestClassifier , AdaBoostClassifier"
   ]
  },
  {
   "cell_type": "code",
   "execution_count": 80,
   "id": "2f838c32",
   "metadata": {},
   "outputs": [],
   "source": [
    "Xtrain,Xtest,ytrain,ytest = train_test_split(X,y,test_size=.30)"
   ]
  },
  {
   "cell_type": "code",
   "execution_count": 81,
   "id": "622198f5",
   "metadata": {},
   "outputs": [
    {
     "data": {
      "text/plain": [
       "((284807, 30), (199364, 30), (85443, 30))"
      ]
     },
     "execution_count": 81,
     "metadata": {},
     "output_type": "execute_result"
    }
   ],
   "source": [
    "X.shape , Xtrain.shape , Xtest.shape"
   ]
  },
  {
   "cell_type": "code",
   "execution_count": 82,
   "id": "e661cd60",
   "metadata": {},
   "outputs": [
    {
     "data": {
      "text/plain": [
       "((284807,), (199364,), (85443,))"
      ]
     },
     "execution_count": 82,
     "metadata": {},
     "output_type": "execute_result"
    }
   ],
   "source": [
    "y.shape , ytrain.shape , ytest.shape"
   ]
  },
  {
   "cell_type": "code",
   "execution_count": 83,
   "id": "b5666bb7",
   "metadata": {},
   "outputs": [],
   "source": [
    "kf = KFold(n_splits=11)"
   ]
  },
  {
   "cell_type": "code",
   "execution_count": 87,
   "id": "efb38392",
   "metadata": {},
   "outputs": [],
   "source": [
    "dct = DecisionTreeClassifier()"
   ]
  },
  {
   "cell_type": "code",
   "execution_count": 88,
   "id": "fe07580a",
   "metadata": {},
   "outputs": [],
   "source": [
    "algo = [ dct ]"
   ]
  },
  {
   "cell_type": "markdown",
   "id": "381cefdd",
   "metadata": {},
   "source": [
    "### Without Feature Scaling\n"
   ]
  },
  {
   "cell_type": "code",
   "execution_count": 89,
   "id": "dd1847d1",
   "metadata": {},
   "outputs": [
    {
     "name": "stdout",
     "output_type": "stream",
     "text": [
      "DecisionTreeClassifier() = 0.9988881476539916\n"
     ]
    }
   ],
   "source": [
    "for i in algo:\n",
    "    i.fit(Xtrain,ytrain)\n",
    "    s = i.score(Xtest,ytest)\n",
    "    print(f'{i} = {s}')"
   ]
  },
  {
   "cell_type": "markdown",
   "id": "2771e5d1",
   "metadata": {},
   "source": [
    "### With Feature Scaling"
   ]
  },
  {
   "cell_type": "code",
   "execution_count": 90,
   "id": "bdddcdc3",
   "metadata": {},
   "outputs": [],
   "source": [
    "ss = StandardScaler()"
   ]
  },
  {
   "cell_type": "code",
   "execution_count": 91,
   "id": "a5b08656",
   "metadata": {},
   "outputs": [
    {
     "data": {
      "text/plain": [
       "StandardScaler()"
      ]
     },
     "execution_count": 91,
     "metadata": {},
     "output_type": "execute_result"
    }
   ],
   "source": [
    "ss.fit(Xtrain)"
   ]
  },
  {
   "cell_type": "code",
   "execution_count": 92,
   "id": "81355be0",
   "metadata": {},
   "outputs": [],
   "source": [
    "Xtrain_ss = ss.transform(Xtrain)"
   ]
  },
  {
   "cell_type": "code",
   "execution_count": 93,
   "id": "1ad25bcd",
   "metadata": {},
   "outputs": [],
   "source": [
    "Xtest_ss = ss.transform(Xtest)"
   ]
  },
  {
   "cell_type": "code",
   "execution_count": 94,
   "id": "41638e4a",
   "metadata": {},
   "outputs": [
    {
     "name": "stdout",
     "output_type": "stream",
     "text": [
      "DecisionTreeClassifier() = 0.9988413328183702\n"
     ]
    }
   ],
   "source": [
    "for i in algo:\n",
    "    i.fit(Xtrain_ss,ytrain)\n",
    "    s = i.score(Xtest_ss,ytest)\n",
    "    print(f'{i} = {s}')"
   ]
  },
  {
   "cell_type": "markdown",
   "id": "4c1ab13f",
   "metadata": {},
   "source": [
    "### With Cross Validation"
   ]
  },
  {
   "cell_type": "code",
   "execution_count": 95,
   "id": "1530d38d",
   "metadata": {},
   "outputs": [
    {
     "name": "stdout",
     "output_type": "stream",
     "text": [
      "DecisionTreeClassifier() = 0.998985279968197\n"
     ]
    }
   ],
   "source": [
    "for i in algo:\n",
    "    s = cross_val_score(i,X,y,cv = kf)\n",
    "    print(f'{i} = {s.mean()}')"
   ]
  },
  {
   "cell_type": "markdown",
   "id": "27f255fc",
   "metadata": {},
   "source": [
    "## Boosting"
   ]
  },
  {
   "cell_type": "code",
   "execution_count": 97,
   "id": "033d8542",
   "metadata": {},
   "outputs": [],
   "source": [
    "rfc = RandomForestClassifier(n_estimators=150,max_depth=4,max_leaf_nodes=6)"
   ]
  },
  {
   "cell_type": "code",
   "execution_count": 99,
   "id": "4049041c",
   "metadata": {},
   "outputs": [],
   "source": [
    "abc = AdaBoostClassifier()"
   ]
  },
  {
   "cell_type": "code",
   "execution_count": 100,
   "id": "6c9073f8",
   "metadata": {},
   "outputs": [],
   "source": [
    "algo1 = [rfc  , abc ]"
   ]
  },
  {
   "cell_type": "code",
   "execution_count": 101,
   "id": "5c3552db",
   "metadata": {},
   "outputs": [
    {
     "name": "stdout",
     "output_type": "stream",
     "text": [
      "RandomForestClassifier(max_depth=4, max_leaf_nodes=6, n_estimators=150)\n",
      "AdaBoostClassifier()\n"
     ]
    }
   ],
   "source": [
    "for i in algo1:\n",
    "    print(i)"
   ]
  },
  {
   "cell_type": "markdown",
   "id": "bb9ef270",
   "metadata": {},
   "source": [
    "### Without Feature Scaling\n"
   ]
  },
  {
   "cell_type": "code",
   "execution_count": 103,
   "id": "86521e21",
   "metadata": {},
   "outputs": [
    {
     "name": "stdout",
     "output_type": "stream",
     "text": [
      "RandomForestClassifier(max_depth=4, max_leaf_nodes=6, n_estimators=150) = 0.9986540734758845\n",
      "AdaBoostClassifier() = 0.9990168884519505\n"
     ]
    }
   ],
   "source": [
    "for i in algo1:\n",
    "    i.fit(Xtrain,ytrain)\n",
    "    s = i.score(Xtest,ytest)\n",
    "    print(f'{i} = {s}')"
   ]
  },
  {
   "cell_type": "markdown",
   "id": "be3503ce",
   "metadata": {},
   "source": [
    "### With Feature Scaling"
   ]
  },
  {
   "cell_type": "code",
   "execution_count": 104,
   "id": "45a84fc0",
   "metadata": {},
   "outputs": [
    {
     "name": "stdout",
     "output_type": "stream",
     "text": [
      "RandomForestClassifier(max_depth=4, max_leaf_nodes=6, n_estimators=150) = 0.9986540734758845\n",
      "AdaBoostClassifier() = 0.9990168884519505\n"
     ]
    }
   ],
   "source": [
    "for i in algo1:\n",
    "    i.fit(Xtrain_ss,ytrain)\n",
    "    s = i.score(Xtest_ss,ytest)\n",
    "    print(f'{i} = {s}')"
   ]
  },
  {
   "cell_type": "markdown",
   "id": "6f62d45d",
   "metadata": {},
   "source": [
    "###  With Cross Validation (Boosting)\n"
   ]
  },
  {
   "cell_type": "code",
   "execution_count": 105,
   "id": "d32a3e43",
   "metadata": {},
   "outputs": [
    {
     "name": "stdout",
     "output_type": "stream",
     "text": [
      "RandomForestClassifier(max_depth=4, max_leaf_nodes=6, n_estimators=150) = 0.9987640785753743\n",
      "AdaBoostClassifier() = 0.9991151937506568\n",
      "CPU times: user 15min 20s, sys: 4.24 s, total: 15min 25s\n",
      "Wall time: 15min 27s\n"
     ]
    }
   ],
   "source": [
    "%%time\n",
    "for i in algo1:\n",
    "    s = cross_val_score(i,X,y,cv = kf)\n",
    "    print(f'{i} = {s.mean()}')"
   ]
  },
  {
   "cell_type": "markdown",
   "id": "c6d8d599",
   "metadata": {},
   "source": [
    "### With GridSearch CV"
   ]
  },
  {
   "cell_type": "code",
   "execution_count": 111,
   "id": "d16b8f8a",
   "metadata": {},
   "outputs": [],
   "source": [
    "from sklearn.model_selection import GridSearchCV"
   ]
  },
  {
   "cell_type": "code",
   "execution_count": 116,
   "id": "46f7da69",
   "metadata": {},
   "outputs": [],
   "source": [
    "dic = { 'criterion' : ['gini','entropy'] , 'splitter' : [\"best\", \"random\"] , 'max_depth' : [5,9,15,20] }"
   ]
  },
  {
   "cell_type": "code",
   "execution_count": 117,
   "id": "d47b4157",
   "metadata": {},
   "outputs": [],
   "source": [
    "kf1 = KFold(n_splits=10)"
   ]
  },
  {
   "cell_type": "code",
   "execution_count": 118,
   "id": "37193f16",
   "metadata": {},
   "outputs": [],
   "source": [
    "gvc = GridSearchCV(DecisionTreeClassifier(),param_grid=dic,cv = kf1)"
   ]
  },
  {
   "cell_type": "code",
   "execution_count": 119,
   "id": "d501f18b",
   "metadata": {},
   "outputs": [
    {
     "data": {
      "text/plain": [
       "GridSearchCV(cv=KFold(n_splits=10, random_state=None, shuffle=False),\n",
       "             estimator=DecisionTreeClassifier(),\n",
       "             param_grid={'criterion': ['gini', 'entropy'],\n",
       "                         'max_depth': [5, 9, 15, 20],\n",
       "                         'splitter': ['best', 'random']})"
      ]
     },
     "execution_count": 119,
     "metadata": {},
     "output_type": "execute_result"
    }
   ],
   "source": [
    "gvc.fit(X,y)"
   ]
  },
  {
   "cell_type": "code",
   "execution_count": 120,
   "id": "bcd83478",
   "metadata": {},
   "outputs": [
    {
     "data": {
      "text/plain": [
       "{'criterion': 'entropy', 'max_depth': 5, 'splitter': 'best'}"
      ]
     },
     "execution_count": 120,
     "metadata": {},
     "output_type": "execute_result"
    }
   ],
   "source": [
    "gvc.best_params_"
   ]
  },
  {
   "cell_type": "code",
   "execution_count": 121,
   "id": "a2d668d1",
   "metadata": {},
   "outputs": [
    {
     "data": {
      "text/plain": [
       "DecisionTreeClassifier(criterion='entropy', max_depth=5)"
      ]
     },
     "execution_count": 121,
     "metadata": {},
     "output_type": "execute_result"
    }
   ],
   "source": [
    "gvc.best_estimator_"
   ]
  },
  {
   "cell_type": "code",
   "execution_count": 122,
   "id": "8f70e17e",
   "metadata": {},
   "outputs": [
    {
     "data": {
      "text/plain": [
       "0.9992907477200452"
      ]
     },
     "execution_count": 122,
     "metadata": {},
     "output_type": "execute_result"
    }
   ],
   "source": [
    "gvc.best_score_"
   ]
  },
  {
   "cell_type": "code",
   "execution_count": null,
   "id": "96d6ac5f",
   "metadata": {},
   "outputs": [],
   "source": []
  }
 ],
 "metadata": {
  "kernelspec": {
   "display_name": "Python 3 (ipykernel)",
   "language": "python",
   "name": "python3"
  },
  "language_info": {
   "codemirror_mode": {
    "name": "ipython",
    "version": 3
   },
   "file_extension": ".py",
   "mimetype": "text/x-python",
   "name": "python",
   "nbconvert_exporter": "python",
   "pygments_lexer": "ipython3",
   "version": "3.9.7"
  }
 },
 "nbformat": 4,
 "nbformat_minor": 5
}
